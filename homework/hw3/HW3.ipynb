{
 "metadata": {
  "name": "",
  "signature": "sha256:3ec9e49e995d8fe39aaf72a6f9d55703fe1607da8a1169f76c028a45b597f613"
 },
 "nbformat": 3,
 "nbformat_minor": 0,
 "worksheets": [
  {
   "cells": [
    {
     "cell_type": "markdown",
     "metadata": {},
     "source": [
      "# Homework 3: Prediction and Classification\n",
      "\n",
      "Due: Thursday, October 16, 2014 11:59 PM\n",
      "\n",
      "<a href=https://raw.githubusercontent.com/cs109/2014/master/homework/HW3.ipynb download=HW3.ipynb> Download this assignment</a>\n",
      "\n",
      "#### Submission Instructions\n",
      "To submit your homework, create a folder named lastname_firstinitial_hw# and place your IPython notebooks, data files, and any other files in this folder. Your IPython Notebooks should be completely executed with the results visible in the notebook. We should not have to run any code. Compress the folder (please use .zip compression) and submit to the CS109 dropbox in the appropriate folder. If we cannot access your work because these directions are not followed correctly, we will not grade your work.\n",
      "\n",
      "---\n"
     ]
    },
    {
     "cell_type": "markdown",
     "metadata": {},
     "source": [
      "# Introduction\n",
      "\n",
      "In this assignment you will be using regression and classification to explore different data sets.  \n",
      "\n",
      "**First**: You will use data from before 2002 in the [Sean Lahman's Baseball Database](http://seanlahman.com/baseball-archive/statistics) to create a metric for picking baseball players using linear regression. This is same database we used in Homework 1. This database contains the \"complete batting and pitching statistics from 1871 to 2013, plus fielding statistics, standings, team stats, managerial records, post-season data, and more\". [Documentation provided here](http://seanlahman.com/files/database/readme2012.txt).\n",
      "\n",
      "![\"Sabermetrics Science\"](http://saberseminar.com/wp-content/uploads/2012/01/saber-web.jpg)\n",
      "http://saberseminar.com/wp-content/uploads/2012/01/saber-web.jpg\n",
      "\n",
      "**Second**: You will use the famous [iris](http://en.wikipedia.org/wiki/Iris_flower_data_set) data set to perform a $k$-neareast neighbor classification using cross validation.  While it was introduced in 1936, it is still [one of the most popular](http://archive.ics.uci.edu/ml/) example data sets in the machine learning community. Wikipedia describes the data set as follows: \"The data set consists of 50 samples from each of three species of Iris (Iris setosa, Iris virginica and Iris versicolor). Four features were measured from each sample: the length and the width of the sepals and petals, in centimetres.\" Here is an illustration what the four features measure:\n",
      "\n",
      "![\"iris data features\"](http://sebastianraschka.com/Images/2014_python_lda/iris_petal_sepal.png)\n",
      "http://sebastianraschka.com/Images/2014_python_lda/iris_petal_sepal.png\n",
      "\n",
      "**Third**: You will investigate the influence of higher dimensional spaces on the classification using another standard data set in machine learning called the The [digits data set](http://scikit-learn.org/stable/modules/generated/sklearn.datasets.load_digits.html).  This data set is similar to the MNIST data set discussed in the lecture. The main difference is, that each digit is represented by an 8x8 pixel image patch, which is considerably smaller than the 28x28 pixels from MNIST. In addition, the gray values are restricted to 16 different values (4 bit), instead of 256 (8 bit) for MNIST. \n",
      "\n",
      "**Finally**: In preparation for Homework 4, we want you to read through the following articles related to predicting the 2014 Senate Midterm Elections. \n",
      "\n",
      "* [Nate Silver's Methodology at while at NYT](http://fivethirtyeight.blogs.nytimes.com/methodology/)\n",
      "* [How The FiveThirtyEight Senate Forecast Model Works](http://fivethirtyeight.com/features/how-the-fivethirtyeight-senate-forecast-model-works/)\n",
      "* [Pollster Ratings v4.0: Methodology](http://fivethirtyeight.com/features/pollster-ratings-v40-methodology/)\n",
      "* [Pollster Ratings v4.0: Results](http://fivethirtyeight.com/features/pollster-ratings-v40-results/)\n",
      "* [Nate Silver versus Sam Wang](http://www.washingtonpost.com/blogs/plum-line/wp/2014/09/17/nate-silver-versus-sam-wang/)\n",
      "* [More Nate Silver versus Sam Wang](http://www.dailykos.com/story/2014/09/09/1328288/-Get-Ready-To-Rumbllllle-Battle-Of-The-Nerds-Nate-Silver-VS-Sam-Wang)\n",
      "* [Nate Silver explains critisims of Sam Wang](http://politicalwire.com/archives/2014/10/02/nate_silver_rebuts_sam_wang.html)\n",
      "* [Background on the feud between Nate Silver and Sam Wang](http://talkingpointsmemo.com/dc/nate-silver-sam-wang-feud)\n",
      "* [Are there swing voters?]( http://www.stat.columbia.edu/~gelman/research/unpublished/swing_voters.pdf)\n",
      "\n",
      "\n",
      "\n",
      "---"
     ]
    },
    {
     "cell_type": "markdown",
     "metadata": {},
     "source": [
      "## Load Python modules"
     ]
    },
    {
     "cell_type": "code",
     "collapsed": false,
     "input": [
      "# special IPython command to prepare the notebook for matplotlib\n",
      "%matplotlib inline \n",
      "\n",
      "import requests \n",
      "import StringIO\n",
      "import zipfile\n",
      "import numpy as np\n",
      "import pandas as pd # pandas\n",
      "import matplotlib.pyplot as plt # module for plotting \n",
      "import itertools\n",
      "\n",
      "# If this module is not already installed, you may need to install it. \n",
      "# You can do this by typing 'pip install seaborn' in the command line\n",
      "import seaborn as sns \n",
      "\n",
      "import sklearn\n",
      "import sklearn.datasets\n",
      "import sklearn.cross_validation\n",
      "import sklearn.decomposition\n",
      "import sklearn.grid_search\n",
      "import sklearn.neighbors\n",
      "import sklearn.metrics"
     ],
     "language": "python",
     "metadata": {},
     "outputs": [],
     "prompt_number": 3
    },
    {
     "cell_type": "markdown",
     "metadata": {},
     "source": [
      "# Problem 1: Sabermetrics\n",
      "\n",
      "Using data preceding the 2002 season pick 10 offensive players keeping the payroll under $20 million (assign each player the median salary). Predict how many games this team would win in a 162 game season.  \n",
      "\n",
      "In this problem we will be returning to the [Sean Lahman's Baseball Database](http://seanlahman.com/baseball-archive/statistics) that we used in Homework 1.  From this database, we will be extract five data sets containing information such as yearly stats and standing, batting statistics, fielding statistics, player names, player salaries and biographical information. You will explore the data in this database from before 2002 and create a metric for picking players. "
     ]
    },
    {
     "cell_type": "markdown",
     "metadata": {},
     "source": [
      "#### Problem 1(a) \n",
      "\n",
      "Load in [these CSV files](http://seanlahman.com/files/database/lahman-csv_2014-02-14.zip) from the [Sean Lahman's Baseball Database](http://seanlahman.com/baseball-archive/statistics). For this assignment, we will use the 'Teams.csv', 'Batting.csv', 'Salaries.csv', 'Fielding.csv', 'Master.csv' tables. Read these tables into separate pandas DataFrames with the following names. \n",
      "\n",
      "CSV file name | Name of pandas DataFrame\n",
      ":---: | :---: \n",
      "Teams.csv | teams\n",
      "Batting.csv | players\n",
      "Salaries.csv | salaries\n",
      "Fielding.csv | fielding\n",
      "Master.csv | master"
     ]
    },
    {
     "cell_type": "code",
     "collapsed": false,
     "input": [
      "\n",
      "def getZIP(zipFileName):\n",
      "    r = requests.get(zipFileName).content\n",
      "    s = StringIO.StringIO(r)\n",
      "    zf = zipfile.ZipFile(s, 'r') # Read in a list of zipped files\n",
      "    return zf\n",
      "\n",
      "url = \"http://seanlahman.com/files/database/lahman-csv_2014-02-14.zip\"\n",
      "zf = getZIP(url)\n",
      "tablenames = zf.namelist()\n",
      "tablenames[tablenames.index('Salaries.csv')]\n",
      "teams = pd.read_csv(zf.open(tablenames[tablenames.index('Teams.csv')]))\n",
      "players = pd.read_csv(zf.open(tablenames[tablenames.index('Batting.csv')]))\n",
      "salaries = pd.read_csv(zf.open(tablenames[tablenames.index('Salaries.csv')]))\n",
      "fielding = pd.read_csv(zf.open(tablenames[tablenames.index('Fielding.csv')]))\n",
      "master = pd.read_csv(zf.open(tablenames[tablenames.index('Master.csv')]))"
     ],
     "language": "python",
     "metadata": {},
     "outputs": [],
     "prompt_number": 4
    },
    {
     "cell_type": "markdown",
     "metadata": {},
     "source": [
      "#### Problem 1(b)\n",
      "\n",
      "Calculate the median salary for each player and create a pandas DataFrame called `medianSalaries` with four columns: (1) the player ID, (2) the first name of the player, (3) the last name of the player and (4) the median salary of the player. Show the head of the `medianSalaries` DataFrame.   "
     ]
    },
    {
     "cell_type": "code",
     "collapsed": false,
     "input": [
      "medianSalaries = salaries.groupby([\"playerID\"]).median()\n",
      "namesToIds = master[[\"playerID\", \"nameLast\", \"nameGiven\"]]\n",
      "medianSalaries = medianSalaries.reset_index()\n",
      "medianSalaries = pd.DataFrame.merge(medianSalaries, namesToIds, on=[\"playerID\"])\n",
      "medianSalaries = medianSalaries[[\"playerID\", \"nameGiven\", \"nameLast\", \"salary\"]]\n",
      "medianSalaries.head()"
     ],
     "language": "python",
     "metadata": {},
     "outputs": [
      {
       "html": [
        "<div style=\"max-height:1000px;max-width:1500px;overflow:auto;\">\n",
        "<table border=\"1\" class=\"dataframe\">\n",
        "  <thead>\n",
        "    <tr style=\"text-align: right;\">\n",
        "      <th></th>\n",
        "      <th>playerID</th>\n",
        "      <th>nameGiven</th>\n",
        "      <th>nameLast</th>\n",
        "      <th>salary</th>\n",
        "    </tr>\n",
        "  </thead>\n",
        "  <tbody>\n",
        "    <tr>\n",
        "      <th>0</th>\n",
        "      <td> aardsda01</td>\n",
        "      <td>      David Allan</td>\n",
        "      <td> Aardsma</td>\n",
        "      <td> 419000</td>\n",
        "    </tr>\n",
        "    <tr>\n",
        "      <th>1</th>\n",
        "      <td>  aasedo01</td>\n",
        "      <td>   Donald William</td>\n",
        "      <td>    Aase</td>\n",
        "      <td> 612500</td>\n",
        "    </tr>\n",
        "    <tr>\n",
        "      <th>2</th>\n",
        "      <td>  abadan01</td>\n",
        "      <td>    Fausto Andres</td>\n",
        "      <td>    Abad</td>\n",
        "      <td> 327000</td>\n",
        "    </tr>\n",
        "    <tr>\n",
        "      <th>3</th>\n",
        "      <td>  abadfe01</td>\n",
        "      <td> Fernando Antonio</td>\n",
        "      <td>    Abad</td>\n",
        "      <td> 451500</td>\n",
        "    </tr>\n",
        "    <tr>\n",
        "      <th>4</th>\n",
        "      <td> abbotje01</td>\n",
        "      <td>  Jeffrey William</td>\n",
        "      <td>  Abbott</td>\n",
        "      <td> 255000</td>\n",
        "    </tr>\n",
        "  </tbody>\n",
        "</table>\n",
        "</div>"
       ],
       "metadata": {},
       "output_type": "pyout",
       "prompt_number": 5,
       "text": [
        "    playerID         nameGiven nameLast  salary\n",
        "0  aardsda01       David Allan  Aardsma  419000\n",
        "1   aasedo01    Donald William     Aase  612500\n",
        "2   abadan01     Fausto Andres     Abad  327000\n",
        "3   abadfe01  Fernando Antonio     Abad  451500\n",
        "4  abbotje01   Jeffrey William   Abbott  255000"
       ]
      }
     ],
     "prompt_number": 5
    },
    {
     "cell_type": "markdown",
     "metadata": {},
     "source": [
      "#### Problem 1(c)\n",
      "\n",
      "Now, consider only team/season combinations in which the teams played 162 Games. Exclude all data from before 1947. Compute the per plate appearance rates for singles, doubles, triples, HR, and BB. Create a new pandas DataFrame called `stats` that has the teamID, yearID, wins and these rates.\n",
      "\n",
      "**Hint**: Singles are hits that are not doubles, triples, nor HR. Plate appearances are base on balls plus at bats."
     ]
    },
    {
     "cell_type": "code",
     "collapsed": false,
     "input": [
      "teams = teams[teams.G == 162]\n",
      "teams = teams[teams.yearID > 1947]\n",
      "teams[\"1B\"] = teams[\"H\"] - teams[\"2B\"] - teams[\"3B\"] - teams[\"HR\"]\n",
      "plateAppearances = (teams[\"BB\"] + teams[\"AB\"])\n",
      "teams[\"1B/PA\"] = teams[\"1B\"] / plateAppearances\n",
      "teams[\"2B/PA\"] = teams[\"2B\"] / plateAppearances\n",
      "teams[\"3B/PA\"] = teams[\"3B\"] / plateAppearances\n",
      "teams[\"BB/PA\"] = teams[\"BB\"] / plateAppearances\n",
      "teams[\"HR/PA\"] = teams[\"HR\"] / plateAppearances\n",
      "stats = teams[[\"teamID\",\"yearID\", \"W\", \"1B/PA\", \"2B/PA\", \"3B/PA\", \"BB/PA\", \"HR/PA\"]]\n",
      "stats.head()"
     ],
     "language": "python",
     "metadata": {},
     "outputs": [
      {
       "html": [
        "<div style=\"max-height:1000px;max-width:1500px;overflow:auto;\">\n",
        "<table border=\"1\" class=\"dataframe\">\n",
        "  <thead>\n",
        "    <tr style=\"text-align: right;\">\n",
        "      <th></th>\n",
        "      <th>teamID</th>\n",
        "      <th>yearID</th>\n",
        "      <th>W</th>\n",
        "      <th>1B/PA</th>\n",
        "      <th>2B/PA</th>\n",
        "      <th>3B/PA</th>\n",
        "      <th>BB/PA</th>\n",
        "      <th>HR/PA</th>\n",
        "    </tr>\n",
        "  </thead>\n",
        "  <tbody>\n",
        "    <tr>\n",
        "      <th>1366</th>\n",
        "      <td> LAA</td>\n",
        "      <td> 1961</td>\n",
        "      <td> 70</td>\n",
        "      <td> 0.147748</td>\n",
        "      <td> 0.035708</td>\n",
        "      <td> 0.003604</td>\n",
        "      <td> 0.111548</td>\n",
        "      <td> 0.030958</td>\n",
        "    </tr>\n",
        "    <tr>\n",
        "      <th>1367</th>\n",
        "      <td> KC1</td>\n",
        "      <td> 1961</td>\n",
        "      <td> 61</td>\n",
        "      <td> 0.164751</td>\n",
        "      <td> 0.035982</td>\n",
        "      <td> 0.007829</td>\n",
        "      <td> 0.096618</td>\n",
        "      <td> 0.014993</td>\n",
        "    </tr>\n",
        "    <tr>\n",
        "      <th>1377</th>\n",
        "      <td> NYA</td>\n",
        "      <td> 1962</td>\n",
        "      <td> 96</td>\n",
        "      <td> 0.167148</td>\n",
        "      <td> 0.038536</td>\n",
        "      <td> 0.004656</td>\n",
        "      <td> 0.093770</td>\n",
        "      <td> 0.031952</td>\n",
        "    </tr>\n",
        "    <tr>\n",
        "      <th>1379</th>\n",
        "      <td> LAA</td>\n",
        "      <td> 1962</td>\n",
        "      <td> 86</td>\n",
        "      <td> 0.159482</td>\n",
        "      <td> 0.038027</td>\n",
        "      <td> 0.005737</td>\n",
        "      <td> 0.098672</td>\n",
        "      <td> 0.022455</td>\n",
        "    </tr>\n",
        "    <tr>\n",
        "      <th>1381</th>\n",
        "      <td> CHA</td>\n",
        "      <td> 1962</td>\n",
        "      <td> 85</td>\n",
        "      <td> 0.165797</td>\n",
        "      <td> 0.040756</td>\n",
        "      <td> 0.009129</td>\n",
        "      <td> 0.101076</td>\n",
        "      <td> 0.014998</td>\n",
        "    </tr>\n",
        "  </tbody>\n",
        "</table>\n",
        "</div>"
       ],
       "metadata": {},
       "output_type": "pyout",
       "prompt_number": 6,
       "text": [
        "     teamID  yearID   W     1B/PA     2B/PA     3B/PA     BB/PA     HR/PA\n",
        "1366    LAA    1961  70  0.147748  0.035708  0.003604  0.111548  0.030958\n",
        "1367    KC1    1961  61  0.164751  0.035982  0.007829  0.096618  0.014993\n",
        "1377    NYA    1962  96  0.167148  0.038536  0.004656  0.093770  0.031952\n",
        "1379    LAA    1962  86  0.159482  0.038027  0.005737  0.098672  0.022455\n",
        "1381    CHA    1962  85  0.165797  0.040756  0.009129  0.101076  0.014998"
       ]
      }
     ],
     "prompt_number": 6
    },
    {
     "cell_type": "markdown",
     "metadata": {},
     "source": [
      "#### Problem 1(d)\n",
      "\n",
      "Is there a noticeable time trend in the rates computed computed in Problem 1(c)? "
     ]
    },
    {
     "cell_type": "code",
     "collapsed": false,
     "input": [
      "def nice_graph(xlab, ylab, title, axi):\n",
      "    plt.xlabel(xlab)\n",
      "    plt.ylabel(ylab)\n",
      "    plt.title(title)\n",
      "    plt.axis(axi)"
     ],
     "language": "python",
     "metadata": {},
     "outputs": [],
     "prompt_number": 7
    },
    {
     "cell_type": "code",
     "collapsed": false,
     "input": [
      "colors = itertools.cycle([\"r\", \"b\", \"g\", \"y\", \"orange\"])\n",
      "plt.scatter(teams.yearID, stats[\"1B/PA\"], label=\"Singles\", color=next(colors))\n",
      "plt.scatter(teams.yearID, stats[\"2B/PA\"], label=\"Doubles\", color=next(colors))\n",
      "plt.scatter(teams.yearID, stats[\"3B/PA\"], label=\"Triples\", color=next(colors))\n",
      "plt.scatter(teams.yearID, stats[\"BB/PA\"], label=\"Base on Balls\", color=next(colors))\n",
      "plt.scatter(teams.yearID, stats[\"HR/PA\"], label=\"Homeruns\", color=next(colors))\n",
      "plt.legend(loc=2,bbox_to_anchor=(1, 1))\n",
      "nice_graph(\"Year\", \"Hit Type / Plate Appearnces\", \"Hit Ratios vs Year\", [1960, 2015, -.01, .20])\n",
      "plt.show()"
     ],
     "language": "python",
     "metadata": {},
     "outputs": [
      {
       "metadata": {},
       "output_type": "display_data",
       "png": "[encoded data removed]",
       "text": [
        "<matplotlib.figure.Figure at 0x10f032410>"
       ]
      }
     ],
     "prompt_number": 8
    },
    {
     "cell_type": "markdown",
     "metadata": {},
     "source": [
      "#### Problem 1(e) \n",
      "\n",
      "Using the `stats` DataFrame from Problem 1(c), adjust the singles per PA rates so that the average across teams for each year is 0. Do the same for the doubles, triples, HR, and BB rates. "
     ]
    },
    {
     "cell_type": "code",
     "collapsed": false,
     "input": [
      "means = stats.groupby(\"yearID\").mean().reset_index()\n",
      "stats = pd.DataFrame.merge(stats, means, on=\"yearID\", suffixes=('_x', '_means'))\n",
      "stats[\"1B/PA\"] = stats[\"1B/PA_x\"] - stats[\"1B/PA_means\"]\n",
      "stats[\"2B/PA\"] = stats[\"2B/PA_x\"] - stats[\"2B/PA_means\"]\n",
      "stats[\"3B/PA\"] = stats[\"3B/PA_x\"] - stats[\"3B/PA_means\"]\n",
      "stats[\"BB/PA\"] = stats[\"BB/PA_x\"] - stats[\"BB/PA_means\"]\n",
      "stats[\"HR/PA\"] = stats[\"HR/PA_x\"] - stats[\"HR/PA_means\"]\n",
      "stats[\"W\"] = stats[\"W_x\"]\n",
      "stats = stats[[\"teamID\", \"yearID\", \"W\",\"1B/PA\", \"2B/PA\", \"3B/PA\", \"BB/PA\", \"HR/PA\"]]\n",
      "stats.head()"
     ],
     "language": "python",
     "metadata": {},
     "outputs": [
      {
       "html": [
        "<div style=\"max-height:1000px;max-width:1500px;overflow:auto;\">\n",
        "<table border=\"1\" class=\"dataframe\">\n",
        "  <thead>\n",
        "    <tr style=\"text-align: right;\">\n",
        "      <th></th>\n",
        "      <th>teamID</th>\n",
        "      <th>yearID</th>\n",
        "      <th>W</th>\n",
        "      <th>1B/PA</th>\n",
        "      <th>2B/PA</th>\n",
        "      <th>3B/PA</th>\n",
        "      <th>BB/PA</th>\n",
        "      <th>HR/PA</th>\n",
        "    </tr>\n",
        "  </thead>\n",
        "  <tbody>\n",
        "    <tr>\n",
        "      <th>0</th>\n",
        "      <td> LAA</td>\n",
        "      <td> 1961</td>\n",
        "      <td> 70</td>\n",
        "      <td>-0.008502</td>\n",
        "      <td>-0.000137</td>\n",
        "      <td>-0.002113</td>\n",
        "      <td> 0.007465</td>\n",
        "      <td> 0.007983</td>\n",
        "    </tr>\n",
        "    <tr>\n",
        "      <th>1</th>\n",
        "      <td> KC1</td>\n",
        "      <td> 1961</td>\n",
        "      <td> 61</td>\n",
        "      <td> 0.008502</td>\n",
        "      <td> 0.000137</td>\n",
        "      <td> 0.002113</td>\n",
        "      <td>-0.007465</td>\n",
        "      <td>-0.007983</td>\n",
        "    </tr>\n",
        "    <tr>\n",
        "      <th>2</th>\n",
        "      <td> NYA</td>\n",
        "      <td> 1962</td>\n",
        "      <td> 96</td>\n",
        "      <td> 0.001516</td>\n",
        "      <td> 0.002683</td>\n",
        "      <td>-0.002121</td>\n",
        "      <td> 0.005180</td>\n",
        "      <td> 0.008141</td>\n",
        "    </tr>\n",
        "    <tr>\n",
        "      <th>3</th>\n",
        "      <td> LAA</td>\n",
        "      <td> 1962</td>\n",
        "      <td> 86</td>\n",
        "      <td>-0.006150</td>\n",
        "      <td> 0.002174</td>\n",
        "      <td>-0.001040</td>\n",
        "      <td> 0.010082</td>\n",
        "      <td>-0.001356</td>\n",
        "    </tr>\n",
        "    <tr>\n",
        "      <th>4</th>\n",
        "      <td> CHA</td>\n",
        "      <td> 1962</td>\n",
        "      <td> 85</td>\n",
        "      <td> 0.000165</td>\n",
        "      <td> 0.004904</td>\n",
        "      <td> 0.002352</td>\n",
        "      <td> 0.012486</td>\n",
        "      <td>-0.008813</td>\n",
        "    </tr>\n",
        "  </tbody>\n",
        "</table>\n",
        "</div>"
       ],
       "metadata": {},
       "output_type": "pyout",
       "prompt_number": 9,
       "text": [
        "  teamID  yearID   W     1B/PA     2B/PA     3B/PA     BB/PA     HR/PA\n",
        "0    LAA    1961  70 -0.008502 -0.000137 -0.002113  0.007465  0.007983\n",
        "1    KC1    1961  61  0.008502  0.000137  0.002113 -0.007465 -0.007983\n",
        "2    NYA    1962  96  0.001516  0.002683 -0.002121  0.005180  0.008141\n",
        "3    LAA    1962  86 -0.006150  0.002174 -0.001040  0.010082 -0.001356\n",
        "4    CHA    1962  85  0.000165  0.004904  0.002352  0.012486 -0.008813"
       ]
      }
     ],
     "prompt_number": 9
    },
    {
     "cell_type": "markdown",
     "metadata": {},
     "source": [
      "#### Problem 1(f)\n",
      "\n",
      "Build a simple linear regression model to predict the number of wins from the average adjusted singles, double, triples, HR, and BB rates. To decide which of these terms to include fit the model to data from 2002 and compute the average squared residuals from predictions to years past 2012. Use the fitted model to define a new sabermetric summary: offensive predicted wins (OPW). Hint: the new summary should be a linear combination of one to five of the five rates.\n"
     ]
    },
    {
     "cell_type": "code",
     "collapsed": false,
     "input": [
      "trainingData = stats[stats[\"yearID\"] < 2002]\n",
      "X = trainingData[[\"1B/PA\", \"2B/PA\", \"3B/PA\", \"BB/PA\", \"HR/PA\"]]\n",
      "linModel = sklearn.linear_model.LinearRegression().fit(X, trainingData.W)\n",
      "testingData = stats[stats[\"yearID\"] >= 2002]\n",
      "Y = testingData[[\"1B/PA\", \"2B/PA\", \"3B/PA\", \"BB/PA\", \"HR/PA\"]]\n",
      "print np.sum((testingData[\"W\"] - linModel.predict(Y))**2)/len(testingData[\"W\"])"
     ],
     "language": "python",
     "metadata": {},
     "outputs": [
      {
       "output_type": "stream",
       "stream": "stdout",
       "text": [
        "83.8230424898\n"
       ]
      }
     ],
     "prompt_number": 10
    },
    {
     "cell_type": "markdown",
     "metadata": {},
     "source": [
      "** Your answer here: **"
     ]
    },
    {
     "cell_type": "markdown",
     "metadata": {},
     "source": [
      "#### Problem 1(g)\n",
      "\n",
      "Now we will create a similar database for individual players. Consider only player/year combinations in which the player had at least 500 plate appearances. Consider only the years we considered for the calculations above (after 1947 and seasons with 162 games). For each player/year compute singles, doubles, triples, HR, BB per plate appearance rates. Create a new pandas DataFrame called `playerstats` that has the playerID, yearID and the rates of these stats.  Remove the avareage for each year as for these rates as done in Problem 1(e)."
     ]
    },
    {
     "cell_type": "code",
     "collapsed": false,
     "input": [
      "player_162 = players\n",
      "teams_162 = teams[teams.G == 162]\n",
      "players_teams = pd.DataFrame.merge(player_162, teams_162, on=[\"teamID\", \"yearID\"], suffixes=(\"\", \"_team\"))\n",
      "players_teams[\"PA\"] = players_teams[\"BB\"] + players_teams[\"AB\"]\n",
      "players_teams = players_teams[players_teams[\"PA\"] >= 500]\n",
      "players_teams = players_teams[players_teams.yearID > 1947]\n",
      "players_teams[\"1B\"] = players_teams[\"H\"] - players_teams[\"2B\"] - players_teams[\"3B\"] - players_teams[\"HR\"]\n",
      "players_teams[\"1B/PA\"] = players_teams[\"1B\"] / players_teams[\"PA\"]\n",
      "players_teams[\"2B/PA\"] = players_teams[\"2B\"] / players_teams[\"PA\"]\n",
      "players_teams[\"3B/PA\"] = players_teams[\"3B\"] / players_teams[\"PA\"]\n",
      "players_teams[\"BB/PA\"] = players_teams[\"BB\"] / players_teams[\"PA\"]\n",
      "players_teams[\"HR/PA\"] = players_teams[\"HR\"] / players_teams[\"PA\"]\n",
      "playerstats = players_teams[[\"playerID\", \"yearID\", \"1B/PA\", \"2B/PA\", \"3B/PA\", \"BB/PA\", \"HR/PA\"]]\n",
      "playerYearMean = playerstats.groupby(\"yearID\").mean()\n",
      "playerYearMean = playerYearMean.reset_index()\n",
      "players_new = pd.DataFrame.merge(players_teams, playerYearMean, on=\"yearID\", suffixes=('', '_means'))\n",
      "\n",
      "players_new[\"1B/PA\"] = players_new[\"1B/PA\"] - players_new[\"1B/PA_means\"]\n",
      "players_new[\"2B/PA\"] = players_new[\"2B/PA\"] - players_new[\"2B/PA_means\"]\n",
      "players_new[\"3B/PA\"] = players_new[\"3B/PA\"] - players_new[\"3B/PA_means\"]\n",
      "players_new[\"HR/PA\"] = players_new[\"HR/PA\"] - players_new[\"HR/PA_means\"]\n",
      "players_new[\"BB/PA\"] = players_new[\"BB/PA\"] - players_new[\"BB/PA_means\"]"
     ],
     "language": "python",
     "metadata": {},
     "outputs": [],
     "prompt_number": 11
    },
    {
     "cell_type": "markdown",
     "metadata": {},
     "source": [
      "Show the head of the `playerstats` DataFrame. "
     ]
    },
    {
     "cell_type": "code",
     "collapsed": false,
     "input": [
      "players_new.sort(\"playerID\").head()"
     ],
     "language": "python",
     "metadata": {},
     "outputs": [
      {
       "html": [
        "<div style=\"max-height:1000px;max-width:1500px;overflow:auto;\">\n",
        "<table border=\"1\" class=\"dataframe\">\n",
        "  <thead>\n",
        "    <tr style=\"text-align: right;\">\n",
        "      <th></th>\n",
        "      <th>playerID</th>\n",
        "      <th>yearID</th>\n",
        "      <th>stint</th>\n",
        "      <th>teamID</th>\n",
        "      <th>lgID</th>\n",
        "      <th>G</th>\n",
        "      <th>G_batting</th>\n",
        "      <th>AB</th>\n",
        "      <th>R</th>\n",
        "      <th>H</th>\n",
        "      <th>...</th>\n",
        "      <th>2B/PA</th>\n",
        "      <th>3B/PA</th>\n",
        "      <th>BB/PA</th>\n",
        "      <th>HR/PA</th>\n",
        "      <th>PA</th>\n",
        "      <th>1B/PA_means</th>\n",
        "      <th>2B/PA_means</th>\n",
        "      <th>3B/PA_means</th>\n",
        "      <th>BB/PA_means</th>\n",
        "      <th>HR/PA_means</th>\n",
        "    </tr>\n",
        "  </thead>\n",
        "  <tbody>\n",
        "    <tr>\n",
        "      <th>1036</th>\n",
        "      <td> aaronha01</td>\n",
        "      <td> 1967</td>\n",
        "      <td> 1</td>\n",
        "      <td> ATL</td>\n",
        "      <td> NL</td>\n",
        "      <td> 155</td>\n",
        "      <td> 155</td>\n",
        "      <td> 600</td>\n",
        "      <td> 113</td>\n",
        "      <td> 184</td>\n",
        "      <td>...</td>\n",
        "      <td> 0.016549</td>\n",
        "      <td>-0.003136</td>\n",
        "      <td> 0.007964</td>\n",
        "      <td> 0.034221</td>\n",
        "      <td> 663</td>\n",
        "      <td> 0.172762</td>\n",
        "      <td> 0.039258</td>\n",
        "      <td> 0.007661</td>\n",
        "      <td> 0.087059</td>\n",
        "      <td> 0.024603</td>\n",
        "    </tr>\n",
        "    <tr>\n",
        "      <th>963 </th>\n",
        "      <td> aaronha01</td>\n",
        "      <td> 1965</td>\n",
        "      <td> 1</td>\n",
        "      <td> ML1</td>\n",
        "      <td> NL</td>\n",
        "      <td> 150</td>\n",
        "      <td> 150</td>\n",
        "      <td> 570</td>\n",
        "      <td> 109</td>\n",
        "      <td> 181</td>\n",
        "      <td>...</td>\n",
        "      <td> 0.024527</td>\n",
        "      <td>-0.005933</td>\n",
        "      <td> 0.004814</td>\n",
        "      <td> 0.023550</td>\n",
        "      <td> 630</td>\n",
        "      <td> 0.170556</td>\n",
        "      <td> 0.038965</td>\n",
        "      <td> 0.007520</td>\n",
        "      <td> 0.090425</td>\n",
        "      <td> 0.027244</td>\n",
        "    </tr>\n",
        "    <tr>\n",
        "      <th>1439</th>\n",
        "      <td> aaronha01</td>\n",
        "      <td> 1975</td>\n",
        "      <td> 1</td>\n",
        "      <td> ML4</td>\n",
        "      <td> AL</td>\n",
        "      <td> 137</td>\n",
        "      <td> 137</td>\n",
        "      <td> 465</td>\n",
        "      <td>  45</td>\n",
        "      <td> 109</td>\n",
        "      <td>...</td>\n",
        "      <td>-0.011944</td>\n",
        "      <td>-0.002240</td>\n",
        "      <td> 0.028149</td>\n",
        "      <td>-0.000432</td>\n",
        "      <td> 535</td>\n",
        "      <td> 0.175934</td>\n",
        "      <td> 0.041851</td>\n",
        "      <td> 0.005979</td>\n",
        "      <td> 0.102692</td>\n",
        "      <td> 0.022862</td>\n",
        "    </tr>\n",
        "    <tr>\n",
        "      <th>1087</th>\n",
        "      <td> aaronha01</td>\n",
        "      <td> 1969</td>\n",
        "      <td> 1</td>\n",
        "      <td> ATL</td>\n",
        "      <td> NL</td>\n",
        "      <td> 147</td>\n",
        "      <td> 147</td>\n",
        "      <td> 547</td>\n",
        "      <td> 100</td>\n",
        "      <td> 164</td>\n",
        "      <td>...</td>\n",
        "      <td> 0.007961</td>\n",
        "      <td>-0.001843</td>\n",
        "      <td> 0.035206</td>\n",
        "      <td> 0.039888</td>\n",
        "      <td> 634</td>\n",
        "      <td> 0.170592</td>\n",
        "      <td> 0.039357</td>\n",
        "      <td> 0.006575</td>\n",
        "      <td> 0.102018</td>\n",
        "      <td> 0.029513</td>\n",
        "    </tr>\n",
        "    <tr>\n",
        "      <th>1169</th>\n",
        "      <td> aaronha01</td>\n",
        "      <td> 1970</td>\n",
        "      <td> 1</td>\n",
        "      <td> ATL</td>\n",
        "      <td> NL</td>\n",
        "      <td> 150</td>\n",
        "      <td> 150</td>\n",
        "      <td> 516</td>\n",
        "      <td> 103</td>\n",
        "      <td> 154</td>\n",
        "      <td>...</td>\n",
        "      <td> 0.003705</td>\n",
        "      <td>-0.004971</td>\n",
        "      <td> 0.023316</td>\n",
        "      <td> 0.033084</td>\n",
        "      <td> 590</td>\n",
        "      <td> 0.170629</td>\n",
        "      <td> 0.040363</td>\n",
        "      <td> 0.006666</td>\n",
        "      <td> 0.102108</td>\n",
        "      <td> 0.031323</td>\n",
        "    </tr>\n",
        "  </tbody>\n",
        "</table>\n",
        "<p>5 rows \u00d7 82 columns</p>\n",
        "</div>"
       ],
       "metadata": {},
       "output_type": "pyout",
       "prompt_number": 12,
       "text": [
        "       playerID  yearID  stint teamID lgID    G  G_batting   AB    R    H  \\\n",
        "1036  aaronha01    1967      1    ATL   NL  155        155  600  113  184   \n",
        "963   aaronha01    1965      1    ML1   NL  150        150  570  109  181   \n",
        "1439  aaronha01    1975      1    ML4   AL  137        137  465   45  109   \n",
        "1087  aaronha01    1969      1    ATL   NL  147        147  547  100  164   \n",
        "1169  aaronha01    1970      1    ATL   NL  150        150  516  103  154   \n",
        "\n",
        "     ...      2B/PA     3B/PA     BB/PA     HR/PA   PA  1B/PA_means  \\\n",
        "1036 ...   0.016549 -0.003136  0.007964  0.034221  663     0.172762   \n",
        "963  ...   0.024527 -0.005933  0.004814  0.023550  630     0.170556   \n",
        "1439 ...  -0.011944 -0.002240  0.028149 -0.000432  535     0.175934   \n",
        "1087 ...   0.007961 -0.001843  0.035206  0.039888  634     0.170592   \n",
        "1169 ...   0.003705 -0.004971  0.023316  0.033084  590     0.170629   \n",
        "\n",
        "      2B/PA_means  3B/PA_means  BB/PA_means  HR/PA_means  \n",
        "1036     0.039258     0.007661     0.087059     0.024603  \n",
        "963      0.038965     0.007520     0.090425     0.027244  \n",
        "1439     0.041851     0.005979     0.102692     0.022862  \n",
        "1087     0.039357     0.006575     0.102018     0.029513  \n",
        "1169     0.040363     0.006666     0.102108     0.031323  \n",
        "\n",
        "[5 rows x 82 columns]"
       ]
      }
     ],
     "prompt_number": 12
    },
    {
     "cell_type": "markdown",
     "metadata": {},
     "source": [
      "#### Problem 1(h)\n",
      "\n",
      "Using the `playerstats` DataFrame created in Problem 1(g), create a new DataFrame called `playerLS` containing the player's lifetime stats. This DataFrame should contain the playerID, the year the player's career started, the year the player's career ended and the player's lifetime average for each of the quantities (singles, doubles, triples, HR, BB). For simplicity we will simply compute the avaerage of the rates by year (a more correct way is to go back to the totals). "
     ]
    },
    {
     "cell_type": "code",
     "collapsed": false,
     "input": [
      "r = [\"1B/PA\", \"2B/PA\", \"3B/PA\", \"HR/PA\", \"BB/PA\"]\n",
      "def getMeans(row):\n",
      "    ret = []\n",
      "    for rate in r:\n",
      "        ret.append(row[rate].mean())\n",
      "    return ret\n",
      "\n",
      "playerGroup = players_new.groupby([\"playerID\"])\n",
      "d = {}\n",
      "for ind, row in playerGroup:\n",
      "    d[row[\"playerID\"].iloc[0]] = [None]*7\n",
      "    d[row[\"playerID\"].iloc[0]][0] = min(row[\"yearID\"])\n",
      "    d[row[\"playerID\"].iloc[0]][1] = max(row[\"yearID\"])\n",
      "    avgs = getMeans(row)\n",
      "    for i in xrange(5):\n",
      "       d[row[\"playerID\"].iloc[0]][i+2] = avgs[i] \n",
      "        \n",
      "playerLS = pd.DataFrame.from_dict(d).T\n",
      "playerLS = playerLS.reset_index()\n",
      "cols = [\"playerID\", \"beginID\", \"endID\"]\n",
      "cols.extend(r)\n",
      "playerLS.columns = cols\n",
      "\n",
      "        "
     ],
     "language": "python",
     "metadata": {},
     "outputs": [],
     "prompt_number": 13
    },
    {
     "cell_type": "markdown",
     "metadata": {},
     "source": [
      "Show the head of the `playerLS` DataFrame. "
     ]
    },
    {
     "cell_type": "code",
     "collapsed": false,
     "input": [
      "playerLS.head()"
     ],
     "language": "python",
     "metadata": {},
     "outputs": [
      {
       "html": [
        "<div style=\"max-height:1000px;max-width:1500px;overflow:auto;\">\n",
        "<table border=\"1\" class=\"dataframe\">\n",
        "  <thead>\n",
        "    <tr style=\"text-align: right;\">\n",
        "      <th></th>\n",
        "      <th>playerID</th>\n",
        "      <th>beginID</th>\n",
        "      <th>endID</th>\n",
        "      <th>1B/PA</th>\n",
        "      <th>2B/PA</th>\n",
        "      <th>3B/PA</th>\n",
        "      <th>HR/PA</th>\n",
        "      <th>BB/PA</th>\n",
        "    </tr>\n",
        "  </thead>\n",
        "  <tbody>\n",
        "    <tr>\n",
        "      <th>0</th>\n",
        "      <td> aaronha01</td>\n",
        "      <td> 1962</td>\n",
        "      <td> 1975</td>\n",
        "      <td>-0.011320</td>\n",
        "      <td> 0.006584</td>\n",
        "      <td>-0.002864</td>\n",
        "      <td> 0.029832</td>\n",
        "      <td> 0.019952</td>\n",
        "    </tr>\n",
        "    <tr>\n",
        "      <th>1</th>\n",
        "      <td> abreubo01</td>\n",
        "      <td> 1998</td>\n",
        "      <td> 2011</td>\n",
        "      <td>-0.008357</td>\n",
        "      <td> 0.004795</td>\n",
        "      <td> 0.000678</td>\n",
        "      <td>-0.002902</td>\n",
        "      <td> 0.050419</td>\n",
        "    </tr>\n",
        "    <tr>\n",
        "      <th>2</th>\n",
        "      <td> ackledu01</td>\n",
        "      <td> 2012</td>\n",
        "      <td> 2012</td>\n",
        "      <td>-0.009186</td>\n",
        "      <td>-0.016607</td>\n",
        "      <td>-0.002044</td>\n",
        "      <td>-0.015187</td>\n",
        "      <td> 0.001574</td>\n",
        "    </tr>\n",
        "    <tr>\n",
        "      <th>3</th>\n",
        "      <td> adairje01</td>\n",
        "      <td> 1962</td>\n",
        "      <td> 1965</td>\n",
        "      <td> 0.016187</td>\n",
        "      <td> 0.007393</td>\n",
        "      <td>-0.001782</td>\n",
        "      <td>-0.012241</td>\n",
        "      <td>-0.036957</td>\n",
        "    </tr>\n",
        "    <tr>\n",
        "      <th>4</th>\n",
        "      <td> adamsru01</td>\n",
        "      <td> 2005</td>\n",
        "      <td> 2005</td>\n",
        "      <td>-0.008323</td>\n",
        "      <td>-0.001293</td>\n",
        "      <td> 0.004036</td>\n",
        "      <td>-0.017029</td>\n",
        "      <td> 0.002943</td>\n",
        "    </tr>\n",
        "  </tbody>\n",
        "</table>\n",
        "</div>"
       ],
       "metadata": {},
       "output_type": "pyout",
       "prompt_number": 14,
       "text": [
        "    playerID  beginID  endID     1B/PA     2B/PA     3B/PA     HR/PA     BB/PA\n",
        "0  aaronha01     1962   1975 -0.011320  0.006584 -0.002864  0.029832  0.019952\n",
        "1  abreubo01     1998   2011 -0.008357  0.004795  0.000678 -0.002902  0.050419\n",
        "2  ackledu01     2012   2012 -0.009186 -0.016607 -0.002044 -0.015187  0.001574\n",
        "3  adairje01     1962   1965  0.016187  0.007393 -0.001782 -0.012241 -0.036957\n",
        "4  adamsru01     2005   2005 -0.008323 -0.001293  0.004036 -0.017029  0.002943"
       ]
      }
     ],
     "prompt_number": 14
    },
    {
     "cell_type": "markdown",
     "metadata": {},
     "source": [
      "#### Problem 1(i)\n",
      "\n",
      "Compute the OPW for each player based on the average rates in the playerLS DataFrame. You can interpret this summary statistic as the predicted wins for a team with 9 batters exactly like the player in question. Add this column to the playerLS DataFrame. Call this colum OPW."
     ]
    },
    {
     "cell_type": "code",
     "collapsed": false,
     "input": [
      "opw = lambda x: linModel.predict(x[[\"1B/PA\", \"2B/PA\", \"3B/PA\", \"HR/PA\", \"BB/PA\"]])\n",
      "playerLS[\"OPW\"] = playerLS.apply(opw, axis=1)\n",
      "playerLS.head()"
     ],
     "language": "python",
     "metadata": {},
     "outputs": [
      {
       "html": [
        "<div style=\"max-height:1000px;max-width:1500px;overflow:auto;\">\n",
        "<table border=\"1\" class=\"dataframe\">\n",
        "  <thead>\n",
        "    <tr style=\"text-align: right;\">\n",
        "      <th></th>\n",
        "      <th>playerID</th>\n",
        "      <th>beginID</th>\n",
        "      <th>endID</th>\n",
        "      <th>1B/PA</th>\n",
        "      <th>2B/PA</th>\n",
        "      <th>3B/PA</th>\n",
        "      <th>HR/PA</th>\n",
        "      <th>BB/PA</th>\n",
        "      <th>OPW</th>\n",
        "    </tr>\n",
        "  </thead>\n",
        "  <tbody>\n",
        "    <tr>\n",
        "      <th>0</th>\n",
        "      <td> aaronha01</td>\n",
        "      <td> 1962</td>\n",
        "      <td> 1975</td>\n",
        "      <td>-0.011320</td>\n",
        "      <td> 0.006584</td>\n",
        "      <td>-0.002864</td>\n",
        "      <td> 0.029832</td>\n",
        "      <td> 0.019952</td>\n",
        "      <td> 107.284970</td>\n",
        "    </tr>\n",
        "    <tr>\n",
        "      <th>1</th>\n",
        "      <td> abreubo01</td>\n",
        "      <td> 1998</td>\n",
        "      <td> 2011</td>\n",
        "      <td>-0.008357</td>\n",
        "      <td> 0.004795</td>\n",
        "      <td> 0.000678</td>\n",
        "      <td>-0.002902</td>\n",
        "      <td> 0.050419</td>\n",
        "      <td> 121.217025</td>\n",
        "    </tr>\n",
        "    <tr>\n",
        "      <th>2</th>\n",
        "      <td> ackledu01</td>\n",
        "      <td> 2012</td>\n",
        "      <td> 2012</td>\n",
        "      <td>-0.009186</td>\n",
        "      <td>-0.016607</td>\n",
        "      <td>-0.002044</td>\n",
        "      <td>-0.015187</td>\n",
        "      <td> 0.001574</td>\n",
        "      <td>  59.534067</td>\n",
        "    </tr>\n",
        "    <tr>\n",
        "      <th>3</th>\n",
        "      <td> adairje01</td>\n",
        "      <td> 1962</td>\n",
        "      <td> 1965</td>\n",
        "      <td> 0.016187</td>\n",
        "      <td> 0.007393</td>\n",
        "      <td>-0.001782</td>\n",
        "      <td>-0.012241</td>\n",
        "      <td>-0.036957</td>\n",
        "      <td>  53.319594</td>\n",
        "    </tr>\n",
        "    <tr>\n",
        "      <th>4</th>\n",
        "      <td> adamsru01</td>\n",
        "      <td> 2005</td>\n",
        "      <td> 2005</td>\n",
        "      <td>-0.008323</td>\n",
        "      <td>-0.001293</td>\n",
        "      <td> 0.004036</td>\n",
        "      <td>-0.017029</td>\n",
        "      <td> 0.002943</td>\n",
        "      <td>  74.477333</td>\n",
        "    </tr>\n",
        "  </tbody>\n",
        "</table>\n",
        "</div>"
       ],
       "metadata": {},
       "output_type": "pyout",
       "prompt_number": 15,
       "text": [
        "    playerID  beginID  endID     1B/PA     2B/PA     3B/PA     HR/PA  \\\n",
        "0  aaronha01     1962   1975 -0.011320  0.006584 -0.002864  0.029832   \n",
        "1  abreubo01     1998   2011 -0.008357  0.004795  0.000678 -0.002902   \n",
        "2  ackledu01     2012   2012 -0.009186 -0.016607 -0.002044 -0.015187   \n",
        "3  adairje01     1962   1965  0.016187  0.007393 -0.001782 -0.012241   \n",
        "4  adamsru01     2005   2005 -0.008323 -0.001293  0.004036 -0.017029   \n",
        "\n",
        "      BB/PA         OPW  \n",
        "0  0.019952  107.284970  \n",
        "1  0.050419  121.217025  \n",
        "2  0.001574   59.534067  \n",
        "3 -0.036957   53.319594  \n",
        "4  0.002943   74.477333  "
       ]
      }
     ],
     "prompt_number": 15
    },
    {
     "cell_type": "markdown",
     "metadata": {},
     "source": [
      "#### Problem 1(j)\n",
      "\n",
      "Add four columns to the `playerLS` DataFrame that contains the player's position (C, 1B, 2B, 3B, SS, LF, CF, RF, or OF), first name, last name and median salary. "
     ]
    },
    {
     "cell_type": "code",
     "collapsed": false,
     "input": [
      "playerLS = pd.DataFrame.merge(playerLS, medianSalaries, on=\"playerID\")\n",
      "fielding.sort(columns=[\"playerID\"], inplace=True)\n",
      "helper = fielding.groupby(\"playerID\").apply(lambda x: x.loc[x[\"G\"].argmax()])\n",
      "helper = helper[[\"playerID\", \"POS\"]]\n",
      "playerLS = pd.DataFrame.merge(playerLS, helper, on=\"playerID\")"
     ],
     "language": "python",
     "metadata": {},
     "outputs": [],
     "prompt_number": 16
    },
    {
     "cell_type": "markdown",
     "metadata": {},
     "source": [
      "Show the head of the `playerLS` DataFrame. "
     ]
    },
    {
     "cell_type": "code",
     "collapsed": false,
     "input": [
      "print(\"Unique Names: %d, Total Length: %d\" % (playerLS.playerID.nunique(), len(playerLS)))\n",
      "playerLS.head()"
     ],
     "language": "python",
     "metadata": {},
     "outputs": [
      {
       "output_type": "stream",
       "stream": "stdout",
       "text": [
        "Unique Names: 927, Total Length: 927\n"
       ]
      },
      {
       "html": [
        "<div style=\"max-height:1000px;max-width:1500px;overflow:auto;\">\n",
        "<table border=\"1\" class=\"dataframe\">\n",
        "  <thead>\n",
        "    <tr style=\"text-align: right;\">\n",
        "      <th></th>\n",
        "      <th>playerID</th>\n",
        "      <th>beginID</th>\n",
        "      <th>endID</th>\n",
        "      <th>1B/PA</th>\n",
        "      <th>2B/PA</th>\n",
        "      <th>3B/PA</th>\n",
        "      <th>HR/PA</th>\n",
        "      <th>BB/PA</th>\n",
        "      <th>OPW</th>\n",
        "      <th>nameGiven</th>\n",
        "      <th>nameLast</th>\n",
        "      <th>salary</th>\n",
        "      <th>POS</th>\n",
        "    </tr>\n",
        "  </thead>\n",
        "  <tbody>\n",
        "    <tr>\n",
        "      <th>0</th>\n",
        "      <td> abreubo01</td>\n",
        "      <td> 1998</td>\n",
        "      <td> 2011</td>\n",
        "      <td>-0.008357</td>\n",
        "      <td> 0.004795</td>\n",
        "      <td> 0.000678</td>\n",
        "      <td>-0.002902</td>\n",
        "      <td> 0.050419</td>\n",
        "      <td> 121.217025</td>\n",
        "      <td>       Bob Kelly</td>\n",
        "      <td>   Abreu</td>\n",
        "      <td> 9000000</td>\n",
        "      <td> OF</td>\n",
        "    </tr>\n",
        "    <tr>\n",
        "      <th>1</th>\n",
        "      <td> ackledu01</td>\n",
        "      <td> 2012</td>\n",
        "      <td> 2012</td>\n",
        "      <td>-0.009186</td>\n",
        "      <td>-0.016607</td>\n",
        "      <td>-0.002044</td>\n",
        "      <td>-0.015187</td>\n",
        "      <td> 0.001574</td>\n",
        "      <td>  59.534067</td>\n",
        "      <td>  Dustin Michael</td>\n",
        "      <td>  Ackley</td>\n",
        "      <td> 2400000</td>\n",
        "      <td> 2B</td>\n",
        "    </tr>\n",
        "    <tr>\n",
        "      <th>2</th>\n",
        "      <td> adamsru01</td>\n",
        "      <td> 2005</td>\n",
        "      <td> 2005</td>\n",
        "      <td>-0.008323</td>\n",
        "      <td>-0.001293</td>\n",
        "      <td> 0.004036</td>\n",
        "      <td>-0.017029</td>\n",
        "      <td> 0.002943</td>\n",
        "      <td>  74.477333</td>\n",
        "      <td>      Russ Moore</td>\n",
        "      <td>   Adams</td>\n",
        "      <td>  329500</td>\n",
        "      <td> SS</td>\n",
        "    </tr>\n",
        "    <tr>\n",
        "      <th>3</th>\n",
        "      <td> alfoned01</td>\n",
        "      <td> 1997</td>\n",
        "      <td> 2004</td>\n",
        "      <td> 0.013239</td>\n",
        "      <td>-0.002901</td>\n",
        "      <td>-0.002933</td>\n",
        "      <td>-0.007119</td>\n",
        "      <td> 0.010239</td>\n",
        "      <td>  88.342310</td>\n",
        "      <td> Edgardo Antonio</td>\n",
        "      <td> Alfonzo</td>\n",
        "      <td> 4112500</td>\n",
        "      <td> 2B</td>\n",
        "    </tr>\n",
        "    <tr>\n",
        "      <th>4</th>\n",
        "      <td> alicelu01</td>\n",
        "      <td> 2000</td>\n",
        "      <td> 2000</td>\n",
        "      <td> 0.034624</td>\n",
        "      <td>-0.010500</td>\n",
        "      <td> 0.007732</td>\n",
        "      <td>-0.025967</td>\n",
        "      <td>-0.006241</td>\n",
        "      <td>  84.359353</td>\n",
        "      <td>       Luis Rene</td>\n",
        "      <td>  Alicea</td>\n",
        "      <td>  750000</td>\n",
        "      <td> 2B</td>\n",
        "    </tr>\n",
        "  </tbody>\n",
        "</table>\n",
        "</div>"
       ],
       "metadata": {},
       "output_type": "pyout",
       "prompt_number": 17,
       "text": [
        "    playerID  beginID  endID     1B/PA     2B/PA     3B/PA     HR/PA  \\\n",
        "0  abreubo01     1998   2011 -0.008357  0.004795  0.000678 -0.002902   \n",
        "1  ackledu01     2012   2012 -0.009186 -0.016607 -0.002044 -0.015187   \n",
        "2  adamsru01     2005   2005 -0.008323 -0.001293  0.004036 -0.017029   \n",
        "3  alfoned01     1997   2004  0.013239 -0.002901 -0.002933 -0.007119   \n",
        "4  alicelu01     2000   2000  0.034624 -0.010500  0.007732 -0.025967   \n",
        "\n",
        "      BB/PA         OPW        nameGiven nameLast   salary POS  \n",
        "0  0.050419  121.217025        Bob Kelly    Abreu  9000000  OF  \n",
        "1  0.001574   59.534067   Dustin Michael   Ackley  2400000  2B  \n",
        "2  0.002943   74.477333       Russ Moore    Adams   329500  SS  \n",
        "3  0.010239   88.342310  Edgardo Antonio  Alfonzo  4112500  2B  \n",
        "4 -0.006241   84.359353        Luis Rene   Alicea   750000  2B  "
       ]
      }
     ],
     "prompt_number": 17
    },
    {
     "cell_type": "markdown",
     "metadata": {},
     "source": [
      "#### Problem 1(k)\n",
      "\n",
      "Subset the `playerLS` DataFrame for players active in 2002 and 2003 and played at least three years. Plot and describe the relationship bewteen the median salary (in millions) and the predicted number of wins. "
     ]
    },
    {
     "cell_type": "code",
     "collapsed": false,
     "input": [
      "playerLS = playerLS[playerLS[\"beginID\"] >= 2002]\n",
      "playerLS = playerLS[playerLS[\"endID\"] >= 2003]\n",
      "playerLS = playerLS[playerLS[\"endID\"] - playerLS[\"beginID\"] > 2]\n",
      "playerLS.head()"
     ],
     "language": "python",
     "metadata": {},
     "outputs": [
      {
       "html": [
        "<div style=\"max-height:1000px;max-width:1500px;overflow:auto;\">\n",
        "<table border=\"1\" class=\"dataframe\">\n",
        "  <thead>\n",
        "    <tr style=\"text-align: right;\">\n",
        "      <th></th>\n",
        "      <th>playerID</th>\n",
        "      <th>beginID</th>\n",
        "      <th>endID</th>\n",
        "      <th>1B/PA</th>\n",
        "      <th>2B/PA</th>\n",
        "      <th>3B/PA</th>\n",
        "      <th>HR/PA</th>\n",
        "      <th>BB/PA</th>\n",
        "      <th>OPW</th>\n",
        "      <th>nameGiven</th>\n",
        "      <th>nameLast</th>\n",
        "      <th>salary</th>\n",
        "      <th>POS</th>\n",
        "    </tr>\n",
        "  </thead>\n",
        "  <tbody>\n",
        "    <tr>\n",
        "      <th>15</th>\n",
        "      <td> andruel01</td>\n",
        "      <td> 2009</td>\n",
        "      <td> 2012</td>\n",
        "      <td> 0.037304</td>\n",
        "      <td>-0.014831</td>\n",
        "      <td> 0.004224</td>\n",
        "      <td>-0.026626</td>\n",
        "      <td>-0.005427</td>\n",
        "      <td> 80.046342</td>\n",
        "      <td>   Elvis Augusto</td>\n",
        "      <td>   Andrus</td>\n",
        "      <td>  452180</td>\n",
        "      <td> SS</td>\n",
        "    </tr>\n",
        "    <tr>\n",
        "      <th>19</th>\n",
        "      <td> atkinga01</td>\n",
        "      <td> 2005</td>\n",
        "      <td> 2008</td>\n",
        "      <td> 0.014819</td>\n",
        "      <td> 0.005643</td>\n",
        "      <td>-0.002962</td>\n",
        "      <td> 0.000218</td>\n",
        "      <td>-0.007418</td>\n",
        "      <td> 81.949934</td>\n",
        "      <td> Garrett Bernard</td>\n",
        "      <td>   Atkins</td>\n",
        "      <td> 2200000</td>\n",
        "      <td> 3B</td>\n",
        "    </tr>\n",
        "    <tr>\n",
        "      <th>24</th>\n",
        "      <td> aybarer01</td>\n",
        "      <td> 2009</td>\n",
        "      <td> 2013</td>\n",
        "      <td> 0.031209</td>\n",
        "      <td>-0.001120</td>\n",
        "      <td> 0.005967</td>\n",
        "      <td>-0.019863</td>\n",
        "      <td>-0.040359</td>\n",
        "      <td> 59.126556</td>\n",
        "      <td>     Erick Johan</td>\n",
        "      <td>    Aybar</td>\n",
        "      <td> 2050000</td>\n",
        "      <td> SS</td>\n",
        "    </tr>\n",
        "    <tr>\n",
        "      <th>35</th>\n",
        "      <td> barmecl01</td>\n",
        "      <td> 2006</td>\n",
        "      <td> 2009</td>\n",
        "      <td>-0.032135</td>\n",
        "      <td> 0.000978</td>\n",
        "      <td> 0.001336</td>\n",
        "      <td>-0.006615</td>\n",
        "      <td>-0.047165</td>\n",
        "      <td> 22.678266</td>\n",
        "      <td>    Clint Harold</td>\n",
        "      <td>   Barmes</td>\n",
        "      <td> 2475000</td>\n",
        "      <td> SS</td>\n",
        "    </tr>\n",
        "    <tr>\n",
        "      <th>38</th>\n",
        "      <td> bartlja01</td>\n",
        "      <td> 2007</td>\n",
        "      <td> 2011</td>\n",
        "      <td> 0.018509</td>\n",
        "      <td>-0.007040</td>\n",
        "      <td> 0.003740</td>\n",
        "      <td>-0.020826</td>\n",
        "      <td>-0.005109</td>\n",
        "      <td> 76.630465</td>\n",
        "      <td>      Jason Alan</td>\n",
        "      <td> Bartlett</td>\n",
        "      <td> 1981250</td>\n",
        "      <td> SS</td>\n",
        "    </tr>\n",
        "  </tbody>\n",
        "</table>\n",
        "</div>"
       ],
       "metadata": {},
       "output_type": "pyout",
       "prompt_number": 18,
       "text": [
        "     playerID  beginID  endID     1B/PA     2B/PA     3B/PA     HR/PA  \\\n",
        "15  andruel01     2009   2012  0.037304 -0.014831  0.004224 -0.026626   \n",
        "19  atkinga01     2005   2008  0.014819  0.005643 -0.002962  0.000218   \n",
        "24  aybarer01     2009   2013  0.031209 -0.001120  0.005967 -0.019863   \n",
        "35  barmecl01     2006   2009 -0.032135  0.000978  0.001336 -0.006615   \n",
        "38  bartlja01     2007   2011  0.018509 -0.007040  0.003740 -0.020826   \n",
        "\n",
        "       BB/PA        OPW        nameGiven  nameLast   salary POS  \n",
        "15 -0.005427  80.046342    Elvis Augusto    Andrus   452180  SS  \n",
        "19 -0.007418  81.949934  Garrett Bernard    Atkins  2200000  3B  \n",
        "24 -0.040359  59.126556      Erick Johan     Aybar  2050000  SS  \n",
        "35 -0.047165  22.678266     Clint Harold    Barmes  2475000  SS  \n",
        "38 -0.005109  76.630465       Jason Alan  Bartlett  1981250  SS  "
       ]
      }
     ],
     "prompt_number": 18
    },
    {
     "cell_type": "markdown",
     "metadata": {},
     "source": [
      "#### Problem 1(l)\n",
      "Pick one players from one of each of these 10 position C, 1B, 2B, 3B, SS, LF, CF, RF, DH, or OF keeping the total median salary of all 10 players below 20 million. Report their averaged predicted wins and total salary."
     ]
    },
    {
     "cell_type": "code",
     "collapsed": false,
     "input": [
      "positions = [\"C\", \"1B\", \"2B\", \"3B\", \"SS\", \"LF\", \"CF\", \"RF\", \"DH\", \"OF\"]\n",
      "df = pd.DataFrame(columns=playerLS.columns)\n",
      "ids = set()\n",
      "poses = set()\n",
      "sal = 0\n",
      "i = 0\n",
      "for ind, row in playerLS.sort(\"salary\").iterrows():\n",
      "    if row[\"playerID\"] in ids:\n",
      "        continue\n",
      "    if row[\"POS\"] in poses:\n",
      "        continue\n",
      "    if sal + row[\"salary\"] < 20000000:\n",
      "        df.loc[i] = row\n",
      "        ids.add(row[\"playerID\"])\n",
      "        poses.add(row[\"POS\"])\n",
      "        sal = sal + row[\"salary\"]\n",
      "        i = i + 1\n",
      "        \n",
      "if(len(df) == 10):\n",
      "    print \"Median Salary: \" + str(df[\"salary\"].median())\n",
      "    print \"Total Wins: \" + str(df[\"OPW\"].mean())\n",
      "    print \"Total Salary: \" + str(df[\"salary\"].sum())"
     ],
     "language": "python",
     "metadata": {},
     "outputs": [
      {
       "output_type": "stream",
       "stream": "stdout",
       "text": [
        "Median Salary: 522750.0\n",
        "Total Wins: 87.5430700496\n",
        "Total Salary: 13113680.0\n"
       ]
      }
     ],
     "prompt_number": 19
    },
    {
     "cell_type": "markdown",
     "metadata": {},
     "source": [
      "#### Problem 1(m)\n",
      "What do these players outperform in? Singles, doubles, triples HR or BB?"
     ]
    },
    {
     "cell_type": "code",
     "collapsed": false,
     "input": [
      "colors = itertools.cycle([\"r\", \"b\", \"g\", \"y\", \"orange\"])\n",
      "playerMeans = playerLS.mean()\n",
      "plt.scatter(df[\"salary\"], df[\"1B/PA\"], label=\"1B/PA\", color=next(colors))\n",
      "plt.scatter(df[\"salary\"], df[\"2B/PA\"], label=\"2B/PA\", color=next(colors))\n",
      "plt.scatter(df[\"salary\"], df[\"3B/PA\"], label=\"3B/PA\", color=next(colors))\n",
      "plt.scatter(df[\"salary\"], df[\"HR/PA\"], label=\"HR/PA\", color=next(colors))\n",
      "plt.scatter(df[\"salary\"], df[\"BB/PA\"], label=\"BB/PA\", color=next(colors))\n",
      "plt.xticks(range(300000,4500000,200000), rotation=90)\n",
      "plt.legend(loc=2,bbox_to_anchor=(1, 1))\n",
      "nice_graph(\"salary\", \"performance\", \"Performance vs Salary\", [300000, 4300000,-.04,.06])\n",
      "plt.show()"
     ],
     "language": "python",
     "metadata": {},
     "outputs": [
      {
       "ename": "NameError",
       "evalue": "name 'itertools' is not defined",
       "output_type": "pyerr",
       "traceback": [
        "\u001b[0;31m---------------------------------------------------------------------------\u001b[0m\n\u001b[0;31mNameError\u001b[0m                                 Traceback (most recent call last)",
        "\u001b[0;32m<ipython-input-1-825aea5e380f>\u001b[0m in \u001b[0;36m<module>\u001b[0;34m()\u001b[0m\n\u001b[0;32m----> 1\u001b[0;31m \u001b[0mcolors\u001b[0m \u001b[0;34m=\u001b[0m \u001b[0mitertools\u001b[0m\u001b[0;34m.\u001b[0m\u001b[0mcycle\u001b[0m\u001b[0;34m(\u001b[0m\u001b[0;34m[\u001b[0m\u001b[0;34m\"r\"\u001b[0m\u001b[0;34m,\u001b[0m \u001b[0;34m\"b\"\u001b[0m\u001b[0;34m,\u001b[0m \u001b[0;34m\"g\"\u001b[0m\u001b[0;34m,\u001b[0m \u001b[0;34m\"y\"\u001b[0m\u001b[0;34m,\u001b[0m \u001b[0;34m\"orange\"\u001b[0m\u001b[0;34m]\u001b[0m\u001b[0;34m)\u001b[0m\u001b[0;34m\u001b[0m\u001b[0m\n\u001b[0m\u001b[1;32m      2\u001b[0m \u001b[0mplayerMeans\u001b[0m \u001b[0;34m=\u001b[0m \u001b[0mplayerLS\u001b[0m\u001b[0;34m.\u001b[0m\u001b[0mmean\u001b[0m\u001b[0;34m(\u001b[0m\u001b[0;34m)\u001b[0m\u001b[0;34m\u001b[0m\u001b[0m\n\u001b[1;32m      3\u001b[0m \u001b[0mplt\u001b[0m\u001b[0;34m.\u001b[0m\u001b[0mscatter\u001b[0m\u001b[0;34m(\u001b[0m\u001b[0mdf\u001b[0m\u001b[0;34m[\u001b[0m\u001b[0;34m\"salary\"\u001b[0m\u001b[0;34m]\u001b[0m\u001b[0;34m,\u001b[0m \u001b[0mdf\u001b[0m\u001b[0;34m[\u001b[0m\u001b[0;34m\"1B/PA\"\u001b[0m\u001b[0;34m]\u001b[0m\u001b[0;34m,\u001b[0m \u001b[0mlabel\u001b[0m\u001b[0;34m=\u001b[0m\u001b[0;34m\"1B/PA\"\u001b[0m\u001b[0;34m,\u001b[0m \u001b[0mcolor\u001b[0m\u001b[0;34m=\u001b[0m\u001b[0mnext\u001b[0m\u001b[0;34m(\u001b[0m\u001b[0mcolors\u001b[0m\u001b[0;34m)\u001b[0m\u001b[0;34m)\u001b[0m\u001b[0;34m\u001b[0m\u001b[0m\n\u001b[1;32m      4\u001b[0m \u001b[0mplt\u001b[0m\u001b[0;34m.\u001b[0m\u001b[0mscatter\u001b[0m\u001b[0;34m(\u001b[0m\u001b[0mdf\u001b[0m\u001b[0;34m[\u001b[0m\u001b[0;34m\"salary\"\u001b[0m\u001b[0;34m]\u001b[0m\u001b[0;34m,\u001b[0m \u001b[0mdf\u001b[0m\u001b[0;34m[\u001b[0m\u001b[0;34m\"2B/PA\"\u001b[0m\u001b[0;34m]\u001b[0m\u001b[0;34m,\u001b[0m \u001b[0mlabel\u001b[0m\u001b[0;34m=\u001b[0m\u001b[0;34m\"2B/PA\"\u001b[0m\u001b[0;34m,\u001b[0m \u001b[0mcolor\u001b[0m\u001b[0;34m=\u001b[0m\u001b[0mnext\u001b[0m\u001b[0;34m(\u001b[0m\u001b[0mcolors\u001b[0m\u001b[0;34m)\u001b[0m\u001b[0;34m)\u001b[0m\u001b[0;34m\u001b[0m\u001b[0m\n\u001b[1;32m      5\u001b[0m \u001b[0mplt\u001b[0m\u001b[0;34m.\u001b[0m\u001b[0mscatter\u001b[0m\u001b[0;34m(\u001b[0m\u001b[0mdf\u001b[0m\u001b[0;34m[\u001b[0m\u001b[0;34m\"salary\"\u001b[0m\u001b[0;34m]\u001b[0m\u001b[0;34m,\u001b[0m \u001b[0mdf\u001b[0m\u001b[0;34m[\u001b[0m\u001b[0;34m\"3B/PA\"\u001b[0m\u001b[0;34m]\u001b[0m\u001b[0;34m,\u001b[0m \u001b[0mlabel\u001b[0m\u001b[0;34m=\u001b[0m\u001b[0;34m\"3B/PA\"\u001b[0m\u001b[0;34m,\u001b[0m \u001b[0mcolor\u001b[0m\u001b[0;34m=\u001b[0m\u001b[0mnext\u001b[0m\u001b[0;34m(\u001b[0m\u001b[0mcolors\u001b[0m\u001b[0;34m)\u001b[0m\u001b[0;34m)\u001b[0m\u001b[0;34m\u001b[0m\u001b[0m\n",
        "\u001b[0;31mNameError\u001b[0m: name 'itertools' is not defined"
       ]
      }
     ],
     "prompt_number": 1
    },
    {
     "cell_type": "markdown",
     "metadata": {},
     "source": [
      "** Your answer here: **"
     ]
    },
    {
     "cell_type": "markdown",
     "metadata": {},
     "source": [
      "## Discussion for Problem 1\n",
      "What do these players outperform in? Singles, doubles, triples HR or BB?\n",
      "* "
     ]
    },
    {
     "cell_type": "markdown",
     "metadata": {},
     "source": [
      "# Problem 2:  $k$-Nearest Neighbors and Cross Validation \n",
      "\n",
      "What is the optimal $k$ for predicting species using $k$-nearest neighbor classification \n",
      "on the four features provided by the iris dataset.\n",
      "\n",
      "In this problem you will get to know the famous iris data set, and use cross validation to select the optimal $k$ for a $k$-nearest neighbor classification. This problem set makes heavy use of the [sklearn](http://scikit-learn.org/stable/) library. In addition to Pandas, it is one of the most useful libraries for data scientists! After completing this homework assignment you will know all the basics to get started with your own machine learning projects in sklearn. \n",
      "\n",
      "Future lectures will give further background information on different classifiers and their specific strengths and weaknesses, but when you have the basics for sklearn down, changing the classifier will boil down to exchanging one to two lines of code.\n",
      "\n",
      "The data set is so popular, that sklearn provides an extra function to load it:"
     ]
    },
    {
     "cell_type": "code",
     "collapsed": false,
     "input": [
      "#load the iris data set\n",
      "iris = sklearn.datasets.load_iris()\n",
      "\n",
      "X = iris.data  \n",
      "Y = iris.target\n",
      "\n",
      "print X.shape, Y.shape"
     ],
     "language": "python",
     "metadata": {},
     "outputs": [
      {
       "output_type": "stream",
       "stream": "stdout",
       "text": [
        "(150, 4) (150,)\n"
       ]
      }
     ],
     "prompt_number": 10
    },
    {
     "cell_type": "markdown",
     "metadata": {},
     "source": [
      "#### Problem 2(a) \n",
      "Split the data into a train and a test set. Use a random selection of 33% of the samples as test data. Sklearn provides the [`train_test_split`](http://scikit-learn.org/stable/modules/generated/sklearn.cross_validation.train_test_split.html) function for this purpose. Print the dimensions of all the train and test data sets you have created. "
     ]
    },
    {
     "cell_type": "code",
     "collapsed": false,
     "input": [
      "testX, trainX, testY, trainY = sklearn.cross_validation.train_test_split(X,Y,test_size=0.33, random_state=5)\n",
      "print testX.shape, trainX.shape, testY.shape, trainY.shape"
     ],
     "language": "python",
     "metadata": {},
     "outputs": [
      {
       "output_type": "stream",
       "stream": "stdout",
       "text": [
        "(100, 4) (50, 4) (100,) (50,)\n"
       ]
      }
     ],
     "prompt_number": 5
    },
    {
     "cell_type": "markdown",
     "metadata": {},
     "source": [
      "#### Problem 2(b)\n",
      "\n",
      "Examine the data further by looking at the projections to the first two principal components of the data. Use the [`TruncatedSVD`](http://scikit-learn.org/stable/modules/generated/sklearn.decomposition.TruncatedSVD.html) function for this purpose, and create a scatter plot. Use the colors on the scatter plot to represent the different classes in the target data. "
     ]
    },
    {
     "cell_type": "code",
     "collapsed": false,
     "input": [
      "from sklearn.decomposition import TruncatedSVD\n",
      "from sklearn.random_projection import sparse_random_matrix\n",
      "svd = TruncatedSVD(n_components=2)\n",
      "x_2d = svd.fit_transform(trainX)\n",
      "plt.scatter(x_2d[:,0], x_2d[:,1], c=trainY, s=50, cmap=plt.cm.Paired)\n",
      "plt.colorbar()\n",
      "plt.show()\n"
     ],
     "language": "python",
     "metadata": {},
     "outputs": [
      {
       "metadata": {},
       "output_type": "display_data",
       "png": "[encoded data removed]",
       "text": [
        "<matplotlib.figure.Figure at 0x1090f5190>"
       ]
      }
     ],
     "prompt_number": 6
    },
    {
     "cell_type": "markdown",
     "metadata": {},
     "source": [
      "#### Problem 2(c) \n",
      "\n",
      "In the lecture we discussed how to use cross validation to estimate the optimal value for $k$ (the number of nearest neighbors to base the classification on). Use ***ten fold cross validation*** to estimate the optimal value for $k$ for the iris data set. \n",
      "\n",
      "**Note**: For your convenience sklearn does not only include the [KNN classifier](http://scikit-learn.org/stable/modules/generated/sklearn.neighbors.KNeighborsClassifier.html), but also a [grid search function](http://scikit-learn.org/stable/modules/generated/sklearn.grid_search.GridSearchCV.html#sklearn.grid_search.GridSearchCV). The function is called grid search, because if you have to optimize more than one parameter, it is common practice to define a range of possible values for each parameter. An exhaustive search then runs over the complete grid defined by all the possible parameter combinations. This can get very computation heavy, but luckily our KNN classifier only requires tuning of a single parameter for this problem set. "
     ]
    },
    {
     "cell_type": "code",
     "collapsed": false,
     "input": [
      "myKN = sklearn.neighbors.KNeighborsClassifier()\n",
      "clf = sklearn.grid_search.GridSearchCV(myKN,dict(n_neighbors=range(1,30)),cv=10)"
     ],
     "language": "python",
     "metadata": {},
     "outputs": [],
     "prompt_number": 7
    },
    {
     "cell_type": "markdown",
     "metadata": {},
     "source": [
      "#### Problem 2(d)\n",
      "\n",
      "Visualize the result by plotting the score results verus values for $k$. "
     ]
    },
    {
     "cell_type": "code",
     "collapsed": false,
     "input": [
      "scores = [x[1] for x in clf.fit(trainX, trainY).grid_scores_]\n",
      "plt.scatter(np.array(range(1, 30)), scores)\n",
      "plt.xlim([-.5,30])\n",
      "plt.xticks(range(1, 30,9), rotation=\"90\")\n",
      "plt.show()"
     ],
     "language": "python",
     "metadata": {},
     "outputs": [
      {
       "metadata": {},
       "output_type": "display_data",
       "png": "[encoded data removed]",
       "text": [
        "<matplotlib.figure.Figure at 0x1091170d0>"
       ]
      }
     ],
     "prompt_number": 8
    },
    {
     "cell_type": "markdown",
     "metadata": {},
     "source": [
      "Verify that the grid search has indeed chosen the right parameter value for $k$."
     ]
    },
    {
     "cell_type": "code",
     "collapsed": false,
     "input": [
      "clf.fit(trainX, trainY).best_params_"
     ],
     "language": "python",
     "metadata": {},
     "outputs": [
      {
       "metadata": {},
       "output_type": "pyout",
       "prompt_number": 180,
       "text": [
        "{'n_neighbors': 10}"
       ]
      }
     ],
     "prompt_number": 180
    },
    {
     "cell_type": "markdown",
     "metadata": {},
     "source": [
      "#### Problem 2(e)\n",
      "\n",
      "Test the performance of our tuned KNN classifier on the test set."
     ]
    },
    {
     "cell_type": "code",
     "collapsed": false,
     "input": [
      "from sklearn.metrics import classification_report\n",
      "yhat = clf.fit(trainX,trainY).predict(testX)\n",
      "print classification_report(testY, yhat)"
     ],
     "language": "python",
     "metadata": {},
     "outputs": [
      {
       "output_type": "stream",
       "stream": "stdout",
       "text": [
        "             precision    recall  f1-score   support\n",
        "\n",
        "          0       1.00      1.00      1.00        34\n",
        "          1       0.85      1.00      0.92        33\n",
        "          2       1.00      0.82      0.90        33\n",
        "\n",
        "avg / total       0.95      0.94      0.94       100\n",
        "\n"
       ]
      }
     ],
     "prompt_number": 12
    },
    {
     "cell_type": "markdown",
     "metadata": {},
     "source": [
      "## Discussion for Problem 2\n",
      "\n",
      "*Write a brief discussion of your conclusions to the questions and tasks above in 100 words or less.*\n",
      "\n",
      "---"
     ]
    },
    {
     "cell_type": "markdown",
     "metadata": {},
     "source": [
      "# Problem 3: The Curse and Blessing of Higher Dimensions\n",
      "\n",
      "In this problem we will investigate the influence of higher dimensional spaces on the classification. The data set is again one of the standard data sets from sklearn. The [digits data set](http://scikit-learn.org/stable/modules/generated/sklearn.datasets.load_digits.html) is similar to the MNIST data set discussed in the lecture. The main difference is, that each digit is represented by an 8x8 pixel image patch, which is considerably smaller than the 28x28 pixels from MNIST. In addition, the gray values are restricted to 16 different values (4 bit), instead of 256 (8 bit) for MNIST. \n",
      "\n",
      "First we again load our data set."
     ]
    },
    {
     "cell_type": "code",
     "collapsed": false,
     "input": [
      "digits = sklearn.datasets.load_digits()\n",
      "\n",
      "X = digits.data  \n",
      "Y = digits.target\n",
      "\n",
      "print X.shape, Y.shape"
     ],
     "language": "python",
     "metadata": {},
     "outputs": [
      {
       "output_type": "stream",
       "stream": "stdout",
       "text": [
        "(1797, 64) (1797,)\n"
       ]
      }
     ],
     "prompt_number": 189
    },
    {
     "cell_type": "markdown",
     "metadata": {},
     "source": [
      "#### Problem 3(a) \n",
      "\n",
      "Start with the same steps as in Problem 2. Split the data into train and test set. Use 33% of the samples as test data. Print the dimensions of all the train and test data sets you created. "
     ]
    },
    {
     "cell_type": "code",
     "collapsed": false,
     "input": [
      "testX, trainX, testY, trainY = sklearn.cross_validation.train_test_split(X, Y, test_size=0.33)\n",
      "print testX.shape, trainX.shape, testY.shape, trainY.shape"
     ],
     "language": "python",
     "metadata": {},
     "outputs": [
      {
       "output_type": "stream",
       "stream": "stdout",
       "text": [
        "(1203, 64) (594, 64) (1203,) (594,)\n"
       ]
      }
     ],
     "prompt_number": 190
    },
    {
     "cell_type": "markdown",
     "metadata": {},
     "source": [
      "#### Problem 3(b) \n",
      "\n",
      "Similar to Problem 2(b), create a scatter plot of the projections to the first two PCs.  Use the colors on the scatter plot to represent the different classes in the target data. How well can we separate the classes?\n",
      "\n",
      "**Hint**: Use a `Colormap` in matplotlib to represent the diferent classes in the target data. "
     ]
    },
    {
     "cell_type": "code",
     "collapsed": false,
     "input": [
      "svd = TruncatedSVD(n_components=2)\n",
      "x_2d = svd.fit_transform(trainX)\n",
      "plt.scatter(x_2d[:,0], x_2d[:,1], c=trainY, s=50, cmap=plt.cm.Paired)\n",
      "plt.colorbar()\n",
      "plt.show()"
     ],
     "language": "python",
     "metadata": {},
     "outputs": [
      {
       "metadata": {},
       "output_type": "display_data",
       "png": "[encoded data removed]",
       "text": [
        "<matplotlib.figure.Figure at 0x10a28e790>"
       ]
      }
     ],
     "prompt_number": 193
    },
    {
     "cell_type": "markdown",
     "metadata": {},
     "source": [
      "Create individual scatter plots using only two classes at a time to explore which classes are most difficult to distinguish in terms of class separability.  You do not need to create scatter plots for all pairwise comparisons, but at least show one. "
     ]
    },
    {
     "cell_type": "code",
     "collapsed": false,
     "input": [
      "# If I was going to generate scarrer plots of all of the comparisons\n",
      "# I would do similar work to this except change 8,1 with every \n",
      "# combination of digit\n",
      "x_sub_2d = x_2d[np.logical_or(trainY==7, trainY==5),:]\n",
      "y_sub = trainY[np.logical_or(trainY==7, trainY==5)]\n",
      "plt.scatter(x_sub_2d[:,0], x_sub_2d[:,1], c=y_sub, \n",
      "            s = 50, cmap=plt.cm.Paired)\n",
      "plt.show()"
     ],
     "language": "python",
     "metadata": {},
     "outputs": [
      {
       "metadata": {},
       "output_type": "display_data",
       "png": "[encoded data removed]",
       "text": [
        "<matplotlib.figure.Figure at 0x10966aa90>"
       ]
      }
     ],
     "prompt_number": 206
    },
    {
     "cell_type": "markdown",
     "metadata": {},
     "source": [
      "Give a brief interpretation of the scatter plot. Which classes look like hard to distinguish? Do both feature dimensions contribute to the class separability? "
     ]
    },
    {
     "cell_type": "markdown",
     "metadata": {},
     "source": [
      "** Your answer here: **\n",
      "One class which is hard to distinguish is 8 vs. 1. The Y axis appears to make a stronger contribution to seperability. "
     ]
    },
    {
     "cell_type": "markdown",
     "metadata": {},
     "source": [
      "#### Problem 3(c) \n",
      "\n",
      "Write a **ten-fold cross validation** to estimate the optimal value for $k$ for the digits data set. *However*, this time we are interested in the influence of the number of dimensions we project the data down as well. \n",
      "\n",
      "Extend the cross validation as done for the iris data set, to optimize $k$ for different dimensional projections of the data. Create a boxplot showing test scores for the optimal $k$ for each $d$-dimensional subspace with $d$ ranging from one to ten. The plot should have the scores on the y-axis and the different dimensions $d$ on the x-axis. You can use your favorite plot function for the boxplots. [Seaborn](http://web.stanford.edu/~mwaskom/software/seaborn/index.html) is worth having a look at though. It is a great library for statistical visualization and of course also comes with a [`boxplot`](http://web.stanford.edu/~mwaskom/software/seaborn/generated/seaborn.boxplot.html) function that has simple means for changing the labels on the x-axis."
     ]
    },
    {
     "cell_type": "code",
     "collapsed": false,
     "input": [
      "d = {}\n",
      "for i in xrange(1,11):\n",
      "    svd = TruncatedSVD(n_components=i)\n",
      "    x_id = svd.fit_transform(trainX)\n",
      "    myKN = sklearn.neighbors.KNeighborsClassifier()\n",
      "    clf = sklearn.grid_search.GridSearchCV(myKN,dict(n_neighbors=range(1,30)),cv=10).fit(x_id, trainY)\n",
      "#     d[i] = map(lambda x: x[1], clf.grid_scores_)    \n",
      "    d[i] = [x[1] for x in clf.grid_scores_]"
     ],
     "language": "python",
     "metadata": {},
     "outputs": [],
     "prompt_number": 219
    },
    {
     "cell_type": "code",
     "collapsed": false,
     "input": [
      "new_dataFrame = pd.DataFrame.from_dict(d)\n",
      "pd.DataFrame.boxplot(new_dataFrame)\n",
      "\n",
      "plt.show()"
     ],
     "language": "python",
     "metadata": {},
     "outputs": [
      {
       "metadata": {},
       "output_type": "display_data",
       "png": "[encoded data removed]",
       "text": [
        "<matplotlib.figure.Figure at 0x10a28f4d0>"
       ]
      }
     ],
     "prompt_number": 220
    },
    {
     "cell_type": "markdown",
     "metadata": {},
     "source": [
      "Write a short interpretation of the generated plot, answering the following questions:\n",
      "\n",
      "* What trend do you see in the plot for increasing dimensions?\n",
      "\n",
      "* Why do you think this is happening?"
     ]
    },
    {
     "cell_type": "markdown",
     "metadata": {},
     "source": [
      "** Your answer here: **"
     ]
    },
    {
     "cell_type": "markdown",
     "metadata": {},
     "source": [
      "#### Problem 3(d) \n",
      "\n",
      "**For AC209 Students**: Change the boxplot we generated above to also show the optimal value for $k$ chosen by the cross validation grid search. "
     ]
    },
    {
     "cell_type": "code",
     "collapsed": false,
     "input": [
      "### Your code here ### "
     ],
     "language": "python",
     "metadata": {},
     "outputs": [],
     "prompt_number": 31
    },
    {
     "cell_type": "markdown",
     "metadata": {},
     "source": [
      "Write a short interpretation answering the following questions:\n",
      "\n",
      "* Which trend do you observe for the optimal value of $k$?\n",
      "\n",
      "* Why do you think this is happening?"
     ]
    },
    {
     "cell_type": "markdown",
     "metadata": {},
     "source": [
      "** Your answer here: **"
     ]
    },
    {
     "cell_type": "markdown",
     "metadata": {},
     "source": [
      "## Discussion for Problem 3\n",
      "\n",
      "*Write a brief discussion of your conclusions to the questions and tasks above in 100 words or less.*\n",
      "\n",
      "Based on the graph above, the performance of our K neighbours classifier function improves as the number of dimensions increases. This shows that when we use the single value decomposition to reduce the number of dimensions present in our data, we are loosing information that is important for differenciating digits.\n"
     ]
    },
    {
     "cell_type": "markdown",
     "metadata": {},
     "source": [
      "# Submission Instructions\n",
      "\n",
      "To submit your homework, create a folder named **lastname_firstinitial_hw#** and place your IPython notebooks, data files, and any other files in this folder. Your IPython Notebooks should be completely executed with the results visible in the notebook. We should not have to run any code.  Compress the folder (please use .zip compression) and submit to the CS109 dropbox in the appropriate folder. *If we cannot access your work because these directions are not followed correctly, we will not grade your work.*\n"
     ]
    },
    {
     "cell_type": "code",
     "collapsed": false,
     "input": [],
     "language": "python",
     "metadata": {},
     "outputs": [],
     "prompt_number": 31
    }
   ],
   "metadata": {}
  }
 ]
}