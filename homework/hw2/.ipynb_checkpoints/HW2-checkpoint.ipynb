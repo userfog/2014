{
 "metadata": {
  "name": "",
  "signature": "sha256:5cef9d9dd2983ab061a7d577a486a47a660811715ba29486465170f8d2bbc1a6"
 },
 "nbformat": 3,
 "nbformat_minor": 0,
 "worksheets": [
  {
   "cells": [
    {
     "cell_type": "markdown",
     "metadata": {},
     "source": [
      "# Homework 2: More Exploratory Data Analysis\n",
      "## Gene Expression Data and Election Polls \n",
      "\n",
      "Due: Thursday, October 2, 2014 11:59 PM\n",
      "\n",
      "<a href=https://raw.githubusercontent.com/cs109/2014/master/homework/HW2.ipynb download=HW2.ipynb> Download this assignment</a>\n",
      "\n",
      "#### Submission Instructions\n",
      "To submit your homework, create a folder named lastname_firstinitial_hw# and place your IPython notebooks, data files, and any other files in this folder. Your IPython Notebooks should be completely executed with the results visible in the notebook. We should not have to run any code. Compress the folder (please use .zip compression) and submit to the CS109 dropbox in the appropriate folder. If we cannot access your work because these directions are not followed correctly, we will not grade your work.\n",
      "\n",
      "\n",
      "---"
     ]
    },
    {
     "cell_type": "markdown",
     "metadata": {},
     "source": [
      "## Introduction\n",
      "\n",
      "John Tukey wrote in [Exploratory Data Analysis, 1977](http://www.amazon.com/Exploratory-Data-Analysis-Wilder-Tukey/dp/0201076160/ref=pd_bbs_sr_2/103-4466654-5303007?ie=UTF8&s=books&qid=1189739816&sr=8-2): \"The greatest value of a picture is when it forces us to notice what we never expected to see.\" In this assignment we will continue using our exploratory data analysis tools, but apply it to new sets of data: [gene expression](http://en.wikipedia.org/wiki/Gene_expression) and polls from the [2012 Presidental Election](http://en.wikipedia.org/wiki/United_States_presidential_election,_2012) and from the [2014 Senate Midterm Elections](http://en.wikipedia.org/wiki/United_States_Senate_elections,_2014).   \n",
      "\n",
      "**First**: You will use exploratory data analysis and apply the [singular value decomposition](http://en.wikipedia.org/wiki/Singular_value_decomposition) (SVD) to a gene expression data matrix to determine if the the date that the gene expression samples are processed has large effect on the variability seen in the data.  \n",
      "\n",
      "**Second**: You will use the polls from the 2012 Presidential Elections to determine (1) Is there a pollster bias in presidential election polls? and (2) Is the average of polls better than just one poll?\n",
      "\n",
      "**Finally**: You will use the [HuffPost Pollster API](http://elections.huffingtonpost.com/pollster/api) to extract the polls for the current 2014 Senate Midterm Elections and provide a preliminary prediction of the result of each state.\n",
      "\n",
      "#### Data\n",
      "\n",
      "We will use the following data sets: \n",
      "\n",
      "1. A gene expression data set called `exprs_GSE5859.csv` and sample annotation table called `sampleinfo_GSE5859.csv` which are both available on Github in the 2014_data repository: [expression data set](https://github.com/cs109/2014_data/blob/master/exprs_GSE5859.csv) and [sample annotation table](https://github.com/cs109/2014_data/blob/master/sampleinfo_GSE5859.csv).  \n",
      "\n",
      "2. Polls from the [2012 Presidential Election: Barack Obama vs Mitt Romney](http://elections.huffingtonpost.com/pollster/2012-general-election-romney-vs-obama). The polls we will use are from the [Huffington Post Pollster](http://elections.huffingtonpost.com/pollster).  \n",
      "\n",
      "3. Polls from the [2014 Senate Midterm Elections](http://elections.huffingtonpost.com/pollster) from the [HuffPost Pollster API](http://elections.huffingtonpost.com/pollster/api). \n",
      "\n",
      "---"
     ]
    },
    {
     "cell_type": "markdown",
     "metadata": {},
     "source": [
      "## Load Python modules"
     ]
    },
    {
     "cell_type": "code",
     "collapsed": false,
     "input": [
      "# special IPython command to prepare the notebook for matplotlib\n",
      "%matplotlib inline \n",
      "\n",
      "import os\n",
      "import copy\n",
      "import sys\n",
      "import subprocess\n",
      "import requests \n",
      "from StringIO import StringIO\n",
      "import numpy as np\n",
      "import pandas as pd # pandas\n",
      "import matplotlib.pyplot as plt # module for plotting \n",
      "import zipfile\n",
      "import StringIO\n",
      "import datetime as dt # module for manipulating dates and times\n",
      "import numpy.linalg as lin # module for performing linear algebra operations\n",
      "import scipy\n",
      "import pprint\n",
      "import datetime as dt\n",
      "import math\n",
      "import re\n",
      "from scipy import stats\n",
      "import matplotlib.dates as mdates\n",
      "import calendar as cl\n",
      "import StringIO\n",
      "import matplotlib.pyplot as plt\n",
      "pp = pprint.PrettyPrinter(indent=4)"
     ],
     "language": "python",
     "metadata": {},
     "outputs": [],
     "prompt_number": 144
    },
    {
     "cell_type": "markdown",
     "metadata": {},
     "source": [
      "## Problem 1\n",
      "\n",
      "In this problem we will be using a [gene expression](http://en.wikipedia.org/wiki/Gene_expression) data set obtained from a [microarray](http://en.wikipedia.org/wiki/DNA_microarray) experiement [Read more about the specific experiment here](http://www.ncbi.nlm.nih.gov/geo/query/acc.cgi?acc=GSE5859).  There are two data sets we will use:  \n",
      "\n",
      "1. The gene expression intensities where the rows represent the features on the microarray (e.g. genes) and the columsns represent the different microarray samples.  \n",
      "\n",
      "2. A table that contains the information about each of the samples (columns in the gene expression data set) such as the sex, the age, the treatment status, the date the samples were processed.  Each row represents one sample. "
     ]
    },
    {
     "cell_type": "markdown",
     "metadata": {},
     "source": [
      "#### Problem 1(a) \n",
      "Read in the two files from Github: [exprs_GSE5859.csv](https://github.com/cs109/2014_data/blob/master/exprs_GSE5859.csv) and [sampleinfo_GSE5859.csv](https://github.com/cs109/2014_data/blob/master/sampleinfo_GSE5859.csv) as pandas DataFrames called `exprs` and `sampleinfo`. Use the gene names as the index of the `exprs` DataFrame."
     ]
    },
    {
     "cell_type": "code",
     "collapsed": false,
     "input": [
      "exprs = requests.get(\"https://raw.githubusercontent.com/cs109/2014_data/master/exprs_GSE5859.csv\")\n",
      "smpl = requests.get(\"https://raw.githubusercontent.com/cs109/2014_data/master/sampleinfo_GSE5859.csv\")\n",
      "exprs = pd.DataFrame.from_csv(StringIO.StringIO(exprs.content))\n",
      "sampleinfo = pd.DataFrame.from_csv(StringIO.StringIO(smpl.content))"
     ],
     "language": "python",
     "metadata": {},
     "outputs": [],
     "prompt_number": 165
    },
    {
     "cell_type": "markdown",
     "metadata": {},
     "source": [
      "Make sure the order of the columns in the gene expression DataFrame match the order of file names in the sample annotation DataFrame. If the order of the columns the `exprs` DataFrame do not match the order of the file names in the `sampleinfo` DataFrame, reorder the columns in the `exprs` DataFrame. \n",
      "\n",
      "**Note**: The column names of the gene expression DataFrame are the filenames of the orignal files from which these data were obtained.  \n",
      "\n",
      "**Hint**: The method `list.index(x)` [[read here](https://docs.python.org/2/tutorial/datastructures.html)] can be used to return the index in the list of the first item whose value is x. It is an error if there is no such item. To check if the order of the columns in `exprs` matches the order of the rows in `sampleinfo`, you can check using the method `.all()` on a Boolean or list of Booleans: \n",
      "\n",
      "Example code: `(exprs.columns == sampleinfo.filename).all()`"
     ]
    },
    {
     "cell_type": "code",
     "collapsed": false,
     "input": [
      "sampleinfo.sort([\"filename\"], inplace=True)\n",
      "ordered = sorted(exprs.columns.tolist())\n",
      "exprs = exprs[ordered]\n",
      "print (exprs.columns == sampleinfo.filename).all()\n",
      "print exprs.head()\n",
      "print sampleinfo.head()"
     ],
     "language": "python",
     "metadata": {},
     "outputs": [
      {
       "output_type": "stream",
       "stream": "stdout",
       "text": [
        "True\n",
        "           GSM136441.CEL.gz  GSM136442.CEL.gz  GSM136443.CEL.gz  \\\n",
        "1007_s_at          6.302996          6.444051          6.238090   \n",
        "1053_at            7.097359          7.099125          7.308965   \n",
        "117_at             5.204992          5.448902          5.440455   \n",
        "121_at             7.380881          7.638094          7.720119   \n",
        "1255_g_at          3.200968          3.327960          3.192055   \n",
        "\n",
        "           GSM136444.CEL.gz  GSM136445.CEL.gz  GSM136506.CEL.gz  \\\n",
        "1007_s_at          6.499574          6.454842          6.171587   \n",
        "1053_at            6.889842          6.880901          7.123658   \n",
        "117_at             5.386826          5.147856          5.298285   \n",
        "121_at             7.822919          7.914191          7.636683   \n",
        "1255_g_at          3.538002          3.352793          3.207580   \n",
        "\n",
        "           GSM136507.CEL.gz  GSM136508.CEL.gz  GSM136509.CEL.gz  \\\n",
        "1007_s_at          6.517539          6.543954          6.379983   \n",
        "1053_at            7.689282          7.546708          7.702533   \n",
        "117_at             5.562001          5.402622          5.398616   \n",
        "121_at             7.612557          7.892544          7.511478   \n",
        "1255_g_at          3.107306          3.242779          3.212051   \n",
        "\n",
        "           GSM136510.CEL.gz        ...         GSM48655.CEL.gz  \\\n",
        "1007_s_at          6.502051        ...                6.237984   \n",
        "1053_at            7.302209        ...                7.169030   \n",
        "117_at             5.395087        ...                5.095864   \n",
        "121_at             7.993732        ...                7.220390   \n",
        "1255_g_at          3.440186        ...                2.926689   \n",
        "\n",
        "           GSM48656.CEL.gz  GSM48657.CEL.gz  GSM48658.CEL.gz  GSM48660.CEL.gz  \\\n",
        "1007_s_at         6.704893         6.720599         6.501510         6.558100   \n",
        "1053_at           6.658916         7.280992         7.066686         7.386702   \n",
        "117_at            5.308445         5.347524         5.600514         5.232676   \n",
        "121_at            7.712825         7.671745         7.437535         7.714650   \n",
        "1255_g_at         3.103790         3.016090         3.009983         3.151203   \n",
        "\n",
        "           GSM48661.CEL.gz  GSM48662.CEL.gz  GSM48663.CEL.gz  GSM48664.CEL.gz  \\\n",
        "1007_s_at         6.618286         6.869995         5.981000         6.403285   \n",
        "1053_at           6.407958         7.089180         7.120923         7.018998   \n",
        "117_at            5.630720         4.944748         5.275577         5.770358   \n",
        "121_at            7.416252         7.746448         8.001434         7.626723   \n",
        "1255_g_at         3.199709         3.159496         3.149710         3.242780   \n",
        "\n",
        "           GSM48665.CEL.gz  \n",
        "1007_s_at         6.248702  \n",
        "1053_at           7.155419  \n",
        "117_at            5.616842  \n",
        "121_at            7.452299  \n",
        "1255_g_at         3.433125  \n",
        "\n",
        "[5 rows x 208 columns]\n",
        "                 date          filename sex\n",
        "ethnicity                                  \n",
        "ASN        2005-05-13  GSM136441.CEL.gz   F\n",
        "ASN        2005-06-10  GSM136442.CEL.gz   F\n",
        "ASN        2005-06-10  GSM136443.CEL.gz   M\n",
        "ASN        2005-06-10  GSM136444.CEL.gz   M\n",
        "ASN        2005-06-10  GSM136445.CEL.gz   F\n"
       ]
      }
     ],
     "prompt_number": 166
    },
    {
     "cell_type": "markdown",
     "metadata": {},
     "source": [
      "Show the head of the two tables: `exprs` and `sampleinfo`. "
     ]
    },
    {
     "cell_type": "markdown",
     "metadata": {},
     "source": [
      "#### Problem 1(b)\n",
      "\n",
      "Extract the year and month as integers from the `sampleinfo` table. \n",
      "\n",
      "**Hint**: To convert a Series or a column of a pandas DataFrame that contains a date-like object, you can use the `to_datetime` function [[read here](http://pandas.pydata.org/pandas-docs/stable/timeseries.html)].  This will create a `DatetimeIndex` which can be used to extract the month and year for each row in the DataFrame. "
     ]
    },
    {
     "cell_type": "code",
     "collapsed": false,
     "input": [
      "dates = pd.to_datetime(sampleinfo['date'])\n",
      "for el in dates:\n",
      "    print \"Year: %d, Month: %d\" % (int(el.year), int(el.month))"
     ],
     "language": "python",
     "metadata": {},
     "outputs": [
      {
       "output_type": "stream",
       "stream": "stdout",
       "text": [
        "Year: 2005, Month: 5\n",
        "Year: 2005, Month: 6\n",
        "Year: 2005, Month: 6\n",
        "Year: 2005, Month: 6\n",
        "Year: 2005, Month: 6\n",
        "Year: 2005, Month: 6\n",
        "Year: 2005, Month: 6\n",
        "Year: 2005, Month: 6\n",
        "Year: 2005, Month: 6\n",
        "Year: 2005, Month: 6\n",
        "Year: 2005, Month: 6\n",
        "Year: 2005, Month: 6\n",
        "Year: 2005, Month: 6\n",
        "Year: 2005, Month: 6\n",
        "Year: 2005, Month: 6\n",
        "Year: 2005, Month: 6\n",
        "Year: 2005, Month: 6\n",
        "Year: 2005, Month: 6\n",
        "Year: 2005, Month: 6\n",
        "Year: 2005, Month: 6\n",
        "Year: 2005, Month: 6\n",
        "Year: 2005, Month: 6\n",
        "Year: 2005, Month: 6\n",
        "Year: 2005, Month: 7\n",
        "Year: 2005, Month: 7\n",
        "Year: 2005, Month: 7\n",
        "Year: 2005, Month: 7\n",
        "Year: 2005, Month: 7\n",
        "Year: 2005, Month: 7\n",
        "Year: 2006, Month: 6\n",
        "Year: 2006, Month: 6\n",
        "Year: 2005, Month: 8\n",
        "Year: 2005, Month: 8\n",
        "Year: 2005, Month: 8\n",
        "Year: 2005, Month: 8\n",
        "Year: 2005, Month: 8\n",
        "Year: 2005, Month: 8\n",
        "Year: 2005, Month: 8\n",
        "Year: 2005, Month: 8\n",
        "Year: 2005, Month: 8\n",
        "Year: 2005, Month: 8\n",
        "Year: 2005, Month: 8\n",
        "Year: 2005, Month: 8\n",
        "Year: 2005, Month: 9\n",
        "Year: 2005, Month: 9\n",
        "Year: 2005, Month: 9\n",
        "Year: 2005, Month: 9\n",
        "Year: 2005, Month: 9\n",
        "Year: 2005, Month: 9\n",
        "Year: 2005, Month: 10\n",
        "Year: 2005, Month: 10\n",
        "Year: 2005, Month: 10\n",
        "Year: 2005, Month: 10\n",
        "Year: 2005, Month: 10\n",
        "Year: 2005, Month: 10\n",
        "Year: 2005, Month: 10\n",
        "Year: 2005, Month: 10\n",
        "Year: 2005, Month: 10\n",
        "Year: 2005, Month: 10\n",
        "Year: 2005, Month: 10\n",
        "Year: 2005, Month: 10\n",
        "Year: 2005, Month: 10\n",
        "Year: 2005, Month: 10\n",
        "Year: 2005, Month: 10\n",
        "Year: 2005, Month: 10\n",
        "Year: 2005, Month: 11\n",
        "Year: 2005, Month: 11\n",
        "Year: 2005, Month: 11\n",
        "Year: 2005, Month: 11\n",
        "Year: 2005, Month: 11\n",
        "Year: 2005, Month: 11\n",
        "Year: 2005, Month: 11\n",
        "Year: 2005, Month: 11\n",
        "Year: 2005, Month: 11\n",
        "Year: 2005, Month: 11\n",
        "Year: 2005, Month: 11\n",
        "Year: 2005, Month: 11\n",
        "Year: 2005, Month: 11\n",
        "Year: 2005, Month: 12\n",
        "Year: 2005, Month: 12\n",
        "Year: 2005, Month: 12\n",
        "Year: 2006, Month: 4\n",
        "Year: 2006, Month: 4\n",
        "Year: 2006, Month: 4\n",
        "Year: 2006, Month: 4\n",
        "Year: 2006, Month: 4\n",
        "Year: 2006, Month: 4\n",
        "Year: 2006, Month: 4\n",
        "Year: 2006, Month: 4\n",
        "Year: 2006, Month: 4\n",
        "Year: 2006, Month: 4\n",
        "Year: 2006, Month: 4\n",
        "Year: 2006, Month: 4\n",
        "Year: 2006, Month: 4\n",
        "Year: 2006, Month: 4\n",
        "Year: 2006, Month: 4\n",
        "Year: 2006, Month: 4\n",
        "Year: 2006, Month: 4\n",
        "Year: 2006, Month: 4\n",
        "Year: 2006, Month: 4\n",
        "Year: 2006, Month: 4\n",
        "Year: 2006, Month: 4\n",
        "Year: 2006, Month: 4\n",
        "Year: 2006, Month: 4\n",
        "Year: 2006, Month: 4\n",
        "Year: 2005, Month: 2\n",
        "Year: 2005, Month: 2\n",
        "Year: 2005, Month: 6\n",
        "Year: 2005, Month: 5\n",
        "Year: 2003, Month: 2\n",
        "Year: 2003, Month: 2\n",
        "Year: 2002, Month: 12\n",
        "Year: 2003, Month: 1\n",
        "Year: 2003, Month: 1\n",
        "Year: 2003, Month: 1\n",
        "Year: 2003, Month: 1\n",
        "Year: 2003, Month: 2\n",
        "Year: 2002, Month: 12\n",
        "Year: 2002, Month: 12\n",
        "Year: 2002, Month: 12\n",
        "Year: 2003, Month: 1\n",
        "Year: 2002, Month: 12\n",
        "Year: 2002, Month: 12\n",
        "Year: 2002, Month: 11\n",
        "Year: 2002, Month: 12\n",
        "Year: 2003, Month: 1\n",
        "Year: 2003, Month: 2\n",
        "Year: 2003, Month: 2\n",
        "Year: 2002, Month: 12\n",
        "Year: 2002, Month: 11\n",
        "Year: 2002, Month: 11\n",
        "Year: 2002, Month: 11\n",
        "Year: 2002, Month: 11\n",
        "Year: 2002, Month: 11\n",
        "Year: 2002, Month: 11\n",
        "Year: 2002, Month: 12\n",
        "Year: 2002, Month: 12\n",
        "Year: 2002, Month: 11\n",
        "Year: 2002, Month: 11\n",
        "Year: 2002, Month: 11\n",
        "Year: 2002, Month: 12\n",
        "Year: 2003, Month: 1\n",
        "Year: 2003, Month: 1\n",
        "Year: 2003, Month: 1\n",
        "Year: 2003, Month: 1\n",
        "Year: 2003, Month: 3\n",
        "Year: 2003, Month: 3\n",
        "Year: 2003, Month: 3\n",
        "Year: 2003, Month: 3\n",
        "Year: 2003, Month: 4\n",
        "Year: 2003, Month: 4\n",
        "Year: 2003, Month: 1\n",
        "Year: 2003, Month: 1\n",
        "Year: 2003, Month: 1\n",
        "Year: 2003, Month: 1\n",
        "Year: 2003, Month: 2\n",
        "Year: 2003, Month: 2\n",
        "Year: 2003, Month: 1\n",
        "Year: 2003, Month: 2\n",
        "Year: 2003, Month: 3\n",
        "Year: 2003, Month: 3\n",
        "Year: 2002, Month: 10\n",
        "Year: 2002, Month: 11\n",
        "Year: 2002, Month: 10\n",
        "Year: 2002, Month: 11\n",
        "Year: 2002, Month: 12\n",
        "Year: 2003, Month: 1\n",
        "Year: 2003, Month: 1\n",
        "Year: 2003, Month: 1\n",
        "Year: 2003, Month: 1\n",
        "Year: 2003, Month: 1\n",
        "Year: 2003, Month: 1\n",
        "Year: 2003, Month: 3\n",
        "Year: 2003, Month: 1\n",
        "Year: 2003, Month: 1\n",
        "Year: 2003, Month: 1\n",
        "Year: 2003, Month: 1\n",
        "Year: 2003, Month: 1\n",
        "Year: 2002, Month: 11\n",
        "Year: 2002, Month: 12\n",
        "Year: 2003, Month: 1\n",
        "Year: 2002, Month: 12\n",
        "Year: 2002, Month: 12\n",
        "Year: 2003, Month: 2\n",
        "Year: 2003, Month: 2\n",
        "Year: 2003, Month: 2\n",
        "Year: 2003, Month: 2\n",
        "Year: 2003, Month: 2\n",
        "Year: 2003, Month: 2\n",
        "Year: 2003, Month: 2\n",
        "Year: 2003, Month: 2\n",
        "Year: 2003, Month: 2\n",
        "Year: 2003, Month: 2\n",
        "Year: 2004, Month: 4\n",
        "Year: 2004, Month: 4\n",
        "Year: 2004, Month: 4\n",
        "Year: 2004, Month: 4\n",
        "Year: 2004, Month: 12\n",
        "Year: 2004, Month: 11\n",
        "Year: 2004, Month: 11\n",
        "Year: 2004, Month: 11\n",
        "Year: 2004, Month: 11\n",
        "Year: 2004, Month: 11\n",
        "Year: 2004, Month: 12\n",
        "Year: 2004, Month: 11\n",
        "Year: 2004, Month: 11\n",
        "Year: 2002, Month: 11\n",
        "Year: 2002, Month: 11\n"
       ]
      }
     ],
     "prompt_number": 167
    },
    {
     "cell_type": "markdown",
     "metadata": {},
     "source": [
      "#### Problem 1(c)\n",
      "\n",
      "Convert the dates in the `date` column from the `sampleinfo` table into days since October 31, 2002. Add a column to the `sampleinfo` DataFrame titled `elapsedInDays` containing the days since October 31, 2002.  Show the head of the `sampleinfo` DataFrame which includes the new column.  \n",
      "\n",
      "**Hint**: Use the `datetime` module to create a new `datetime` object for the specific date October 31, 2002. Then, subtract the October 12, 2002 date from each date from the `date` column in the `sampleinfo` DataFrame. "
     ]
    },
    {
     "cell_type": "code",
     "collapsed": false,
     "input": [
      "oct31 = dt.datetime.strptime(\"31/10/2002\", \"%d/%m/%Y\")\n",
      "\n",
      "def sinceOctober2002(date):\n",
      "\tdelt = date - oct31\n",
      "\treturn delt.days\n",
      "\n",
      "sampleinfo[\"date\"] = dates\n",
      "sampleinfo[\"elapsedInDays\"] = sampleinfo[\"date\"].map(sinceOctober2002)\n",
      "sampleinfo.head()"
     ],
     "language": "python",
     "metadata": {},
     "outputs": [
      {
       "html": [
        "<div style=\"max-height:1000px;max-width:1500px;overflow:auto;\">\n",
        "<table border=\"1\" class=\"dataframe\">\n",
        "  <thead>\n",
        "    <tr style=\"text-align: right;\">\n",
        "      <th></th>\n",
        "      <th>date</th>\n",
        "      <th>filename</th>\n",
        "      <th>sex</th>\n",
        "      <th>elapsedInDays</th>\n",
        "    </tr>\n",
        "    <tr>\n",
        "      <th>ethnicity</th>\n",
        "      <th></th>\n",
        "      <th></th>\n",
        "      <th></th>\n",
        "      <th></th>\n",
        "    </tr>\n",
        "  </thead>\n",
        "  <tbody>\n",
        "    <tr>\n",
        "      <th>ASN</th>\n",
        "      <td>2005-05-13</td>\n",
        "      <td> GSM136441.CEL.gz</td>\n",
        "      <td> F</td>\n",
        "      <td> 925</td>\n",
        "    </tr>\n",
        "    <tr>\n",
        "      <th>ASN</th>\n",
        "      <td>2005-06-10</td>\n",
        "      <td> GSM136442.CEL.gz</td>\n",
        "      <td> F</td>\n",
        "      <td> 953</td>\n",
        "    </tr>\n",
        "    <tr>\n",
        "      <th>ASN</th>\n",
        "      <td>2005-06-10</td>\n",
        "      <td> GSM136443.CEL.gz</td>\n",
        "      <td> M</td>\n",
        "      <td> 953</td>\n",
        "    </tr>\n",
        "    <tr>\n",
        "      <th>ASN</th>\n",
        "      <td>2005-06-10</td>\n",
        "      <td> GSM136444.CEL.gz</td>\n",
        "      <td> M</td>\n",
        "      <td> 953</td>\n",
        "    </tr>\n",
        "    <tr>\n",
        "      <th>ASN</th>\n",
        "      <td>2005-06-10</td>\n",
        "      <td> GSM136445.CEL.gz</td>\n",
        "      <td> F</td>\n",
        "      <td> 953</td>\n",
        "    </tr>\n",
        "  </tbody>\n",
        "</table>\n",
        "</div>"
       ],
       "metadata": {},
       "output_type": "pyout",
       "prompt_number": 168,
       "text": [
        "                date          filename sex  elapsedInDays\n",
        "ethnicity                                                \n",
        "ASN       2005-05-13  GSM136441.CEL.gz   F            925\n",
        "ASN       2005-06-10  GSM136442.CEL.gz   F            953\n",
        "ASN       2005-06-10  GSM136443.CEL.gz   M            953\n",
        "ASN       2005-06-10  GSM136444.CEL.gz   M            953\n",
        "ASN       2005-06-10  GSM136445.CEL.gz   F            953"
       ]
      }
     ],
     "prompt_number": 168
    },
    {
     "cell_type": "markdown",
     "metadata": {},
     "source": [
      "#### Problem 1(d)\n",
      "\n",
      "Use exploratory analysis and the singular value decomposition (SVD) of the gene expression data matrix to determine if the date the samples were processed has large effect on the variability seen in the data or if it is just ethnicity (which is confounded with date). \n",
      "\n",
      "First subset the the `sampleinfo` DataFrame to include only the CEU ethnicity.  Call this new subsetted DataFrame `sampleinfoCEU`.  Show the head of `sampleinfoCEU` DataFrame. "
     ]
    },
    {
     "cell_type": "code",
     "collapsed": false,
     "input": [
      "sampleinfo = sampleinfo.reset_index()\n",
      "sampleinfoCEU = sampleinfo[sampleinfo[\"ethnicity\"].str.contains(\"CEU\")]\n",
      "sampleinfoCEU.head()"
     ],
     "language": "python",
     "metadata": {},
     "outputs": [
      {
       "html": [
        "<div style=\"max-height:1000px;max-width:1500px;overflow:auto;\">\n",
        "<table border=\"1\" class=\"dataframe\">\n",
        "  <thead>\n",
        "    <tr style=\"text-align: right;\">\n",
        "      <th></th>\n",
        "      <th>ethnicity</th>\n",
        "      <th>date</th>\n",
        "      <th>filename</th>\n",
        "      <th>sex</th>\n",
        "      <th>elapsedInDays</th>\n",
        "    </tr>\n",
        "  </thead>\n",
        "  <tbody>\n",
        "    <tr>\n",
        "      <th>105</th>\n",
        "      <td> CEU</td>\n",
        "      <td>2005-02-16</td>\n",
        "      <td> GSM136725.CEL.gz</td>\n",
        "      <td> F</td>\n",
        "      <td> 839</td>\n",
        "    </tr>\n",
        "    <tr>\n",
        "      <th>106</th>\n",
        "      <td> CEU</td>\n",
        "      <td>2005-02-16</td>\n",
        "      <td> GSM136726.CEL.gz</td>\n",
        "      <td> M</td>\n",
        "      <td> 839</td>\n",
        "    </tr>\n",
        "    <tr>\n",
        "      <th>107</th>\n",
        "      <td> CEU</td>\n",
        "      <td>2005-06-10</td>\n",
        "      <td> GSM136727.CEL.gz</td>\n",
        "      <td> M</td>\n",
        "      <td> 953</td>\n",
        "    </tr>\n",
        "    <tr>\n",
        "      <th>109</th>\n",
        "      <td> CEU</td>\n",
        "      <td>2003-02-04</td>\n",
        "      <td>  GSM25349.CEL.gz</td>\n",
        "      <td> M</td>\n",
        "      <td>  96</td>\n",
        "    </tr>\n",
        "    <tr>\n",
        "      <th>110</th>\n",
        "      <td> CEU</td>\n",
        "      <td>2003-02-04</td>\n",
        "      <td>  GSM25350.CEL.gz</td>\n",
        "      <td> M</td>\n",
        "      <td>  96</td>\n",
        "    </tr>\n",
        "  </tbody>\n",
        "</table>\n",
        "</div>"
       ],
       "metadata": {},
       "output_type": "pyout",
       "prompt_number": 169,
       "text": [
        "    ethnicity       date          filename sex  elapsedInDays\n",
        "105       CEU 2005-02-16  GSM136725.CEL.gz   F            839\n",
        "106       CEU 2005-02-16  GSM136726.CEL.gz   M            839\n",
        "107       CEU 2005-06-10  GSM136727.CEL.gz   M            953\n",
        "109       CEU 2003-02-04   GSM25349.CEL.gz   M             96\n",
        "110       CEU 2003-02-04   GSM25350.CEL.gz   M             96"
       ]
      }
     ],
     "prompt_number": 169
    },
    {
     "cell_type": "markdown",
     "metadata": {},
     "source": [
      "Next, subset the `exprs` DataFrame to only include the samples with the CEU ethnicity. Name this new subsetted DataFrame `exprsCEU`. Show the head of the `exprsCEU` DataFrame. "
     ]
    },
    {
     "cell_type": "code",
     "collapsed": false,
     "input": [
      "exprsCEU = pd.DataFrame()\n",
      "for col in sampleinfoCEU[\"filename\"]:\n",
      "\texprsCEU[col] = exprs[col]\n",
      "    \n",
      "exprsCEU.head()"
     ],
     "language": "python",
     "metadata": {},
     "outputs": [
      {
       "html": [
        "<div style=\"max-height:1000px;max-width:1500px;overflow:auto;\">\n",
        "<table border=\"1\" class=\"dataframe\">\n",
        "  <thead>\n",
        "    <tr style=\"text-align: right;\">\n",
        "      <th></th>\n",
        "      <th>GSM136725.CEL.gz</th>\n",
        "      <th>GSM136726.CEL.gz</th>\n",
        "      <th>GSM136727.CEL.gz</th>\n",
        "      <th>GSM25349.CEL.gz</th>\n",
        "      <th>GSM25350.CEL.gz</th>\n",
        "      <th>GSM25356.CEL.gz</th>\n",
        "      <th>GSM25357.CEL.gz</th>\n",
        "      <th>GSM25358.CEL.gz</th>\n",
        "      <th>GSM25359.CEL.gz</th>\n",
        "      <th>GSM25360.CEL.gz</th>\n",
        "      <th>...</th>\n",
        "      <th>GSM48655.CEL.gz</th>\n",
        "      <th>GSM48656.CEL.gz</th>\n",
        "      <th>GSM48657.CEL.gz</th>\n",
        "      <th>GSM48658.CEL.gz</th>\n",
        "      <th>GSM48660.CEL.gz</th>\n",
        "      <th>GSM48661.CEL.gz</th>\n",
        "      <th>GSM48662.CEL.gz</th>\n",
        "      <th>GSM48663.CEL.gz</th>\n",
        "      <th>GSM48664.CEL.gz</th>\n",
        "      <th>GSM48665.CEL.gz</th>\n",
        "    </tr>\n",
        "  </thead>\n",
        "  <tbody>\n",
        "    <tr>\n",
        "      <th>1007_s_at</th>\n",
        "      <td> 6.488579</td>\n",
        "      <td> 6.809481</td>\n",
        "      <td> 6.133068</td>\n",
        "      <td> 6.627014</td>\n",
        "      <td> 6.249807</td>\n",
        "      <td> 5.934128</td>\n",
        "      <td> 6.145268</td>\n",
        "      <td> 6.091270</td>\n",
        "      <td> 6.041186</td>\n",
        "      <td> 6.050375</td>\n",
        "      <td>...</td>\n",
        "      <td> 6.237984</td>\n",
        "      <td> 6.704893</td>\n",
        "      <td> 6.720599</td>\n",
        "      <td> 6.501510</td>\n",
        "      <td> 6.558100</td>\n",
        "      <td> 6.618286</td>\n",
        "      <td> 6.869995</td>\n",
        "      <td> 5.981000</td>\n",
        "      <td> 6.403285</td>\n",
        "      <td> 6.248702</td>\n",
        "    </tr>\n",
        "    <tr>\n",
        "      <th>1053_at</th>\n",
        "      <td> 7.517410</td>\n",
        "      <td> 7.200596</td>\n",
        "      <td> 7.280781</td>\n",
        "      <td> 6.939184</td>\n",
        "      <td> 6.818038</td>\n",
        "      <td> 7.047962</td>\n",
        "      <td> 7.422477</td>\n",
        "      <td> 7.272361</td>\n",
        "      <td> 7.128216</td>\n",
        "      <td> 6.750719</td>\n",
        "      <td>...</td>\n",
        "      <td> 7.169030</td>\n",
        "      <td> 6.658916</td>\n",
        "      <td> 7.280992</td>\n",
        "      <td> 7.066686</td>\n",
        "      <td> 7.386702</td>\n",
        "      <td> 6.407958</td>\n",
        "      <td> 7.089180</td>\n",
        "      <td> 7.120923</td>\n",
        "      <td> 7.018998</td>\n",
        "      <td> 7.155419</td>\n",
        "    </tr>\n",
        "    <tr>\n",
        "      <th>117_at</th>\n",
        "      <td> 5.247190</td>\n",
        "      <td> 5.237239</td>\n",
        "      <td> 5.401876</td>\n",
        "      <td> 5.113570</td>\n",
        "      <td> 5.074096</td>\n",
        "      <td> 5.371201</td>\n",
        "      <td> 5.266550</td>\n",
        "      <td> 5.342047</td>\n",
        "      <td> 5.063876</td>\n",
        "      <td> 5.315898</td>\n",
        "      <td>...</td>\n",
        "      <td> 5.095864</td>\n",
        "      <td> 5.308445</td>\n",
        "      <td> 5.347524</td>\n",
        "      <td> 5.600514</td>\n",
        "      <td> 5.232676</td>\n",
        "      <td> 5.630720</td>\n",
        "      <td> 4.944748</td>\n",
        "      <td> 5.275577</td>\n",
        "      <td> 5.770358</td>\n",
        "      <td> 5.616842</td>\n",
        "    </tr>\n",
        "    <tr>\n",
        "      <th>121_at</th>\n",
        "      <td> 7.331864</td>\n",
        "      <td> 7.357102</td>\n",
        "      <td> 7.607461</td>\n",
        "      <td> 7.833862</td>\n",
        "      <td> 7.780682</td>\n",
        "      <td> 7.458197</td>\n",
        "      <td> 7.655948</td>\n",
        "      <td> 7.546555</td>\n",
        "      <td> 7.072670</td>\n",
        "      <td> 7.092984</td>\n",
        "      <td>...</td>\n",
        "      <td> 7.220390</td>\n",
        "      <td> 7.712825</td>\n",
        "      <td> 7.671745</td>\n",
        "      <td> 7.437535</td>\n",
        "      <td> 7.714650</td>\n",
        "      <td> 7.416252</td>\n",
        "      <td> 7.746448</td>\n",
        "      <td> 8.001434</td>\n",
        "      <td> 7.626723</td>\n",
        "      <td> 7.452299</td>\n",
        "    </tr>\n",
        "    <tr>\n",
        "      <th>1255_g_at</th>\n",
        "      <td> 3.175846</td>\n",
        "      <td> 3.105092</td>\n",
        "      <td> 3.225123</td>\n",
        "      <td> 3.152269</td>\n",
        "      <td> 3.111747</td>\n",
        "      <td> 3.018932</td>\n",
        "      <td> 3.154545</td>\n",
        "      <td> 3.107954</td>\n",
        "      <td> 3.224284</td>\n",
        "      <td> 3.114241</td>\n",
        "      <td>...</td>\n",
        "      <td> 2.926689</td>\n",
        "      <td> 3.103790</td>\n",
        "      <td> 3.016090</td>\n",
        "      <td> 3.009983</td>\n",
        "      <td> 3.151203</td>\n",
        "      <td> 3.199709</td>\n",
        "      <td> 3.159496</td>\n",
        "      <td> 3.149710</td>\n",
        "      <td> 3.242780</td>\n",
        "      <td> 3.433125</td>\n",
        "    </tr>\n",
        "  </tbody>\n",
        "</table>\n",
        "<p>5 rows \u00d7 102 columns</p>\n",
        "</div>"
       ],
       "metadata": {},
       "output_type": "pyout",
       "prompt_number": 170,
       "text": [
        "           GSM136725.CEL.gz  GSM136726.CEL.gz  GSM136727.CEL.gz  \\\n",
        "1007_s_at          6.488579          6.809481          6.133068   \n",
        "1053_at            7.517410          7.200596          7.280781   \n",
        "117_at             5.247190          5.237239          5.401876   \n",
        "121_at             7.331864          7.357102          7.607461   \n",
        "1255_g_at          3.175846          3.105092          3.225123   \n",
        "\n",
        "           GSM25349.CEL.gz  GSM25350.CEL.gz  GSM25356.CEL.gz  GSM25357.CEL.gz  \\\n",
        "1007_s_at         6.627014         6.249807         5.934128         6.145268   \n",
        "1053_at           6.939184         6.818038         7.047962         7.422477   \n",
        "117_at            5.113570         5.074096         5.371201         5.266550   \n",
        "121_at            7.833862         7.780682         7.458197         7.655948   \n",
        "1255_g_at         3.152269         3.111747         3.018932         3.154545   \n",
        "\n",
        "           GSM25358.CEL.gz  GSM25359.CEL.gz  GSM25360.CEL.gz       ...         \\\n",
        "1007_s_at         6.091270         6.041186         6.050375       ...          \n",
        "1053_at           7.272361         7.128216         6.750719       ...          \n",
        "117_at            5.342047         5.063876         5.315898       ...          \n",
        "121_at            7.546555         7.072670         7.092984       ...          \n",
        "1255_g_at         3.107954         3.224284         3.114241       ...          \n",
        "\n",
        "           GSM48655.CEL.gz  GSM48656.CEL.gz  GSM48657.CEL.gz  GSM48658.CEL.gz  \\\n",
        "1007_s_at         6.237984         6.704893         6.720599         6.501510   \n",
        "1053_at           7.169030         6.658916         7.280992         7.066686   \n",
        "117_at            5.095864         5.308445         5.347524         5.600514   \n",
        "121_at            7.220390         7.712825         7.671745         7.437535   \n",
        "1255_g_at         2.926689         3.103790         3.016090         3.009983   \n",
        "\n",
        "           GSM48660.CEL.gz  GSM48661.CEL.gz  GSM48662.CEL.gz  GSM48663.CEL.gz  \\\n",
        "1007_s_at         6.558100         6.618286         6.869995         5.981000   \n",
        "1053_at           7.386702         6.407958         7.089180         7.120923   \n",
        "117_at            5.232676         5.630720         4.944748         5.275577   \n",
        "121_at            7.714650         7.416252         7.746448         8.001434   \n",
        "1255_g_at         3.151203         3.199709         3.159496         3.149710   \n",
        "\n",
        "           GSM48664.CEL.gz  GSM48665.CEL.gz  \n",
        "1007_s_at         6.403285         6.248702  \n",
        "1053_at           7.018998         7.155419  \n",
        "117_at            5.770358         5.616842  \n",
        "121_at            7.626723         7.452299  \n",
        "1255_g_at         3.242780         3.433125  \n",
        "\n",
        "[5 rows x 102 columns]"
       ]
      }
     ],
     "prompt_number": 170
    },
    {
     "cell_type": "markdown",
     "metadata": {},
     "source": [
      "Check to make sure the order of the columns in the `exprsCEU` DataFrame matches the rows in the `sampleinfoCEU` DataFrame.  "
     ]
    },
    {
     "cell_type": "code",
     "collapsed": false,
     "input": [
      "(exprsCEU.columns == sampleinfoCEU[\"filename\"]).all()"
     ],
     "language": "python",
     "metadata": {},
     "outputs": [
      {
       "metadata": {},
       "output_type": "pyout",
       "prompt_number": 171,
       "text": [
        "True"
       ]
      }
     ],
     "prompt_number": 171
    },
    {
     "cell_type": "markdown",
     "metadata": {},
     "source": [
      "Compute the average gene expression intensity in the `exprsCEU` DataFrame across all the samples. For each sample in the `exprsCEU` DataFrame, subtract the average gene expression intensity from each of the samples. Show the head of the mean normalized gene expression data.  "
     ]
    },
    {
     "cell_type": "code",
     "collapsed": false,
     "input": [
      "resid = lambda x: (x-x.mean())\n",
      "exprsCEU = exprsCEU.apply(resid)\n",
      "exprsCEU.head()"
     ],
     "language": "python",
     "metadata": {},
     "outputs": [
      {
       "html": [
        "<div style=\"max-height:1000px;max-width:1500px;overflow:auto;\">\n",
        "<table border=\"1\" class=\"dataframe\">\n",
        "  <thead>\n",
        "    <tr style=\"text-align: right;\">\n",
        "      <th></th>\n",
        "      <th>GSM136725.CEL.gz</th>\n",
        "      <th>GSM136726.CEL.gz</th>\n",
        "      <th>GSM136727.CEL.gz</th>\n",
        "      <th>GSM25349.CEL.gz</th>\n",
        "      <th>GSM25350.CEL.gz</th>\n",
        "      <th>GSM25356.CEL.gz</th>\n",
        "      <th>GSM25357.CEL.gz</th>\n",
        "      <th>GSM25358.CEL.gz</th>\n",
        "      <th>GSM25359.CEL.gz</th>\n",
        "      <th>GSM25360.CEL.gz</th>\n",
        "      <th>...</th>\n",
        "      <th>GSM48655.CEL.gz</th>\n",
        "      <th>GSM48656.CEL.gz</th>\n",
        "      <th>GSM48657.CEL.gz</th>\n",
        "      <th>GSM48658.CEL.gz</th>\n",
        "      <th>GSM48660.CEL.gz</th>\n",
        "      <th>GSM48661.CEL.gz</th>\n",
        "      <th>GSM48662.CEL.gz</th>\n",
        "      <th>GSM48663.CEL.gz</th>\n",
        "      <th>GSM48664.CEL.gz</th>\n",
        "      <th>GSM48665.CEL.gz</th>\n",
        "    </tr>\n",
        "  </thead>\n",
        "  <tbody>\n",
        "    <tr>\n",
        "      <th>1007_s_at</th>\n",
        "      <td> 0.744457</td>\n",
        "      <td> 1.075995</td>\n",
        "      <td> 0.393314</td>\n",
        "      <td> 0.889683</td>\n",
        "      <td> 0.504320</td>\n",
        "      <td> 0.239911</td>\n",
        "      <td> 0.414682</td>\n",
        "      <td> 0.375837</td>\n",
        "      <td> 0.318789</td>\n",
        "      <td> 0.330471</td>\n",
        "      <td>...</td>\n",
        "      <td> 0.515615</td>\n",
        "      <td> 0.972366</td>\n",
        "      <td> 1.004875</td>\n",
        "      <td> 0.781012</td>\n",
        "      <td> 0.849726</td>\n",
        "      <td> 0.880097</td>\n",
        "      <td> 1.157170</td>\n",
        "      <td> 0.289480</td>\n",
        "      <td> 0.753281</td>\n",
        "      <td> 0.567560</td>\n",
        "    </tr>\n",
        "    <tr>\n",
        "      <th>1053_at</th>\n",
        "      <td> 1.773287</td>\n",
        "      <td> 1.467110</td>\n",
        "      <td> 1.541026</td>\n",
        "      <td> 1.201854</td>\n",
        "      <td> 1.072552</td>\n",
        "      <td> 1.353745</td>\n",
        "      <td> 1.691891</td>\n",
        "      <td> 1.556928</td>\n",
        "      <td> 1.405819</td>\n",
        "      <td> 1.030815</td>\n",
        "      <td>...</td>\n",
        "      <td> 1.446661</td>\n",
        "      <td> 0.926389</td>\n",
        "      <td> 1.565269</td>\n",
        "      <td> 1.346188</td>\n",
        "      <td> 1.678328</td>\n",
        "      <td> 0.669769</td>\n",
        "      <td> 1.376355</td>\n",
        "      <td> 1.429403</td>\n",
        "      <td> 1.368994</td>\n",
        "      <td> 1.474277</td>\n",
        "    </tr>\n",
        "    <tr>\n",
        "      <th>117_at</th>\n",
        "      <td>-0.496932</td>\n",
        "      <td>-0.496247</td>\n",
        "      <td>-0.337878</td>\n",
        "      <td>-0.623760</td>\n",
        "      <td>-0.671391</td>\n",
        "      <td>-0.323016</td>\n",
        "      <td>-0.464036</td>\n",
        "      <td>-0.373386</td>\n",
        "      <td>-0.658521</td>\n",
        "      <td>-0.404006</td>\n",
        "      <td>...</td>\n",
        "      <td>-0.626505</td>\n",
        "      <td>-0.424082</td>\n",
        "      <td>-0.368200</td>\n",
        "      <td>-0.119984</td>\n",
        "      <td>-0.475697</td>\n",
        "      <td>-0.107469</td>\n",
        "      <td>-0.768077</td>\n",
        "      <td>-0.415942</td>\n",
        "      <td> 0.120354</td>\n",
        "      <td>-0.064300</td>\n",
        "    </tr>\n",
        "    <tr>\n",
        "      <th>121_at</th>\n",
        "      <td> 1.587741</td>\n",
        "      <td> 1.623616</td>\n",
        "      <td> 1.867707</td>\n",
        "      <td> 2.096531</td>\n",
        "      <td> 2.035195</td>\n",
        "      <td> 1.763980</td>\n",
        "      <td> 1.925362</td>\n",
        "      <td> 1.831122</td>\n",
        "      <td> 1.350273</td>\n",
        "      <td> 1.373079</td>\n",
        "      <td>...</td>\n",
        "      <td> 1.498021</td>\n",
        "      <td> 1.980298</td>\n",
        "      <td> 1.956021</td>\n",
        "      <td> 1.717037</td>\n",
        "      <td> 2.006276</td>\n",
        "      <td> 1.678063</td>\n",
        "      <td> 2.033623</td>\n",
        "      <td> 2.309914</td>\n",
        "      <td> 1.976719</td>\n",
        "      <td> 1.771157</td>\n",
        "    </tr>\n",
        "    <tr>\n",
        "      <th>1255_g_at</th>\n",
        "      <td>-2.568276</td>\n",
        "      <td>-2.628394</td>\n",
        "      <td>-2.514631</td>\n",
        "      <td>-2.585061</td>\n",
        "      <td>-2.633739</td>\n",
        "      <td>-2.675285</td>\n",
        "      <td>-2.576041</td>\n",
        "      <td>-2.607479</td>\n",
        "      <td>-2.498112</td>\n",
        "      <td>-2.605663</td>\n",
        "      <td>...</td>\n",
        "      <td>-2.795680</td>\n",
        "      <td>-2.628737</td>\n",
        "      <td>-2.699634</td>\n",
        "      <td>-2.710515</td>\n",
        "      <td>-2.557171</td>\n",
        "      <td>-2.538480</td>\n",
        "      <td>-2.553329</td>\n",
        "      <td>-2.541810</td>\n",
        "      <td>-2.407224</td>\n",
        "      <td>-2.248017</td>\n",
        "    </tr>\n",
        "  </tbody>\n",
        "</table>\n",
        "<p>5 rows \u00d7 102 columns</p>\n",
        "</div>"
       ],
       "metadata": {},
       "output_type": "pyout",
       "prompt_number": 172,
       "text": [
        "           GSM136725.CEL.gz  GSM136726.CEL.gz  GSM136727.CEL.gz  \\\n",
        "1007_s_at          0.744457          1.075995          0.393314   \n",
        "1053_at            1.773287          1.467110          1.541026   \n",
        "117_at            -0.496932         -0.496247         -0.337878   \n",
        "121_at             1.587741          1.623616          1.867707   \n",
        "1255_g_at         -2.568276         -2.628394         -2.514631   \n",
        "\n",
        "           GSM25349.CEL.gz  GSM25350.CEL.gz  GSM25356.CEL.gz  GSM25357.CEL.gz  \\\n",
        "1007_s_at         0.889683         0.504320         0.239911         0.414682   \n",
        "1053_at           1.201854         1.072552         1.353745         1.691891   \n",
        "117_at           -0.623760        -0.671391        -0.323016        -0.464036   \n",
        "121_at            2.096531         2.035195         1.763980         1.925362   \n",
        "1255_g_at        -2.585061        -2.633739        -2.675285        -2.576041   \n",
        "\n",
        "           GSM25358.CEL.gz  GSM25359.CEL.gz  GSM25360.CEL.gz       ...         \\\n",
        "1007_s_at         0.375837         0.318789         0.330471       ...          \n",
        "1053_at           1.556928         1.405819         1.030815       ...          \n",
        "117_at           -0.373386        -0.658521        -0.404006       ...          \n",
        "121_at            1.831122         1.350273         1.373079       ...          \n",
        "1255_g_at        -2.607479        -2.498112        -2.605663       ...          \n",
        "\n",
        "           GSM48655.CEL.gz  GSM48656.CEL.gz  GSM48657.CEL.gz  GSM48658.CEL.gz  \\\n",
        "1007_s_at         0.515615         0.972366         1.004875         0.781012   \n",
        "1053_at           1.446661         0.926389         1.565269         1.346188   \n",
        "117_at           -0.626505        -0.424082        -0.368200        -0.119984   \n",
        "121_at            1.498021         1.980298         1.956021         1.717037   \n",
        "1255_g_at        -2.795680        -2.628737        -2.699634        -2.710515   \n",
        "\n",
        "           GSM48660.CEL.gz  GSM48661.CEL.gz  GSM48662.CEL.gz  GSM48663.CEL.gz  \\\n",
        "1007_s_at         0.849726         0.880097         1.157170         0.289480   \n",
        "1053_at           1.678328         0.669769         1.376355         1.429403   \n",
        "117_at           -0.475697        -0.107469        -0.768077        -0.415942   \n",
        "121_at            2.006276         1.678063         2.033623         2.309914   \n",
        "1255_g_at        -2.557171        -2.538480        -2.553329        -2.541810   \n",
        "\n",
        "           GSM48664.CEL.gz  GSM48665.CEL.gz  \n",
        "1007_s_at         0.753281         0.567560  \n",
        "1053_at           1.368994         1.474277  \n",
        "117_at            0.120354        -0.064300  \n",
        "121_at            1.976719         1.771157  \n",
        "1255_g_at        -2.407224        -2.248017  \n",
        "\n",
        "[5 rows x 102 columns]"
       ]
      }
     ],
     "prompt_number": 172
    },
    {
     "cell_type": "markdown",
     "metadata": {},
     "source": [
      "Using this mean normalized gene expression data, compute the projection to the first Principal Component (PC1).  \n",
      "\n",
      "**Hint**: Use the `numpy.linalg.svd()` function in the `numpy.linalg` module (or the `scipy.linalg.svd()` function in the `scipy.linalg` module) to apply an [singular value decomposition](http://en.wikipedia.org/wiki/Singular_value_decomposition) to a matrix.  "
     ]
    },
    {
     "cell_type": "code",
     "collapsed": false,
     "input": [
      "U, s, Vh = np.linalg.svd(exprsCEU)"
     ],
     "language": "python",
     "metadata": {},
     "outputs": [],
     "prompt_number": 173
    },
    {
     "cell_type": "markdown",
     "metadata": {},
     "source": [
      "Create a histogram using the values from PC1.  Use a bin size of 25.  "
     ]
    },
    {
     "cell_type": "code",
     "collapsed": false,
     "input": [
      "V = Vh.T\n",
      "plt.hist(V[:,0:1], bins=25)\n",
      "plt.xlabel(\"Deviations From the Mean\")\n",
      "plt.ylabel(\"Number of Samples\")\n",
      "plt.title(\"Caucasion Genes SVD PC1 Distrobution\")\n",
      "plt.show()"
     ],
     "language": "python",
     "metadata": {},
     "outputs": [
      {
       "metadata": {},
       "output_type": "display_data",
       "png": "[encoded data removed]",
       "text": [
        "<matplotlib.figure.Figure at 0xc327d68>"
       ]
      }
     ],
     "prompt_number": 177
    },
    {
     "cell_type": "markdown",
     "metadata": {},
     "source": [
      "Create a scatter plot with the days since October 31, 2002 on the x-axis and PC1 on the y-axis."
     ]
    },
    {
     "cell_type": "code",
     "collapsed": false,
     "input": [
      "f, (ax1) = plt.subplots(ncols=1)\n",
      "plt.xlabel(\"Days Since October 31, 2010\")\n",
      "plt.ylabel(\"Deviation from Sample Mean\")\n",
      "plt.title(\"Deviations Over Time\")\n",
      "ax1.scatter(sampleinfoCEU[\"elapsedInDays\"], V[:,0:1])"
     ],
     "language": "python",
     "metadata": {},
     "outputs": [
      {
       "metadata": {},
       "output_type": "pyout",
       "prompt_number": 179,
       "text": [
        "<matplotlib.collections.PathCollection at 0xb840978>"
       ]
      },
      {
       "metadata": {},
       "output_type": "display_data",
       "png": "[encoded data removed]",
       "text": [
        "<matplotlib.figure.Figure at 0xc76a160>"
       ]
      }
     ],
     "prompt_number": 179
    },
    {
     "cell_type": "markdown",
     "metadata": {},
     "source": [
      "Around what day do you notice a difference in the way the samples were processed?"
     ]
    },
    {
     "cell_type": "code",
     "collapsed": false,
     "input": [],
     "language": "python",
     "metadata": {},
     "outputs": [],
     "prompt_number": 124
    },
    {
     "cell_type": "markdown",
     "metadata": {},
     "source": [
      "Answer: It looks like around the 200th day of the sample the results for the group stop being similar. The plots seperate from one another again around the 700th day of the sample."
     ]
    },
    {
     "cell_type": "markdown",
     "metadata": {},
     "source": [
      "## Discussion for Problem 1\n",
      "\n",
      "*Write a brief discussion of your conclusions to the questions and tasks above in 100 words or less.*\n",
      "\n",
      "I learned how to work with dates in pandas. Dates come in a number of different formats and using them incorrectly can over complicate code and disrupt workflow. In addition, I used Single Value Decomposition to improve the clarity of my analysis by reducing the amount of data being visualized to a smaller but representative population.\n",
      "\n"
     ]
    },
    {
     "cell_type": "markdown",
     "metadata": {},
     "source": [
      "## Problem 2: Is there a pollster bias in presidential election polls?"
     ]
    },
    {
     "cell_type": "markdown",
     "metadata": {},
     "source": [
      "#### Problem 2(a)\n",
      "\n",
      "The [HuffPost Pollster](http://elections.huffingtonpost.com/pollster) contains many political polls. You can access these polls from individual races as a CSV but you can also access polls through the [HuffPost Pollster API](http://elections.huffingtonpost.com/pollster/api) to access the data.  \n",
      "\n",
      "Read in the polls from the [2012 Presidential Election: Barack Obama vs Mitt Romney](http://elections.huffingtonpost.com/pollster/2012-general-election-romney-vs-obama) into a pandas DataFrame called `election`. For this problem, you may read in the polls for this race directly using [the CSV file](http://elections.huffingtonpost.com/pollster/2012-general-election-romney-vs-obama.csv) available from the HuffPost Pollster page."
     ]
    },
    {
     "cell_type": "code",
     "collapsed": false,
     "input": [
      "elections = pd.DataFrame.from_csv(\"2012-general-election-romney-vs-obama.csv\")"
     ],
     "language": "python",
     "metadata": {},
     "outputs": [],
     "prompt_number": 4
    },
    {
     "cell_type": "markdown",
     "metadata": {},
     "source": [
      "Show the head of the `election` DataFrame. "
     ]
    },
    {
     "cell_type": "code",
     "collapsed": false,
     "input": [
      "elections.head()"
     ],
     "language": "python",
     "metadata": {},
     "outputs": [
      {
       "html": [
        "<div style=\"max-height:1000px;max-width:1500px;overflow:auto;\">\n",
        "<table border=\"1\" class=\"dataframe\">\n",
        "  <thead>\n",
        "    <tr style=\"text-align: right;\">\n",
        "      <th></th>\n",
        "      <th>Start Date</th>\n",
        "      <th>End Date</th>\n",
        "      <th>Entry Date/Time (ET)</th>\n",
        "      <th>Number of Observations</th>\n",
        "      <th>Population</th>\n",
        "      <th>Mode</th>\n",
        "      <th>Obama</th>\n",
        "      <th>Romney</th>\n",
        "      <th>Undecided</th>\n",
        "      <th>Pollster URL</th>\n",
        "      <th>Source URL</th>\n",
        "      <th>Partisan</th>\n",
        "      <th>Affiliation</th>\n",
        "    </tr>\n",
        "    <tr>\n",
        "      <th>Pollster</th>\n",
        "      <th></th>\n",
        "      <th></th>\n",
        "      <th></th>\n",
        "      <th></th>\n",
        "      <th></th>\n",
        "      <th></th>\n",
        "      <th></th>\n",
        "      <th></th>\n",
        "      <th></th>\n",
        "      <th></th>\n",
        "      <th></th>\n",
        "      <th></th>\n",
        "      <th></th>\n",
        "    </tr>\n",
        "  </thead>\n",
        "  <tbody>\n",
        "    <tr>\n",
        "      <th>Politico/GWU/Battleground</th>\n",
        "      <td> 2012-11-04</td>\n",
        "      <td> 2012-11-05</td>\n",
        "      <td> 2012-11-06 08:40:26</td>\n",
        "      <td> 1000</td>\n",
        "      <td> Likely Voters</td>\n",
        "      <td>      Live Phone</td>\n",
        "      <td> 47</td>\n",
        "      <td> 47</td>\n",
        "      <td>  6</td>\n",
        "      <td> http://elections.huffingtonpost.com/pollster/p...</td>\n",
        "      <td> http://www.politico.com/news/stories/1112/8338...</td>\n",
        "      <td> Nonpartisan</td>\n",
        "      <td> None</td>\n",
        "    </tr>\n",
        "    <tr>\n",
        "      <th>UPI/CVOTER</th>\n",
        "      <td> 2012-11-03</td>\n",
        "      <td> 2012-11-05</td>\n",
        "      <td> 2012-11-05 18:30:15</td>\n",
        "      <td> 3000</td>\n",
        "      <td> Likely Voters</td>\n",
        "      <td>      Live Phone</td>\n",
        "      <td> 49</td>\n",
        "      <td> 48</td>\n",
        "      <td>NaN</td>\n",
        "      <td> http://elections.huffingtonpost.com/pollster/p...</td>\n",
        "      <td>                                               NaN</td>\n",
        "      <td> Nonpartisan</td>\n",
        "      <td> None</td>\n",
        "    </tr>\n",
        "    <tr>\n",
        "      <th>Gravis Marketing</th>\n",
        "      <td> 2012-11-03</td>\n",
        "      <td> 2012-11-05</td>\n",
        "      <td> 2012-11-06 09:22:02</td>\n",
        "      <td>  872</td>\n",
        "      <td> Likely Voters</td>\n",
        "      <td> Automated Phone</td>\n",
        "      <td> 48</td>\n",
        "      <td> 48</td>\n",
        "      <td>  4</td>\n",
        "      <td> http://elections.huffingtonpost.com/pollster/p...</td>\n",
        "      <td> http://www.gravispolls.com/2012/11/gravis-mark...</td>\n",
        "      <td> Nonpartisan</td>\n",
        "      <td> None</td>\n",
        "    </tr>\n",
        "    <tr>\n",
        "      <th>JZ Analytics/Newsmax</th>\n",
        "      <td> 2012-11-03</td>\n",
        "      <td> 2012-11-05</td>\n",
        "      <td> 2012-11-06 07:38:41</td>\n",
        "      <td> 1041</td>\n",
        "      <td> Likely Voters</td>\n",
        "      <td>        Internet</td>\n",
        "      <td> 47</td>\n",
        "      <td> 47</td>\n",
        "      <td>  6</td>\n",
        "      <td> http://elections.huffingtonpost.com/pollster/p...</td>\n",
        "      <td>                       http://www.jzanalytics.com/</td>\n",
        "      <td>     Sponsor</td>\n",
        "      <td>  Rep</td>\n",
        "    </tr>\n",
        "    <tr>\n",
        "      <th>Rasmussen</th>\n",
        "      <td> 2012-11-03</td>\n",
        "      <td> 2012-11-05</td>\n",
        "      <td> 2012-11-06 08:47:50</td>\n",
        "      <td> 1500</td>\n",
        "      <td> Likely Voters</td>\n",
        "      <td> Automated Phone</td>\n",
        "      <td> 48</td>\n",
        "      <td> 49</td>\n",
        "      <td>NaN</td>\n",
        "      <td> http://elections.huffingtonpost.com/pollster/p...</td>\n",
        "      <td> http://www.rasmussenreports.com/public_content...</td>\n",
        "      <td> Nonpartisan</td>\n",
        "      <td> None</td>\n",
        "    </tr>\n",
        "  </tbody>\n",
        "</table>\n",
        "</div>"
       ],
       "metadata": {},
       "output_type": "pyout",
       "prompt_number": 5,
       "text": [
        "                           Start Date    End Date Entry Date/Time (ET)  \\\n",
        "Pollster                                                                 \n",
        "Politico/GWU/Battleground  2012-11-04  2012-11-05  2012-11-06 08:40:26   \n",
        "UPI/CVOTER                 2012-11-03  2012-11-05  2012-11-05 18:30:15   \n",
        "Gravis Marketing           2012-11-03  2012-11-05  2012-11-06 09:22:02   \n",
        "JZ Analytics/Newsmax       2012-11-03  2012-11-05  2012-11-06 07:38:41   \n",
        "Rasmussen                  2012-11-03  2012-11-05  2012-11-06 08:47:50   \n",
        "\n",
        "                           Number of Observations     Population  \\\n",
        "Pollster                                                           \n",
        "Politico/GWU/Battleground                    1000  Likely Voters   \n",
        "UPI/CVOTER                                   3000  Likely Voters   \n",
        "Gravis Marketing                              872  Likely Voters   \n",
        "JZ Analytics/Newsmax                         1041  Likely Voters   \n",
        "Rasmussen                                    1500  Likely Voters   \n",
        "\n",
        "                                      Mode  Obama  Romney  Undecided  \\\n",
        "Pollster                                                               \n",
        "Politico/GWU/Battleground       Live Phone     47      47          6   \n",
        "UPI/CVOTER                      Live Phone     49      48        NaN   \n",
        "Gravis Marketing           Automated Phone     48      48          4   \n",
        "JZ Analytics/Newsmax              Internet     47      47          6   \n",
        "Rasmussen                  Automated Phone     48      49        NaN   \n",
        "\n",
        "                                                                Pollster URL  \\\n",
        "Pollster                                                                       \n",
        "Politico/GWU/Battleground  http://elections.huffingtonpost.com/pollster/p...   \n",
        "UPI/CVOTER                 http://elections.huffingtonpost.com/pollster/p...   \n",
        "Gravis Marketing           http://elections.huffingtonpost.com/pollster/p...   \n",
        "JZ Analytics/Newsmax       http://elections.huffingtonpost.com/pollster/p...   \n",
        "Rasmussen                  http://elections.huffingtonpost.com/pollster/p...   \n",
        "\n",
        "                                                                  Source URL  \\\n",
        "Pollster                                                                       \n",
        "Politico/GWU/Battleground  http://www.politico.com/news/stories/1112/8338...   \n",
        "UPI/CVOTER                                                               NaN   \n",
        "Gravis Marketing           http://www.gravispolls.com/2012/11/gravis-mark...   \n",
        "JZ Analytics/Newsmax                             http://www.jzanalytics.com/   \n",
        "Rasmussen                  http://www.rasmussenreports.com/public_content...   \n",
        "\n",
        "                              Partisan Affiliation  \n",
        "Pollster                                            \n",
        "Politico/GWU/Battleground  Nonpartisan        None  \n",
        "UPI/CVOTER                 Nonpartisan        None  \n",
        "Gravis Marketing           Nonpartisan        None  \n",
        "JZ Analytics/Newsmax           Sponsor         Rep  \n",
        "Rasmussen                  Nonpartisan        None  "
       ]
      }
     ],
     "prompt_number": 5
    },
    {
     "cell_type": "markdown",
     "metadata": {},
     "source": [
      "How many polls were conducted in November? Define this number as M.  \n",
      "\n",
      "**Hint**: Subset the `election` DataFrame for only dates in the `Start Date` column that are in November 2012.  "
     ]
    },
    {
     "cell_type": "code",
     "collapsed": false,
     "input": [
      "novemberFirst = dt.datetime.strptime(\"2012-11-01\", \"%Y-%m-%d\") \n",
      "date_time = pd.to_datetime(elections[\"Start Date\"])\n",
      "elections[\"Start Date\"] = date_time\n",
      "inNovember = elections[elections[\"Start Date\"] >= novemberFirst]\n",
      "inNovember.count()"
     ],
     "language": "python",
     "metadata": {},
     "outputs": [
      {
       "metadata": {},
       "output_type": "pyout",
       "prompt_number": 6,
       "text": [
        "Start Date                19\n",
        "End Date                  19\n",
        "Entry Date/Time (ET)      19\n",
        "Number of Observations    19\n",
        "Population                19\n",
        "Mode                      19\n",
        "Obama                     19\n",
        "Romney                    19\n",
        "Undecided                 12\n",
        "Pollster URL              19\n",
        "Source URL                17\n",
        "Partisan                  19\n",
        "Affiliation               19\n",
        "dtype: int64"
       ]
      }
     ],
     "prompt_number": 6
    },
    {
     "cell_type": "markdown",
     "metadata": {},
     "source": [
      "Answer: 19"
     ]
    },
    {
     "cell_type": "markdown",
     "metadata": {},
     "source": [
      "What was the median of the number of observations in the November polls? Define this quantity as N. "
     ]
    },
    {
     "cell_type": "code",
     "collapsed": false,
     "input": [
      "N = inNovember[\"Number of Observations\"].median()\n",
      "N"
     ],
     "language": "python",
     "metadata": {},
     "outputs": [
      {
       "metadata": {},
       "output_type": "pyout",
       "prompt_number": 7,
       "text": [
        "1200.0"
       ]
      }
     ],
     "prompt_number": 7
    },
    {
     "cell_type": "markdown",
     "metadata": {},
     "source": [
      "Answer: 1200.0"
     ]
    },
    {
     "cell_type": "markdown",
     "metadata": {},
     "source": [
      "#### Problem 2(b)\n",
      "\n",
      "Using the median sample size $N$ from Problem 1(a), simulate a the results from a single poll:  simulate the number of votes for Obama out of a sample size $N$ where $p$ = 0.53 is the percent of voters who are voting for Obama.  \n",
      "\n",
      "**Hint**: Use the binomial distribution with parameters $N$ and $p$ = 0.53. "
     ]
    },
    {
     "cell_type": "code",
     "collapsed": false,
     "input": [
      "samp = np.random.binomial(N, .53)\n",
      "(samp/N) * 100 "
     ],
     "language": "python",
     "metadata": {},
     "outputs": [
      {
       "metadata": {},
       "output_type": "pyout",
       "prompt_number": 8,
       "text": [
        "52.83333333333333"
       ]
      }
     ],
     "prompt_number": 8
    },
    {
     "cell_type": "markdown",
     "metadata": {},
     "source": [
      "Now, perform a Monte Carlo simulation to obtain the estimated percentage of Obama votes with a sample size $N$ where $N$ is the median sample size calculated in Problem 2(a). Let $p$=0.53 be the percent of voters are voting for Obama. \n",
      "\n",
      "**Hint**: You will repeat the simulation above 1,000 times and plot the distribution of the estimated *percent* of Obama votes from a single poll.  The results from the single poll you simulate is random variable and will be different every time you sample. "
     ]
    },
    {
     "cell_type": "code",
     "collapsed": false,
     "input": [
      "samps = []\n",
      "for i in xrange(0,1000):\n",
      "    samp = np.random.binomial(N, .53)\n",
      "    samps.append(samp/N)\n",
      "npSamps = np.asarray(samps)"
     ],
     "language": "python",
     "metadata": {},
     "outputs": [],
     "prompt_number": 9
    },
    {
     "cell_type": "markdown",
     "metadata": {},
     "source": [
      "Plot the distribution of the estimated percentage of Obama votes from your single poll. What is the distribution of the estimated percentage of Obama votes? "
     ]
    },
    {
     "cell_type": "code",
     "collapsed": false,
     "input": [
      "plt.hist(map(lambda x: x*100,npSamps))\n",
      "plt.xlabel(\"Percentage of Vote for Obama\")\n",
      "plt.ylabel(\"Number of Samples\")\n",
      "plt.title(\"Distrobution of Voters For Obama\")\n",
      "plt.show()"
     ],
     "language": "python",
     "metadata": {},
     "outputs": [
      {
       "metadata": {},
       "output_type": "display_data",
       "png": "[encoded data removed]",
       "text": [
        "<matplotlib.figure.Figure at 0x107ad5550>"
       ]
      }
     ],
     "prompt_number": 11
    },
    {
     "cell_type": "markdown",
     "metadata": {},
     "source": [
      "Answer: This is a normal dirstrobution. "
     ]
    },
    {
     "cell_type": "markdown",
     "metadata": {},
     "source": [
      "What is the standard error (SE) of the estimated percentage from the poll. \n",
      "\n",
      "**Hint**: Remember the SE is the standard deviation (SD) of the distribution of a random variable. "
     ]
    },
    {
     "cell_type": "code",
     "collapsed": false,
     "input": [
      "one_trial_std = np.array(map(lambda x: x*100,npSamps)).std()\n",
      "one_trial_std"
     ],
     "language": "python",
     "metadata": {},
     "outputs": [
      {
       "metadata": {},
       "output_type": "pyout",
       "prompt_number": 12,
       "text": [
        "1.4477131367743024"
       ]
      }
     ],
     "prompt_number": 12
    },
    {
     "cell_type": "markdown",
     "metadata": {},
     "source": [
      "#### Problem 2(c)\n",
      "\n",
      "Now suppose we run M polls where M is the number of polls that happened in November (calculated in Problem 2(a)). Run 1,000 simulations and compute the mean of the M polls for each simulation. "
     ]
    },
    {
     "cell_type": "code",
     "collapsed": false,
     "input": [
      "means = []\n",
      "for i in xrange(0,1000):\n",
      "    generation = []\n",
      "    for j in xrange(0,inNovember.count()[0]):\n",
      "        generation.append(np.random.binomial(N, .53)/float(N))\n",
      "    means.append(np.mean(np.array(generation)))"
     ],
     "language": "python",
     "metadata": {},
     "outputs": [],
     "prompt_number": 13
    },
    {
     "cell_type": "markdown",
     "metadata": {},
     "source": [
      "What is the distribution of the average of polls?\n",
      "\n",
      "**Hint**: Show a plot. "
     ]
    },
    {
     "cell_type": "code",
     "collapsed": false,
     "input": [
      "plt.hist(map(lambda x: x*100,means))\n",
      "plt.xlabel(\"Percentage of Vote for Obama\")\n",
      "plt.ylabel(\"Number of Samples\")\n",
      "plt.title(\"Distrobution of Voters For Obama\")\n",
      "plt.show()"
     ],
     "language": "python",
     "metadata": {},
     "outputs": [
      {
       "metadata": {},
       "output_type": "display_data",
       "png": "[encoded data removed]",
       "text": [
        "<matplotlib.figure.Figure at 0x107a87e90>"
       ]
      }
     ],
     "prompt_number": 14
    },
    {
     "cell_type": "markdown",
     "metadata": {},
     "source": [
      "Answer: The distrobution of the average of the plots is also normal."
     ]
    },
    {
     "cell_type": "markdown",
     "metadata": {},
     "source": [
      "What is the standard error (SE) of the average of polls? "
     ]
    },
    {
     "cell_type": "code",
     "collapsed": false,
     "input": [
      "nineteen_trial_std = np.array(means).std()\n",
      "nineteen_trial_std"
     ],
     "language": "python",
     "metadata": {},
     "outputs": [
      {
       "metadata": {},
       "output_type": "pyout",
       "prompt_number": 15,
       "text": [
        "0.003194000434168529"
       ]
      }
     ],
     "prompt_number": 15
    },
    {
     "cell_type": "markdown",
     "metadata": {},
     "source": [
      "Answer: 0.003194000434168529 "
     ]
    },
    {
     "cell_type": "markdown",
     "metadata": {},
     "source": [
      "Is the SE of the average of polls larger, the same, or smaller than that the SD of a single poll (calculated in Problem 2(b))? By how much?\n",
      "\n",
      "**Hint**: Compute a ratio of the two quantities.  "
     ]
    },
    {
     "cell_type": "code",
     "collapsed": false,
     "input": [
      "\"Ratio: %f\" % ((one_trial_std*100)/(nineteen_trial_std*100))\n"
     ],
     "language": "python",
     "metadata": {},
     "outputs": [
      {
       "metadata": {},
       "output_type": "pyout",
       "prompt_number": 16,
       "text": [
        "'Ratio: 453.260157'"
       ]
      }
     ],
     "prompt_number": 16
    },
    {
     "cell_type": "markdown",
     "metadata": {},
     "source": [
      "Answer: The SE of the average of the polls is ~450 times smaller than the SE of the original monte carlo simulation."
     ]
    },
    {
     "cell_type": "markdown",
     "metadata": {},
     "source": [
      "#### Problem 2(d) \n",
      "\n",
      "Repeat Problem 2(c) but now record the *across poll* standard deviation in each simulation. "
     ]
    },
    {
     "cell_type": "code",
     "collapsed": false,
     "input": [
      "stds = []\n",
      "for i in xrange(0,1000):\n",
      "    generation = []\n",
      "    for j in xrange(0,inNovember.count()[0]):\n",
      "        generation.append(np.random.binomial(N, .53)/float(N))\n",
      "    stds.append(np.array(generation).std())"
     ],
     "language": "python",
     "metadata": {},
     "outputs": [],
     "prompt_number": 17
    },
    {
     "cell_type": "markdown",
     "metadata": {},
     "source": [
      "Answer: The distrobution of M polls standard deviation is normal."
     ]
    },
    {
     "cell_type": "markdown",
     "metadata": {},
     "source": [
      "What is the distribution of the *across M polls* standard deviation?\n",
      "\n",
      "**Hint**: Show a plot. "
     ]
    },
    {
     "cell_type": "code",
     "collapsed": false,
     "input": [
      "plt.hist(map(lambda x: x*100, stds))\n",
      "plt.xlabel(\"Standard Deviation Of Averaged Samples\")\n",
      "plt.ylabel(\"Number of Samples\")\n",
      "plt.title(\"Distrobution of Standard Errors\")\n",
      "plt.show()"
     ],
     "language": "python",
     "metadata": {},
     "outputs": [
      {
       "metadata": {},
       "output_type": "display_data",
       "png": "[encoded data removed]",
       "text": [
        "<matplotlib.figure.Figure at 0x10789da10>"
       ]
      }
     ],
     "prompt_number": 20
    },
    {
     "cell_type": "markdown",
     "metadata": {},
     "source": [
      "Answer: "
     ]
    },
    {
     "cell_type": "markdown",
     "metadata": {},
     "source": [
      "#### Problem 2(e) \n",
      "\n",
      "What is the standard deviation of M polls in our real (not simulated) 2012 presidential election data ? "
     ]
    },
    {
     "cell_type": "code",
     "collapsed": false,
     "input": [
      "actual_std = inNovember[\"Obama\"].std()\n",
      "actual_std"
     ],
     "language": "python",
     "metadata": {},
     "outputs": [
      {
       "metadata": {},
       "output_type": "pyout",
       "prompt_number": 21,
       "text": [
        "1.0841764600336519"
       ]
      }
     ],
     "prompt_number": 21
    },
    {
     "cell_type": "markdown",
     "metadata": {},
     "source": [
      "Is this larger, the same, or smaller than what we expeced if polls were not biased."
     ]
    },
    {
     "cell_type": "code",
     "collapsed": false,
     "input": [
      "# http://adventuresinpython.blogspot.com/2012/12/confidence-intervals-in-python.html\n",
      "stds_100 = np.array(map(lambda x: x*100, stds))\n",
      "n, min_max, mean, var, skew, kurt = stats.describe(stds_100)\n",
      "std = math.sqrt(var)\n",
      "conf_interval = stats.t.interval(.95, len(stds_100)-1, loc=mean, scale=std/math.sqrt(len(stds_100)))\n",
      "conf_interval"
     ],
     "language": "python",
     "metadata": {},
     "outputs": [
      {
       "metadata": {},
       "output_type": "pyout",
       "prompt_number": 22,
       "text": [
        "(1.3662985084683066, 1.3944766875747159)"
       ]
      }
     ],
     "prompt_number": 22
    },
    {
     "cell_type": "markdown",
     "metadata": {},
     "source": [
      "Answer: Based on the confidence interval above it appears that the actual standard deviation within the polls is much smaller than we would have expected.One theory explaining the low variance among the polls is that many polls are done by the same pollsters and therefore are more similar to each other than they otherwise would be if their results were independent."
     ]
    },
    {
     "cell_type": "markdown",
     "metadata": {},
     "source": [
      "#### Problem 2(f)\n",
      "\n",
      "**For AC209 Students**: Learn about the normal appoximation for the binomial distribution and derive the results of Problem 2(b) and 2(c) analytically (using this approximation). Compare the results obtained analytically to those obtained from simulations."
     ]
    },
    {
     "cell_type": "code",
     "collapsed": false,
     "input": [
      "#your code here"
     ],
     "language": "python",
     "metadata": {},
     "outputs": [],
     "prompt_number": 23
    },
    {
     "cell_type": "markdown",
     "metadata": {},
     "source": [
      "Answer: "
     ]
    },
    {
     "cell_type": "markdown",
     "metadata": {},
     "source": [
      "## Discussion for Problem 2\n",
      "\n",
      "*Write a brief discussion of your conclusions to the questions and tasks above in 100 words or less.*\n",
      "\n",
      "---\n",
      "Based on the problems above we have seen that the average of averages can reduce the variablility within a sample and result in much smaller confidence intervals. In addition, we saw how to identify potential biases within our data.\n"
     ]
    },
    {
     "cell_type": "markdown",
     "metadata": {},
     "source": [
      "## Problem 3: Is the average of polls better than just one poll?"
     ]
    },
    {
     "cell_type": "markdown",
     "metadata": {},
     "source": [
      "#### Problem 3(a)\n",
      "\n",
      "Most undecided voters vote for one of the two candidates at the election. Therefore, the reported percentages underestimate the final value of both candidates. However, if we assume the undecided will split evenly, then the observed difference should be an unbiased estimate of the final difference. \n",
      "\n",
      "Add a new column to the `election` DataFrame containg the difference between Obama and Romeny called `Diff`. "
     ]
    },
    {
     "cell_type": "code",
     "collapsed": false,
     "input": [
      "elections[\"Diff\"] = elections[\"Obama\"] - elections[\"Romney\"]\n",
      "elections.head()"
     ],
     "language": "python",
     "metadata": {},
     "outputs": [
      {
       "html": [
        "<div style=\"max-height:1000px;max-width:1500px;overflow:auto;\">\n",
        "<table border=\"1\" class=\"dataframe\">\n",
        "  <thead>\n",
        "    <tr style=\"text-align: right;\">\n",
        "      <th></th>\n",
        "      <th>Start Date</th>\n",
        "      <th>End Date</th>\n",
        "      <th>Entry Date/Time (ET)</th>\n",
        "      <th>Number of Observations</th>\n",
        "      <th>Population</th>\n",
        "      <th>Mode</th>\n",
        "      <th>Obama</th>\n",
        "      <th>Romney</th>\n",
        "      <th>Undecided</th>\n",
        "      <th>Pollster URL</th>\n",
        "      <th>Source URL</th>\n",
        "      <th>Partisan</th>\n",
        "      <th>Affiliation</th>\n",
        "      <th>Diff</th>\n",
        "    </tr>\n",
        "    <tr>\n",
        "      <th>Pollster</th>\n",
        "      <th></th>\n",
        "      <th></th>\n",
        "      <th></th>\n",
        "      <th></th>\n",
        "      <th></th>\n",
        "      <th></th>\n",
        "      <th></th>\n",
        "      <th></th>\n",
        "      <th></th>\n",
        "      <th></th>\n",
        "      <th></th>\n",
        "      <th></th>\n",
        "      <th></th>\n",
        "      <th></th>\n",
        "    </tr>\n",
        "  </thead>\n",
        "  <tbody>\n",
        "    <tr>\n",
        "      <th>Politico/GWU/Battleground</th>\n",
        "      <td>2012-11-04</td>\n",
        "      <td> 2012-11-05</td>\n",
        "      <td> 2012-11-06 08:40:26</td>\n",
        "      <td> 1000</td>\n",
        "      <td> Likely Voters</td>\n",
        "      <td>      Live Phone</td>\n",
        "      <td> 47</td>\n",
        "      <td> 47</td>\n",
        "      <td>  6</td>\n",
        "      <td> http://elections.huffingtonpost.com/pollster/p...</td>\n",
        "      <td> http://www.politico.com/news/stories/1112/8338...</td>\n",
        "      <td> Nonpartisan</td>\n",
        "      <td> None</td>\n",
        "      <td> 0</td>\n",
        "    </tr>\n",
        "    <tr>\n",
        "      <th>UPI/CVOTER</th>\n",
        "      <td>2012-11-03</td>\n",
        "      <td> 2012-11-05</td>\n",
        "      <td> 2012-11-05 18:30:15</td>\n",
        "      <td> 3000</td>\n",
        "      <td> Likely Voters</td>\n",
        "      <td>      Live Phone</td>\n",
        "      <td> 49</td>\n",
        "      <td> 48</td>\n",
        "      <td>NaN</td>\n",
        "      <td> http://elections.huffingtonpost.com/pollster/p...</td>\n",
        "      <td>                                               NaN</td>\n",
        "      <td> Nonpartisan</td>\n",
        "      <td> None</td>\n",
        "      <td> 1</td>\n",
        "    </tr>\n",
        "    <tr>\n",
        "      <th>Gravis Marketing</th>\n",
        "      <td>2012-11-03</td>\n",
        "      <td> 2012-11-05</td>\n",
        "      <td> 2012-11-06 09:22:02</td>\n",
        "      <td>  872</td>\n",
        "      <td> Likely Voters</td>\n",
        "      <td> Automated Phone</td>\n",
        "      <td> 48</td>\n",
        "      <td> 48</td>\n",
        "      <td>  4</td>\n",
        "      <td> http://elections.huffingtonpost.com/pollster/p...</td>\n",
        "      <td> http://www.gravispolls.com/2012/11/gravis-mark...</td>\n",
        "      <td> Nonpartisan</td>\n",
        "      <td> None</td>\n",
        "      <td> 0</td>\n",
        "    </tr>\n",
        "    <tr>\n",
        "      <th>JZ Analytics/Newsmax</th>\n",
        "      <td>2012-11-03</td>\n",
        "      <td> 2012-11-05</td>\n",
        "      <td> 2012-11-06 07:38:41</td>\n",
        "      <td> 1041</td>\n",
        "      <td> Likely Voters</td>\n",
        "      <td>        Internet</td>\n",
        "      <td> 47</td>\n",
        "      <td> 47</td>\n",
        "      <td>  6</td>\n",
        "      <td> http://elections.huffingtonpost.com/pollster/p...</td>\n",
        "      <td>                       http://www.jzanalytics.com/</td>\n",
        "      <td>     Sponsor</td>\n",
        "      <td>  Rep</td>\n",
        "      <td> 0</td>\n",
        "    </tr>\n",
        "    <tr>\n",
        "      <th>Rasmussen</th>\n",
        "      <td>2012-11-03</td>\n",
        "      <td> 2012-11-05</td>\n",
        "      <td> 2012-11-06 08:47:50</td>\n",
        "      <td> 1500</td>\n",
        "      <td> Likely Voters</td>\n",
        "      <td> Automated Phone</td>\n",
        "      <td> 48</td>\n",
        "      <td> 49</td>\n",
        "      <td>NaN</td>\n",
        "      <td> http://elections.huffingtonpost.com/pollster/p...</td>\n",
        "      <td> http://www.rasmussenreports.com/public_content...</td>\n",
        "      <td> Nonpartisan</td>\n",
        "      <td> None</td>\n",
        "      <td>-1</td>\n",
        "    </tr>\n",
        "  </tbody>\n",
        "</table>\n",
        "</div>"
       ],
       "metadata": {},
       "output_type": "pyout",
       "prompt_number": 24,
       "text": [
        "                          Start Date    End Date Entry Date/Time (ET)  \\\n",
        "Pollster                                                                \n",
        "Politico/GWU/Battleground 2012-11-04  2012-11-05  2012-11-06 08:40:26   \n",
        "UPI/CVOTER                2012-11-03  2012-11-05  2012-11-05 18:30:15   \n",
        "Gravis Marketing          2012-11-03  2012-11-05  2012-11-06 09:22:02   \n",
        "JZ Analytics/Newsmax      2012-11-03  2012-11-05  2012-11-06 07:38:41   \n",
        "Rasmussen                 2012-11-03  2012-11-05  2012-11-06 08:47:50   \n",
        "\n",
        "                           Number of Observations     Population  \\\n",
        "Pollster                                                           \n",
        "Politico/GWU/Battleground                    1000  Likely Voters   \n",
        "UPI/CVOTER                                   3000  Likely Voters   \n",
        "Gravis Marketing                              872  Likely Voters   \n",
        "JZ Analytics/Newsmax                         1041  Likely Voters   \n",
        "Rasmussen                                    1500  Likely Voters   \n",
        "\n",
        "                                      Mode  Obama  Romney  Undecided  \\\n",
        "Pollster                                                               \n",
        "Politico/GWU/Battleground       Live Phone     47      47          6   \n",
        "UPI/CVOTER                      Live Phone     49      48        NaN   \n",
        "Gravis Marketing           Automated Phone     48      48          4   \n",
        "JZ Analytics/Newsmax              Internet     47      47          6   \n",
        "Rasmussen                  Automated Phone     48      49        NaN   \n",
        "\n",
        "                                                                Pollster URL  \\\n",
        "Pollster                                                                       \n",
        "Politico/GWU/Battleground  http://elections.huffingtonpost.com/pollster/p...   \n",
        "UPI/CVOTER                 http://elections.huffingtonpost.com/pollster/p...   \n",
        "Gravis Marketing           http://elections.huffingtonpost.com/pollster/p...   \n",
        "JZ Analytics/Newsmax       http://elections.huffingtonpost.com/pollster/p...   \n",
        "Rasmussen                  http://elections.huffingtonpost.com/pollster/p...   \n",
        "\n",
        "                                                                  Source URL  \\\n",
        "Pollster                                                                       \n",
        "Politico/GWU/Battleground  http://www.politico.com/news/stories/1112/8338...   \n",
        "UPI/CVOTER                                                               NaN   \n",
        "Gravis Marketing           http://www.gravispolls.com/2012/11/gravis-mark...   \n",
        "JZ Analytics/Newsmax                             http://www.jzanalytics.com/   \n",
        "Rasmussen                  http://www.rasmussenreports.com/public_content...   \n",
        "\n",
        "                              Partisan Affiliation  Diff  \n",
        "Pollster                                                  \n",
        "Politico/GWU/Battleground  Nonpartisan        None     0  \n",
        "UPI/CVOTER                 Nonpartisan        None     1  \n",
        "Gravis Marketing           Nonpartisan        None     0  \n",
        "JZ Analytics/Newsmax           Sponsor         Rep     0  \n",
        "Rasmussen                  Nonpartisan        None    -1  "
       ]
      }
     ],
     "prompt_number": 24
    },
    {
     "cell_type": "markdown",
     "metadata": {},
     "source": [
      "#### Problem 3(b)\n",
      "\n",
      "Make a plot of the differences for the week before the election (e.g. 5 days) where the days are on the x-axis and the differences are on the y-axis.  Add a horizontal line showing 3.9%: the difference between Obama and Romney on election day."
     ]
    },
    {
     "cell_type": "code",
     "collapsed": false,
     "input": [
      "five_days = elections[elections[\"Start Date\"] >= dt.datetime.strptime(\"2012-11-1\", \"%Y-%m-%d\").date()]\n",
      "five_days[\"State Date\"] = five_days[\"Start Date\"].astype('datetime64[ns]')\n",
      "plt.gca().set_xticklabels([' ', '2012-11-01' ,'2012-11-02', ' ', '2012-11-03', ' ', '2012-11-04'])\n",
      "plt.gca().set_ylim([-2,5])\n",
      "# Color plots based upon the frequency of the number of elements at that location\n",
      "plt.plot(five_days[\"State Date\"], np.array(five_days[\"Diff\"]), \"ro\", alpha=0.4)\n",
      "plt.gcf().autofmt_xdate(rotation=45)\n",
      "plt.xlabel(\"Date\")\n",
      "plt.ylabel(\"Differnce Between Candidates\")\n",
      "plt.title(\"Difference vs Date\")\n",
      "plt.tick_params(\\\n",
      "    axis='x',          \n",
      "    which='both',      \n",
      "    bottom='off',      \n",
      "    top='off',         \n",
      "    labelbottom='on')\n",
      "plt.show()\n",
      "\n",
      "# Sorry for the hacky labeling, when I ran the code on my machine it worked with this code but because of the\n",
      "# GUI restrictions on ipython it didn't run here\n",
      "# plt.gca().xaxis.set_major_formatter(mdates.DateFormatter('%m/%d/%Y'))\n",
      "# plt.gca().xaxis.set_major_locator(mdates.DayLocator())\n",
      "# plt.plot(np.array(five_days[\"Start Date\"]), np.array(five_days[\"Diff\"]), \"ro\")\n",
      "# plt.gcf().autofmt_xdate()\n",
      "# plt.show()"
     ],
     "language": "python",
     "metadata": {},
     "outputs": [
      {
       "metadata": {},
       "output_type": "display_data",
       "png": "[encoded data removed]",
       "text": [
        "<matplotlib.figure.Figure at 0x107563f50>"
       ]
      }
     ],
     "prompt_number": 109
    },
    {
     "cell_type": "markdown",
     "metadata": {},
     "source": [
      "#### Problem 3(c) \n",
      "\n",
      "Make a plot showing the differences by pollster where the pollsters are on the x-axis and the differences on the y-axis. "
     ]
    },
    {
     "cell_type": "code",
     "collapsed": false,
     "input": [
      "ten_days = elections[elections[\"Start Date\"] >= dt.datetime.strptime(\"2012-11-1\", \"%Y-%m-%d\").date()- dt.timedelta(days=5)]\n",
      "ten_days = ten_days.reset_index()\n",
      "plotter = ten_days[[\"Pollster\", \"Diff\"]]\n",
      "plotter.boxplot(by=\"Pollster\", rot=45)\n",
      "plt.ylabel(\"Difference Between Candidates\")\n",
      "plt.show()\n"
     ],
     "language": "python",
     "metadata": {},
     "outputs": [
      {
       "metadata": {},
       "output_type": "display_data",
       "png": "[encoded data removed]",
       "text": [
        "<matplotlib.figure.Figure at 0x107ea5c50>"
       ]
      }
     ],
     "prompt_number": 110
    },
    {
     "cell_type": "markdown",
     "metadata": {},
     "source": [
      "Is the *across poll* difference larger than the *between pollster* difference? "
     ]
    },
    {
     "cell_type": "markdown",
     "metadata": {},
     "source": [
      "Answer: It looks like the differences between pollster is greater than the differences accross a particular pollster."
     ]
    },
    {
     "cell_type": "markdown",
     "metadata": {},
     "source": [
      "#### Problem 3(d)\n",
      "\n",
      "Take the average for each pollster and then compute the average of that. Given this difference how confident would you have been of an Obama victory?\n",
      "\n",
      "**Hint**: Compute an estimate of the SE of this average based exclusively on the observed data. "
     ]
    },
    {
     "cell_type": "code",
     "collapsed": false,
     "input": [
      "ten_days = ten_days.groupby(\"Pollster\")\n",
      "ten_days = ten_days.mean()\n",
      "print ten_days[\"Diff\"].mean()"
     ],
     "language": "python",
     "metadata": {},
     "outputs": [
      {
       "output_type": "stream",
       "stream": "stdout",
       "text": [
        "1.01449275362\n"
       ]
      }
     ],
     "prompt_number": 111
    },
    {
     "cell_type": "markdown",
     "metadata": {},
     "source": [
      "Answer: 1.01449275362 "
     ]
    },
    {
     "cell_type": "markdown",
     "metadata": {},
     "source": [
      "#### Problem 3(e)\n",
      "\n",
      "**For AC209 Students**: Show the difference against time and see if you can detect a trend towards the end. Use this trend to see if it improves the final estimate."
     ]
    },
    {
     "cell_type": "code",
     "collapsed": false,
     "input": [
      "#your code here"
     ],
     "language": "python",
     "metadata": {},
     "outputs": [],
     "prompt_number": 112
    },
    {
     "cell_type": "markdown",
     "metadata": {},
     "source": [
      "Answer: "
     ]
    },
    {
     "cell_type": "markdown",
     "metadata": {},
     "source": [
      "## Discussion for Problem 3\n",
      "\n",
      "*Write a brief discussion of your conclusions to the questions and tasks above in 100 words or less.*\n",
      "\n",
      "---\n",
      "\n",
      "Although it is difficult to judge because the differences between the days was measured within 5 days of the election and the differences between the pollsters was measured from 10 days before the election; it appears that the differences between the pollsters was larger than the differences accross each pollster. For instance, on 2012-11-01 differences ranged between -1 and 4 which was a total range of 5. Meanwhile, over 10 days the largest range between any given pollster was 2 and -1 which is a total range of 3. \n"
     ]
    },
    {
     "cell_type": "markdown",
     "metadata": {},
     "source": [
      "## Problem 4\n",
      "\n",
      "In this last problem, we will use the polls from the [2014 Senate Midterm Elections](http://elections.huffingtonpost.com/pollster) from the [HuffPost Pollster API](http://elections.huffingtonpost.com/pollster/api) to create a preliminary prediction of the result of each state. \n",
      "\n",
      "The HuffPost Pollster API allows you to access the data as a CSV or a JSON response by tacking \".csv\" or \".json\" at the end of the URLs. For example the 2012 Presidential Election could be accessed as a [.json](http://elections.huffingtonpost.com/pollster/2012-general-election-romney-vs-obama.json) instead of a [.csv](http://elections.huffingtonpost.com/pollster/2012-general-election-romney-vs-obama.csv)"
     ]
    },
    {
     "cell_type": "markdown",
     "metadata": {},
     "source": [
      "#### Problem 4(a)\n",
      "\n",
      "Read in the polls for **all** of the 2014 Senate Elections using the HuffPost API. For example, we can consider the [2014 Senate race in Kentucky between Mitch McConnell and Alison Grimes](http://elections.huffingtonpost.com/pollster/2014-kentucky-senate-mcconnell-vs-grimes). \n",
      "\n",
      "To search for the 2014 Senate races, use the `topics` parameter in the API [[read more about topics here](http://elections.huffingtonpost.com/pollster/api)].  "
     ]
    },
    {
     "cell_type": "code",
     "collapsed": false,
     "input": [
      "url_str = \"http://elections.huffingtonpost.com/pollster/api/charts/?topic=2014-senate\""
     ],
     "language": "python",
     "metadata": {},
     "outputs": [],
     "prompt_number": 113
    },
    {
     "cell_type": "markdown",
     "metadata": {},
     "source": [
      "To list all the URLs related to the 2014 Senate races using the pollster API, we can use a list comprehension:"
     ]
    },
    {
     "cell_type": "code",
     "collapsed": false,
     "input": [
      "election_urls = [election['url'] + '.csv' for election in requests.get(url_str).json()]\n",
      "election_urls"
     ],
     "language": "python",
     "metadata": {},
     "outputs": [
      {
       "metadata": {},
       "output_type": "pyout",
       "prompt_number": 114,
       "text": [
        "[u'http://elections.huffingtonpost.com/pollster/2014-kentucky-senate-mcconnell-vs-grimes.csv',\n",
        " u'http://elections.huffingtonpost.com/pollster/2014-arkansas-senate-cotton-vs-pryor.csv',\n",
        " u'http://elections.huffingtonpost.com/pollster/2014-michigan-senate-land-vs-peters.csv',\n",
        " u'http://elections.huffingtonpost.com/pollster/2014-louisiana-senate-cassidy-vs-landrieu.csv',\n",
        " u'http://elections.huffingtonpost.com/pollster/2014-new-hampshire-senate-brown-vs-shaheen.csv',\n",
        " u'http://elections.huffingtonpost.com/pollster/2014-west-virginia-senate-capito-vs-tennant.csv',\n",
        " u'http://elections.huffingtonpost.com/pollster/2014-new-hampshire-senate-bass-vs-shaheen.csv',\n",
        " u'http://elections.huffingtonpost.com/pollster/2014-north-carolina-senate-tillis-vs-hagan.csv',\n",
        " u'http://elections.huffingtonpost.com/pollster/2014-virginia-senate-gillespie-vs-warner.csv',\n",
        " u'http://elections.huffingtonpost.com/pollster/2014-colorado-senate-gardner-vs-udall.csv',\n",
        " u'http://elections.huffingtonpost.com/pollster/2014-illinois-senate-oberweis-vs-durbin.csv',\n",
        " u'http://elections.huffingtonpost.com/pollster/2014-alaska-senate-sullivan-vs-begich.csv',\n",
        " u'http://elections.huffingtonpost.com/pollster/2014-iowa-senate-ernst-vs-braley.csv',\n",
        " u'http://elections.huffingtonpost.com/pollster/2014-mississippi-senate-cochran-vs-childers.csv',\n",
        " u'http://elections.huffingtonpost.com/pollster/2014-oregon-senate-wehby-vs-merkley.csv',\n",
        " u'http://elections.huffingtonpost.com/pollster/2014-georgia-senate-perdue-vs-nunn.csv',\n",
        " u'http://elections.huffingtonpost.com/pollster/2014-louisiana-senate-sasse-vs-domina.csv',\n",
        " u'http://elections.huffingtonpost.com/pollster/2014-south-dakota-senate-rounds-vs-weiland.csv',\n",
        " u'http://elections.huffingtonpost.com/pollster/2014-maine-senate-collins-vs-bellows.csv',\n",
        " u'http://elections.huffingtonpost.com/pollster/2014-minnesota-senate-mcfadden-vs-franken.csv',\n",
        " u'http://elections.huffingtonpost.com/pollster/2014-texas-senate-cornyn-vs-alameel.csv',\n",
        " u'http://elections.huffingtonpost.com/pollster/2014-south-carolina-senate-graham-vs-hutto.csv',\n",
        " u'http://elections.huffingtonpost.com/pollster/2014-south-carolina-senate-scott-vs-dickerson.csv',\n",
        " u'http://elections.huffingtonpost.com/pollster/2014-oklahoma-senate-inhofe-vs-silverstein.csv',\n",
        " u'http://elections.huffingtonpost.com/pollster/2014-new-mexico-senate-weh-vs-udall.csv',\n",
        " u'http://elections.huffingtonpost.com/pollster/2014-new-jersey-senate-bell-vs-booker.csv',\n",
        " u'http://elections.huffingtonpost.com/pollster/2014-idaho-senate-risch-vs-mitchell.csv',\n",
        " u'http://elections.huffingtonpost.com/pollster/2014-tennessee-senate-alexander-vs-ball.csv',\n",
        " u'http://elections.huffingtonpost.com/pollster/2014-wyoming-senate.csv',\n",
        " u'http://elections.huffingtonpost.com/pollster/2014-kansas-senate-roberts-vs-orman-vs-taylor.csv',\n",
        " u'http://elections.huffingtonpost.com/pollster/2014-hawaii-senate-cavasso-vs-schatz.csv',\n",
        " u'http://elections.huffingtonpost.com/pollster/2014-oklahoma-senate-lankford-vs-johnson.csv',\n",
        " u'http://elections.huffingtonpost.com/pollster/2014-montana-senate-daines-vs-curtis.csv',\n",
        " u'http://elections.huffingtonpost.com/pollster/2014-rhode-island-senate-zaccaria-vs-reed.csv',\n",
        " u'http://elections.huffingtonpost.com/pollster/2014-massachusetts-senate-herr-vs-markey.csv',\n",
        " u'http://elections.huffingtonpost.com/pollster/2014-delaware-senate-wade-vs-coons.csv']"
       ]
      }
     ],
     "prompt_number": 114
    },
    {
     "cell_type": "markdown",
     "metadata": {},
     "source": [
      "Because there so many Senate races, we can create a dictionary of pandas DataFrames that will be keyed by the name of the election (a string). "
     ]
    },
    {
     "cell_type": "code",
     "collapsed": false,
     "input": [
      "def build_frame(url):\n",
      "    \"\"\"\n",
      "    Returns a pandas DataFrame object containing\n",
      "    the data returned from the given url\n",
      "    \"\"\"\n",
      "    source = requests.get(url).text\n",
      "    \n",
      "    # Use StringIO because pd.DataFrame.from_csv requires .read() method\n",
      "    s = StringIO.StringIO(source)\n",
      "    \n",
      "    return pd.DataFrame.from_csv(s, index_col=None).convert_objects(\n",
      "            convert_dates=\"coerce\", convert_numeric=True)"
     ],
     "language": "python",
     "metadata": {},
     "outputs": [],
     "prompt_number": 115
    },
    {
     "cell_type": "code",
     "collapsed": false,
     "input": [
      "# Makes a dictionary of pandas DataFrames keyed on election string.\n",
      "dfs = dict((election.split(\"/\")[-1][:-4], build_frame(election)) for election in election_urls)\n"
     ],
     "language": "python",
     "metadata": {},
     "outputs": [],
     "prompt_number": 116
    },
    {
     "cell_type": "markdown",
     "metadata": {},
     "source": [
      "Show the head of the DataFrame containing the polls for the 2014 Senate race in Kentucky between McConnell and Grimes."
     ]
    },
    {
     "cell_type": "code",
     "collapsed": false,
     "input": [
      "dfs[\"2014-kentucky-senate-mcconnell-vs-grimes\"].head()"
     ],
     "language": "python",
     "metadata": {},
     "outputs": [
      {
       "html": [
        "<div style=\"max-height:1000px;max-width:1500px;overflow:auto;\">\n",
        "<table border=\"1\" class=\"dataframe\">\n",
        "  <thead>\n",
        "    <tr style=\"text-align: right;\">\n",
        "      <th></th>\n",
        "      <th>Pollster</th>\n",
        "      <th>Start Date</th>\n",
        "      <th>End Date</th>\n",
        "      <th>Entry Date/Time (ET)</th>\n",
        "      <th>Number of Observations</th>\n",
        "      <th>Population</th>\n",
        "      <th>Mode</th>\n",
        "      <th>McConnell</th>\n",
        "      <th>Grimes</th>\n",
        "      <th>Undecided</th>\n",
        "      <th>Pollster URL</th>\n",
        "      <th>Source URL</th>\n",
        "      <th>Partisan</th>\n",
        "      <th>Affiliation</th>\n",
        "    </tr>\n",
        "  </thead>\n",
        "  <tbody>\n",
        "    <tr>\n",
        "      <th>0</th>\n",
        "      <td>                       Mellman (D-Grimes)</td>\n",
        "      <td>2014-09-19</td>\n",
        "      <td>2014-09-27</td>\n",
        "      <td>2014-10-01 15:13:47</td>\n",
        "      <td> 1800</td>\n",
        "      <td> Likely Voters</td>\n",
        "      <td>      Live Phone</td>\n",
        "      <td> 40</td>\n",
        "      <td> 42</td>\n",
        "      <td> 16</td>\n",
        "      <td> http://elections.huffingtonpost.com/pollster/p...</td>\n",
        "      <td> http://images.politico.com/global/2014/09/30/m...</td>\n",
        "      <td>     Sponsor</td>\n",
        "      <td>  Dem</td>\n",
        "    </tr>\n",
        "    <tr>\n",
        "      <th>1</th>\n",
        "      <td>                  Gravis/Human Events (R)</td>\n",
        "      <td>2014-09-13</td>\n",
        "      <td>2014-09-16</td>\n",
        "      <td>2014-09-19 14:57:03</td>\n",
        "      <td>  839</td>\n",
        "      <td> Likely Voters</td>\n",
        "      <td> Automated Phone</td>\n",
        "      <td> 51</td>\n",
        "      <td> 41</td>\n",
        "      <td>  8</td>\n",
        "      <td> http://elections.huffingtonpost.com/pollster/p...</td>\n",
        "      <td> http://gravismarketing.com/polling-and-market-...</td>\n",
        "      <td>     Sponsor</td>\n",
        "      <td>  Rep</td>\n",
        "    </tr>\n",
        "    <tr>\n",
        "      <th>2</th>\n",
        "      <td>                            Ipsos/Reuters</td>\n",
        "      <td>2014-09-08</td>\n",
        "      <td>2014-09-12</td>\n",
        "      <td>2014-09-22 15:23:23</td>\n",
        "      <td>  944</td>\n",
        "      <td> Likely Voters</td>\n",
        "      <td>        Internet</td>\n",
        "      <td> 46</td>\n",
        "      <td> 42</td>\n",
        "      <td>  6</td>\n",
        "      <td> http://elections.huffingtonpost.com/pollster/p...</td>\n",
        "      <td>     http://ipsos-na.com/download/pr.aspx?id=13904</td>\n",
        "      <td> Nonpartisan</td>\n",
        "      <td> None</td>\n",
        "    </tr>\n",
        "    <tr>\n",
        "      <th>3</th>\n",
        "      <td> Magellan (R-National Mining Association)</td>\n",
        "      <td>2014-09-04</td>\n",
        "      <td>2014-09-07</td>\n",
        "      <td>2014-09-10 15:44:29</td>\n",
        "      <td>  742</td>\n",
        "      <td> Likely Voters</td>\n",
        "      <td> Automated Phone</td>\n",
        "      <td> 50</td>\n",
        "      <td> 42</td>\n",
        "      <td>  2</td>\n",
        "      <td> http://elections.huffingtonpost.com/pollster/p...</td>\n",
        "      <td> http://www.slideshare.net/MagellanStrat/nation...</td>\n",
        "      <td>     Sponsor</td>\n",
        "      <td>  Rep</td>\n",
        "    </tr>\n",
        "    <tr>\n",
        "      <th>4</th>\n",
        "      <td>                       Mellman (D-Grimes)</td>\n",
        "      <td>2014-09-04</td>\n",
        "      <td>2014-09-07</td>\n",
        "      <td>2014-09-10 18:53:37</td>\n",
        "      <td>  800</td>\n",
        "      <td> Likely Voters</td>\n",
        "      <td>      Live Phone</td>\n",
        "      <td> 42</td>\n",
        "      <td> 43</td>\n",
        "      <td> 15</td>\n",
        "      <td> http://elections.huffingtonpost.com/pollster/p...</td>\n",
        "      <td> http://images.politico.com/global/2014/09/09/1...</td>\n",
        "      <td>     Sponsor</td>\n",
        "      <td>  Dem</td>\n",
        "    </tr>\n",
        "  </tbody>\n",
        "</table>\n",
        "</div>"
       ],
       "metadata": {},
       "output_type": "pyout",
       "prompt_number": 117,
       "text": [
        "                                   Pollster Start Date   End Date  \\\n",
        "0                        Mellman (D-Grimes) 2014-09-19 2014-09-27   \n",
        "1                   Gravis/Human Events (R) 2014-09-13 2014-09-16   \n",
        "2                             Ipsos/Reuters 2014-09-08 2014-09-12   \n",
        "3  Magellan (R-National Mining Association) 2014-09-04 2014-09-07   \n",
        "4                        Mellman (D-Grimes) 2014-09-04 2014-09-07   \n",
        "\n",
        "  Entry Date/Time (ET)  Number of Observations     Population  \\\n",
        "0  2014-10-01 15:13:47                    1800  Likely Voters   \n",
        "1  2014-09-19 14:57:03                     839  Likely Voters   \n",
        "2  2014-09-22 15:23:23                     944  Likely Voters   \n",
        "3  2014-09-10 15:44:29                     742  Likely Voters   \n",
        "4  2014-09-10 18:53:37                     800  Likely Voters   \n",
        "\n",
        "              Mode  McConnell  Grimes  Undecided  \\\n",
        "0       Live Phone         40      42         16   \n",
        "1  Automated Phone         51      41          8   \n",
        "2         Internet         46      42          6   \n",
        "3  Automated Phone         50      42          2   \n",
        "4       Live Phone         42      43         15   \n",
        "\n",
        "                                        Pollster URL  \\\n",
        "0  http://elections.huffingtonpost.com/pollster/p...   \n",
        "1  http://elections.huffingtonpost.com/pollster/p...   \n",
        "2  http://elections.huffingtonpost.com/pollster/p...   \n",
        "3  http://elections.huffingtonpost.com/pollster/p...   \n",
        "4  http://elections.huffingtonpost.com/pollster/p...   \n",
        "\n",
        "                                          Source URL     Partisan Affiliation  \n",
        "0  http://images.politico.com/global/2014/09/30/m...      Sponsor         Dem  \n",
        "1  http://gravismarketing.com/polling-and-market-...      Sponsor         Rep  \n",
        "2      http://ipsos-na.com/download/pr.aspx?id=13904  Nonpartisan        None  \n",
        "3  http://www.slideshare.net/MagellanStrat/nation...      Sponsor         Rep  \n",
        "4  http://images.politico.com/global/2014/09/09/1...      Sponsor         Dem  "
       ]
      }
     ],
     "prompt_number": 117
    },
    {
     "cell_type": "markdown",
     "metadata": {},
     "source": [
      "#### Problem 4(b)\n",
      "\n",
      "For each 2014 Senate race, create a preliminary prediction of the result for that state."
     ]
    },
    {
     "cell_type": "code",
     "collapsed": false,
     "input": [
      "first_name = re.compile(\"senate-(.*?)-vs\")\n",
      "second_name = re.compile(\"vs-(.*)\")\n",
      "for key in dfs:\n",
      "    name1=\"\"\n",
      "    name2=\"\"\n",
      "    name3=\"\"\n",
      "    print key\n",
      "    # Three candidates are running in Kansas so difference does not make sence\n",
      "    if \"kansas\" in key and not \"arkansas\" in key:\n",
      "        name1 = \"Roberts\"\n",
      "        name2 = \"Orman\"\n",
      "        name3 = \"Taylor\"\n",
      "        lst = []\n",
      "        for i in xrange(10):\n",
      "            m = math.floor(dfs[key][\"Number of Observations\"].mean())\n",
      "            sample = np.random.binomial(m, dfs[key][name1].mean()/100.0)\n",
      "            lst.append(sample)\n",
      "        print(\"Prediction %s: Expeced to Recieve: %f percent of the vote Std Deviation: %f\" % (name1, np.array(lst).mean(), np.array(lst).std()))\n",
      "        continue\n",
      "    if \"wyoming\" in key:\n",
      "        name1 = \"Enzi\"\n",
      "        name2 = \"Hardy\"\n",
      "    else:\n",
      "        first_candidate = first_name.search(key)\n",
      "        second_candidate = second_name.search(key)\n",
      "        if not first_candidate or not second_candidate:\n",
      "            continue\n",
      "        name1 = first_candidate.group(1).title()\n",
      "        name2 = second_candidate.group(1).title()\n",
      "    indicies = set([0,2])\n",
      "    if name1.startswith('Mcc') or name1.startswith('Mcf'):\n",
      "        name1 = \"\".join(c.upper() if i in indicies else c for i, c in enumerate(name1))\n",
      "    if name2.startswith('Mcc') or name2.startswith('Mcf'):\n",
      "        name2 = \"\".join(c.upper() if i in indicies else c for i, c in enumerate(name2))\n",
      "\n",
      "    dfs[key][\"Diff\"] = dfs[key][name1] - dfs[key][name2]\n",
      "    m = dfs[key][\"Number of Observations\"].median()\n",
      "    lst = []\n",
      "    for i in xrange(10):\n",
      "        for j in xrange(int(m)):\n",
      "            sample = np.random.choice(dfs[key][\"Diff\"])\n",
      "            lst.append(sample)\n",
      "    print(\"Prediction %s: Expected Difference: %f Std Error: %f\" % ((name1 + \" - \" + name2), np.array(lst).mean(), np.array(lst).std()))\n"
     ],
     "language": "python",
     "metadata": {},
     "outputs": [
      {
       "output_type": "stream",
       "stream": "stdout",
       "text": [
        "2014-montana-senate-daines-vs-curtis\n",
        "Prediction Daines - Curtis: Expected Difference: 19.001116 Std Error: 0.999999"
       ]
      },
      {
       "output_type": "stream",
       "stream": "stdout",
       "text": [
        "\n",
        "2014-north-carolina-senate-tillis-vs-hagan\n",
        "Prediction Tillis - Hagan: Expected Difference: -3.332982 Std Error: 4.398466"
       ]
      },
      {
       "output_type": "stream",
       "stream": "stdout",
       "text": [
        "\n",
        "2014-tennessee-senate-alexander-vs-ball\n",
        "Prediction Alexander - Ball: Expected Difference: 17.722591 Std Error: 4.747210"
       ]
      },
      {
       "output_type": "stream",
       "stream": "stdout",
       "text": [
        "\n",
        "2014-michigan-senate-land-vs-peters\n",
        "Prediction Land - Peters: Expected Difference: -3.520934 Std Error: 4.675286"
       ]
      },
      {
       "output_type": "stream",
       "stream": "stdout",
       "text": [
        "\n",
        "2014-wyoming-senate\n",
        "Prediction Enzi - Hardy: Expected Difference: 41.876341 Std Error: 4.284353"
       ]
      },
      {
       "output_type": "stream",
       "stream": "stdout",
       "text": [
        "\n",
        "2014-alaska-senate-sullivan-vs-begich\n",
        "Prediction Sullivan - Begich: Expected Difference: -1.584669 Std Error: 5.489185"
       ]
      },
      {
       "output_type": "stream",
       "stream": "stdout",
       "text": [
        "\n",
        "2014-oregon-senate-wehby-vs-merkley\n",
        "Prediction Wehby - Merkley: Expected Difference: -11.928409 Std Error: 6.624034"
       ]
      },
      {
       "output_type": "stream",
       "stream": "stdout",
       "text": [
        "\n",
        "2014-new-hampshire-senate-brown-vs-shaheen\n",
        "Prediction Brown - Shaheen: Expected Difference: -6.963075 Std Error: 4.516533"
       ]
      },
      {
       "output_type": "stream",
       "stream": "stdout",
       "text": [
        "\n",
        "2014-mississippi-senate-cochran-vs-childers\n",
        "Prediction Cochran - Childers: Expected Difference: 15.170933 Std Error: 1.778871"
       ]
      },
      {
       "output_type": "stream",
       "stream": "stdout",
       "text": [
        "\n",
        "2014-rhode-island-senate-zaccaria-vs-reed\n",
        "Prediction Zaccaria - Reed: Expected Difference: -27.402906 Std Error: 7.499371"
       ]
      },
      {
       "output_type": "stream",
       "stream": "stdout",
       "text": [
        "\n",
        "2014-new-jersey-senate-bell-vs-booker\n",
        "Prediction Bell - Booker: Expected Difference: -12.800966 Std Error: 3.567344"
       ]
      },
      {
       "output_type": "stream",
       "stream": "stdout",
       "text": [
        "\n",
        "2014-virginia-senate-gillespie-vs-warner\n",
        "Prediction Gillespie - Warner: Expected Difference: -17.221149 Std Error: 6.653203"
       ]
      },
      {
       "output_type": "stream",
       "stream": "stdout",
       "text": [
        "\n",
        "2014-south-dakota-senate-rounds-vs-weiland\n",
        "Prediction Rounds - Weiland: Expected Difference: 13.387399 Std Error: 6.176654"
       ]
      },
      {
       "output_type": "stream",
       "stream": "stdout",
       "text": [
        "\n",
        "2014-kentucky-senate-mcconnell-vs-grimes\n",
        "Prediction McConnell - Grimes: Expected Difference: 2.307559 Std Error: 3.697426"
       ]
      },
      {
       "output_type": "stream",
       "stream": "stdout",
       "text": [
        "\n",
        "2014-iowa-senate-ernst-vs-braley\n",
        "Prediction Ernst - Braley: Expected Difference: -1.693842 Std Error: 4.680124"
       ]
      },
      {
       "output_type": "stream",
       "stream": "stdout",
       "text": [
        "\n",
        "2014-oklahoma-senate-inhofe-vs-silverstein\n",
        "Prediction Inhofe - Silverstein: Expected Difference: 28.974909 Std Error: 3.554086"
       ]
      },
      {
       "output_type": "stream",
       "stream": "stdout",
       "text": [
        "\n",
        "2014-illinois-senate-oberweis-vs-durbin\n",
        "Prediction Oberweis - Durbin: Expected Difference: -12.028875 Std Error: 4.868192"
       ]
      },
      {
       "output_type": "stream",
       "stream": "stdout",
       "text": [
        "\n",
        "2014-south-carolina-senate-graham-vs-hutto\n",
        "Prediction Graham - Hutto: Expected Difference: 14.714738 Std Error: 2.762341"
       ]
      },
      {
       "output_type": "stream",
       "stream": "stdout",
       "text": [
        "\n",
        "2014-maine-senate-collins-vs-bellows\n",
        "Prediction Collins - Bellows: Expected Difference: 35.602169 Std Error: 9.220854"
       ]
      },
      {
       "output_type": "stream",
       "stream": "stdout",
       "text": [
        "\n",
        "2014-west-virginia-senate-capito-vs-tennant\n",
        "Prediction Capito - Tennant: Expected Difference: 12.630175 Std Error: 5.083934"
       ]
      },
      {
       "output_type": "stream",
       "stream": "stdout",
       "text": [
        "\n",
        "2014-hawaii-senate-cavasso-vs-schatz\n",
        "Prediction Cavasso - Schatz: Expected Difference: -34.991020 Std Error: 1.879233"
       ]
      },
      {
       "output_type": "stream",
       "stream": "stdout",
       "text": [
        "\n",
        "2014-louisiana-senate-sasse-vs-domina\n",
        "Prediction Sasse - Domina: Expected Difference: 22.770314 Std Error: 3.477413"
       ]
      },
      {
       "output_type": "stream",
       "stream": "stdout",
       "text": [
        "\n",
        "2014-delaware-senate-wade-vs-coons\n",
        "Prediction Wade - Coons: Expected Difference: -17.645067 Std Error: 5.235407"
       ]
      },
      {
       "output_type": "stream",
       "stream": "stdout",
       "text": [
        "\n",
        "2014-massachusetts-senate-herr-vs-markey\n",
        "Prediction Herr - Markey: Expected Difference: -24.052894 Std Error: 3.425424"
       ]
      },
      {
       "output_type": "stream",
       "stream": "stdout",
       "text": [
        "\n",
        "2014-minnesota-senate-mcfadden-vs-franken\n",
        "Prediction McFadden - Franken: Expected Difference: -10.681500 Std Error: 3.272126"
       ]
      },
      {
       "output_type": "stream",
       "stream": "stdout",
       "text": [
        "\n",
        "2014-louisiana-senate-cassidy-vs-landrieu\n",
        "Prediction Cassidy - Landrieu: Expected Difference: -0.206822 Std Error: 5.267233"
       ]
      },
      {
       "output_type": "stream",
       "stream": "stdout",
       "text": [
        "\n",
        "2014-georgia-senate-perdue-vs-nunn\n",
        "Prediction Perdue - Nunn: Expected Difference: 2.000000 Std Error: 5.065209"
       ]
      },
      {
       "output_type": "stream",
       "stream": "stdout",
       "text": [
        "\n",
        "2014-kansas-senate-roberts-vs-orman-vs-taylor\n",
        "Prediction Roberts: Expeced to Recieve: 314.000000 percent of the vote Std Deviation: 14.696938\n",
        "2014-oklahoma-senate-lankford-vs-johnson\n",
        "Prediction Lankford - Johnson: Expected Difference: 28.356882 Std Error: 4.111781"
       ]
      },
      {
       "output_type": "stream",
       "stream": "stdout",
       "text": [
        "\n",
        "2014-new-mexico-senate-weh-vs-udall\n",
        "Prediction Weh - Udall: Expected Difference: -15.798916 Std Error: 4.361930"
       ]
      },
      {
       "output_type": "stream",
       "stream": "stdout",
       "text": [
        "\n",
        "2014-idaho-senate-risch-vs-mitchell\n",
        "Prediction Risch - Mitchell: Expected Difference: 30.953200 Std Error: 4.258898"
       ]
      },
      {
       "output_type": "stream",
       "stream": "stdout",
       "text": [
        "\n",
        "2014-texas-senate-cornyn-vs-alameel\n",
        "Prediction Cornyn - Alameel: Expected Difference: 16.813333 Std Error: 3.211773"
       ]
      },
      {
       "output_type": "stream",
       "stream": "stdout",
       "text": [
        "\n",
        "2014-arkansas-senate-cotton-vs-pryor\n",
        "Prediction Cotton - Pryor: Expected Difference: 0.746637 Std Error: 4.716754"
       ]
      },
      {
       "output_type": "stream",
       "stream": "stdout",
       "text": [
        "\n",
        "2014-south-carolina-senate-scott-vs-dickerson\n",
        "Prediction Scott - Dickerson: Expected Difference: 19.250261 Std Error: 3.105690"
       ]
      },
      {
       "output_type": "stream",
       "stream": "stdout",
       "text": [
        "\n",
        "2014-colorado-senate-gardner-vs-udall\n",
        "Prediction Gardner - Udall: Expected Difference: -1.042538 Std Error: 3.836622"
       ]
      },
      {
       "output_type": "stream",
       "stream": "stdout",
       "text": [
        "\n",
        "2014-new-hampshire-senate-bass-vs-shaheen\n",
        "Prediction Bass - Shaheen: Expected Difference: -15.360405 Std Error: 3.866993"
       ]
      },
      {
       "output_type": "stream",
       "stream": "stdout",
       "text": [
        "\n"
       ]
      }
     ],
     "prompt_number": 143
    },
    {
     "cell_type": "markdown",
     "metadata": {},
     "source": [
      "# Submission Instructions\n",
      "\n",
      "To submit your homework, create a folder named **lastname_firstinitial_hw#** and place your IPython notebooks, data files, and any other files in this folder. Your IPython Notebooks should be completely executed with the results visible in the notebook. We should not have to run any code.  Compress the folder (please use .zip compression) and submit to the CS109 dropbox in the appropriate folder. *If we cannot access your work because these directions are not followed correctly, we will not grade your work.*\n"
     ]
    },
    {
     "cell_type": "code",
     "collapsed": false,
     "input": [],
     "language": "python",
     "metadata": {},
     "outputs": []
    }
   ],
   "metadata": {}
  }
 ]
}