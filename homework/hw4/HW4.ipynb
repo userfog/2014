{
 "metadata": {
  "name": "",
  "signature": "sha256:f6231713358b088ca2e3df1f9a2a712882831fe80c1a89cc98b0962b9eec06ae"
 },
 "nbformat": 3,
 "nbformat_minor": 0,
 "worksheets": [
  {
   "cells": [
    {
     "cell_type": "markdown",
     "metadata": {},
     "source": [
      "# Homework 4: Can you predict the Midterm Elections?\n",
      "\n",
      "Due: Thursday, October 30, 2014 11:59 PM\n",
      "\n",
      "<a href=https://raw.githubusercontent.com/cs109/2014/master/homework/HW4.ipynb download=HW4.ipynb> Download this assignment</a>\n",
      "\n",
      "#### Submission Instructions\n",
      "To submit your homework, create a folder named lastname_firstinitial_hw# and place your IPython notebooks, data files, and any other files in this folder. Your IPython Notebooks should be completely executed with the results visible in the notebook. We should not have to run any code. Compress the folder (please use .zip compression) and submit to the CS109 dropbox in the appropriate folder. If we cannot access your work because these directions are not followed correctly, we will not grade your work. For the competition (problem 4), we will post a link on Piazza to a Google Form for you to submit your predictions. \n",
      "\n",
      "\n",
      "---\n"
     ]
    },
    {
     "cell_type": "markdown",
     "metadata": {},
     "source": [
      "## Introduction\n",
      "\n",
      "**Add Introduction**\n",
      "\n",
      "You will use the [HuffPost Pollster API](http://elections.huffingtonpost.com/pollster/api) to extract the polls for the current 2014 Senate Midterm Elections and provide a final prediction of the result of each state.\n",
      "\n",
      "#### Data\n",
      "\n",
      "We will use the polls from the [2014 Senate Midterm Elections](http://elections.huffingtonpost.com/pollster) from the [HuffPost Pollster API](http://elections.huffingtonpost.com/pollster/api). \n",
      "\n",
      "---"
     ]
    },
    {
     "cell_type": "markdown",
     "metadata": {},
     "source": [
      "## Problem 1: Data Wrangling\n",
      "\n",
      "We will read in the polls from the [2014 Senate Midterm Elections](http://elections.huffingtonpost.com/pollster) from the [HuffPost Pollster API](http://elections.huffingtonpost.com/pollster/api) and create a dictionary of DataFrames as well a master table information for each race."
     ]
    },
    {
     "cell_type": "markdown",
     "metadata": {},
     "source": [
      "#### Problem 1(a)\n",
      "\n",
      "Read in [this JSON object](http://elections.huffingtonpost.com/pollster/api/charts/?topic=2014-senate) containing the polls for the 2014 Senate Elections using the HuffPost API. Call this JSON object `info`.  This JSON object is imported as a list in Python where each element contains the information for one race.  Use the function `type` to confirm the that `info` is a list. "
     ]
    },
    {
     "cell_type": "code",
     "collapsed": false,
     "input": [
      "%matplotlib inline\n",
      "# http://code.activestate.com/recipes/577305-python-dictionary-of-us-states-and-territories/\n",
      "states_dict = {\n",
      "        'AK': 'Alaska',\n",
      "        'AL': 'Alabama',\n",
      "        'AR': 'Arkansas',\n",
      "        'AS': 'American Samoa',\n",
      "        'AZ': 'Arizona',\n",
      "        'CA': 'California',\n",
      "        'CO': 'Colorado',\n",
      "        'CT': 'Connecticut',\n",
      "        'DC': 'District of Columbia',\n",
      "        'DE': 'Delaware',\n",
      "        'FL': 'Florida',\n",
      "        'GA': 'Georgia',\n",
      "        'GU': 'Guam',\n",
      "        'HI': 'Hawaii',\n",
      "        'IA': 'Iowa',\n",
      "        'ID': 'Idaho',\n",
      "        'IL': 'Illinois',\n",
      "        'IN': 'Indiana',\n",
      "        'KS': 'Kansas',\n",
      "        'KY': 'Kentucky',\n",
      "        'LA': 'Louisiana',\n",
      "        'MA': 'Massachusetts',\n",
      "        'MD': 'Maryland',\n",
      "        'ME': 'Maine',\n",
      "        'MI': 'Michigan',\n",
      "        'MN': 'Minnesota',\n",
      "        'MO': 'Missouri',\n",
      "        'MP': 'Northern Mariana Islands',\n",
      "        'MS': 'Mississippi',\n",
      "        'MT': 'Montana',\n",
      "        'NA': 'National',\n",
      "        'NC': 'North Carolina',\n",
      "        'ND': 'North Dakota',\n",
      "        'NE': 'Nebraska',\n",
      "        'NH': 'New Hampshire',\n",
      "        'NJ': 'New Jersey',\n",
      "        'NM': 'New Mexico',\n",
      "        'NV': 'Nevada',\n",
      "        'NY': 'New York',\n",
      "        'OH': 'Ohio',\n",
      "        'OK': 'Oklahoma',\n",
      "        'OR': 'Oregon',\n",
      "        'PA': 'Pennsylvania',\n",
      "        'PR': 'Puerto Rico',\n",
      "        'RI': 'Rhode Island',\n",
      "        'SC': 'South Carolina',\n",
      "        'SD': 'South Dakota',\n",
      "        'TN': 'Tennessee',\n",
      "        'TX': 'Texas',\n",
      "        'UT': 'Utah',\n",
      "        'VA': 'Virginia',\n",
      "        'VI': 'Virgin Islands',\n",
      "        'VT': 'Vermont',\n",
      "        'WA': 'Washington',\n",
      "        'WI': 'Wisconsin',\n",
      "        'WV': 'West Virginia',\n",
      "        'WY': 'Wyoming'\n",
      "}\n",
      "import scipy as sp\n",
      "import scipy.stats as stats\n",
      "import math \n",
      "import urllib2\n",
      "import requests\n",
      "import json\n",
      "import StringIO\n",
      "import pandas as pd\n",
      "import pprint \n",
      "import matplotlib.pyplot as plt\n",
      "import itertools\n",
      "import datetime as dt\n",
      "import collections\n",
      "pp = pprint.PrettyPrinter(indent=4)\n",
      "data = urllib2.urlopen(\"http://elections.huffingtonpost.com/pollster/api/charts/?topic=2014-senate\").read()\n",
      "info = json.loads(data)\n",
      "type(info)"
     ],
     "language": "python",
     "metadata": {},
     "outputs": [
      {
       "metadata": {},
       "output_type": "pyout",
       "prompt_number": 350,
       "text": [
        "list"
       ]
      }
     ],
     "prompt_number": 350
    },
    {
     "cell_type": "markdown",
     "metadata": {},
     "source": [
      "#### Problem 1(b)\n",
      "\n",
      "For each element of the list in `info` extract the state. We should have one poll per state, but we do not. Why?\n",
      "\n",
      "**Hint**: Use the internet to find out information on the races in each state that has more than one entry. Eliminate entries of the list that represent races that are not happening."
     ]
    },
    {
     "cell_type": "code",
     "collapsed": false,
     "input": [
      "import re\n",
      "get_state = re.compile(\"Alabama|Alaska|Arizona|Arkansas|California|Colorado|Connecticut|Delaware|Florida|Georgia|Hawaii|Idaho|Illinois|Indiana|Iowa|Kansas|Kentucky|Louisiana|Maine|Maryland|Massachusetts|Michigan|Minnesota|Mississippi|Missouri|Montana|Nebraska|Nevada|New\\sHampshire|New\\sJersey|New\\sMexico|New\\sYork|North\\sCarolina|North\\sDakota|Ohio|Oklahoma|Oregon|Pennsylvania|Rhode\\sIsland|South\\sCarolina|South\\sDakota|Tennessee|Texas|Utah|Vermont|Virginia|Washington|West\\sVirginia|Wisconsin|Wyoming\")\n",
      "\n",
      "def closeness(est, currentmin):\n",
      "    d = abs(est[0][\"value\"] - est[1][\"value\"])\n",
      "    curr = abs(currentmin[0][\"value\"] - currentmin[1][\"value\"])\n",
      "    if d < curr:\n",
      "        return True\n",
      "    return False\n",
      "\n",
      "def georgia(est):\n",
      "    if len(est) < 2:\n",
      "        return False\n",
      "    return est[0][\"last_name\"].lower() == \"nunn\" or est[1][\"last_name\"].lower() == \"nunn\"\n",
      "def nh(est):\n",
      "    if len(est) < 2:\n",
      "        return False\n",
      "    return est[0][\"last_name\"].lower() == \"shaheen\" or est[1][\"last_name\"].lower() == \"shaheen\""
     ],
     "language": "python",
     "metadata": {},
     "outputs": [],
     "prompt_number": 174
    },
    {
     "cell_type": "code",
     "collapsed": false,
     "input": [
      "# Alabama: No opponent race uncontested\n",
      "# Georgia = Perdue, nunn\n",
      "# NH = Brown vs. Shaheen\n",
      "helper_states = dict((v,k) for k, v in states_dict.iteritems())\n",
      "\n",
      "races = {}\n",
      "l = []\n",
      "for idx, el in enumerate(info):\n",
      "    key1 = get_state.search(el[\"title\"]).group(0)\n",
      "    if key1 == \"Georgia\" and not georgia(el[\"estimates\"]):\n",
      "        continue\n",
      "    if key1 == \"New Hampshire\" and not nh(el[\"estimates\"]):\n",
      "        continue\n",
      "    get_key2 = lambda el: el[\"estimates\"][0][\"last_name\"] if el[\"estimates\"][0][\"party\"] == \"Rep\" else el[\"estimates\"][1][\"last_name\"] \n",
      "    key2 = get_key2(el)\n",
      "    key = (key1, key2)\n",
      "    if key in races:\n",
      "        if closeness(el[\"estimates\"], races[key][\"estimates\"]):\n",
      "            races[key] = el\n",
      "    else:\n",
      "        races[key] = el\n",
      "    \n",
      "pp.pprint(len(races))"
     ],
     "language": "python",
     "metadata": {},
     "outputs": [
      {
       "output_type": "stream",
       "stream": "stdout",
       "text": [
        "35\n"
       ]
      }
     ],
     "prompt_number": 349
    },
    {
     "cell_type": "markdown",
     "metadata": {},
     "source": [
      "** Your answer here: **"
     ]
    },
    {
     "cell_type": "code",
     "collapsed": false,
     "input": [
      "def build_frame(url):\n",
      "    \"\"\"\n",
      "    Returns a pandas DataFrame object containing\n",
      "    the data returned from the given url\n",
      "    \"\"\"\n",
      "    source = requests.get(url + \".csv\").text\n",
      "    \n",
      "    # Use StringIO because pd.DataFrame.from_csv requires .read() method\n",
      "    s = StringIO.StringIO(source)\n",
      "    \n",
      "    return pd.DataFrame.from_csv(s, index_col=None).convert_objects(\n",
      "            convert_dates=\"coerce\", convert_numeric=True)"
     ],
     "language": "python",
     "metadata": {},
     "outputs": [],
     "prompt_number": 176
    },
    {
     "cell_type": "code",
     "collapsed": false,
     "input": [
      "urls = [None]*len(races)\n",
      "i = 0\n",
      "for key, value in races.iteritems():\n",
      "    urls[i] = value[\"url\"]\n",
      "    i = i + 1\n",
      "dfs = dict((election.split(\"/\")[-1][:-4], build_frame(election)) for election in urls)"
     ],
     "language": "python",
     "metadata": {},
     "outputs": [],
     "prompt_number": 177
    },
    {
     "cell_type": "code",
     "collapsed": false,
     "input": [
      "print len(dfs.keys())"
     ],
     "language": "python",
     "metadata": {},
     "outputs": [
      {
       "output_type": "stream",
       "stream": "stdout",
       "text": [
        "35\n"
       ]
      }
     ],
     "prompt_number": 178
    },
    {
     "cell_type": "markdown",
     "metadata": {},
     "source": [
      "#### Problem 1(d)\n",
      "\n",
      "Now creaate a master table information containing information about each race. Create a pandas DataFrame called `candidates` with rows containing information about each race. The `candidates` DataFrame should have the following columns: \n",
      "\n",
      "1. `State` = entries should be unique\n",
      "2. `R` = name of republican candidate\n",
      "3. `D` = name of non-republican candidate (Democrate or Independent) \n",
      "4. `incumbent` = R, D or NA\n",
      "\n",
      "**Hint**: You will need a considerable amount of data wrangling for this."
     ]
    },
    {
     "cell_type": "code",
     "collapsed": false,
     "input": [
      "converter = {\"Rep\": \"R\", \"Dem\": \"D\"}\n",
      "def full_name(cand):\n",
      "    s =  cand['first_name'] + \" \" + cand['last_name']\n",
      "    return s\n",
      "\n",
      "def process(l, cand, state):\n",
      "    party = cand[\"party\"]\n",
      "    if party == None:\n",
      "        return\n",
      "    if party == \"Rep\":\n",
      "        l[1] = full_name(cand)\n",
      "    if party == \"Dem\":\n",
      "        l[2] = full_name(cand)\n",
      "    if party == \"ind\" and state == \"KS\":\n",
      "        l[2] == full_name(cand)\n",
      "    if cand[\"incumbent\"]:\n",
      "        l[3] = converter[party]\n",
      "\n",
      "candidates = pd.DataFrame(columns=(\"state\", \"R\", \"D\", \"incumbent\"))\n",
      "i = 0 \n",
      "for idx, el in races.iteritems():\n",
      "    pp.pprint\n",
      "    l = [None]*4\n",
      "    l[0] = el[\"state\"]\n",
      "    l[3] = \"NA\"\n",
      "    for cand in el[\"estimates\"]:\n",
      "        process(l, cand, el[\"state\"])\n",
      "    if el[\"state\"] == \"KS\":\n",
      "        l[2] = \"Greg Orman\"\n",
      "    candidates.loc[i] = l\n",
      "    i = i + 1\n",
      "    \n",
      "candidates.head()"
     ],
     "language": "python",
     "metadata": {},
     "outputs": [
      {
       "html": [
        "<div style=\"max-height:1000px;max-width:1500px;overflow:auto;\">\n",
        "<table border=\"1\" class=\"dataframe\">\n",
        "  <thead>\n",
        "    <tr style=\"text-align: right;\">\n",
        "      <th></th>\n",
        "      <th>state</th>\n",
        "      <th>R</th>\n",
        "      <th>D</th>\n",
        "      <th>incumbent</th>\n",
        "    </tr>\n",
        "  </thead>\n",
        "  <tbody>\n",
        "    <tr>\n",
        "      <th>0</th>\n",
        "      <td> RI</td>\n",
        "      <td>   Mark Zaccaria</td>\n",
        "      <td>               Jack Reed</td>\n",
        "      <td>  D</td>\n",
        "    </tr>\n",
        "    <tr>\n",
        "      <th>1</th>\n",
        "      <td> TX</td>\n",
        "      <td>     John Cornyn</td>\n",
        "      <td>           David Alameel</td>\n",
        "      <td>  R</td>\n",
        "    </tr>\n",
        "    <tr>\n",
        "      <th>2</th>\n",
        "      <td> KY</td>\n",
        "      <td> Mitch McConnell</td>\n",
        "      <td> Alison Lundergan Grimes</td>\n",
        "      <td>  R</td>\n",
        "    </tr>\n",
        "    <tr>\n",
        "      <th>3</th>\n",
        "      <td> MN</td>\n",
        "      <td>   Mike McFadden</td>\n",
        "      <td>              Al Franken</td>\n",
        "      <td>  D</td>\n",
        "    </tr>\n",
        "    <tr>\n",
        "      <th>4</th>\n",
        "      <td> OK</td>\n",
        "      <td>  James Lankford</td>\n",
        "      <td>          Connie Johnson</td>\n",
        "      <td> NA</td>\n",
        "    </tr>\n",
        "  </tbody>\n",
        "</table>\n",
        "</div>"
       ],
       "metadata": {},
       "output_type": "pyout",
       "prompt_number": 351,
       "text": [
        "  state                R                        D incumbent\n",
        "0    RI    Mark Zaccaria                Jack Reed         D\n",
        "1    TX      John Cornyn            David Alameel         R\n",
        "2    KY  Mitch McConnell  Alison Lundergan Grimes         R\n",
        "3    MN    Mike McFadden               Al Franken         D\n",
        "4    OK   James Lankford           Connie Johnson        NA"
       ]
      }
     ],
     "prompt_number": 351
    },
    {
     "cell_type": "markdown",
     "metadata": {},
     "source": [
      "## Problem 2: Confidence Intervals\n",
      "\n",
      "Compute a 99% confidence interval for each state. "
     ]
    },
    {
     "cell_type": "markdown",
     "metadata": {},
     "source": [
      "#### Problem 2(a)\n",
      "\n",
      "Assume you have $M$ polls with sample sizes $n_1, \\dots, n_M$. If the polls are independent, what is the average of the variances of each poll if the true proportion is $p$?"
     ]
    },
    {
     "cell_type": "markdown",
     "metadata": {},
     "source": [
      "** Your answer here: **\n",
      "$$\\frac{p(1-p)}{n}$$\n"
     ]
    },
    {
     "cell_type": "markdown",
     "metadata": {},
     "source": [
      "#### Problem 2(b)\n",
      "\n",
      "Compute the square root of these values in Problem 2(b) for the republican candidates in each race. Then, compute the standard deviations of the observed poll results for each race. "
     ]
    },
    {
     "cell_type": "code",
     "collapsed": false,
     "input": [
      "import numpy as np\n",
      "import re \n",
      "\n",
      "# http://stackoverflow.com/questions/483666/python-reverse-inverse-a-mapping\n",
      "state_dict = dict((v,k) for k, v in states_dict.iteritems())\n",
      "\n",
      "def convert_state(key, form=\"short\"):\n",
      "    state_name = re.compile(\"2014-(.*)-se\")\n",
      "    st = state_name.search(key)\n",
      "    s_name = st.group(1).replace(\"-\", \" \").strip()\n",
      "    s_name = s_name.title()\n",
      "    if form == \"short\":\n",
      "        return state_dict[s_name]\n",
      "    else:\n",
      "        return s_name\n",
      "\n",
      "def get_recent_stds(num_months, df, name, intervals=12):\n",
      "    df[\"Start Date\"] = pd.to_datetime(df[\"Start Date\"])\n",
      "    months_ago = dt.datetime.now() - dt.timedelta(num_months*365/intervals)\n",
      "    recent = df[df[\"Start Date\"] > months_ago]\n",
      "    results = [el/100.0 for el in recent[name]]\n",
      "    return np.std(results)\n",
      "\n",
      "\n",
      "l = len(candidates)\n",
      "ideal_stds = [None]*l\n",
      "real_stds = [None]*l\n",
      "real_stds_recent = [None]*l\n",
      "num_obs = [None]*l\n",
      "cands = [None]*l\n",
      "states = [None]*l\n",
      "i = 0\n",
      "\n",
      "for key, value in dfs.iteritems(): \n",
      "    st = convert_state(key)\n",
      "    r =  candidates[candidates[\"state\"] == st]\n",
      "    p = None\n",
      "    Name = None\n",
      "    \n",
      "    try:\n",
      "        name = list(r[\"R\"])[0].split(\" \")[-1]\n",
      "        p = value[name].mean()/100.0\n",
      "    except:\n",
      "        name = list(r[\"R\"])[1].split(\" \")[-1]\n",
      "        p = value[name].mean()/100.0 \n",
      "        \n",
      "    ideal_variance = np.mean([p*(1-p)/el for el in value[\"Number of Observations\"]])\n",
      "    results = [el/100.0 for el in value[name]]\n",
      "    real_std = np.std(results)\n",
      "    ideal_stds[i] = math.sqrt(ideal_variance)\n",
      "    real_stds[i] = real_std\n",
      "    real_stds_recent[i] = get_recent_stds(2, value, name)\n",
      "    num_obs[i] = len(value[name])\n",
      "    cands[i] = name\n",
      "    states[i] = st\n",
      "    i += 1\n",
      "\n",
      "# http://stackoverflow.com/questions/9623114/python-are-two-lists-equal\n",
      "compare = lambda x, y: collections.Counter(x) == collections.Counter(y)\n",
      "assert(not compare(real_stds, real_stds_recent))"
     ],
     "language": "python",
     "metadata": {},
     "outputs": [
      {
       "output_type": "stream",
       "stream": "stdout",
       "text": [
        "[   (u'Wade', 0.04049691346263317),\n",
        "    (u'Daines', 0.027627256579733906),\n",
        "    (u'Capito', 0.034352613304031589),\n",
        "    (u'Gillespie', 0.06039128610997227),\n",
        "    (u'Alexander', 0.03077697552103234),\n",
        "    (u'Land', 0.033063994493468203),\n",
        "    (u'Brown', 0.0406786184622831),\n",
        "    (u'Cassidy', 0.037761029075018701),\n",
        "    (u'Wehby', 0.038366940986542308),\n",
        "    (u'Weh', 0.03981729105133431),\n",
        "    (u'Sasse', 0.030912061651652323),\n",
        "    (u'Enzi', 0.039698866482558409),\n",
        "    (u'Lankford', 0.028136571693556909),\n",
        "    (u'Inhofe', 0.036247605284885909),\n",
        "    (u'Bell', 0.049306413872635201),\n",
        "    (u'Graham', 0.028173569173961615),\n",
        "    (u'Cornyn', 0.063731690665333282),\n",
        "    (u'Perdue', 0.030413812651491099),\n",
        "    (u'Herr', 0.024806946917841695),\n",
        "    (u'Cavasso', 0.043517237963823029),\n",
        "    (u'Tillis', 0.034061828799319148),\n",
        "    (u'Oberweis', 0.024440403706431149),\n",
        "    (u'Sullivan', 0.043303267894936319),\n",
        "    (u'Cotton', 0.037191081799799776),\n",
        "    (u'Cochran', 0.029553976043842214),\n",
        "    (u'Zaccaria', 0.045825756949558399),\n",
        "    (u'Risch', 0.053359368645273735),\n",
        "    (u'McConnell', 0.031345138343180985),\n",
        "    (u'McFadden', 0.031124748994971828),\n",
        "    (u'Roberts', 0.038960228545069177),\n",
        "    (u'Collins', 0.049430348724240264),\n",
        "    (u'Scott', 0.015275252316519444),\n",
        "    (u'Gardner', 0.024949881174961913),\n",
        "    (u'Rounds', 0.060199667773169645),\n",
        "    (u'Ernst', 0.049541104021351014)]\n",
        "[   (u'Wade', 0.019227944215084614),\n",
        "    (u'Daines', 0.02116121806486596),\n",
        "    (u'Capito', 0.019510202225446468),\n",
        "    (u'Gillespie', 0.016651626867895297),\n",
        "    (u'Alexander', 0.016248773725299537),\n",
        "    (u'Land', 0.017800871725934867),\n",
        "    (u'Brown', 0.018712608050151347),\n",
        "    (u'Cassidy', 0.01945858934975331),\n",
        "    (u'Wehby', 0.01829123877396105),\n",
        "    (u'Weh', 0.01756083735533094),\n",
        "    (u'Sasse', 0.01782609629901424),\n",
        "    (u'Enzi', 0.025064950192436694),\n",
        "    (u'Lankford', 0.015694569808344962),\n",
        "    (u'Inhofe', 0.015652349905743167),\n",
        "    (u'Bell', 0.01605137507352493),\n",
        "    (u'Graham', 0.0156440322639501),\n",
        "    (u'Cornyn', 0.014035648964434813),\n",
        "    (u'Perdue', 0.018875647539162214),\n",
        "    (u'Herr', 0.019024791592197346),\n",
        "    (u'Cavasso', 0.014144020698210899),\n",
        "    (u'Tillis', 0.018645196597319506),\n",
        "    (u'Oberweis', 0.015384110498374754),\n",
        "    (u'Sullivan', 0.01971435199383019),\n",
        "    (u'Cotton', 0.018790911989618457),\n",
        "    (u'Cochran', 0.018574713581049614),\n",
        "    (u'Zaccaria', 0.015579709968405601),\n",
        "    (u'Risch', 0.0193968745186494),\n",
        "    (u'McConnell', 0.017293421294976893),\n",
        "    (u'McFadden', 0.016831577362611132),\n",
        "    (u'Roberts', 0.01760049655511186),\n",
        "    (u'Collins', 0.018732047959370505),\n",
        "    (u'Scott', 0.014850256903764285),\n",
        "    (u'Gardner', 0.018080307067899017),\n",
        "    (u'Rounds', 0.02009939243291751),\n",
        "    (u'Ernst', 0.01717649217718942)]\n"
       ]
      }
     ],
     "prompt_number": 190
    },
    {
     "cell_type": "markdown",
     "metadata": {},
     "source": [
      "#### Problem 2(c) \n",
      "\n",
      "Plot observed versus theoretical (average of the theoretical SDs) with the area of the point proportional to number of polls. How do these compare?"
     ]
    },
    {
     "cell_type": "code",
     "collapsed": false,
     "input": [
      "def nice_graph(xlab, ylab, title, axi):\n",
      "    plt.xlabel(xlab)\n",
      "    plt.ylabel(ylab)\n",
      "    plt.title(title)\n",
      "    plt.axis(axi)"
     ],
     "language": "python",
     "metadata": {},
     "outputs": [],
     "prompt_number": 191
    },
    {
     "cell_type": "code",
     "collapsed": false,
     "input": [
      "colors_1 = itertools.cycle([\"r\", \"b\", \"g\", \"orange\"])\n",
      "colors_2 = itertools.cycle([\"r\", \"b\", \"g\", \"orange\"])\n",
      "x = xrange(0,l)\n",
      "plt.scatter(x, ideal_stds, c=[next(colors_1) for i in x], s=[n for n in num_obs], marker=\"^\", label=\"Theoretical\")\n",
      "plt.scatter(x, real_stds, c=[next(colors_2) for i in x], s=[n for n in num_obs], label=\"Real\")\n",
      "plt.xticks(x, cands, rotation=\"90\")\n",
      "nice_graph(\"Candidates\", \"Standard Deviations\", \"Observed vs. Real\", [-1, l+1, .01, .07])\n",
      "plt.legend(loc=2,bbox_to_anchor=(1, 1))\n",
      "plt.show()\n",
      "plt.figure()\n",
      "plt.scatter(ideal_stds, real_stds, s=[n for n in num_obs], alpha=.4)\n",
      "plt.plot(x, x)\n",
      "nice_graph(\"Ideal Std Error\",\"Real Std Errorr\", \"Ideal vs Real Std Err\", [0.01,.06,0.01,.06])"
     ],
     "language": "python",
     "metadata": {},
     "outputs": [
      {
       "metadata": {},
       "output_type": "display_data",
       "png": "[encoded data removed]",
       "text": [
        "<matplotlib.figure.Figure at 0x107c3c4d0>"
       ]
      },
      {
       "metadata": {},
       "output_type": "display_data",
       "png": "[encoded data removed]",
       "text": [
        "<matplotlib.figure.Figure at 0x1095c7b90>"
       ]
      }
     ],
     "prompt_number": 192
    },
    {
     "cell_type": "markdown",
     "metadata": {},
     "source": [
      "** Your answer here: **"
     ]
    },
    {
     "cell_type": "markdown",
     "metadata": {},
     "source": [
      "#### Problem 2(d)\n",
      "\n",
      "Repeat Problem 2(c) but include only the most recent polls from the last two months. Do they match better or worse or the same? Can we just trust the theoretical values?"
     ]
    },
    {
     "cell_type": "code",
     "collapsed": false,
     "input": [
      "colors_1 = itertools.cycle([\"r\", \"b\", \"g\", \"orange\"])\n",
      "colors_2 = itertools.cycle([\"r\", \"b\", \"g\", \"orange\"])\n",
      "x = xrange(0,l)\n",
      "plt.scatter(x, ideal_stds, c=[next(colors_1) for i in x], s=[n for n in num_obs], marker=\"^\", label=\"Theoretical\")\n",
      "plt.scatter(x, real_stds_recent, c=[next(colors_2) for i in x], s=[n for n in num_obs], label=\"Real\")\n",
      "plt.xticks(x, cands, rotation=\"90\")\n",
      "nice_graph(\"Candidates\", \"Standard Deviations\", \"Observed vs. Real\", [-1, l+1, .01, .07])\n",
      "plt.legend(loc=2,bbox_to_anchor=(1, 1))\n",
      "plt.show()\n",
      "plt.figure()\n",
      "plt.scatter(ideal_stds,real_stds_recent, s=[n for n in num_obs], alpha=.4)\n",
      "plt.plot(x, x)\n",
      "nice_graph(\"Ideal Std Error\",\"Real Std Errorr\", \"Ideal vs Real Std Err\", [0.01,.06,0.01,.06])"
     ],
     "language": "python",
     "metadata": {},
     "outputs": [
      {
       "metadata": {},
       "output_type": "display_data",
       "png": "[encoded data removed]",
       "text": [
        "<matplotlib.figure.Figure at 0x1098cf550>"
       ]
      },
      {
       "metadata": {},
       "output_type": "display_data",
       "png": "[encoded data removed]",
       "text": [
        "<matplotlib.figure.Figure at 0x1098b23d0>"
       ]
      }
     ],
     "prompt_number": 193
    },
    {
     "cell_type": "markdown",
     "metadata": {},
     "source": [
      "** Your answer here: **"
     ]
    },
    {
     "cell_type": "markdown",
     "metadata": {},
     "source": [
      "#### Problem 2(e)\n",
      "\n",
      "Create a scatter plot with each point representing one state. Is there one or more races that are outlier in that it they have much larger variabilityes than expected ? Explore the original poll data and explain why the discrepancy?"
     ]
    },
    {
     "cell_type": "code",
     "collapsed": false,
     "input": [
      "interested = zip(zip(ideal_stds, real_stds), states)\n",
      "x = range(0, 10)\n",
      "plt.plot(x, x)\n",
      "for el in interested:\n",
      "    plt.annotate(s=el[1], xy=(el[0][0], el[0][1]))\n",
      "nice_graph(\"Distribution\", \"Differences Between Theoretical and Observed\", \"Distribution of Differences\", [0.01,.06,0.01,.06])"
     ],
     "language": "python",
     "metadata": {},
     "outputs": [
      {
       "metadata": {},
       "output_type": "display_data",
       "png": "[encoded data removed]",
       "text": [
        "<matplotlib.figure.Figure at 0x109891390>"
       ]
      }
     ],
     "prompt_number": 194
    },
    {
     "cell_type": "markdown",
     "metadata": {},
     "source": [
      "** Your answer here: **"
     ]
    },
    {
     "cell_type": "markdown",
     "metadata": {},
     "source": [
      "#### Problem 2(f)\n",
      "\n",
      " Construct confidence intervals for the difference in each race. Use either theoretical or data driven estimates of the standard error depending on your answer to this question. Use the results in Problem 2(e), to justify your choice.\n"
     ]
    },
    {
     "cell_type": "code",
     "collapsed": false,
     "input": [
      "running_means = []\n",
      "check_results = {}\n",
      "nate_silver = {\"Alaska\":\"R\",\n",
      "\"Arkansas\":\"R\",\n",
      "\"Colorado\":\"R\",\n",
      "\"Delaware\":\"D\",\n",
      "\"Georgia\":\"R\",\n",
      "\"Hawaii\":\"D\",\n",
      "\"Idaho\":\"R\",\n",
      "\"Illinois\":\"D\",\n",
      "\"Iowa\":\"R\",\n",
      "\"Kansas\":\"I\",\n",
      "\"Kentucky\":\"R\",\n",
      "\"Louisiana\":\"R\",\n",
      "\"Maine\":\"R\",\n",
      "\"Massachusetts\":\"D\",\n",
      "\"Michigan\":\"D\",\n",
      "\"Minnesota\":\"D\",\n",
      "\"Mississippi\":\"R\",\n",
      "\"Montana\":\"R\",\n",
      "\"North Carolina\":\"D\",\n",
      "\"New Hampshire\":\"D\",\n",
      "\"New Jersey\":\"D\",\n",
      "\"New Mexico\":\"D\",\n",
      "\"Nebraska\":\"R\",\n",
      "\"Oklahoma\":\"R\",\n",
      "\"Oregon\":\"D\",\n",
      "\"Rhode Island\":\"D\",\n",
      "\"South Carolina\":\"R\",\n",
      "\"South Dakota\":\"R\",\n",
      "\"Tennessee\":\"R\",\n",
      "\"Texas\":\"R\",\n",
      "\"Virginia\":\"D\",\n",
      "\"West Virginia\":\"R\",\n",
      "\"Wyoming\":\"R\"}\n",
      "\n",
      "def get_correctname(party, cand, cols):\n",
      "    try:\n",
      "        s = set(map(lambda x: x.split(\" \")[-1], cand[party]))\n",
      "    except:\n",
      "        print cand\n",
      "    c = set(cols)\n",
      "    res = c.intersection(s)\n",
      "    if len(res) > 1:\n",
      "        print res\n",
      "        return None\n",
      "    else:\n",
      "        return list(res)[0]\n",
      "    \n",
      "for key, value in dfs.iteritems(): \n",
      "    st = convert_state(key)\n",
      "    c =  candidates[candidates[\"state\"] == st]\n",
      "    name_rep = get_correctname(\"R\", c, value.columns)\n",
      "    name_dem = get_correctname(\"D\", c, value.columns)\n",
      "    diffs = value[name_rep]/100 - value[name_dem]/100\n",
      "    m = diffs.mean()\n",
      "    st_long = convert_state(key, form=\"long\").title()\n",
      "    if m > 0:\n",
      "        check_results[st_long] = \"R\"\n",
      "    else:\n",
      "        check_results[st_long] = \"D\"\n",
      "        \n",
      "    running_means.append(m)\n",
      "    s = sp.stats.sem(diffs)\n",
      "    h = s * sp.stats.t._ppf((1+.99)/2., len(diffs)-1)\n",
      "    print \"State: %s, Mean: %f, Confidence: (%f, %f), Me: %s, Nate: %s\" % (st, m, m-h, m+h,check_results[st_long], nate_silver[st_long])\n",
      "print \"Means USA: Mean: %f Std: %f\" % (np.mean(running_means), np.std(running_means))\n",
      "\n",
      "correctness = 0\n",
      "for key, value in check_results.iteritems():\n",
      "    if value == nate_silver[key]:\n",
      "        correctness = correctness + 1\n",
      "print \"Similarity to Nate: %f\" % (float(correctness)/len(nate_silver))\n",
      "\n"
     ],
     "language": "python",
     "metadata": {},
     "outputs": [
      {
       "output_type": "stream",
       "stream": "stdout",
       "text": [
        "State: DE, Mean: -0.174000, Confidence: (-0.269027, -0.078973), Me: D, Nate: D\n",
        "State: MT, Mean: 0.171429, Confidence: (0.129838, 0.213020), Me: R, Nate: R\n",
        "State: WV, Mean: 0.140714, Confidence: (0.091952, 0.189477), Me: R, Nate: R\n",
        "State: VA, Mean: -0.154545, Confidence: (-0.194662, -0.114429), Me: D, Nate: D\n",
        "State: TN, Mean: 0.190000, Confidence: (0.112790, 0.267210), Me: R, Nate: R\n",
        "State: MI, Mean: -0.055152, Confidence: (-0.072878, -0.037425), Me: D, Nate: D\n",
        "State: NH, Mean: -0.055833, Confidence: (-0.071322, -0.040345), Me: D, Nate: D\n",
        "State: LA, Mean: 0.011212, Confidence: (-0.013292, 0.035716), Me: R, Nate: R\n",
        "State: OR, Mean: -0.133158, Confidence: (-0.176798, -0.089518), Me: D, Nate: D\n",
        "State: NM, Mean: -0.145833, Confidence: (-0.192099, -0.099568), Me: D, Nate: D\n",
        "State: NE, Mean: 0.245000, Confidence: (0.176138, 0.313862), Me: R, Nate: R\n",
        "State: WY, Mean: 0.448000, Confidence: (0.277338, 0.618662), Me: R, Nate: R\n",
        "State: OK, Mean: 0.318333, Confidence: (0.220439, 0.416228), Me: R, Nate: R\n",
        "State: OK, Mean: 0.333333, Confidence: (0.234749, 0.431917), Me: R, Nate: R\n",
        "State: NJ, Mean: -0.140714, Confidence: (-0.174052, -0.107376), Me: D, Nate: D\n",
        "State: SC, Mean: 0.150000, Confidence: (0.116933, 0.183067), Me: R, Nate: R\n",
        "State: TX, Mean: 0.192222, Confidence: (0.145508, 0.238937), Me: R, Nate: R\n",
        "State: GA, Mean: 0.015714, Confidence: (-0.020250, 0.051678), Me: R, Nate: R"
       ]
      },
      {
       "output_type": "stream",
       "stream": "stdout",
       "text": [
        "\n",
        "State: MA, Mean: -0.224615, Confidence: (-0.259990, -0.189240), Me: D, Nate: D\n",
        "State: HI, Mean: -0.403750, Confidence: (-0.533504, -0.273996), Me: D, Nate: D\n",
        "State: NC, Mean: -0.026081, Confidence: (-0.038462, -0.013701), Me: D, Nate: D\n",
        "State: IL, Mean: -0.124000, Confidence: (-0.155531, -0.092469), Me: D, Nate: D\n",
        "State: AK, Mean: -0.004118, Confidence: (-0.030385, 0.022150), Me: D, Nate: R\n",
        "State: AR, Mean: 0.015082, Confidence: (-0.001739, 0.031903), Me: R, Nate: R\n",
        "State: MS, Mean: 0.155000, Confidence: (0.112654, 0.197346), Me: R, Nate: R\n",
        "State: RI, Mean: -0.355000, Confidence: (-0.680645, -0.029355), Me: D, Nate: D\n",
        "State: ID, Mean: 0.298333, Confidence: (0.181742, 0.414925), Me: R, Nate: R\n",
        "State: KY, Mean: 0.030000, Confidence: (0.016617, 0.043383), Me: R, Nate: R\n",
        "State: MN, Mean: -0.108000, Confidence: (-0.131353, -0.084647), Me: D, Nate: D\n",
        "State: KS, Mean: 0.015000, Confidence: (-0.040925, 0.070925), Me: R, Nate: I\n",
        "State: ME, Mean: 0.323750, Confidence: (0.254860, 0.392640), Me: R, Nate: R\n",
        "State: SC, Mean: 0.215000, Confidence: (0.135202, 0.294798), Me: R, Nate: R\n",
        "State: CO, Mean: 0.005556, Confidence: (-0.008315, 0.019426), Me: R, Nate: R\n",
        "State: SD, Mean: 0.130000, Confidence: (0.096867, 0.163133), Me: R, Nate: R"
       ]
      },
      {
       "output_type": "stream",
       "stream": "stdout",
       "text": [
        "\n",
        "State: IA, Mean: -0.000741, Confidence: (-0.016642, 0.015160), Me: D, Nate: R\n",
        "Means USA: Mean: 0.037090 Std: 0.195582\n",
        "Similarity to Nate: 0.909091\n"
       ]
      }
     ],
     "prompt_number": 340
    },
    {
     "cell_type": "markdown",
     "metadata": {},
     "source": [
      "# Problem 3: Prediction and Posterior Probabilities\n",
      "\n",
      "Perform a Bayesian analysis to predict the probability of Republicans winning in each state then provide a posterior distribution of the number of republicans in the senate."
     ]
    },
    {
     "cell_type": "markdown",
     "metadata": {},
     "source": [
      "#### Problem 3(a)\n",
      "\n",
      "First, we define a Bayesian model for each race. The prior for the difference $d$ between republicans and democtrats will be $N(\\mu,\\tau^2)$. Say before seeing poll data you have idea who is going to win, what should $\\mu$ be? How about $\\tau$, should it be large or small? "
     ]
    },
    {
     "cell_type": "markdown",
     "metadata": {},
     "source": [
      "** Your answer here: ** \n",
      "\n",
      "$\\mu = 0$ Because we expected that each candidate has the same oppurtunity to win.\n",
      "\n",
      "$\\tau$ is equal the standard deviation of the differences of all of the races"
     ]
    },
    {
     "cell_type": "markdown",
     "metadata": {},
     "source": [
      "#### Problem 3(b)\n",
      "\n",
      "What is the distribution of $d$ conditioned on $\\theta$. What is the posterior distribution of $\\theta| d$? \n",
      "\n",
      "**Hint**: Use normal approximation. \n",
      "\n"
     ]
    },
    {
     "cell_type": "markdown",
     "metadata": {},
     "source": [
      "**Your answer here:**\n",
      "\n",
      "Based on the lecture slides, we saw that $\\theta ~ N(0, \\tau^2)$ and that based upon the continuous for of Bayes Rule we can predict that\n",
      "$d|\\theta = N(\\theta, \\sigma^2)$\n",
      "\n",
      "Because we can assume that the differences are normally distributed we know we are looking for the expected out come of d given $\\theta$\n",
      "Therefore: $E(\\theta|d) = B\\mu + (1-B)d = \\mu + (1-B)\\cdot(y-\\mu) => B = \\frac{\\sigma^2}{\\sigma^2 + \\tau^2}$"
     ]
    },
    {
     "cell_type": "markdown",
     "metadata": {},
     "source": [
      "#### Problem 3(c)\n",
      "\n",
      "The prior represents what we think before hand. We do not know who is expected to win, so we assume $\\mu=0$. For this problem estimate $\\tau$ using the observed differences across states (Hint: $\\tau$ represents the standard deviation of a typical difference). Compute the posterior mean for each state and plot it against original average. Is there much change? Why or why not? "
     ]
    },
    {
     "cell_type": "code",
     "collapsed": false,
     "input": [
      "def compute_B(sigma, tau):\n",
      "    return sigma**2/(sigma**2+tau**2)\n",
      "def post_mean(mu, tau, sigma, y):\n",
      "    b = compute_B(sigma, tau)\n",
      "    return b*mu + (1-b)*y\n",
      "\n",
      "tau = np.std(running_means)\n",
      "mu = np.mean(running_means)\n",
      "\n",
      "running_post_means = [None]*len(running_means)\n",
      "i = 0 \n",
      "cands = []\n",
      "for key, value in dfs.iteritems(): \n",
      "    st = convert_state(key)\n",
      "    c =  candidates[candidates[\"state\"] == st]\n",
      "    name_rep = get_correctname(\"R\", c, value.columns)\n",
      "    name_dem = get_correctname(\"D\", c, value.columns)\n",
      "    cands.append(name_rep)\n",
      "    diffs = value[name_rep]/100 - value[name_dem]/100\n",
      "    y = diffs.mean()\n",
      "    sigma = diffs.std()\n",
      "    running_post_means[i] = post_mean(0, .33, sigma, y)\n",
      "    i = i + 1\n",
      "    \n",
      "plt.scatter(range(0, len(running_means)),map(lambda x: x/100.0, running_post_means), marker=\"^\", c=\"r\", alpha=.4, label=\"Posterior Mean\")\n",
      "plt.scatter(range(0, len(running_means)), map(lambda x: x/100.0, running_means), c=\"b\", alpha=.4, label=\"Observed Mean\")\n",
      "plt.xticks(range(0, len(running_means)), cands, rotation=\"90\")\n",
      "nice_graph(\"Candidates\", \"Means\", \"Posterior and Observed Means Per Candidate\", [-1, 35, -.005, .005])\n",
      "plt.legend(loc=2,bbox_to_anchor=(1, 1))\n",
      "plt.figure()\n",
      "plt.scatter(running_means, running_post_means)\n",
      "nice_graph(\"Observed Means\", \"Posterior Means\", \"Posterior and Observed Means\", [-.6, .6, -.5, .5])"
     ],
     "language": "python",
     "metadata": {},
     "outputs": [
      {
       "metadata": {},
       "output_type": "display_data",
       "png": "[encoded data removed]",
       "text": [
        "<matplotlib.figure.Figure at 0x10e295d90>"
       ]
      },
      {
       "metadata": {},
       "output_type": "display_data",
       "png": "[encoded data removed]",
       "text": [
        "<matplotlib.figure.Figure at 0x10cd4ee90>"
       ]
      }
     ],
     "prompt_number": 256
    },
    {
     "cell_type": "markdown",
     "metadata": {},
     "source": [
      "**Your answer here:**"
     ]
    },
    {
     "cell_type": "markdown",
     "metadata": {},
     "source": [
      "#### Problem 3(d)\n",
      "\n",
      "For each state, report a probabilty of Republicans winning. How does your answer here compare to the other aggregators?"
     ]
    },
    {
     "cell_type": "code",
     "collapsed": false,
     "input": [
      "s = np.random.normal(np.mean(running_post_means), np.std(running_post_means), 1000)\n",
      "rep = 0\n",
      "i = 0\n",
      "for key, value in dfs.iteritems():\n",
      "    h = stats.norm(np.mean(running_post_means), np.std(running_post_means)).cdf(running_post_means[i])\n",
      "    st = convert_state(key)\n",
      "    i = i + 1\n",
      "    print (\"%d %s: %f\" % (i, st, h))\n",
      "    if h > .5:\n",
      "        rep = rep + 1\n",
      "        \n",
      "print(rep/float(len(dfs)))\n",
      "    "
     ],
     "language": "python",
     "metadata": {},
     "outputs": [
      {
       "output_type": "stream",
       "stream": "stdout",
       "text": [
        "1 DE: 0.132212\n",
        "2 MT: 0.763371\n",
        "3 WV: 0.703558\n",
        "4 VA: 0.159412\n",
        "5 TN: 0.789379\n",
        "6 MI: 0.313239\n",
        "7 NH: 0.311123\n",
        "8 LA: 0.444777\n",
        "9 OR: 0.187651\n",
        "10 NM: 0.167603\n",
        "11 NE: 0.864244\n",
        "12 WY: 0.980756\n",
        "13 OK: 0.928009\n",
        "14 OK: 0.938039\n",
        "15 NJ: 0.172807\n",
        "16 SC: 0.727090"
       ]
      },
      {
       "output_type": "stream",
       "stream": "stdout",
       "text": [
        "\n",
        "17 TX: 0.793938\n",
        "18 GA: 0.454326\n",
        "19 MA: 0.082684\n",
        "20 HI: 0.014972\n",
        "21 NC: 0.368422\n",
        "22 IL: 0.196335\n",
        "23 AK: 0.413208\n",
        "24 AR: 0.452877\n",
        "25 MS: 0.734776\n",
        "26 RI: 0.027933"
       ]
      },
      {
       "output_type": "stream",
       "stream": "stdout",
       "text": [
        "\n",
        "27 ID: 0.909340\n",
        "28 KY: 0.484663\n",
        "29 MN: 0.220109\n",
        "30 KS: 0.450604\n",
        "31 ME: 0.921416\n",
        "32 SC: 0.824999\n",
        "33 CO: 0.433186\n",
        "34 SD: 0.684335\n",
        "35 IA: 0.420082\n",
        "0.4\n"
       ]
      }
     ],
     "prompt_number": 257
    },
    {
     "cell_type": "markdown",
     "metadata": {},
     "source": [
      "**Your answer here:**"
     ]
    },
    {
     "cell_type": "markdown",
     "metadata": {},
     "source": [
      "#### Problem 3(e)\n",
      "\n",
      "Use the posterior distributions in a Monte Carlo simulation to generate election results. In each simulation compute the total number of seats the Republican control. Show a histogram of these results."
     ]
    },
    {
     "cell_type": "code",
     "collapsed": false,
     "input": [
      "import random\n",
      "number_of_seats = []\n",
      "for i in xrange(0, 1000):\n",
      "    s = np.random.normal(np.mean(running_post_means), np.std(running_post_means), 1000)\n",
      "    i = 0\n",
      "    num_replicans = 0\n",
      "    for key, value in dfs.iteritems():\n",
      "        r = random.uniform(0,1)\n",
      "        h = stats.norm(np.mean(running_post_means), np.std(running_post_means)).cdf(running_post_means[i])\n",
      "        if r < h:\n",
      "            num_replicans = num_replicans + 1\n",
      "        i = i + 1\n",
      "    # 30 for the remaining republican seats, and one for alabama which is uncontested\n",
      "    number_of_seats.append(num_replicans+31)\n",
      "\n",
      "plt.hist(number_of_seats, 20)"
     ],
     "language": "python",
     "metadata": {},
     "outputs": [
      {
       "metadata": {},
       "output_type": "pyout",
       "prompt_number": 233,
       "text": [
        "(array([   2.,    5.,   15.,   25.,   53.,   92.,    0.,  127.,  179.,\n",
        "         167.,  138.,   89.,   57.,    0.,   37.,   12.,    0.,    1.,\n",
        "           0.,    1.]),\n",
        " array([ 41.  ,  41.85,  42.7 ,  43.55,  44.4 ,  45.25,  46.1 ,  46.95,\n",
        "         47.8 ,  48.65,  49.5 ,  50.35,  51.2 ,  52.05,  52.9 ,  53.75,\n",
        "         54.6 ,  55.45,  56.3 ,  57.15,  58.  ]),\n",
        " <a list of 20 Patch objects>)"
       ]
      },
      {
       "metadata": {},
       "output_type": "display_data",
       "png": "[encoded data removed]",
       "text": [
        "<matplotlib.figure.Figure at 0x10b74a710>"
       ]
      }
     ],
     "prompt_number": 233
    },
    {
     "cell_type": "markdown",
     "metadata": {},
     "source": [
      "## Problem 4\n",
      "\n",
      "Predict the results for the 2014 Midterm Elections. We will have a three competitions with the terms for scoring entries described above. For both questions below, **explain** or provide commentary on how you arrived at your predictions including code. \n",
      "\n",
      "**Hint**: Use election results from 2010, 2012 to build and test models."
     ]
    },
    {
     "cell_type": "markdown",
     "metadata": {},
     "source": [
      "#### Problem 4(a)\n",
      "\n",
      "Predict the number of Republican senators. You may provide an interval. Smallest interval that includes the election day result wins. \n",
      "\n",
      "**Note**: we want the total so add the numbers of those that are not up for election."
     ]
    },
    {
     "cell_type": "code",
     "collapsed": false,
     "input": [
      "from sklearn import linear_model\n",
      "memo = {}\n",
      "\n",
      "def convert_huff_to_df(url):\n",
      "    d = urllib2.urlopen(url).read()\n",
      "    polls = pd.read_json(d)\n",
      "    return dict((election.split(\"/\")[-1][:-4], build_frame(election)) for election in polls.url)\n",
      "\n",
      "\n",
      "def get_recent(num_months, df, name, intervals=12):\n",
      "    df[\"Start Date\"] = pd.to_datetime(df[\"Start Date\"])\n",
      "    months_ago = dt.datetime.now() - dt.timedelta(num_months*365/intervals)\n",
      "    recent = df[df[\"Start Date\"] > months_ago]\n",
      "    return recent\n",
      "\n",
      "def convert_dict_to_recent(d, year=2014):\n",
      "    ret = {}\n",
      "    for key, value in d.iteritems():\n",
      "        # Note, I would limit this to more recent polls however, we did not have enough data to \n",
      "        # support this and I was getting standard deviations of 0. \n",
      "        # However, when I was allowing my stds to go to 0 I had 100% the same predictions as\n",
      "        # Nate Silver :)\n",
      "        ret[key] = get_recent(365, value, 365, intervals=365)\n",
      "    return ret\n",
      "\n",
      "def filter_by_pollster(d, p, year=2012):\n",
      "    if year == 2012 or year == 2010:\n",
      "        return d[d.pollster.isin(p)]\n",
      "    return d[d.Pollster.isin(p)]\n",
      "\n",
      "def get_average_differences(df, name_rep, name_dem):\n",
      "    diffs = []\n",
      "    for p in df.Pollster:\n",
      "        dat = df[df.Pollster == p]\n",
      "        diffs.append(np.mean(dat[name_rep]/100 - dat[name_dem]/100)) \n",
      "    return diffs\n",
      "\n",
      "def pollsters_with_historical_data(df, d12, d10):\n",
      "    l = set()\n",
      "    for key, value in df.iteritems():\n",
      "        l.update(value.Pollster)\n",
      "    d12_good = filter_by_pollster(d12, l) \n",
      "    d10_good = filter_by_pollster(d10, l) \n",
      "    p = set(d12_good.pollster)\n",
      "    p = p.union(set(d10_good.pollster))\n",
      "    return l.intersection(p)\n",
      "\n",
      "def split_by_historical(df, pollsters):\n",
      "    return df[df.Pollster.isin(pollsters)], df[np.logical_not(df.Pollster.isin(pollsters))]\n",
      "    \n",
      "\n",
      "def build_single_linear_regression(df, p):\n",
      "    if p in memo:\n",
      "        return memo[p][0], memo[p][1]\n",
      "    clf = linear_model.LinearRegression()\n",
      "    X_train = pd.DataFrame(columns=[\"Diff\"])\n",
      "    Y_train = pd.DataFrame(columns=[\"Diff\"])\n",
      "    X_train[\"Diff\"] = df[\"vote.rep\"]/100 - df[\"vote.dem\"]/100\n",
      "    Y_train[\"Diff\"] = df[\"real.rep\"]/100 - df[\"real.dem\"]/100\n",
      "    clf.fit(X_train.values, Y_train.values)\n",
      "    memo[p] = (clf.coef_, clf.intercept_)\n",
      "    return  memo[p][0], memo[p][1]\n",
      "    \n",
      "def build_aggregate_model(d14, name_rep, name_dem, d_old):\n",
      "    dat = d_old[d_old.pollster.isin(d14.Pollster)]\n",
      "    y_hats = []\n",
      "    for p in set(d14.Pollster):\n",
      "        d_p = dat[dat.pollster == p]\n",
      "        coef, intercept = build_single_linear_regression(d_p, p)\n",
      "        d14_p = d14[d14.Pollster == p]\n",
      "        m = np.mean(map(lambda x: coef*x + intercept, d14_p[name_rep]/100 - d14_p[name_dem]/100))\n",
      "        y_hats.append(m)\n",
      "    return y_hats\n",
      "    "
     ],
     "language": "python",
     "metadata": {},
     "outputs": [],
     "prompt_number": 336
    },
    {
     "cell_type": "code",
     "collapsed": false,
     "input": [
      "d12 = pd.io.parsers.read_csv(\"2012.csv\")\n",
      "d10 = pd.io.parsers.read_csv(\"2010.csv\")\n",
      "check_results = {}\n",
      "pollsters = pollsters_with_historical_data(dfs, d12, d10)\n",
      "d_old = pd.merge(d12, d10, how=\"outer\")\n",
      "interest = \"\"\n",
      "results_without = {}\n",
      "restults_with = {}\n",
      "recent = convert_dict_to_recent(dfs)\n",
      "predictions_perstate = {}\n",
      "for key, value in recent.iteritems():\n",
      "    st = convert_state(key)\n",
      "    c =  candidates[candidates[\"state\"] == st]\n",
      "    name_rep = get_correctname(\"R\", c, value.columns)\n",
      "    name_dem = get_correctname(\"D\", c, value.columns)\n",
      "    \n",
      "    # Split data into those which include old pollsters and not\n",
      "    with_historical, without_historical = split_by_historical(value, pollsters)\n",
      "    # model 1\n",
      "    pred1_list = build_aggregate_model(with_historical, name_rep, name_dem, d_old)\n",
      "    # model 2\n",
      "    pred2_list = get_average_differences(without_historical, name_rep, name_dem)\n",
      "    preds = pred1_list + pred2_list\n",
      "    preds_df = pd.DataFrame(columns=[\"Preds\"])\n",
      "    preds_df[\"Preds\"] = preds\n",
      "    #Statistical Computations\n",
      "    s = sp.stats.sem(preds_df)\n",
      "    h = s * sp.stats.t._ppf((1+.99)/2., len(preds_df)-1)\n",
      "    m = preds_df.mean()\n",
      "    st_long = convert_state(key, form=\"long\").title()\n",
      "    if float(m) > 0:\n",
      "        check_results[st_long] = \"R\"\n",
      "    else:\n",
      "        # I am sorry for this hack, but because the candidates data frame\n",
      "        # is limited to R/D and I use it to get names for people\n",
      "        # I just record Greg as a Democrat\n",
      "        if st == \"KS\":\n",
      "            check_results[st_long] = \"I\"\n",
      "        else:\n",
      "            check_results[st_long] = \"D\"\n",
      "    predictions_perstate[key] = preds\n",
      "\n",
      "import random\n",
      "new_seats = [None]*1000\n",
      "for i in xrange(0, 1000):\n",
      "    num_replicans = 0\n",
      "    for key, value in predictions_perstate.iteritems():\n",
      "        m = np.mean(value)\n",
      "        std = np.std(value)\n",
      "        s = np.random.choice(np.random.normal(m, std, 1000))\n",
      "        if s > 0:\n",
      "            num_replicans = num_replicans + 1\n",
      "    # 30 for the remaining republican seats, and one for alabama which is uncontested\n",
      "    new_seats[i] = num_replicans+31\n",
      "\n",
      "plt.hist(new_seats, 5)\n",
      "s = sp.stats.sem(new_seats)\n",
      "h = s * sp.stats.t._ppf((1+.95)/2., len(new_seats)-1)\n",
      "m = np.mean(new_seats)\n",
      "print \"Expected Number of Republicans: %f, Confidence Interval (%f, %f)\" % (m, m-h, m+h)"
     ],
     "language": "python",
     "metadata": {},
     "outputs": [
      {
       "output_type": "stream",
       "stream": "stdout",
       "text": [
        "Expected Number of Republicans: 50.257000, Confidence Interval (50.161603, 50.352397)\n"
       ]
      },
      {
       "metadata": {},
       "output_type": "display_data",
       "png": "[encoded data removed]",
       "text": [
        "<matplotlib.figure.Figure at 0x10fe81d10>"
       ]
      }
     ],
     "prompt_number": 345
    },
    {
     "cell_type": "markdown",
     "metadata": {},
     "source": [
      "**Provide an explanation of methodology here**:"
     ]
    },
    {
     "cell_type": "markdown",
     "metadata": {},
     "source": [
      "#### Problem 4(b)\n",
      "\n",
      "Predict the R-D difference in each state. The predictions that minimize the residual sum of squares between predicted and observed differences wins."
     ]
    },
    {
     "cell_type": "code",
     "collapsed": false,
     "input": [
      "d = {key: 100*np.mean(value) for key, value in predictions_perstate.iteritems()}\n",
      "d"
     ],
     "language": "python",
     "metadata": {},
     "outputs": [
      {
       "metadata": {},
       "output_type": "pyout",
       "prompt_number": 346,
       "text": [
        "{u'2014-alaska-senate-sullivan-vs-be': 1.5620069806081893,\n",
        " u'2014-arkansas-senate-cotton-vs-p': 1.2734656646716036,\n",
        " u'2014-colorado-senate-gardner-vs-u': -0.26186549150087679,\n",
        " u'2014-delaware-senate-wade-vs-c': -16.460429994222253,\n",
        " u'2014-georgia-senate-ru': 0.64492526389280813,\n",
        " u'2014-hawaii-senate-cavasso-vs-sc': -43.468596586682374,\n",
        " u'2014-idaho-senate-risch-vs-mitc': 29.949290684183953,\n",
        " u'2014-illinois-senate-oberweis-vs-du': -10.516469369779937,\n",
        " u'2014-iowa-senate-ernst-vs-br': 0.8470427213704147,\n",
        " u'2014-kansas-senate-roberts-vs-orman-vs-ta': 1.7007392127803955,\n",
        " u'2014-kentucky-senate-mcconnell-vs-gr': 2.4074140079641615,\n",
        " u'2014-louisiana-senate-cassidy-vs-land': 3.7511721963717242,\n",
        " u'2014-maine-senate-collins-vs-bel': 29.481305897408145,\n",
        " u'2014-massachusetts-senate-herr-vs-ma': -18.02904912224728,\n",
        " u'2014-michigan-senate-land-vs-pe': -7.1146674755058097,\n",
        " u'2014-minnesota-senate-mcfadden-vs-fra': -9.5269377222649094,\n",
        " u'2014-mississippi-senate-cochran-vs-chil': 15.432186421650366,\n",
        " u'2014-montana-senate-daines-vs-cu': 14.319169859764362,\n",
        " u'2014-nebraska-senate-sasse-vs-do': 25.20761688360988,\n",
        " u'2014-new-hampshire-senate-brown-vs-sha': -4.6625722811452475,\n",
        " u'2014-new-jersey-senate-bell-vs-bo': -14.18424757010945,\n",
        " u'2014-new-mexico-senate-weh-vs-u': -14.960065476091131,\n",
        " u'2014-north-carolina-senate-tillis-vs-h': -2.1753405933081895,\n",
        " u'2014-oklahoma-senate-inhofe-vs-silvers': 33.512839735839748,\n",
        " u'2014-oklahoma-senate-lankford-vs-joh': 31.978207935940112,\n",
        " u'2014-oregon-senate-wehby-vs-mer': -11.967513282633229,\n",
        " u'2014-rhode-island-senate-zaccaria-vs-': -36.945014491272346,\n",
        " u'2014-south-carolina-senate-graham-vs-h': 14.978786702331451,\n",
        " u'2014-south-carolina-senate-scott-vs-dicke': 21.523663302958056,\n",
        " u'2014-south-dakota-senate-rounds-vs-wei': 12.538381951768843,\n",
        " u'2014-tennessee-senate-alexander-vs-': 18.697227343639991,\n",
        " u'2014-texas-senate-cornyn-vs-ala': 18.930929069693008,\n",
        " u'2014-virginia-senate-gillespie-vs-wa': -12.966200663361455,\n",
        " u'2014-west-virginia-senate-capito-vs-ten': 15.241368421316681,\n",
        " u'2014-wyoming-se': 45.119303082706608}"
       ]
      }
     ],
     "prompt_number": 346
    },
    {
     "cell_type": "markdown",
     "metadata": {},
     "source": [
      "**Provide an explanation of methodology here**:"
     ]
    },
    {
     "cell_type": "markdown",
     "metadata": {},
     "source": [
      "#### Problem 4(c)\n",
      "\n",
      "Report a confidence interval for the R-D difference in each state. If the election day result falls outside your confidence interval in more than two states you are eliminated. For those surviving this cutoff, we will add up the size of all confidence intervals and sum. The smallest total length of confidence interval wins. \n",
      "\n",
      "**Note**: you can use Bayesian credible intervals or whatever else you want. "
     ]
    },
    {
     "cell_type": "code",
     "collapsed": false,
     "input": [
      "for key, value in predictions_perstate.iteritems():\n",
      "    st = convert_state(key)\n",
      "    print st\n",
      "    st_long = convert_state(key, form=\"long\").title()\n",
      "    std = np.std(value)\n",
      "    s = sp.stats.sem(value)\n",
      "    h = s * sp.stats.t._ppf((1+.99)/2., len(value)-1)\n",
      "    m = np.mean(value)\n",
      "    print (\"Mean: %f, Conf: (%f, %f),  Std: %f, Me: %s, Nate: %s\") % (m, m-h, m+h, std, check_results[st_long], nate_silver[st_long])\n",
      "    \n",
      "correctness = 0\n",
      "for key, value in check_results.iteritems():\n",
      "    if value == nate_silver[key]:\n",
      "        correctness = correctness + 1\n",
      "print \"Similarity to Nate Silver: %f\" % (float(correctness)/len(nate_silver))"
     ],
     "language": "python",
     "metadata": {},
     "outputs": [
      {
       "output_type": "stream",
       "stream": "stdout",
       "text": [
        "DE\n",
        "Mean: -0.164604, Conf: (-0.191716, -0.137493),  Std: 0.011777, Me: D, Nate: D\n",
        "MT\n",
        "Mean: 0.143192, Conf: (0.025494, 0.260889),  Std: 0.077763, Me: R, Nate: R\n",
        "WV\n",
        "Mean: 0.152414, Conf: (0.094014, 0.210813),  Std: 0.044152, Me: R, Nate: R\n",
        "VA\n",
        "Mean: -0.129662, Conf: (-0.164881, -0.094443),  Std: 0.046290, Me: D, Nate: D\n",
        "TN\n",
        "Mean: 0.186972, Conf: (0.166382, 0.207563),  Std: 0.008945, Me: R, Nate: R\n",
        "MI\n",
        "Mean: -0.071147, Conf: (-0.095036, -0.047258),  Std: 0.056629, Me: D, Nate: D\n",
        "LA\n",
        "Mean: 0.037512, Conf: (0.007425, 0.067598),  Std: 0.045839, Me: R, Nate: R\n",
        "OR\n",
        "Mean: -0.119675, Conf: (-0.174477, -0.064873),  Std: 0.065596, Me: D, Nate: D\n",
        "NM\n",
        "Mean: -0.149601, Conf: (-0.190020, -0.109181),  Std: 0.040330, Me: D, Nate: D\n",
        "NE\n",
        "Mean: 0.252076, Conf: (0.204084, 0.300068),  Std: 0.020848, Me: R, Nate: R\n",
        "WY\n",
        "Mean: 0.451193, Conf: (0.364604, 0.537782),  Std: 0.037614, Me: R, Nate: R\n",
        "OK\n",
        "Mean: 0.319782, Conf: (0.299239, 0.340325),  Std: 0.011392, Me: R, Nate: R\n",
        "OK\n",
        "Mean: 0.335128, Conf: (0.319909, 0.350347),  Std: 0.008440, Me: R, Nate: R\n",
        "NJ\n",
        "Mean: -0.141842, Conf: (-0.174775, -0.108910),  Std: 0.032860, Me: D, Nate: D\n",
        "SC\n",
        "Mean: 0.149788, Conf: (0.121278, 0.178298),  Std: 0.021554, Me: R, Nate: R\n",
        "TX\n",
        "Mean: 0.189309, Conf: (0.165833, 0.212785),  Std: 0.015511, Me: R, Nate: R\n",
        "GA\n",
        "Mean: 0.006449, Conf: (-0.047642, 0.060540),  Std: 0.045596, Me: R, Nate: R\n",
        "MA\n",
        "Mean: -0.180290, Conf: (-0.272069, -0.088512),  Std: 0.084723, Me: D, Nate: D\n",
        "HI\n",
        "Mean: -0.434686, Conf: (-0.496526, -0.372846),  Std: 0.040857, Me: D, Nate: D\n",
        "NC\n",
        "Mean: -0.021753, Conf: (-0.030983, -0.012524),  Std: 0.023296, Me: D, Nate: D\n",
        "IL\n",
        "Mean: -0.105165, Conf: (-0.146544, -0.063785),  Std: 0.046927, Me: D, Nate: D\n",
        "AK\n",
        "Mean: 0.015620, Conf: (-0.015513, 0.046753),  Std: 0.051806, Me: R, Nate: R\n",
        "AR\n",
        "Mean: 0.012735, Conf: (-0.011633, 0.037102),  Std: 0.054586, Me: R, Nate: R\n",
        "MS\n",
        "Mean: 0.154322, Conf: (0.139295, 0.169349),  Std: 0.008333, Me: R, Nate: R\n",
        "RI\n",
        "Mean: -0.369450, Conf: (-0.444117, -0.294783),  Std: 0.022142, Me: D, Nate: D\n",
        "ID\n",
        "Mean: 0.299493, Conf: (0.189584, 0.409402),  Std: 0.060951, Me: R, Nate: R\n",
        "KY\n",
        "Mean: 0.024074, Conf: (0.006489, 0.041660),  Std: 0.039393, Me: R, Nate: R\n",
        "NH\n",
        "Mean: -0.046626, Conf: (-0.062840, -0.030412),  Std: 0.032293, Me: D, Nate: D\n",
        "KS\n",
        "Mean: 0.017007, Conf: (-0.053979, 0.087994),  Std: 0.104629, Me: R, Nate: I\n",
        "MN\n",
        "Mean: -0.095269, Conf: (-0.149331, -0.041207),  Std: 0.061311, Me: D, Nate: D\n",
        "ME\n",
        "Mean: 0.294813, Conf: (0.160943, 0.428683),  Std: 0.160236, Me: R, Nate: R\n",
        "SC\n",
        "Mean: 0.215237, Conf: (0.202681, 0.227792),  Std: 0.006963, Me: R, Nate: R\n",
        "CO\n",
        "Mean: -0.002619, Conf: (-0.016808, 0.011571),  Std: 0.030325, Me: D, Nate: R\n",
        "SD\n",
        "Mean: 0.125384, Conf: (0.090368, 0.160400),  Std: 0.055036, Me: R, Nate: R\n",
        "IA\n",
        "Mean: 0.008470, Conf: (-0.019683, 0.036624),  Std: 0.061150, Me: R, Nate: R\n",
        "Similarity to Nate Silver: 0.939394\n"
       ]
      }
     ],
     "prompt_number": 348
    },
    {
     "cell_type": "markdown",
     "metadata": {},
     "source": [
      "**Provide an explanation of methodology here**:"
     ]
    },
    {
     "cell_type": "markdown",
     "metadata": {},
     "source": [
      "# Submission Instructions\n",
      "\n",
      "To submit your homework, create a folder named **lastname_firstinitial_hw#** and place your IPython notebooks, data files, and any other files in this folder. Your IPython Notebooks should be completely executed with the results visible in the notebook. We should not have to run any code.  Compress the folder (please use .zip compression) and submit to the CS109 dropbox in the appropriate folder. *If we cannot access your work because these directions are not followed correctly, we will not grade your work.*\n"
     ]
    }
   ],
   "metadata": {}
  }
 ]
}