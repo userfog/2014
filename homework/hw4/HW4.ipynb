{
 "metadata": {
  "name": "",
  "signature": "sha256:07c5187bfb5f3d36863986fe9ab97cf1ef41ba8db3e96487a476b96b66a0a8d9"
 },
 "nbformat": 3,
 "nbformat_minor": 0,
 "worksheets": [
  {
   "cells": [
    {
     "cell_type": "markdown",
     "metadata": {},
     "source": [
      "# Homework 4: Can you predict the Midterm Elections?\n",
      "\n",
      "Due: Thursday, October 30, 2014 11:59 PM\n",
      "\n",
      "<a href=https://raw.githubusercontent.com/cs109/2014/master/homework/HW4.ipynb download=HW4.ipynb> Download this assignment</a>\n",
      "\n",
      "#### Submission Instructions\n",
      "To submit your homework, create a folder named lastname_firstinitial_hw# and place your IPython notebooks, data files, and any other files in this folder. Your IPython Notebooks should be completely executed with the results visible in the notebook. We should not have to run any code. Compress the folder (please use .zip compression) and submit to the CS109 dropbox in the appropriate folder. If we cannot access your work because these directions are not followed correctly, we will not grade your work. For the competition (problem 4), we will post a link on Piazza to a Google Form for you to submit your predictions. \n",
      "\n",
      "\n",
      "---\n"
     ]
    },
    {
     "cell_type": "markdown",
     "metadata": {},
     "source": [
      "## Introduction\n",
      "\n",
      "**Add Introduction**\n",
      "\n",
      "You will use the [HuffPost Pollster API](http://elections.huffingtonpost.com/pollster/api) to extract the polls for the current 2014 Senate Midterm Elections and provide a final prediction of the result of each state.\n",
      "\n",
      "#### Data\n",
      "\n",
      "We will use the polls from the [2014 Senate Midterm Elections](http://elections.huffingtonpost.com/pollster) from the [HuffPost Pollster API](http://elections.huffingtonpost.com/pollster/api). \n",
      "\n",
      "---"
     ]
    },
    {
     "cell_type": "markdown",
     "metadata": {},
     "source": [
      "## Problem 1: Data Wrangling\n",
      "\n",
      "We will read in the polls from the [2014 Senate Midterm Elections](http://elections.huffingtonpost.com/pollster) from the [HuffPost Pollster API](http://elections.huffingtonpost.com/pollster/api) and create a dictionary of DataFrames as well a master table information for each race."
     ]
    },
    {
     "cell_type": "markdown",
     "metadata": {},
     "source": [
      "#### Problem 1(a)\n",
      "\n",
      "Read in [this JSON object](http://elections.huffingtonpost.com/pollster/api/charts/?topic=2014-senate) containing the polls for the 2014 Senate Elections using the HuffPost API. Call this JSON object `info`.  This JSON object is imported as a list in Python where each element contains the information for one race.  Use the function `type` to confirm the that `info` is a list. "
     ]
    },
    {
     "cell_type": "code",
     "collapsed": false,
     "input": [
      "%matplotlib inline\n",
      "# http://code.activestate.com/recipes/577305-python-dictionary-of-us-states-and-territories/\n",
      "states_dict = {\n",
      "        'AK': 'Alaska',\n",
      "        'AL': 'Alabama',\n",
      "        'AR': 'Arkansas',\n",
      "        'AS': 'American Samoa',\n",
      "        'AZ': 'Arizona',\n",
      "        'CA': 'California',\n",
      "        'CO': 'Colorado',\n",
      "        'CT': 'Connecticut',\n",
      "        'DC': 'District of Columbia',\n",
      "        'DE': 'Delaware',\n",
      "        'FL': 'Florida',\n",
      "        'GA': 'Georgia',\n",
      "        'GU': 'Guam',\n",
      "        'HI': 'Hawaii',\n",
      "        'IA': 'Iowa',\n",
      "        'ID': 'Idaho',\n",
      "        'IL': 'Illinois',\n",
      "        'IN': 'Indiana',\n",
      "        'KS': 'Kansas',\n",
      "        'KY': 'Kentucky',\n",
      "        'LA': 'Louisiana',\n",
      "        'MA': 'Massachusetts',\n",
      "        'MD': 'Maryland',\n",
      "        'ME': 'Maine',\n",
      "        'MI': 'Michigan',\n",
      "        'MN': 'Minnesota',\n",
      "        'MO': 'Missouri',\n",
      "        'MP': 'Northern Mariana Islands',\n",
      "        'MS': 'Mississippi',\n",
      "        'MT': 'Montana',\n",
      "        'NA': 'National',\n",
      "        'NC': 'North Carolina',\n",
      "        'ND': 'North Dakota',\n",
      "        'NE': 'Nebraska',\n",
      "        'NH': 'New Hampshire',\n",
      "        'NJ': 'New Jersey',\n",
      "        'NM': 'New Mexico',\n",
      "        'NV': 'Nevada',\n",
      "        'NY': 'New York',\n",
      "        'OH': 'Ohio',\n",
      "        'OK': 'Oklahoma',\n",
      "        'OR': 'Oregon',\n",
      "        'PA': 'Pennsylvania',\n",
      "        'PR': 'Puerto Rico',\n",
      "        'RI': 'Rhode Island',\n",
      "        'SC': 'South Carolina',\n",
      "        'SD': 'South Dakota',\n",
      "        'TN': 'Tennessee',\n",
      "        'TX': 'Texas',\n",
      "        'UT': 'Utah',\n",
      "        'VA': 'Virginia',\n",
      "        'VI': 'Virgin Islands',\n",
      "        'VT': 'Vermont',\n",
      "        'WA': 'Washington',\n",
      "        'WI': 'Wisconsin',\n",
      "        'WV': 'West Virginia',\n",
      "        'WY': 'Wyoming'\n",
      "}\n",
      "import scipy as sp\n",
      "import scipy.stats as stats\n",
      "import math \n",
      "import urllib2\n",
      "import requests\n",
      "import json\n",
      "import StringIO\n",
      "import pandas as pd\n",
      "import pprint \n",
      "import matplotlib.pyplot as plt\n",
      "import itertools\n",
      "import datetime as dt\n",
      "import collections\n",
      "pp = pprint.PrettyPrinter(indent=4)\n",
      "data = urllib2.urlopen(\"http://elections.huffingtonpost.com/pollster/api/charts/?topic=2014-senate\").read()\n",
      "info = json.loads(data)\n",
      "type(info)\n",
      "# pp.pprint(info)"
     ],
     "language": "python",
     "metadata": {},
     "outputs": [
      {
       "metadata": {},
       "output_type": "pyout",
       "prompt_number": 97,
       "text": [
        "list"
       ]
      }
     ],
     "prompt_number": 97
    },
    {
     "cell_type": "markdown",
     "metadata": {},
     "source": [
      "#### Problem 1(b)\n",
      "\n",
      "For each element of the list in `info` extract the state. We should have one poll per state, but we do not. Why?\n",
      "\n",
      "**Hint**: Use the internet to find out information on the races in each state that has more than one entry. Eliminate entries of the list that represent races that are not happening."
     ]
    },
    {
     "cell_type": "code",
     "collapsed": false,
     "input": [
      "def dem_vs_repub(est):\n",
      "    if len(est) < 2:\n",
      "        return False\n",
      "    return (est[0][\"party\"] == \"Rep\" or  est[0][\"party\"] == \"Dem\") and (est[1][\"party\"] == \"Rep\" or  est[1][\"party\"] == \"Dem\")\n",
      "def south_carolina(est):\n",
      "    return est[0][\"last_name\"].lower() == \"graham\" or est[1][\"last_name\"].lower() == \"graham\""
     ],
     "language": "python",
     "metadata": {},
     "outputs": [],
     "prompt_number": 60
    },
    {
     "cell_type": "code",
     "collapsed": false,
     "input": [
      "# Alabama: No opponent race uncontested\n",
      "# Runoffs are included in the data\n",
      "# A special election is occuring in South Carolina\n",
      "for idx, el in enumerate(info):\n",
      "   if \"Runoff\" in str(el[\"title\"]):\n",
      "        del info[idx]\n",
      "   if not dem_vs_repub(el[\"estimates\"]):\n",
      "        del info[idx]\n",
      "   if el[\"state\"].lower() == \"sc\" and not south_carolina(el[\"estimates\"]):\n",
      "        del info[idx]            \n",
      "   if el[\"title\"] == \"2014 Oklahoma Senate: Lankford vs. Johnson\":\n",
      "        del info[idx]"
     ],
     "language": "python",
     "metadata": {},
     "outputs": [],
     "prompt_number": 61
    },
    {
     "cell_type": "markdown",
     "metadata": {},
     "source": [
      "** Your answer here: **"
     ]
    },
    {
     "cell_type": "code",
     "collapsed": false,
     "input": [
      "def build_frame(url):\n",
      "    \"\"\"\n",
      "    Returns a pandas DataFrame object containing\n",
      "    the data returned from the given url\n",
      "    \"\"\"\n",
      "    source = requests.get(url + \".csv\").text\n",
      "    \n",
      "    # Use StringIO because pd.DataFrame.from_csv requires .read() method\n",
      "    s = StringIO.StringIO(source)\n",
      "    \n",
      "    return pd.DataFrame.from_csv(s, index_col=None).convert_objects(\n",
      "            convert_dates=\"coerce\", convert_numeric=True)"
     ],
     "language": "python",
     "metadata": {},
     "outputs": [],
     "prompt_number": 62
    },
    {
     "cell_type": "code",
     "collapsed": false,
     "input": [
      "polls = pd.read_json(json.dumps(info))\n",
      "dfs = dict((election.split(\"/\")[-1][:-4], build_frame(election)) for election in polls.url)"
     ],
     "language": "python",
     "metadata": {},
     "outputs": [],
     "prompt_number": 63
    },
    {
     "cell_type": "code",
     "collapsed": false,
     "input": [
      "print len(dfs.keys())\n",
      "# pp.pprint(polls)\n"
     ],
     "language": "python",
     "metadata": {},
     "outputs": [
      {
       "output_type": "stream",
       "stream": "stdout",
       "text": [
        "32\n"
       ]
      }
     ],
     "prompt_number": 64
    },
    {
     "cell_type": "markdown",
     "metadata": {},
     "source": [
      "#### Problem 1(d)\n",
      "\n",
      "Now creaate a master table information containing information about each race. Create a pandas DataFrame called `candidates` with rows containing information about each race. The `candidates` DataFrame should have the following columns: \n",
      "\n",
      "1. `State` = entries should be unique\n",
      "2. `R` = name of republican candidate\n",
      "3. `D` = name of non-republican candidate (Democrate or Independent) \n",
      "4. `incumbent` = R, D or NA\n",
      "\n",
      "**Hint**: You will need a considerable amount of data wrangling for this."
     ]
    },
    {
     "cell_type": "code",
     "collapsed": false,
     "input": [
      "def full_name(cand):\n",
      "    s =  cand[u'first_name'] + \" \" + cand[u'last_name']\n",
      "    return s\n",
      "\n",
      "def process(l, cand, RorD):\n",
      "    if RorD == \"R\":\n",
      "        l[1] = full_name(cand)\n",
      "    else:\n",
      "        l[2] = full_name(cand)\n",
      "    if cand[\"incumbent\"]:\n",
      "        l[3] = RorD\n",
      "\n",
      "candidates = pd.DataFrame(columns=(\"state\", \"R\", \"D\", \"incumbent\"))\n",
      "for idx, el in polls.iterrows():\n",
      "    l = [None]*4\n",
      "    l[0] = el[\"state\"]\n",
      "    l[3] = \"NA\"\n",
      "    for cand in el[\"estimates\"]:\n",
      "        if cand[\"party\"] == \"Rep\":\n",
      "            process(l, cand, \"R\")\n",
      "        if cand[\"party\"] == \"Dem\":\n",
      "            process(l, cand, \"D\")\n",
      "    candidates.loc[idx] = l\n",
      "candidates.head()"
     ],
     "language": "python",
     "metadata": {},
     "outputs": [
      {
       "html": [
        "<div style=\"max-height:1000px;max-width:1500px;overflow:auto;\">\n",
        "<table border=\"1\" class=\"dataframe\">\n",
        "  <thead>\n",
        "    <tr style=\"text-align: right;\">\n",
        "      <th></th>\n",
        "      <th>state</th>\n",
        "      <th>R</th>\n",
        "      <th>D</th>\n",
        "      <th>incumbent</th>\n",
        "    </tr>\n",
        "  </thead>\n",
        "  <tbody>\n",
        "    <tr>\n",
        "      <th>0</th>\n",
        "      <td> KY</td>\n",
        "      <td> Mitch McConnell</td>\n",
        "      <td> Alison Lundergan Grimes</td>\n",
        "      <td>  R</td>\n",
        "    </tr>\n",
        "    <tr>\n",
        "      <th>1</th>\n",
        "      <td> AR</td>\n",
        "      <td>      Tom Cotton</td>\n",
        "      <td>              Mark Pryor</td>\n",
        "      <td>  D</td>\n",
        "    </tr>\n",
        "    <tr>\n",
        "      <th>2</th>\n",
        "      <td> MI</td>\n",
        "      <td> Terri Lynn Land</td>\n",
        "      <td>             Gary Peters</td>\n",
        "      <td> NA</td>\n",
        "    </tr>\n",
        "    <tr>\n",
        "      <th>3</th>\n",
        "      <td> LA</td>\n",
        "      <td>    Bill Cassidy</td>\n",
        "      <td>           Mary Landrieu</td>\n",
        "      <td>  D</td>\n",
        "    </tr>\n",
        "    <tr>\n",
        "      <th>4</th>\n",
        "      <td> NH</td>\n",
        "      <td>     Scott Brown</td>\n",
        "      <td>          Jeanne Shaheen</td>\n",
        "      <td>  D</td>\n",
        "    </tr>\n",
        "  </tbody>\n",
        "</table>\n",
        "</div>"
       ],
       "metadata": {},
       "output_type": "pyout",
       "prompt_number": 65,
       "text": [
        "  state                R                        D incumbent\n",
        "0    KY  Mitch McConnell  Alison Lundergan Grimes         R\n",
        "1    AR       Tom Cotton               Mark Pryor         D\n",
        "2    MI  Terri Lynn Land              Gary Peters        NA\n",
        "3    LA     Bill Cassidy            Mary Landrieu         D\n",
        "4    NH      Scott Brown           Jeanne Shaheen         D"
       ]
      }
     ],
     "prompt_number": 65
    },
    {
     "cell_type": "markdown",
     "metadata": {},
     "source": [
      "## Problem 2: Confidence Intervals\n",
      "\n",
      "Compute a 99% confidence interval for each state. "
     ]
    },
    {
     "cell_type": "markdown",
     "metadata": {},
     "source": [
      "#### Problem 2(a)\n",
      "\n",
      "Assume you have $M$ polls with sample sizes $n_1, \\dots, n_M$. If the polls are independent, what is the average of the variances of each poll if the true proportion is $p$?"
     ]
    },
    {
     "cell_type": "markdown",
     "metadata": {},
     "source": [
      "** Your answer here: **\n",
      "$$\\frac{p(1-p)}{n}$$\n"
     ]
    },
    {
     "cell_type": "markdown",
     "metadata": {},
     "source": [
      "#### Problem 2(b)\n",
      "\n",
      "Compute the square root of these values in Problem 2(b) for the republican candidates in each race. Then, compute the standard deviations of the observed poll results for each race. "
     ]
    },
    {
     "cell_type": "code",
     "collapsed": false,
     "input": [
      "import numpy as np\n",
      "import re \n",
      "\n",
      "# http://stackoverflow.com/questions/483666/python-reverse-inverse-a-mapping\n",
      "state_dict = dict((v,k) for k, v in states_dict.iteritems())\n",
      "\n",
      "\n",
      "def convert_state(key):\n",
      "    state_name = re.compile(\"2014-(.*)-se\")\n",
      "    st = state_name.search(key)\n",
      "    s_name = st.group(1).replace(\"-\", \" \").strip()\n",
      "    s_name = s_name.title()\n",
      "    return state_dict[s_name]\n",
      "\n",
      "def get_republican_lastname(repub):\n",
      "    el = list(repub)[0].split(\" \")\n",
      "    return el[-1]\n",
      "\n",
      "def get_dem_lastname(dem):\n",
      "    return get_republican_lastname(dem)\n",
      "\n",
      "def get_recent_stds(num_months, df, name, intervals=12):\n",
      "    df[\"Start Date\"] = pd.to_datetime(df[\"Start Date\"])\n",
      "    months_ago = dt.datetime.now() - dt.timedelta(num_months*365/intervals)\n",
      "    recent = df[df[\"Start Date\"] > months_ago]\n",
      "    results = [el/100.0 for el in recent[name]]\n",
      "    return np.std(results)\n",
      "\n",
      "\n",
      "l = len(candidates)\n",
      "ideal_stds = [None]*l\n",
      "real_stds = [None]*l\n",
      "real_stds_recent = [None]*l\n",
      "num_obs = [None]*l\n",
      "cands = [None]*l\n",
      "states = [None]*l\n",
      "i = 0\n",
      "pp.pprint(dfs.keys())\n",
      "\n",
      "for key, value in dfs.iteritems(): \n",
      "    st = convert_state(key)\n",
      "    r =  candidates[candidates[\"state\"] == st]\n",
      "    name = get_republican_lastname(r[\"R\"])\n",
      "    p = value[name].mean()/100.0\n",
      "    ideal_variance = np.mean([p*(1-p)/el for el in value[\"Number of Observations\"]])\n",
      "    results = [el/100.0 for el in value[name]]\n",
      "    real_std = np.std(results)\n",
      "    ideal_stds[i] = math.sqrt(ideal_variance)\n",
      "    real_stds[i] = real_std\n",
      "    real_stds_recent[i] = get_recent_stds(2, value, name)\n",
      "    num_obs[i] = len(value[name])\n",
      "    cands[i] = name\n",
      "    states[i] = st\n",
      "    i += 1\n",
      "\n",
      "# http://stackoverflow.com/questions/9623114/python-are-two-lists-equal\n",
      "compare = lambda x, y: collections.Counter(x) == collections.Counter(y)\n",
      "assert(not compare(real_stds, real_stds_recent))\n",
      "pp.pprint(zip(cands, real_stds))\n",
      "pp.pprint(zip(cands, ideal_stds))"
     ],
     "language": "python",
     "metadata": {},
     "outputs": [
      {
       "output_type": "stream",
       "stream": "stdout",
       "text": [
        "[   u'2014-minnesota-senate-mcfadden-vs-fra',\n",
        "    u'2014-montana-senate-daines-vs-cu',\n",
        "    u'2014-west-virginia-senate-capito-vs-ten',\n",
        "    u'2014-virginia-senate-gillespie-vs-wa',\n",
        "    u'2014-tennessee-senate-alexander-vs-',\n",
        "    u'2014-michigan-senate-land-vs-pe',\n",
        "    u'2014-delaware-senate-wade-vs-c',\n",
        "    u'2014-louisiana-senate-cassidy-vs-land',\n",
        "    u'2014-oregon-senate-wehby-vs-mer',\n",
        "    u'2014-new-mexico-senate-weh-vs-u',\n",
        "    u'2014-nebraska-senate-sasse-vs-do',\n",
        "    u'2014-wyoming-se',\n",
        "    u'2014-georgia-senate-perdue-vs-',\n",
        "    u'2014-idaho-senate-risch-vs-mitc',\n",
        "    u'2014-south-carolina-senate-graham-vs-h',\n",
        "    u'2014-texas-senate-cornyn-vs-ala',\n",
        "    u'2014-massachusetts-senate-herr-vs-ma',\n",
        "    u'2014-hawaii-senate-cavasso-vs-sc',\n",
        "    u'2014-north-carolina-senate-tillis-vs-h',\n",
        "    u'2014-illinois-senate-oberweis-vs-du',\n",
        "    u'2014-alaska-senate-sullivan-vs-be',\n",
        "    u'2014-arkansas-senate-cotton-vs-p',\n",
        "    u'2014-mississippi-senate-cochran-vs-chil',\n",
        "    u'2014-rhode-island-senate-zaccaria-vs-',\n",
        "    u'2014-new-jersey-senate-bell-vs-bo',\n",
        "    u'2014-kentucky-senate-mcconnell-vs-gr',\n",
        "    u'2014-new-hampshire-senate-brown-vs-sha',\n",
        "    u'2014-maine-senate-collins-vs-bel',\n",
        "    u'2014-oklahoma-senate-inhofe-vs-silvers',\n",
        "    u'2014-colorado-senate-gardner-vs-u',\n",
        "    u'2014-south-dakota-senate-rounds-vs-wei',\n",
        "    u'2014-iowa-senate-ernst-vs-br']\n",
        "["
       ]
      },
      {
       "output_type": "stream",
       "stream": "stdout",
       "text": [
        "   (u'McFadden', 0.031124748994971828),\n",
        "    (u'Daines', 0.027627256579733906),\n",
        "    (u'Capito', 0.034352613304031589),\n",
        "    (u'Gillespie', 0.06039128610997227),\n",
        "    (u'Alexander', 0.03077697552103234),\n",
        "    (u'Land', 0.032519905054687187),\n",
        "    (u'Wade', 0.04049691346263317),\n",
        "    (u'Cassidy', 0.037761029075018701),\n",
        "    (u'Wehby', 0.038366940986542308),\n",
        "    (u'Weh', 0.03981729105133431),\n",
        "    (u'Sasse', 0.030912061651652323),\n",
        "    (u'Enzi', 0.039698866482558409),\n",
        "    (u'Perdue', 0.025562038966501544),\n",
        "    (u'Risch', 0.053359368645273735),\n",
        "    (u'Graham', 0.028173569173961615),\n",
        "    (u'Cornyn', 0.063731690665333282),\n",
        "    (u'Herr', 0.024806946917841695),\n",
        "    (u'Cavasso', 0.043517237963823029),\n",
        "    (u'Tillis', 0.033975497898469695),\n",
        "    (u'Oberweis', 0.025274008589934473),\n",
        "    (u'Sullivan', 0.043587936090568047),\n",
        "    (u'Cotton', 0.037191081799799776),\n",
        "    (u'Cochran', 0.029553976043842214),\n",
        "    (u'Zaccaria', 0.045825756949558399),\n",
        "    (u'Bell', 0.049994082490067454),\n",
        "    (u'McConnell', 0.031345138343180985),\n",
        "    (u'Brown', 0.039753999791284772),\n",
        "    (u'Collins', 0.049768695752682501),\n",
        "    (u'Inhofe', 0.036247605284885909),\n",
        "    (u'Gardner', 0.025028829531008986),\n",
        "    (u'Rounds', 0.060199667773169645),\n",
        "    (u'Ernst', 0.049777718797820017)]\n",
        "[   (u'McFadden', 0.016831577362611132),\n",
        "    (u'Daines', 0.02116121806486596),\n",
        "    (u'Capito', 0.019510202225446468),\n",
        "    (u'Gillespie', 0.016651626867895297),\n",
        "    (u'Alexander', 0.016248773725299537),\n",
        "    (u'Land', 0.017818418299922097),\n",
        "    (u'Wade', 0.019227944215084614),\n",
        "    (u'Cassidy', 0.01945858934975331),\n",
        "    (u'Wehby', 0.01829123877396105),\n",
        "    (u'Weh', 0.01756083735533094),\n",
        "    (u'Sasse', 0.01782609629901424),\n",
        "    (u'Enzi', 0.025064950192436694),\n",
        "    (u'Perdue', 0.017444626911774522),\n",
        "    (u'Risch', 0.0193968745186494),\n",
        "    (u'Graham', 0.0156440322639501),\n",
        "    (u'Cornyn', 0.014035648964434813),\n",
        "    (u'Herr', 0.019024791592197346),\n",
        "    (u'Cavasso', 0.014144020698210899),\n",
        "    (u'Tillis', 0.018604992829441214),\n",
        "    (u'Oberweis', 0.015429587984016807),\n",
        "    (u'Sullivan', 0.01982813416221657),\n",
        "    (u'Cotton', 0.018790911989618457),\n",
        "    (u'Cochran', 0.018574713581049614),\n",
        "    (u'Zaccaria', 0.015579709968405601),\n",
        "    (u'Bell', 0.01590227602099119),\n",
        "    (u'McConnell', 0.017293421294976893),\n",
        "    (u'Brown', 0.018800245312883372),\n",
        "    (u'Collins', 0.018116266962167085),\n",
        "    (u'Inhofe', 0.015652349905743167),\n",
        "    (u'Gardner', 0.018086174965378215),\n",
        "    (u'Rounds', 0.02009939243291751),\n",
        "    (u'Ernst', 0.01716203342244687)]\n"
       ]
      }
     ],
     "prompt_number": 79
    },
    {
     "cell_type": "markdown",
     "metadata": {},
     "source": [
      "#### Problem 2(c) \n",
      "\n",
      "Plot observed versus theoretical (average of the theoretical SDs) with the area of the point proportional to number of polls. How do these compare?"
     ]
    },
    {
     "cell_type": "code",
     "collapsed": false,
     "input": [
      "def nice_graph(xlab, ylab, title, axi):\n",
      "    plt.xlabel(xlab)\n",
      "    plt.ylabel(ylab)\n",
      "    plt.title(title)\n",
      "    plt.axis(axi)"
     ],
     "language": "python",
     "metadata": {},
     "outputs": [],
     "prompt_number": 67
    },
    {
     "cell_type": "code",
     "collapsed": false,
     "input": [
      "colors_1 = itertools.cycle([\"r\", \"b\", \"g\", \"orange\"])\n",
      "colors_2 = itertools.cycle([\"r\", \"b\", \"g\", \"orange\"])\n",
      "x = xrange(0,l)\n",
      "plt.scatter(x, ideal_stds, c=[next(colors_1) for i in x], s=[n for n in num_obs], marker=\"^\", label=\"Theoretical\")\n",
      "plt.scatter(x, real_stds, c=[next(colors_2) for i in x], s=[n for n in num_obs], label=\"Real\")\n",
      "plt.xticks(x, cands, rotation=\"90\")\n",
      "nice_graph(\"Candidates\", \"Standard Deviations\", \"Observed vs. Real\", [-1, l+1, .01, .07])\n",
      "plt.legend(loc=2,bbox_to_anchor=(1, 1))\n",
      "plt.show()\n",
      "plt.figure()\n",
      "plt.scatter(ideal_stds, real_stds, s=[n for n in num_obs])"
     ],
     "language": "python",
     "metadata": {},
     "outputs": [
      {
       "metadata": {},
       "output_type": "display_data",
       "png": "[encoded data removed]",
       "text": [
        "<matplotlib.figure.Figure at 0x109635710>"
       ]
      },
      {
       "metadata": {},
       "output_type": "pyout",
       "prompt_number": 68,
       "text": [
        "<matplotlib.collections.PathCollection at 0x10adb1510>"
       ]
      },
      {
       "metadata": {},
       "output_type": "display_data",
       "png": "[encoded data removed]",
       "text": [
        "<matplotlib.figure.Figure at 0x10acb1890>"
       ]
      }
     ],
     "prompt_number": 68
    },
    {
     "cell_type": "markdown",
     "metadata": {},
     "source": [
      "** Your answer here: **"
     ]
    },
    {
     "cell_type": "markdown",
     "metadata": {},
     "source": [
      "#### Problem 2(d)\n",
      "\n",
      "Repeat Problem 2(c) but include only the most recent polls from the last two months. Do they match better or worse or the same? Can we just trust the theoretical values?"
     ]
    },
    {
     "cell_type": "code",
     "collapsed": false,
     "input": [
      "colors_1 = itertools.cycle([\"r\", \"b\", \"g\", \"orange\"])\n",
      "colors_2 = itertools.cycle([\"r\", \"b\", \"g\", \"orange\"])\n",
      "x = xrange(0,l)\n",
      "plt.scatter(x, ideal_stds, c=[next(colors_1) for i in x], s=[n for n in num_obs], marker=\"^\", label=\"Theoretical\")\n",
      "plt.scatter(x, real_stds_recent, c=[next(colors_2) for i in x], s=[n for n in num_obs], label=\"Real\")\n",
      "plt.xticks(x, cands, rotation=\"90\")\n",
      "nice_graph(\"Candidates\", \"Standard Deviations\", \"Observed vs. Real\", [-1, l+1, .01, .07])\n",
      "plt.legend(loc=2,bbox_to_anchor=(1, 1))\n",
      "plt.show()\n",
      "plt.figure()\n",
      "plt.scatter(ideal_stds,real_stds_recent, s=[n for n in num_obs])"
     ],
     "language": "python",
     "metadata": {},
     "outputs": [
      {
       "metadata": {},
       "output_type": "display_data",
       "png": "[encoded data removed]",
       "text": [
        "<matplotlib.figure.Figure at 0x10af10450>"
       ]
      },
      {
       "metadata": {},
       "output_type": "pyout",
       "prompt_number": 69,
       "text": [
        "<matplotlib.collections.PathCollection at 0x10b82f210>"
       ]
      },
      {
       "metadata": {},
       "output_type": "display_data",
       "png": "[encoded data removed]",
       "text": [
        "<matplotlib.figure.Figure at 0x10ac61750>"
       ]
      }
     ],
     "prompt_number": 69
    },
    {
     "cell_type": "markdown",
     "metadata": {},
     "source": [
      "** Your answer here: **"
     ]
    },
    {
     "cell_type": "markdown",
     "metadata": {},
     "source": [
      "#### Problem 2(e)\n",
      "\n",
      "Create a scatter plot with each point representing one state. Is there one or more races that are outlier in that it they have much larger variabilityes than expected ? Explore the original poll data and explain why the discrepancy?"
     ]
    },
    {
     "cell_type": "code",
     "collapsed": false,
     "input": [
      "interested = zip(zip(ideal_stds, real_stds), states)\n",
      "x = range(0, 10)\n",
      "plt.plot(x, x)\n",
      "for el in interested:\n",
      "    plt.annotate(s=el[1], xy=(el[0][0], el[0][1]))\n",
      "nice_graph(\"Distribution\", \"Differences Between Theoretical and Observed\", \"Distribution of Differences\", [0.01,.06,0.01,.06])"
     ],
     "language": "python",
     "metadata": {},
     "outputs": [
      {
       "metadata": {},
       "output_type": "display_data",
       "png": "[encoded data removed]",
       "text": [
        "<matplotlib.figure.Figure at 0x10ac1cc10>"
       ]
      }
     ],
     "prompt_number": 70
    },
    {
     "cell_type": "markdown",
     "metadata": {},
     "source": [
      "** Your answer here: **"
     ]
    },
    {
     "cell_type": "markdown",
     "metadata": {},
     "source": [
      "#### Problem 2(f)\n",
      "\n",
      " Construct confidence intervals for the difference in each race. Use either theoretical or data driven estimates of the standard error depending on your answer to this question. Use the results in Problem 2(e), to justify your choice.\n"
     ]
    },
    {
     "cell_type": "code",
     "collapsed": false,
     "input": [
      "running_diffs = []\n",
      "running_means = []\n",
      "for key, value in dfs.iteritems(): \n",
      "    st = convert_state(key)\n",
      "    c =  candidates[candidates[\"state\"] == st]\n",
      "    name_rep = get_republican_lastname(c[\"R\"])\n",
      "    name_dem = get_dem_lastname(c[\"D\"])\n",
      "    diffs = value[name_rep]/100 - value[name_dem]/100\n",
      "    running_diffs.extend(list(diffs))\n",
      "    m = diffs.mean()\n",
      "    running_means.append(m)\n",
      "    s = sp.stats.sem(diffs)\n",
      "    h = s * sp.stats.t._ppf((1+.99)/2., len(diffs)-1)\n",
      "    print \"State: %s, Mean: %f, Confidence: (%f, %f)\" % (st, m, m-h, m+h)\n",
      "print \"Raw USA: Mean: %f Std: %f\" % (np.mean(running_diffs), np.std(running_diffs))\n",
      "print \"Means USA: Mean: %f Std: %f\" % (np.mean(running_means), np.std(running_means))"
     ],
     "language": "python",
     "metadata": {},
     "outputs": [
      {
       "output_type": "stream",
       "stream": "stdout",
       "text": [
        "State: MN, Mean: -0.108000, Confidence: (-0.131353, -0.084647)\n",
        "State: MT, Mean: 0.171429, Confidence: (0.129838, 0.213020)\n",
        "State: WV, Mean: 0.140714, Confidence: (0.091952, 0.189477)\n",
        "State: VA, Mean: -0.154545, Confidence: (-0.194662, -0.114429)\n",
        "State: TN, Mean: 0.190000, Confidence: (0.112790, 0.267210)\n",
        "State: MI, Mean: -0.052419, Confidence: (-0.070636, -0.034202)\n",
        "State: DE, Mean: -0.174000, Confidence: (-0.269027, -0.078973)\n",
        "State: LA, Mean: 0.011212, Confidence: (-0.013292, 0.035716)\n",
        "State: OR, Mean: -0.133158, Confidence: (-0.176798, -0.089518)\n",
        "State: NM, Mean: -0.145833, Confidence: (-0.192099, -0.099568)\n",
        "State: NE, Mean: 0.245000, Confidence: (0.176138, 0.313862)\n",
        "State: WY, Mean: 0.448000, Confidence: (0.277338, 0.618662)\n",
        "State: GA, Mean: 0.016596, Confidence: (0.000245, 0.032946)\n",
        "State: ID, Mean: 0.298333, Confidence: (0.181742, 0.414925)\n",
        "State: SC, Mean: 0.150000, Confidence: (0.116933, 0.183067)\n",
        "State: TX, Mean: 0.192222, Confidence: (0.145508, 0.238937)\n",
        "State: MA, Mean: -0.224615, Confidence: (-0.259990, -0.189240)\n",
        "State: HI, Mean: -0.403750, Confidence: (-0.533504, -0.273996)"
       ]
      },
      {
       "output_type": "stream",
       "stream": "stdout",
       "text": [
        "\n",
        "State: NC, Mean: -0.026761, Confidence: (-0.039539, -0.013982)\n",
        "State: IL, Mean: -0.123571, Confidence: (-0.157816, -0.089327)\n",
        "State: AK, Mean: -0.004545, Confidence: (-0.031646, 0.022555)\n",
        "State: AR, Mean: 0.015082, Confidence: (-0.001739, 0.031903)\n",
        "State: MS, Mean: 0.155000, Confidence: (0.112654, 0.197346)\n",
        "State: RI, Mean: -0.355000, Confidence: (-0.680645, -0.029355)\n",
        "State: NJ, Mean: -0.140769, Confidence: (-0.177283, -0.104255)\n",
        "State: KY, Mean: 0.030000, Confidence: (0.016617, 0.043383)\n",
        "State: NH, Mean: -0.057759, Confidence: (-0.073353, -0.042164)\n",
        "State: ME, Mean: 0.326923, Confidence: (0.248102, 0.405744)\n",
        "State: OK, Mean: 0.333333, Confidence: (0.234749, 0.431917)\n",
        "State: CO, Mean: 0.004808, Confidence: (-0.009544, 0.019160)\n",
        "State: SD, Mean: 0.130000, Confidence: (0.096867, 0.163133)\n",
        "State: IA, Mean: -0.000755, Confidence: (-0.016970, 0.015461)"
       ]
      },
      {
       "output_type": "stream",
       "stream": "stdout",
       "text": [
        "\n",
        "Raw USA: Mean: -0.003922 Std: 0.127708\n",
        "Means USA: Mean: 0.023537 Std: 0.195531\n"
       ]
      }
     ],
     "prompt_number": 71
    },
    {
     "cell_type": "markdown",
     "metadata": {},
     "source": [
      "# Problem 3: Prediction and Posterior Probabilities\n",
      "\n",
      "Perform a Bayesian analysis to predict the probability of Republicans winning in each state then provide a posterior distribution of the number of republicans in the senate."
     ]
    },
    {
     "cell_type": "markdown",
     "metadata": {},
     "source": [
      "#### Problem 3(a)\n",
      "\n",
      "First, we define a Bayesian model for each race. The prior for the difference $d$ between republicans and democtrats will be $N(\\mu,\\tau^2)$. Say before seeing poll data you have idea who is going to win, what should $\\mu$ be? How about $\\tau$, should it be large or small? "
     ]
    },
    {
     "cell_type": "markdown",
     "metadata": {},
     "source": [
      "** Your answer here: ** \n",
      "\n",
      "$\\mu = 0$ Because we expected that each candidate has the same oppurtunity to win.\n",
      "\n",
      "$\\tau$ is equal the standard deviation of the differences of all of the races"
     ]
    },
    {
     "cell_type": "markdown",
     "metadata": {},
     "source": [
      "#### Problem 3(b)\n",
      "\n",
      "What is the distribution of $d$ conditioned on $\\theta$. What is the posterior distribution of $\\theta| d$? \n",
      "\n",
      "**Hint**: Use normal approximation. \n",
      "\n"
     ]
    },
    {
     "cell_type": "markdown",
     "metadata": {},
     "source": [
      "**Your answer here:**\n",
      "\n",
      "Based on the lecture slides, we saw that $\\theta ~ N(0, \\tau^2)$ and that based upon the continuous for of Bayes Rule we can predict that\n",
      "$d|\\theta = N(\\theta, \\sigma^2)$\n",
      "\n",
      "Because we can assume that the differences are normally distributed we know we are looking for the expected out come of d given $\\theta$\n",
      "Therefore: $E(\\theta|d) = B\\mu + (1-B)d = \\mu + (1-B)\\cdot(y-\\mu) => B = \\frac{\\sigma^2}{\\sigma^2 + \\tau^2}$"
     ]
    },
    {
     "cell_type": "markdown",
     "metadata": {},
     "source": [
      "#### Problem 3(c)\n",
      "\n",
      "The prior represents what we think before hand. We do not know who is expected to win, so we assume $\\mu=0$. For this problem estimate $\\tau$ using the observed differences across states (Hint: $\\tau$ represents the standard deviation of a typical difference). Compute the posterior mean for each state and plot it against original average. Is there much change? Why or why not? "
     ]
    },
    {
     "cell_type": "code",
     "collapsed": false,
     "input": [
      "def compute_B(sigma, tau):\n",
      "    return sigma**2/(sigma**2+tau**2)\n",
      "def post_mean(mu, tau, sigma, y):\n",
      "    b = compute_B(sigma, tau)\n",
      "    return b*mu + (1-b)*y\n",
      "\n",
      "tau = np.std(running_means)\n",
      "mu = np.mean(running_means)\n",
      "\n",
      "running_post_means = [None]*len(running_means)\n",
      "i = 0 \n",
      "for key, value in dfs.iteritems(): \n",
      "    st = convert_state(key)\n",
      "    c =  candidates[candidates[\"state\"] == st]\n",
      "    name_rep = get_republican_lastname(c[\"R\"])\n",
      "    name_dem = get_dem_lastname(c[\"D\"])\n",
      "    diffs = value[name_rep]/100 - value[name_dem]/100\n",
      "    y = diffs.mean()\n",
      "    sigma = diffs.std()\n",
      "    running_post_means[i] = post_mean(0, .33, sigma, y)\n",
      "    i = i + 1\n",
      "    \n",
      "plt.scatter(range(0, len(running_means)),map(lambda x: x/100.0, running_post_means), marker=\"^\", c=\"r\")\n",
      "plt.scatter(range(0, len(running_means)), map(lambda x: x/100.0, running_means), c=\"b\")\n",
      "plt.figure()\n",
      "plt.scatter(running_means, running_post_means)"
     ],
     "language": "python",
     "metadata": {},
     "outputs": [
      {
       "metadata": {},
       "output_type": "pyout",
       "prompt_number": 72,
       "text": [
        "<matplotlib.collections.PathCollection at 0x10ac6f950>"
       ]
      },
      {
       "metadata": {},
       "output_type": "display_data",
       "png": "[encoded data removed]",
       "text": [
        "<matplotlib.figure.Figure at 0x1096cf150>"
       ]
      },
      {
       "metadata": {},
       "output_type": "display_data",
       "png": "[encoded data removed]",
       "text": [
        "<matplotlib.figure.Figure at 0x10acfd1d0>"
       ]
      }
     ],
     "prompt_number": 72
    },
    {
     "cell_type": "markdown",
     "metadata": {},
     "source": [
      "**Your answer here:**"
     ]
    },
    {
     "cell_type": "markdown",
     "metadata": {},
     "source": [
      "#### Problem 3(d)\n",
      "\n",
      "For each state, report a probabilty of Republicans winning. How does your answer here compare to the other aggregators?"
     ]
    },
    {
     "cell_type": "code",
     "collapsed": false,
     "input": [
      "s = np.random.normal(np.mean(running_post_means), np.std(running_post_means), 1000)\n",
      "rep = 0\n",
      "i = 0\n",
      "for key, value in dfs.iteritems():\n",
      "    h = stats.norm(np.mean(running_post_means), np.std(running_post_means)).cdf(running_post_means[i])\n",
      "    st = convert_state(key)\n",
      "    i = i + 1\n",
      "    print (\"%d %s: %f\" % (i, st, h))\n",
      "    if h > .5:\n",
      "        rep = rep + 1\n",
      "        \n",
      "print(rep/float(len(dfs)))\n",
      "    "
     ],
     "language": "python",
     "metadata": {},
     "outputs": [
      {
       "output_type": "stream",
       "stream": "stdout",
       "text": [
        "1 MN: 0.241030\n",
        "2 MT: 0.785028\n",
        "3 WV: 0.727862\n",
        "4 VA: 0.176565\n",
        "5 TN: 0.809637\n",
        "6 MI: 0.343484\n",
        "7 DE: 0.147338\n",
        "8 LA: 0.472635\n",
        "9 OR: 0.206677\n",
        "10 NM: 0.185322\n",
        "11 NE: 0.879506\n",
        "12 WY: 0.984011\n",
        "13 GA: 0.484209\n",
        "14 ID: 0.920754\n",
        "15 SC: 0.750444\n",
        "16 TX: 0.813934\n",
        "17 MA: 0.093458\n",
        "18 HI: 0.017642\n",
        "19 NC: 0.393652\n",
        "20 IL: 0.216782\n",
        "21 AK: 0.439800\n",
        "22 AR: 0.480806\n",
        "23 MS: 0.757794\n",
        "24 RI: 0.032464\n",
        "25 NJ: 0.191059\n",
        "26 KY: 0.512759"
       ]
      },
      {
       "output_type": "stream",
       "stream": "stdout",
       "text": [
        "\n",
        "27 NH: 0.332311\n",
        "28 ME: 0.933884\n",
        "29 OK: 0.946565\n",
        "30 CO: 0.459338\n",
        "31 SD: 0.709332\n",
        "32 IA: 0.447622\n",
        "0.40625\n"
       ]
      }
     ],
     "prompt_number": 73
    },
    {
     "cell_type": "markdown",
     "metadata": {},
     "source": [
      "**Your answer here:**"
     ]
    },
    {
     "cell_type": "markdown",
     "metadata": {},
     "source": [
      "#### Problem 3(e)\n",
      "\n",
      "Use the posterior distributions in a Monte Carlo simulation to generate election results. In each simulation compute the total number of seats the Republican control. Show a histogram of these results."
     ]
    },
    {
     "cell_type": "code",
     "collapsed": false,
     "input": [
      "import random\n",
      "number_of_seats = []\n",
      "for i in xrange(0, 100):\n",
      "    s = np.random.normal(np.mean(running_post_means), np.std(running_post_means), 1000)\n",
      "    i = 0\n",
      "    num_replicans = 0\n",
      "    for key, value in dfs.iteritems():\n",
      "        r = random.uniform(0,1)\n",
      "        h = stats.norm(np.mean(running_post_means), np.std(running_post_means)).cdf(running_post_means[i])\n",
      "        if r < h:\n",
      "            num_replicans = num_replicans + 1\n",
      "        i = i + 1\n",
      "    number_of_seats.append(num_replicans+30)\n",
      "\n",
      "plt.hist(number_of_seats, 10)"
     ],
     "language": "python",
     "metadata": {},
     "outputs": [
      {
       "metadata": {},
       "output_type": "pyout",
       "prompt_number": 87,
       "text": [
        "(array([  1.,   2.,  11.,  17.,  10.,  22.,  14.,   8.,  13.,   2.]),\n",
        " array([ 41.,  42.,  43.,  44.,  45.,  46.,  47.,  48.,  49.,  50.,  51.]),\n",
        " <a list of 10 Patch objects>)"
       ]
      },
      {
       "metadata": {},
       "output_type": "display_data",
       "png": "[encoded data removed]",
       "text": [
        "<matplotlib.figure.Figure at 0x10bf283d0>"
       ]
      }
     ],
     "prompt_number": 87
    },
    {
     "cell_type": "markdown",
     "metadata": {},
     "source": [
      "## Problem 4\n",
      "\n",
      "Predict the results for the 2014 Midterm Elections. We will have a three competitions with the terms for scoring entries described above. For both questions below, **explain** or provide commentary on how you arrived at your predictions including code. \n",
      "\n",
      "**Hint**: Use election results from 2010, 2012 to build and test models."
     ]
    },
    {
     "cell_type": "markdown",
     "metadata": {},
     "source": [
      "#### Problem 4(a)\n",
      "\n",
      "Predict the number of Republican senators. You may provide an interval. Smallest interval that includes the election day result wins. \n",
      "\n",
      "**Note**: we want the total so add the numbers of those that are not up for election."
     ]
    },
    {
     "cell_type": "code",
     "collapsed": false,
     "input": [
      "from sklearn import linear_model\n",
      "memo = {}\n",
      "\n",
      "def convert_huff_to_df(url):\n",
      "    d = urllib2.urlopen(url).read()\n",
      "    polls = pd.read_json(d)\n",
      "    return dict((election.split(\"/\")[-1][:-4], build_frame(election)) for election in polls.url)\n",
      "\n",
      "\n",
      "def get_recent(num_months, df, name, intervals=12):\n",
      "    df[\"Start Date\"] = pd.to_datetime(df[\"Start Date\"])\n",
      "    months_ago = dt.datetime.now() - dt.timedelta(num_months*365/intervals)\n",
      "    recent = df[df[\"Start Date\"] > months_ago]\n",
      "    return recent\n",
      "\n",
      "def convert_dict_to_recent(d, year=2014):\n",
      "    ret = {}\n",
      "    for key, value in d.iteritems():\n",
      "        ret[key] = get_recent(30, value, 365, intervals=365)\n",
      "    return ret\n",
      "\n",
      "def filter_by_pollster(d, p, year=2012):\n",
      "    if year == 2012 or year == 2010:\n",
      "        return d[d.pollster.isin(p)]\n",
      "    return d[d.Pollster.isin(p)]\n",
      "            \n",
      "\n",
      "def get_average_differences(df, name_rep, name_dem):\n",
      "    diffs = []\n",
      "    for p in df.Pollster:\n",
      "        dat = df[df.Pollster == p]\n",
      "        diffs.append(np.mean(dat[name_rep]/100 - dat[name_dem]/100)) \n",
      "    return diffs\n",
      "\n",
      "def pollsters_with_historical_data(df, d12, d10):\n",
      "    l = set()\n",
      "    for key, value in df.iteritems():\n",
      "        l.update(value.Pollster)\n",
      "    d12_good = filter_by_pollster(d12, l) \n",
      "    d10_good = filter_by_pollster(d10, l) \n",
      "    p = set(d12_good.pollster)\n",
      "    p = p.union(set(d10_good.pollster))\n",
      "    return l.intersection(p)\n",
      "\n",
      "def split_by_historical(df, pollsters):\n",
      "    return df[df.Pollster.isin(pollsters)], df[np.logical_not(df.Pollster.isin(pollsters))]\n",
      "\n",
      "def build_single_linear_regression(df, p):\n",
      "    if p in memo:\n",
      "        return memo[p][0], memo[p][1]\n",
      "    clf = linear_model.LinearRegression()\n",
      "    X_train = pd.DataFrame(columns=[\"Diff\"])\n",
      "    Y_train = pd.DataFrame(columns=[\"Diff\"])\n",
      "    X_train[\"Diff\"] = df[\"vote.rep\"]/100 - df[\"vote.dem\"]/100\n",
      "    Y_train[\"Diff\"] = df[\"real.rep\"]/100 - df[\"real.dem\"]/100\n",
      "    clf.fit(X_train.values, Y_train.values)\n",
      "    memo[p] = (clf.coef_, clf.intercept_)\n",
      "    return  memo[p][0], memo[p][1]\n",
      "    \n",
      "def build_aggregate_model(d14, name_rep, name_dem, d_old):\n",
      "    dat = d_old[d_old.pollster.isin(d14.Pollster)]\n",
      "    y_hats = []\n",
      "    for p in set(d14.Pollster):\n",
      "        d_p = dat[dat.pollster == p]\n",
      "        coef, intercept = build_single_linear_regression(d_p, p)\n",
      "        d14_p = d14[d14.Pollster == p]\n",
      "        m = np.mean(map(lambda x: coef*x + intercept, d14_p[name_rep]/100 - d14_p[name_dem]/100))\n",
      "        y_hats.append(m)\n",
      "    return y_hats\n",
      "    "
     ],
     "language": "python",
     "metadata": {},
     "outputs": [],
     "prompt_number": 258
    },
    {
     "cell_type": "code",
     "collapsed": false,
     "input": [
      "d12 = pd.io.parsers.read_csv(\"2012.csv\")\n",
      "d10 = pd.io.parsers.read_csv(\"2010.csv\")\n",
      "pollsters = pollsters_with_historical_data(dfs, d12, d10)\n",
      "d_old = pd.merge(d12, d10, how=\"outer\")\n",
      "interest = \"\"\n",
      "results_without = {}\n",
      "restults_with = {}\n",
      "for key, value in dfs.iteritems():\n",
      "    st = convert_state(key)\n",
      "    c =  candidates[candidates[\"state\"] == st]\n",
      "    name_rep = get_republican_lastname(c[\"R\"])\n",
      "    name_dem = get_dem_lastname(c[\"D\"])\n",
      "    with_historical, without_historical = split_by_historical(value, pollsters)\n",
      "    pred1_list = build_aggregate_model(with_historical, name_rep, name_dem, d_old)\n",
      "    pred2_list = get_average_differences(without_historical, name_rep, name_dem)\n",
      "    preds = pred1_list + pred2_list\n",
      "    preds_df = pd.DataFrame(columns=[\"Preds\"])\n",
      "    preds_df[\"Preds\"] = preds\n",
      "    s = sp.stats.sem(preds_df)\n",
      "    h = s * sp.stats.t._ppf((1+.99)/2., len(preds_df)-1)\n",
      "    m = preds_df.mean()\n",
      "    print st\n",
      "    print (\"Mean: %f, Conf: (%f, %f),  Std: %f\") % (m, m-h, m+h, np.std(preds))"
     ],
     "language": "python",
     "metadata": {},
     "outputs": [
      {
       "output_type": "stream",
       "stream": "stdout",
       "text": [
        "MN\n",
        "Mean: -0.096303, Conf: (-0.150673, -0.041933),  Std: 0.061660\n",
        "MT\n",
        "Mean: 0.143192, Conf: (0.025494, 0.260889),  Std: 0.077763\n",
        "WV\n",
        "Mean: 0.140347, Conf: (0.084618, 0.196076),  Std: 0.055606\n",
        "VA"
       ]
      },
      {
       "output_type": "stream",
       "stream": "stdout",
       "text": [
        "\n",
        "Mean: -0.129662, Conf: (-0.164881, -0.094443),  Std: 0.046290\n",
        "TN\n",
        "Mean: 0.186972, Conf: (0.166382, 0.207563),  Std: 0.008945\n",
        "MI"
       ]
      },
      {
       "output_type": "stream",
       "stream": "stdout",
       "text": [
        "\n",
        "Mean: -0.063446, Conf: (-0.089018, -0.037873),  Std: 0.060619\n",
        "DE\n",
        "Mean: -0.164604, Conf: (-0.191716, -0.137493),  Std: 0.011777\n",
        "LA"
       ]
      },
      {
       "output_type": "stream",
       "stream": "stdout",
       "text": [
        "\n",
        "Mean: 0.021782, Conf: (-0.007889, 0.051453),  Std: 0.051970\n",
        "OR\n",
        "Mean: -0.119675, Conf: (-0.174477, -0.064873),  Std: 0.065596\n",
        "NM"
       ]
      },
      {
       "output_type": "stream",
       "stream": "stdout",
       "text": [
        "\n",
        "Mean: -0.149601, Conf: (-0.190020, -0.109181),  Std: 0.040330\n",
        "NE\n",
        "Mean: 0.252076, Conf: (0.204084, 0.300068),  Std: 0.020848\n",
        "WY\n",
        "Mean: 0.451193, Conf: (0.364604, 0.537782),  Std: 0.037614\n",
        "GA"
       ]
      },
      {
       "output_type": "stream",
       "stream": "stdout",
       "text": [
        "\n",
        "Mean: 0.013727, Conf: (-0.004887, 0.032341),  Std: 0.042928\n",
        "ID\n",
        "Mean: 0.299493, Conf: (0.189584, 0.409402),  Std: 0.060951\n",
        "SC"
       ]
      },
      {
       "output_type": "stream",
       "stream": "stdout",
       "text": [
        "\n",
        "Mean: 0.149788, Conf: (0.121278, 0.178298),  Std: 0.021554\n",
        "TX\n",
        "Mean: 0.189309, Conf: (0.165833, 0.212785),  Std: 0.015511\n",
        "MA"
       ]
      },
      {
       "output_type": "stream",
       "stream": "stdout",
       "text": [
        "\n",
        "Mean: -0.180290, Conf: (-0.272069, -0.088512),  Std: 0.084723\n",
        "HI\n",
        "Mean: -0.434686, Conf: (-0.496526, -0.372846),  Std: 0.040857\n",
        "NC"
       ]
      },
      {
       "output_type": "stream",
       "stream": "stdout",
       "text": [
        "\n",
        "Mean: -0.022959, Conf: (-0.032502, -0.013416),  Std: 0.023512\n",
        "IL\n",
        "Mean: -0.103095, Conf: (-0.148297, -0.057893),  Std: 0.048270\n",
        "AK"
       ]
      },
      {
       "output_type": "stream",
       "stream": "stdout",
       "text": [
        "\n",
        "Mean: 0.013324, Conf: (-0.016323, 0.042971),  Std: 0.050647\n",
        "AR"
       ]
      },
      {
       "output_type": "stream",
       "stream": "stdout",
       "text": [
        "\n",
        "Mean: 0.009672, Conf: (-0.010131, 0.029475),  Std: 0.051151\n",
        "MS\n",
        "Mean: 0.154322, Conf: (0.139295, 0.169349),  Std: 0.008333\n",
        "RI\n",
        "Mean: -0.369450, Conf: (-0.444117, -0.294783),  Std: 0.022142\n",
        "NJ"
       ]
      },
      {
       "output_type": "stream",
       "stream": "stdout",
       "text": [
        "\n",
        "Mean: -0.142027, Conf: (-0.179433, -0.104621),  Std: 0.034530\n",
        "KY"
       ]
      },
      {
       "output_type": "stream",
       "stream": "stdout",
       "text": [
        "\n",
        "Mean: 0.018212, Conf: (0.002130, 0.034293),  Std: 0.039622\n",
        "NH"
       ]
      },
      {
       "output_type": "stream",
       "stream": "stdout",
       "text": [
        "\n",
        "Mean: -0.049772, Conf: (-0.065962, -0.033583),  Std: 0.032849\n",
        "ME\n",
        "Mean: 0.336116, Conf: (0.259443, 0.412789),  Std: 0.081877\n",
        "OK"
       ]
      },
      {
       "output_type": "stream",
       "stream": "stdout",
       "text": [
        "\n",
        "Mean: 0.335128, Conf: (0.319909, 0.350347),  Std: 0.008440\n",
        "CO"
       ]
      },
      {
       "output_type": "stream",
       "stream": "stdout",
       "text": [
        "\n",
        "Mean: -0.003452, Conf: (-0.017825, 0.010920),  Std: 0.030716\n",
        "SD"
       ]
      },
      {
       "output_type": "stream",
       "stream": "stdout",
       "text": [
        "\n",
        "Mean: 0.123177, Conf: (0.091789, 0.154564),  Std: 0.052228\n",
        "IA"
       ]
      },
      {
       "output_type": "stream",
       "stream": "stdout",
       "text": [
        "\n",
        "Mean: 0.007908, Conf: (-0.020416, 0.036231),  Std: 0.061518\n"
       ]
      }
     ],
     "prompt_number": 265
    },
    {
     "cell_type": "markdown",
     "metadata": {},
     "source": [
      "**Provide an explanation of methodology here**:"
     ]
    },
    {
     "cell_type": "markdown",
     "metadata": {},
     "source": [
      "#### Problem 4(b)\n",
      "\n",
      "Predict the R-D difference in each state. The predictions that minimize the residual sum of squares between predicted and observed differences wins."
     ]
    },
    {
     "cell_type": "code",
     "collapsed": false,
     "input": [
      "### Your code here ###"
     ],
     "language": "python",
     "metadata": {},
     "outputs": [],
     "prompt_number": 77
    },
    {
     "cell_type": "markdown",
     "metadata": {},
     "source": [
      "**Provide an explanation of methodology here**:"
     ]
    },
    {
     "cell_type": "markdown",
     "metadata": {},
     "source": [
      "#### Problem 4(c)\n",
      "\n",
      "Report a confidence interval for the R-D difference in each state. If the election day result falls outside your confidence interval in more than two states you are eliminated. For those surviving this cutoff, we will add up the size of all confidence intervals and sum. The smallest total length of confidence interval wins. \n",
      "\n",
      "**Note**: you can use Bayesian credible intervals or whatever else you want. "
     ]
    },
    {
     "cell_type": "code",
     "collapsed": false,
     "input": [
      "### Your code here ###"
     ],
     "language": "python",
     "metadata": {},
     "outputs": [],
     "prompt_number": 78
    },
    {
     "cell_type": "markdown",
     "metadata": {},
     "source": [
      "**Provide an explanation of methodology here**:"
     ]
    },
    {
     "cell_type": "markdown",
     "metadata": {},
     "source": [
      "# Submission Instructions\n",
      "\n",
      "To submit your homework, create a folder named **lastname_firstinitial_hw#** and place your IPython notebooks, data files, and any other files in this folder. Your IPython Notebooks should be completely executed with the results visible in the notebook. We should not have to run any code.  Compress the folder (please use .zip compression) and submit to the CS109 dropbox in the appropriate folder. *If we cannot access your work because these directions are not followed correctly, we will not grade your work.*\n"
     ]
    }
   ],
   "metadata": {}
  }
 ]
}