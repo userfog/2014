{
 "metadata": {
  "name": "",
  "signature": "sha256:6d81c99a82c5b8fa227f7b344220b9b1e8ae4f21ddb0bc24cc22825eeeb4fd0e"
 },
 "nbformat": 3,
 "nbformat_minor": 0,
 "worksheets": [
  {
   "cells": [
    {
     "cell_type": "markdown",
     "metadata": {},
     "source": [
      "# Homework 4: Can you predict the Midterm Elections?\n",
      "\n",
      "Due: Thursday, October 30, 2014 11:59 PM\n",
      "\n",
      "<a href=https://raw.githubusercontent.com/cs109/2014/master/homework/HW4.ipynb download=HW4.ipynb> Download this assignment</a>\n",
      "\n",
      "#### Submission Instructions\n",
      "To submit your homework, create a folder named lastname_firstinitial_hw# and place your IPython notebooks, data files, and any other files in this folder. Your IPython Notebooks should be completely executed with the results visible in the notebook. We should not have to run any code. Compress the folder (please use .zip compression) and submit to the CS109 dropbox in the appropriate folder. If we cannot access your work because these directions are not followed correctly, we will not grade your work. For the competition (problem 4), we will post a link on Piazza to a Google Form for you to submit your predictions. \n",
      "\n",
      "\n",
      "---\n"
     ]
    },
    {
     "cell_type": "markdown",
     "metadata": {},
     "source": [
      "## Introduction\n",
      "\n",
      "**Add Introduction**\n",
      "\n",
      "You will use the [HuffPost Pollster API](http://elections.huffingtonpost.com/pollster/api) to extract the polls for the current 2014 Senate Midterm Elections and provide a final prediction of the result of each state.\n",
      "\n",
      "#### Data\n",
      "\n",
      "We will use the polls from the [2014 Senate Midterm Elections](http://elections.huffingtonpost.com/pollster) from the [HuffPost Pollster API](http://elections.huffingtonpost.com/pollster/api). \n",
      "\n",
      "---"
     ]
    },
    {
     "cell_type": "markdown",
     "metadata": {},
     "source": [
      "## Problem 1: Data Wrangling\n",
      "\n",
      "We will read in the polls from the [2014 Senate Midterm Elections](http://elections.huffingtonpost.com/pollster) from the [HuffPost Pollster API](http://elections.huffingtonpost.com/pollster/api) and create a dictionary of DataFrames as well a master table information for each race."
     ]
    },
    {
     "cell_type": "markdown",
     "metadata": {},
     "source": [
      "#### Problem 1(a)\n",
      "\n",
      "Read in [this JSON object](http://elections.huffingtonpost.com/pollster/api/charts/?topic=2014-senate) containing the polls for the 2014 Senate Elections using the HuffPost API. Call this JSON object `info`.  This JSON object is imported as a list in Python where each element contains the information for one race.  Use the function `type` to confirm the that `info` is a list. "
     ]
    },
    {
     "cell_type": "code",
     "collapsed": false,
     "input": [
      "%matplotlib inline\n",
      "# http://code.activestate.com/recipes/577305-python-dictionary-of-us-states-and-territories/\n",
      "states_dict = {\n",
      "        'AK': 'Alaska',\n",
      "        'AL': 'Alabama',\n",
      "        'AR': 'Arkansas',\n",
      "        'AS': 'American Samoa',\n",
      "        'AZ': 'Arizona',\n",
      "        'CA': 'California',\n",
      "        'CO': 'Colorado',\n",
      "        'CT': 'Connecticut',\n",
      "        'DC': 'District of Columbia',\n",
      "        'DE': 'Delaware',\n",
      "        'FL': 'Florida',\n",
      "        'GA': 'Georgia',\n",
      "        'GU': 'Guam',\n",
      "        'HI': 'Hawaii',\n",
      "        'IA': 'Iowa',\n",
      "        'ID': 'Idaho',\n",
      "        'IL': 'Illinois',\n",
      "        'IN': 'Indiana',\n",
      "        'KS': 'Kansas',\n",
      "        'KY': 'Kentucky',\n",
      "        'LA': 'Louisiana',\n",
      "        'MA': 'Massachusetts',\n",
      "        'MD': 'Maryland',\n",
      "        'ME': 'Maine',\n",
      "        'MI': 'Michigan',\n",
      "        'MN': 'Minnesota',\n",
      "        'MO': 'Missouri',\n",
      "        'MP': 'Northern Mariana Islands',\n",
      "        'MS': 'Mississippi',\n",
      "        'MT': 'Montana',\n",
      "        'NA': 'National',\n",
      "        'NC': 'North Carolina',\n",
      "        'ND': 'North Dakota',\n",
      "        'NE': 'Nebraska',\n",
      "        'NH': 'New Hampshire',\n",
      "        'NJ': 'New Jersey',\n",
      "        'NM': 'New Mexico',\n",
      "        'NV': 'Nevada',\n",
      "        'NY': 'New York',\n",
      "        'OH': 'Ohio',\n",
      "        'OK': 'Oklahoma',\n",
      "        'OR': 'Oregon',\n",
      "        'PA': 'Pennsylvania',\n",
      "        'PR': 'Puerto Rico',\n",
      "        'RI': 'Rhode Island',\n",
      "        'SC': 'South Carolina',\n",
      "        'SD': 'South Dakota',\n",
      "        'TN': 'Tennessee',\n",
      "        'TX': 'Texas',\n",
      "        'UT': 'Utah',\n",
      "        'VA': 'Virginia',\n",
      "        'VI': 'Virgin Islands',\n",
      "        'VT': 'Vermont',\n",
      "        'WA': 'Washington',\n",
      "        'WI': 'Wisconsin',\n",
      "        'WV': 'West Virginia',\n",
      "        'WY': 'Wyoming'\n",
      "}\n",
      "import scipy as sp\n",
      "import scipy.stats as stats\n",
      "import math \n",
      "import urllib2\n",
      "import requests\n",
      "import json\n",
      "import StringIO\n",
      "import pandas as pd\n",
      "import pprint \n",
      "import matplotlib.pyplot as plt\n",
      "import itertools\n",
      "import datetime as dt\n",
      "import collections\n",
      "pp = pprint.PrettyPrinter(indent=4)\n",
      "data = urllib2.urlopen(\"http://elections.huffingtonpost.com/pollster/api/charts/?topic=2014-senate\").read()\n",
      "info = json.loads(data)\n",
      "type(info)\n",
      "# pp.pprint(info)"
     ],
     "language": "python",
     "metadata": {},
     "outputs": [
      {
       "metadata": {},
       "output_type": "pyout",
       "prompt_number": 139,
       "text": [
        "list"
       ]
      }
     ],
     "prompt_number": 139
    },
    {
     "cell_type": "markdown",
     "metadata": {},
     "source": [
      "#### Problem 1(b)\n",
      "\n",
      "For each element of the list in `info` extract the state. We should have one poll per state, but we do not. Why?\n",
      "\n",
      "**Hint**: Use the internet to find out information on the races in each state that has more than one entry. Eliminate entries of the list that represent races that are not happening."
     ]
    },
    {
     "cell_type": "code",
     "collapsed": false,
     "input": [
      "def dem_vs_repub(est):\n",
      "    if len(est) < 2:\n",
      "        return False\n",
      "    return (est[0][\"party\"] == \"Rep\" or  est[0][\"party\"] == \"Dem\") and (est[1][\"party\"] == \"Rep\" or  est[1][\"party\"] == \"Dem\")\n",
      "\n",
      "def south_carolina(est):\n",
      "    return est[0][\"last_name\"].lower() == \"graham\" or est[1][\"last_name\"].lower() == \"graham\""
     ],
     "language": "python",
     "metadata": {},
     "outputs": [],
     "prompt_number": 3
    },
    {
     "cell_type": "code",
     "collapsed": false,
     "input": [
      "# Alabama: No opponent race uncontested\n",
      "# Runoffs are included in the data\n",
      "# A special election is occuring in South Carolina\n",
      "for idx, el in enumerate(info):\n",
      "   if \"Runoff\" in str(el[\"title\"]):\n",
      "        del info[idx]\n",
      "   if not dem_vs_repub(el[\"estimates\"]):\n",
      "        del info[idx]\n",
      "   if el[\"state\"].lower() == \"sc\" and not south_carolina(el[\"estimates\"]):\n",
      "        del info[idx]            \n",
      "   if el[\"title\"] == \"2014 Oklahoma Senate: Lankford vs. Johnson\":\n",
      "        del info[idx]"
     ],
     "language": "python",
     "metadata": {},
     "outputs": [],
     "prompt_number": 4
    },
    {
     "cell_type": "markdown",
     "metadata": {},
     "source": [
      "** Your answer here: **"
     ]
    },
    {
     "cell_type": "code",
     "collapsed": false,
     "input": [
      "def build_frame(url):\n",
      "    \"\"\"\n",
      "    Returns a pandas DataFrame object containing\n",
      "    the data returned from the given url\n",
      "    \"\"\"\n",
      "    source = requests.get(url + \".csv\").text\n",
      "    \n",
      "    # Use StringIO because pd.DataFrame.from_csv requires .read() method\n",
      "    s = StringIO.StringIO(source)\n",
      "    \n",
      "    return pd.DataFrame.from_csv(s, index_col=None).convert_objects(\n",
      "            convert_dates=\"coerce\", convert_numeric=True)"
     ],
     "language": "python",
     "metadata": {},
     "outputs": [],
     "prompt_number": 5
    },
    {
     "cell_type": "code",
     "collapsed": false,
     "input": [
      "polls = pd.read_json(json.dumps(info))\n",
      "dfs = dict((election.split(\"/\")[-1][:-4], build_frame(election)) for election in polls.url)"
     ],
     "language": "python",
     "metadata": {},
     "outputs": [],
     "prompt_number": 6
    },
    {
     "cell_type": "code",
     "collapsed": false,
     "input": [
      "print len(dfs.keys())\n",
      "# pp.pprint(polls)\n"
     ],
     "language": "python",
     "metadata": {},
     "outputs": [
      {
       "output_type": "stream",
       "stream": "stdout",
       "text": [
        "32\n"
       ]
      }
     ],
     "prompt_number": 7
    },
    {
     "cell_type": "markdown",
     "metadata": {},
     "source": [
      "#### Problem 1(d)\n",
      "\n",
      "Now creaate a master table information containing information about each race. Create a pandas DataFrame called `candidates` with rows containing information about each race. The `candidates` DataFrame should have the following columns: \n",
      "\n",
      "1. `State` = entries should be unique\n",
      "2. `R` = name of republican candidate\n",
      "3. `D` = name of non-republican candidate (Democrate or Independent) \n",
      "4. `incumbent` = R, D or NA\n",
      "\n",
      "**Hint**: You will need a considerable amount of data wrangling for this."
     ]
    },
    {
     "cell_type": "code",
     "collapsed": false,
     "input": [
      "def full_name(cand):\n",
      "    s =  cand[u'first_name'] + \" \" + cand[u'last_name']\n",
      "    return s\n",
      "\n",
      "def process(l, cand, RorD):\n",
      "    if RorD == \"R\":\n",
      "        l[1] = full_name(cand)\n",
      "    else:\n",
      "        l[2] = full_name(cand)\n",
      "    if cand[\"incumbent\"]:\n",
      "        l[3] = RorD\n",
      "\n",
      "\n",
      "candidates = pd.DataFrame(columns=(\"state\", \"R\", \"D\", \"incumbent\"))\n",
      "for idx, el in polls.iterrows():\n",
      "    l = [None]*4\n",
      "    l[0] = el[\"state\"]\n",
      "    l[3] = \"NA\"\n",
      "    for cand in el[\"estimates\"]:\n",
      "        if cand[\"party\"] == \"Rep\":\n",
      "            process(l, cand, \"R\")\n",
      "        if cand[\"party\"] == \"Dem\":\n",
      "            process(l, cand, \"D\")\n",
      "    candidates.loc[idx] = l\n",
      "candidates.head()"
     ],
     "language": "python",
     "metadata": {},
     "outputs": [
      {
       "html": [
        "<div style=\"max-height:1000px;max-width:1500px;overflow:auto;\">\n",
        "<table border=\"1\" class=\"dataframe\">\n",
        "  <thead>\n",
        "    <tr style=\"text-align: right;\">\n",
        "      <th></th>\n",
        "      <th>state</th>\n",
        "      <th>R</th>\n",
        "      <th>D</th>\n",
        "      <th>incumbent</th>\n",
        "    </tr>\n",
        "  </thead>\n",
        "  <tbody>\n",
        "    <tr>\n",
        "      <th>0</th>\n",
        "      <td> KY</td>\n",
        "      <td> Mitch McConnell</td>\n",
        "      <td> Alison Lundergan Grimes</td>\n",
        "      <td>  R</td>\n",
        "    </tr>\n",
        "    <tr>\n",
        "      <th>1</th>\n",
        "      <td> AR</td>\n",
        "      <td>      Tom Cotton</td>\n",
        "      <td>              Mark Pryor</td>\n",
        "      <td>  D</td>\n",
        "    </tr>\n",
        "    <tr>\n",
        "      <th>2</th>\n",
        "      <td> MI</td>\n",
        "      <td> Terri Lynn Land</td>\n",
        "      <td>             Gary Peters</td>\n",
        "      <td> NA</td>\n",
        "    </tr>\n",
        "    <tr>\n",
        "      <th>3</th>\n",
        "      <td> LA</td>\n",
        "      <td>    Bill Cassidy</td>\n",
        "      <td>           Mary Landrieu</td>\n",
        "      <td>  D</td>\n",
        "    </tr>\n",
        "    <tr>\n",
        "      <th>4</th>\n",
        "      <td> NH</td>\n",
        "      <td>     Scott Brown</td>\n",
        "      <td>          Jeanne Shaheen</td>\n",
        "      <td>  D</td>\n",
        "    </tr>\n",
        "  </tbody>\n",
        "</table>\n",
        "</div>"
       ],
       "metadata": {},
       "output_type": "pyout",
       "prompt_number": 9,
       "text": [
        "  state                R                        D incumbent\n",
        "0    KY  Mitch McConnell  Alison Lundergan Grimes         R\n",
        "1    AR       Tom Cotton               Mark Pryor         D\n",
        "2    MI  Terri Lynn Land              Gary Peters        NA\n",
        "3    LA     Bill Cassidy            Mary Landrieu         D\n",
        "4    NH      Scott Brown           Jeanne Shaheen         D"
       ]
      }
     ],
     "prompt_number": 9
    },
    {
     "cell_type": "markdown",
     "metadata": {},
     "source": [
      "## Problem 2: Confidence Intervals\n",
      "\n",
      "Compute a 99% confidence interval for each state. "
     ]
    },
    {
     "cell_type": "markdown",
     "metadata": {},
     "source": [
      "#### Problem 2(a)\n",
      "\n",
      "Assume you have $M$ polls with sample sizes $n_1, \\dots, n_M$. If the polls are independent, what is the average of the variances of each poll if the true proportion is $p$?"
     ]
    },
    {
     "cell_type": "markdown",
     "metadata": {},
     "source": [
      "** Your answer here: **\n",
      "$$\\frac{p(1-p)}{n}$$\n"
     ]
    },
    {
     "cell_type": "markdown",
     "metadata": {},
     "source": [
      "#### Problem 2(b)\n",
      "\n",
      "Compute the square root of these values in Problem 2(b) for the republican candidates in each race. Then, compute the standard deviations of the observed poll results for each race. "
     ]
    },
    {
     "cell_type": "code",
     "collapsed": false,
     "input": [
      "import numpy as np\n",
      "import re \n",
      "\n",
      "# http://stackoverflow.com/questions/483666/python-reverse-inverse-a-mapping\n",
      "state_dict = dict((v,k) for k, v in states_dict.iteritems())\n",
      "\n",
      "\n",
      "def convert_state(key):\n",
      "    state_name = re.compile(\"2014-(.*)-se\")\n",
      "    st = state_name.search(key)\n",
      "    s_name = st.group(1).replace(\"-\", \" \").strip()\n",
      "    s_name = s_name.title()\n",
      "    return state_dict[s_name]\n",
      "\n",
      "def get_republican_lastname(repub):\n",
      "    el = list(repub)[0].split(\" \")\n",
      "    return el[-1]\n",
      "\n",
      "def get_recent_stds(num_months, df, name):\n",
      "    df[\"Start Date\"] = pd.to_datetime(df[\"Start Date\"])\n",
      "    months_ago = dt.datetime.now() - dt.timedelta(num_months*365/12)\n",
      "    recent = df[df[\"Start Date\"] > months_ago]\n",
      "    results = [el/100.0 for el in recent[name]]\n",
      "    return np.std(results)\n",
      "\n",
      "\n",
      "l = len(candidates)\n",
      "ideal_stds = [None]*l\n",
      "real_stds = [None]*l\n",
      "real_stds_recent = [None]*l\n",
      "num_obs = [None]*l\n",
      "cands = [None]*l\n",
      "states = [None]*l\n",
      "i = 0\n",
      "\n",
      "for key, value in dfs.iteritems(): \n",
      "    st = convert_state(key)\n",
      "    r =  candidates[candidates[\"state\"] == st]\n",
      "    name = get_republican_lastname(r[\"R\"])\n",
      "    p = value[name].mean()/100.0\n",
      "    ideal_variance = np.mean([p*(1-p)/el for el in value[\"Number of Observations\"]])\n",
      "    results = [el/100.0 for el in value[name]]\n",
      "    real_std = np.std(results)\n",
      "    ideal_stds[i] = math.sqrt(ideal_variance)\n",
      "    real_stds[i] = real_std\n",
      "    real_stds_recent[i] = get_recent_stds(2, value, name)\n",
      "    num_obs[i] = len(value[name])\n",
      "    cands[i] = name\n",
      "    states[i] = st\n",
      "    i += 1\n",
      "\n",
      "# http://stackoverflow.com/questions/9623114/python-are-two-lists-equal\n",
      "compare = lambda x, y: collections.Counter(x) == collections.Counter(y)\n",
      "assert(not compare(real_stds, real_stds_recent))\n",
      "# pp.pprint(zip(cands, real_stds))\n",
      "# pp.pprint(zip(cands, ideal_stds))"
     ],
     "language": "python",
     "metadata": {},
     "outputs": [],
     "prompt_number": 117
    },
    {
     "cell_type": "markdown",
     "metadata": {},
     "source": [
      "#### Problem 2(c) \n",
      "\n",
      "Plot observed versus theoretical (average of the theoretical SDs) with the area of the point proportional to number of polls. How do these compare?"
     ]
    },
    {
     "cell_type": "code",
     "collapsed": false,
     "input": [
      "def nice_graph(xlab, ylab, title, axi):\n",
      "    plt.xlabel(xlab)\n",
      "    plt.ylabel(ylab)\n",
      "    plt.title(title)\n",
      "    plt.axis(axi)"
     ],
     "language": "python",
     "metadata": {},
     "outputs": [],
     "prompt_number": 108
    },
    {
     "cell_type": "code",
     "collapsed": false,
     "input": [
      "colors_1 = itertools.cycle([\"r\", \"b\", \"g\", \"orange\"])\n",
      "colors_2 = itertools.cycle([\"r\", \"b\", \"g\", \"orange\"])\n",
      "x = xrange(0,l)\n",
      "plt.scatter(x, ideal_stds, c=[next(colors_1) for i in x], s=[n for n in num_obs], marker=\"^\", label=\"Theoretical\")\n",
      "plt.scatter(x, real_stds, c=[next(colors_2) for i in x], s=[n for n in num_obs], label=\"Real\")\n",
      "plt.xticks(x, cands, rotation=\"90\")\n",
      "nice_graph(\"Candidates\", \"Standard Deviations\", \"Observed vs. Real\", [-1, l+1, .01, .07])\n",
      "plt.legend(loc=2,bbox_to_anchor=(1, 1))\n",
      "plt.show()"
     ],
     "language": "python",
     "metadata": {},
     "outputs": [
      {
       "metadata": {},
       "output_type": "display_data",
       "png": "[encoded data removed]",
       "text": [
        "<matplotlib.figure.Figure at 0x10882b150>"
       ]
      }
     ],
     "prompt_number": 109
    },
    {
     "cell_type": "markdown",
     "metadata": {},
     "source": [
      "** Your answer here: **"
     ]
    },
    {
     "cell_type": "markdown",
     "metadata": {},
     "source": [
      "#### Problem 2(d)\n",
      "\n",
      "Repeat Problem 2(c) but include only the most recent polls from the last two months. Do they match better or worse or the same? Can we just trust the theoretical values?"
     ]
    },
    {
     "cell_type": "code",
     "collapsed": false,
     "input": [
      "colors_1 = itertools.cycle([\"r\", \"b\", \"g\", \"orange\"])\n",
      "colors_2 = itertools.cycle([\"r\", \"b\", \"g\", \"orange\"])\n",
      "x = xrange(0,l)\n",
      "plt.scatter(x, ideal_stds, c=[next(colors_1) for i in x], s=[n for n in num_obs], marker=\"^\", label=\"Theoretical\")\n",
      "plt.scatter(x, real_stds_recent, c=[next(colors_2) for i in x], s=[n for n in num_obs], label=\"Real\")\n",
      "plt.xticks(x, cands, rotation=\"90\")\n",
      "nice_graph(\"Candidates\", \"Standard Deviations\", \"Observed vs. Real\", [-1, l+1, .01, .07])\n",
      "plt.legend(loc=2,bbox_to_anchor=(1, 1))\n",
      "plt.show()"
     ],
     "language": "python",
     "metadata": {},
     "outputs": [
      {
       "metadata": {},
       "output_type": "display_data",
       "png": "[encoded data removed]",
       "text": [
        "<matplotlib.figure.Figure at 0x10872a2d0>"
       ]
      }
     ],
     "prompt_number": 110
    },
    {
     "cell_type": "markdown",
     "metadata": {},
     "source": [
      "** Your answer here: **"
     ]
    },
    {
     "cell_type": "markdown",
     "metadata": {},
     "source": [
      "#### Problem 2(e)\n",
      "\n",
      "Create a scatter plot with each point representing one state. Is there one or more races that are outlier in that it they have much larger variabilityes than expected ? Explore the original poll data and explain why the discrepancy?"
     ]
    },
    {
     "cell_type": "code",
     "collapsed": false,
     "input": [
      "def outlier(data, g=False, n=2):\n",
      "    ret = []\n",
      "    nums = [d[0] for d in data]\n",
      "    m = np.mean(nums)\n",
      "    std = np.std(nums)\n",
      "    if g == True:\n",
      "        return [d for d in data if abs(d[0]-m) > n * std and d[0] > m]\n",
      "    else:\n",
      "        return [d for d in data if abs(d[0]-m) < n * std]\n",
      "\n",
      "\n",
      "interested = zip([abs(e1 - e2) for e1, e2 in zip(ideal_stds, real_stds)], states)\n",
      "out = outlier(interested, g=True)\n",
      "plt.boxplot([abs(e1 - e2) for e1, e2 in zip(ideal_stds, real_stds)], 0,'gD')\n",
      "for el in interested:\n",
      "    if el in out:\n",
      "        plt.annotate(s=el[1], xy=(1, el[0]), arrowprops = dict(arrowstyle = '->', connectionstyle = 'arc3,rad=0'))\n",
      "    else:\n",
      "        plt.plot(1, el[0], marker=\"o\", alpha=.3)\n",
      "plt.xticks([1], \"\")\n",
      "nice_graph(\"Distribution\", \"Differences Between Theoretical and Observed\", \"Distribution of Differences\", [.5,1.5, 0, .06])"
     ],
     "language": "python",
     "metadata": {},
     "outputs": [
      {
       "metadata": {},
       "output_type": "display_data",
       "png": "[encoded data removed]",
       "text": [
        "<matplotlib.figure.Figure at 0x108f80310>"
       ]
      }
     ],
     "prompt_number": 196
    },
    {
     "cell_type": "markdown",
     "metadata": {},
     "source": [
      "** Your answer here: **"
     ]
    },
    {
     "cell_type": "markdown",
     "metadata": {},
     "source": [
      "#### Problem 2(f)\n",
      "\n",
      " Construct confidence intervals for the difference in each race. Use either theoretical or data driven estimates of the standard error depending on your answer to this question. Use the results in Problem 2(e), to justify your choice.\n"
     ]
    },
    {
     "cell_type": "code",
     "collapsed": false,
     "input": [
      "for key, value in dfs.iteritems(): \n",
      "    st = convert_state(key)\n",
      "    r =  candidates[candidates[\"state\"] == st]\n",
      "    name = get_republican_lastname(r[\"R\"])\n",
      "    p = float(value[name].mean())/100.0\n",
      "    s = sp.stats.sem([e / 100.0 for e in value[name]])\n",
      "    print \"State: %s, Mean: %f, Confidence: (%f, %f)\" % (st, p, p+s, p-s)"
     ],
     "language": "python",
     "metadata": {},
     "outputs": [
      {
       "output_type": "stream",
       "stream": "stdout",
       "text": [
        "State: MN, Mean: 0.387500, Confidence: (0.394641, 0.380359)\n",
        "State: MT, Mean: 0.532857, Confidence: (0.544136, 0.521578)\n",
        "State: WV, Mean: 0.506429, Confidence: (0.515956, 0.496901)\n",
        "State: VA, Mean: 0.342727, Confidence: (0.355906, 0.329549)\n",
        "State: TN, Mean: 0.501667, Confidence: (0.515431, 0.487903)\n",
        "State: MI, Mean: 0.388197, Confidence: (0.392427, 0.383966)\n",
        "State: DE, Mean: 0.330000, Confidence: (0.350248, 0.309752)\n",
        "State: LA, Mean: 0.455161, Confidence: (0.462084, 0.448238)\n",
        "State: OR, Mean: 0.357368, Confidence: (0.366412, 0.348325)\n",
        "State: NM, Mean: 0.377500, Confidence: (0.389505, 0.365495)\n",
        "State: NE, Mean: 0.556667, Confidence: (0.570491, 0.542842)\n",
        "State: WY, Mean: 0.678000, Confidence: (0.697849, 0.658151)\n",
        "State: GA, Mean: 0.453261, Confidence: (0.457068, 0.449453)\n",
        "State: ID, Mean: 0.588333, Confidence: (0.612196, 0.564470)\n",
        "State: SC, Mean: 0.457500, Confidence: (0.468149, 0.446851)\n",
        "State: TX, Mean: 0.512222, Confidence: (0.534755, 0.489690)\n",
        "State: MA, Mean: 0.320000, Confidence: (0.327161, 0.312839)\n",
        "State: HI, Mean: 0.228333, Confidence: (0.247204, 0.209462)\n",
        "State: NC, Mean: 0.415493, Confidence: (0.419554, 0.411432)\n",
        "State: IL, Mean: 0.375714, Confidence: (0.382724, 0.368705)\n",
        "State: AK, Mean: 0.426970, Confidence: (0.434675, 0.419264)\n",
        "State: AR, Mean: 0.439833, Confidence: (0.444643, 0.435023)\n",
        "State: MS, Mean: 0.466250, Confidence: (0.477420, 0.455080)\n",
        "State: RI, Mean: 0.250000, Confidence: (0.276458, 0.223542)\n",
        "State: NJ, Mean: 0.359231, Confidence: (0.373663, 0.344799)\n",
        "State: KY, Mean: 0.454000, Confidence: (0.458181, 0.449819)"
       ]
      },
      {
       "output_type": "stream",
       "stream": "stdout",
       "text": [
        "\n",
        "State: NH, Mean: 0.422414, Confidence: (0.427679, 0.417148)\n",
        "State: ME, Mean: 0.610000, Confidence: (0.624367, 0.595633)\n",
        "State: OK, Mean: 0.608000, Confidence: (0.627339, 0.588661)\n",
        "State: CO, Mean: 0.447500, Confidence: (0.451005, 0.443995)\n",
        "State: SD, Mean: 0.426000, Confidence: (0.438288, 0.413712)\n",
        "State: IA, Mean: 0.431400, Confidence: (0.438387, 0.424413)\n"
       ]
      }
     ],
     "prompt_number": 155
    },
    {
     "cell_type": "markdown",
     "metadata": {},
     "source": [
      "# Problem 3: Prediction and Posterior Probabilities\n",
      "\n",
      "Perform a Bayesian analysis to predict the probability of Republicans winning in each state then provide a posterior distribution of the number of republicans in the senate."
     ]
    },
    {
     "cell_type": "markdown",
     "metadata": {},
     "source": [
      "#### Problem 3(a)\n",
      "\n",
      "First, we define a Bayesian model for each race. The prior for the difference $d$ between republicans and democtrats will be $N(\\mu,\\tau^2)$. Say before seeing poll data you have idea who is going to win, what should $\\mu$ be? How about $\\tau$, should it be large or small? "
     ]
    },
    {
     "cell_type": "markdown",
     "metadata": {},
     "source": [
      "** Your answer here: ** \n",
      "\n",
      "$\\mu = 0$ Because we expected that overall, the number of democrats elected and the number of republicans elected with be the same\n",
      "\n",
      "$\\tau = $"
     ]
    },
    {
     "cell_type": "markdown",
     "metadata": {},
     "source": [
      "#### Problem 3(b)\n",
      "\n",
      "What is the distribution of $d$ conditioned on $\\mu$. What is the posterior distribution of $\\mu | d$? \n",
      "\n",
      "**Hint**: Use normal approximation. \n",
      "\n"
     ]
    },
    {
     "cell_type": "markdown",
     "metadata": {},
     "source": [
      "**Your answer here:**"
     ]
    },
    {
     "cell_type": "markdown",
     "metadata": {},
     "source": [
      "#### Problem 3(c)\n",
      "\n",
      "The prior represents what we think before hand. We do not know who is expected to win, so we assume $\\mu=0$. For this problem estimate $\\tau$ using the observed differences across states (Hint: $\\tau$ represents the standard deviation of a typical difference). Compute the posterior mean for each state and plot it against original average. Is there much change? Why or why not? "
     ]
    },
    {
     "cell_type": "code",
     "collapsed": false,
     "input": [],
     "language": "python",
     "metadata": {},
     "outputs": []
    },
    {
     "cell_type": "markdown",
     "metadata": {},
     "source": [
      "**Your answer here:**"
     ]
    },
    {
     "cell_type": "markdown",
     "metadata": {},
     "source": [
      "#### Problem 3(d)\n",
      "\n",
      "For each state, report a probabilty of Republicans winning. How does your answer here compare to the other aggregators?"
     ]
    },
    {
     "cell_type": "code",
     "collapsed": false,
     "input": [
      "### Your code here ###"
     ],
     "language": "python",
     "metadata": {},
     "outputs": []
    },
    {
     "cell_type": "markdown",
     "metadata": {},
     "source": [
      "**Your answer here:**"
     ]
    },
    {
     "cell_type": "markdown",
     "metadata": {},
     "source": [
      "#### Problem 3(e)\n",
      "\n",
      "Use the posterior distributions in a Monte Carlo simulation to generate election results. In each simulation compute the total number of seats the Republican control. Show a histogram of these results."
     ]
    },
    {
     "cell_type": "code",
     "collapsed": false,
     "input": [
      "### Your code here ###"
     ],
     "language": "python",
     "metadata": {},
     "outputs": []
    },
    {
     "cell_type": "markdown",
     "metadata": {},
     "source": [
      "## Problem 4\n",
      "\n",
      "Predict the results for the 2014 Midterm Elections. We will have a three competitions with the terms for scoring entries described above. For both questions below, **explain** or provide commentary on how you arrived at your predictions including code. \n",
      "\n",
      "**Hint**: Use election results from 2010, 2012 to build and test models."
     ]
    },
    {
     "cell_type": "markdown",
     "metadata": {},
     "source": [
      "#### Problem 4(a)\n",
      "\n",
      "Predict the number of Republican senators. You may provide an interval. Smallest interval that includes the election day result wins. \n",
      "\n",
      "**Note**: we want the total so add the numbers of those that are not up for election."
     ]
    },
    {
     "cell_type": "code",
     "collapsed": false,
     "input": [
      "### Your code here ###"
     ],
     "language": "python",
     "metadata": {},
     "outputs": []
    },
    {
     "cell_type": "markdown",
     "metadata": {},
     "source": [
      "**Provide an explanation of methodology here**:"
     ]
    },
    {
     "cell_type": "markdown",
     "metadata": {},
     "source": [
      "#### Problem 4(b)\n",
      "\n",
      "Predict the R-D difference in each state. The predictions that minimize the residual sum of squares between predicted and observed differences wins."
     ]
    },
    {
     "cell_type": "code",
     "collapsed": false,
     "input": [
      "### Your code here ###"
     ],
     "language": "python",
     "metadata": {},
     "outputs": []
    },
    {
     "cell_type": "markdown",
     "metadata": {},
     "source": [
      "**Provide an explanation of methodology here**:"
     ]
    },
    {
     "cell_type": "markdown",
     "metadata": {},
     "source": [
      "#### Problem 4(c)\n",
      "\n",
      "Report a confidence interval for the R-D difference in each state. If the election day result falls outside your confidence interval in more than two states you are eliminated. For those surviving this cutoff, we will add up the size of all confidence intervals and sum. The smallest total length of confidence interval wins. \n",
      "\n",
      "**Note**: you can use Bayesian credible intervals or whatever else you want. "
     ]
    },
    {
     "cell_type": "code",
     "collapsed": false,
     "input": [
      "### Your code here ###"
     ],
     "language": "python",
     "metadata": {},
     "outputs": []
    },
    {
     "cell_type": "markdown",
     "metadata": {},
     "source": [
      "**Provide an explanation of methodology here**:"
     ]
    },
    {
     "cell_type": "markdown",
     "metadata": {},
     "source": [
      "# Submission Instructions\n",
      "\n",
      "To submit your homework, create a folder named **lastname_firstinitial_hw#** and place your IPython notebooks, data files, and any other files in this folder. Your IPython Notebooks should be completely executed with the results visible in the notebook. We should not have to run any code.  Compress the folder (please use .zip compression) and submit to the CS109 dropbox in the appropriate folder. *If we cannot access your work because these directions are not followed correctly, we will not grade your work.*\n"
     ]
    }
   ],
   "metadata": {}
  }
 ]
}