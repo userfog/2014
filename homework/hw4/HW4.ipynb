{
 "metadata": {
  "name": "",
  "signature": "sha256:925969db27f2c4d0617d95325e8e34dcb821629122097f302dc734aeebce021e"
 },
 "nbformat": 3,
 "nbformat_minor": 0,
 "worksheets": [
  {
   "cells": [
    {
     "cell_type": "markdown",
     "metadata": {},
     "source": [
      "# Homework 4: Can you predict the Midterm Elections?\n",
      "\n",
      "Due: Thursday, October 30, 2014 11:59 PM\n",
      "\n",
      "<a href=https://raw.githubusercontent.com/cs109/2014/master/homework/HW4.ipynb download=HW4.ipynb> Download this assignment</a>\n",
      "\n",
      "#### Submission Instructions\n",
      "To submit your homework, create a folder named lastname_firstinitial_hw# and place your IPython notebooks, data files, and any other files in this folder. Your IPython Notebooks should be completely executed with the results visible in the notebook. We should not have to run any code. Compress the folder (please use .zip compression) and submit to the CS109 dropbox in the appropriate folder. If we cannot access your work because these directions are not followed correctly, we will not grade your work. For the competition (problem 4), we will post a link on Piazza to a Google Form for you to submit your predictions. \n",
      "\n",
      "\n",
      "---\n"
     ]
    },
    {
     "cell_type": "markdown",
     "metadata": {},
     "source": [
      "## Introduction\n",
      "\n",
      "**Add Introduction**\n",
      "\n",
      "You will use the [HuffPost Pollster API](http://elections.huffingtonpost.com/pollster/api) to extract the polls for the current 2014 Senate Midterm Elections and provide a final prediction of the result of each state.\n",
      "\n",
      "#### Data\n",
      "\n",
      "We will use the polls from the [2014 Senate Midterm Elections](http://elections.huffingtonpost.com/pollster) from the [HuffPost Pollster API](http://elections.huffingtonpost.com/pollster/api). \n",
      "\n",
      "---"
     ]
    },
    {
     "cell_type": "markdown",
     "metadata": {},
     "source": [
      "## Problem 1: Data Wrangling\n",
      "\n",
      "We will read in the polls from the [2014 Senate Midterm Elections](http://elections.huffingtonpost.com/pollster) from the [HuffPost Pollster API](http://elections.huffingtonpost.com/pollster/api) and create a dictionary of DataFrames as well a master table information for each race."
     ]
    },
    {
     "cell_type": "markdown",
     "metadata": {},
     "source": [
      "#### Problem 1(a)\n",
      "\n",
      "Read in [this JSON object](http://elections.huffingtonpost.com/pollster/api/charts/?topic=2014-senate) containing the polls for the 2014 Senate Elections using the HuffPost API. Call this JSON object `info`.  This JSON object is imported as a list in Python where each element contains the information for one race.  Use the function `type` to confirm the that `info` is a list. "
     ]
    },
    {
     "cell_type": "code",
     "collapsed": false,
     "input": [
      "%matplotlib inline\n",
      "# http://code.activestate.com/recipes/577305-python-dictionary-of-us-states-and-territories/\n",
      "states_dict = {\n",
      "        'AK': 'Alaska',\n",
      "        'AL': 'Alabama',\n",
      "        'AR': 'Arkansas',\n",
      "        'AS': 'American Samoa',\n",
      "        'AZ': 'Arizona',\n",
      "        'CA': 'California',\n",
      "        'CO': 'Colorado',\n",
      "        'CT': 'Connecticut',\n",
      "        'DC': 'District of Columbia',\n",
      "        'DE': 'Delaware',\n",
      "        'FL': 'Florida',\n",
      "        'GA': 'Georgia',\n",
      "        'GU': 'Guam',\n",
      "        'HI': 'Hawaii',\n",
      "        'IA': 'Iowa',\n",
      "        'ID': 'Idaho',\n",
      "        'IL': 'Illinois',\n",
      "        'IN': 'Indiana',\n",
      "        'KS': 'Kansas',\n",
      "        'KY': 'Kentucky',\n",
      "        'LA': 'Louisiana',\n",
      "        'MA': 'Massachusetts',\n",
      "        'MD': 'Maryland',\n",
      "        'ME': 'Maine',\n",
      "        'MI': 'Michigan',\n",
      "        'MN': 'Minnesota',\n",
      "        'MO': 'Missouri',\n",
      "        'MP': 'Northern Mariana Islands',\n",
      "        'MS': 'Mississippi',\n",
      "        'MT': 'Montana',\n",
      "        'NA': 'National',\n",
      "        'NC': 'North Carolina',\n",
      "        'ND': 'North Dakota',\n",
      "        'NE': 'Nebraska',\n",
      "        'NH': 'New Hampshire',\n",
      "        'NJ': 'New Jersey',\n",
      "        'NM': 'New Mexico',\n",
      "        'NV': 'Nevada',\n",
      "        'NY': 'New York',\n",
      "        'OH': 'Ohio',\n",
      "        'OK': 'Oklahoma',\n",
      "        'OR': 'Oregon',\n",
      "        'PA': 'Pennsylvania',\n",
      "        'PR': 'Puerto Rico',\n",
      "        'RI': 'Rhode Island',\n",
      "        'SC': 'South Carolina',\n",
      "        'SD': 'South Dakota',\n",
      "        'TN': 'Tennessee',\n",
      "        'TX': 'Texas',\n",
      "        'UT': 'Utah',\n",
      "        'VA': 'Virginia',\n",
      "        'VI': 'Virgin Islands',\n",
      "        'VT': 'Vermont',\n",
      "        'WA': 'Washington',\n",
      "        'WI': 'Wisconsin',\n",
      "        'WV': 'West Virginia',\n",
      "        'WY': 'Wyoming'\n",
      "}\n",
      "import scipy as sp\n",
      "import scipy.stats as stats\n",
      "import math \n",
      "import urllib2\n",
      "import requests\n",
      "import json\n",
      "import StringIO\n",
      "import pandas as pd\n",
      "import pprint \n",
      "import matplotlib.pyplot as plt\n",
      "import itertools\n",
      "import datetime as dt\n",
      "import collections\n",
      "pp = pprint.PrettyPrinter(indent=4)\n",
      "data = urllib2.urlopen(\"http://elections.huffingtonpost.com/pollster/api/charts/?topic=2014-senate\").read()\n",
      "info = json.loads(data)\n",
      "type(info)\n",
      "# pp.pprint(info)"
     ],
     "language": "python",
     "metadata": {},
     "outputs": [
      {
       "metadata": {},
       "output_type": "pyout",
       "prompt_number": 2,
       "text": [
        "list"
       ]
      }
     ],
     "prompt_number": 2
    },
    {
     "cell_type": "markdown",
     "metadata": {},
     "source": [
      "#### Problem 1(b)\n",
      "\n",
      "For each element of the list in `info` extract the state. We should have one poll per state, but we do not. Why?\n",
      "\n",
      "**Hint**: Use the internet to find out information on the races in each state that has more than one entry. Eliminate entries of the list that represent races that are not happening."
     ]
    },
    {
     "cell_type": "code",
     "collapsed": false,
     "input": [
      "def dem_vs_repub(est):\n",
      "    if len(est) < 2:\n",
      "        return False\n",
      "    return (est[0][\"party\"] == \"Rep\" or  est[0][\"party\"] == \"Dem\") and (est[1][\"party\"] == \"Rep\" or  est[1][\"party\"] == \"Dem\")\n",
      "def south_carolina(est):\n",
      "    return est[0][\"last_name\"].lower() == \"graham\" or est[1][\"last_name\"].lower() == \"graham\""
     ],
     "language": "python",
     "metadata": {},
     "outputs": [],
     "prompt_number": 3
    },
    {
     "cell_type": "code",
     "collapsed": false,
     "input": [
      "# Alabama: No opponent race uncontested\n",
      "# Runoffs are included in the data\n",
      "# A special election is occuring in South Carolina\n",
      "for idx, el in enumerate(info):\n",
      "   if \"Runoff\" in str(el[\"title\"]):\n",
      "        del info[idx]\n",
      "   if not dem_vs_repub(el[\"estimates\"]):\n",
      "        del info[idx]\n",
      "   if el[\"state\"].lower() == \"sc\" and not south_carolina(el[\"estimates\"]):\n",
      "        del info[idx]            \n",
      "   if el[\"title\"] == \"2014 Oklahoma Senate: Lankford vs. Johnson\":\n",
      "        del info[idx]"
     ],
     "language": "python",
     "metadata": {},
     "outputs": [],
     "prompt_number": 4
    },
    {
     "cell_type": "markdown",
     "metadata": {},
     "source": [
      "** Your answer here: **"
     ]
    },
    {
     "cell_type": "code",
     "collapsed": false,
     "input": [
      "def build_frame(url):\n",
      "    \"\"\"\n",
      "    Returns a pandas DataFrame object containing\n",
      "    the data returned from the given url\n",
      "    \"\"\"\n",
      "    source = requests.get(url + \".csv\").text\n",
      "    \n",
      "    # Use StringIO because pd.DataFrame.from_csv requires .read() method\n",
      "    s = StringIO.StringIO(source)\n",
      "    \n",
      "    return pd.DataFrame.from_csv(s, index_col=None).convert_objects(\n",
      "            convert_dates=\"coerce\", convert_numeric=True)"
     ],
     "language": "python",
     "metadata": {},
     "outputs": [],
     "prompt_number": 5
    },
    {
     "cell_type": "code",
     "collapsed": false,
     "input": [
      "polls = pd.read_json(json.dumps(info))\n",
      "dfs = dict((election.split(\"/\")[-1][:-4], build_frame(election)) for election in polls.url)"
     ],
     "language": "python",
     "metadata": {},
     "outputs": [],
     "prompt_number": 6
    },
    {
     "cell_type": "code",
     "collapsed": false,
     "input": [
      "print len(dfs.keys())\n",
      "# pp.pprint(polls)\n"
     ],
     "language": "python",
     "metadata": {},
     "outputs": [
      {
       "output_type": "stream",
       "stream": "stdout",
       "text": [
        "32\n"
       ]
      }
     ],
     "prompt_number": 7
    },
    {
     "cell_type": "markdown",
     "metadata": {},
     "source": [
      "#### Problem 1(d)\n",
      "\n",
      "Now creaate a master table information containing information about each race. Create a pandas DataFrame called `candidates` with rows containing information about each race. The `candidates` DataFrame should have the following columns: \n",
      "\n",
      "1. `State` = entries should be unique\n",
      "2. `R` = name of republican candidate\n",
      "3. `D` = name of non-republican candidate (Democrate or Independent) \n",
      "4. `incumbent` = R, D or NA\n",
      "\n",
      "**Hint**: You will need a considerable amount of data wrangling for this."
     ]
    },
    {
     "cell_type": "code",
     "collapsed": false,
     "input": [
      "def full_name(cand):\n",
      "    s =  cand[u'first_name'] + \" \" + cand[u'last_name']\n",
      "    return s\n",
      "\n",
      "def process(l, cand, RorD):\n",
      "    if RorD == \"R\":\n",
      "        l[1] = full_name(cand)\n",
      "    else:\n",
      "        l[2] = full_name(cand)\n",
      "    if cand[\"incumbent\"]:\n",
      "        l[3] = RorD\n",
      "\n",
      "candidates = pd.DataFrame(columns=(\"state\", \"R\", \"D\", \"incumbent\"))\n",
      "for idx, el in polls.iterrows():\n",
      "    l = [None]*4\n",
      "    l[0] = el[\"state\"]\n",
      "    l[3] = \"NA\"\n",
      "    for cand in el[\"estimates\"]:\n",
      "        if cand[\"party\"] == \"Rep\":\n",
      "            process(l, cand, \"R\")\n",
      "        if cand[\"party\"] == \"Dem\":\n",
      "            process(l, cand, \"D\")\n",
      "    candidates.loc[idx] = l\n",
      "candidates.head()"
     ],
     "language": "python",
     "metadata": {},
     "outputs": [
      {
       "html": [
        "<div style=\"max-height:1000px;max-width:1500px;overflow:auto;\">\n",
        "<table border=\"1\" class=\"dataframe\">\n",
        "  <thead>\n",
        "    <tr style=\"text-align: right;\">\n",
        "      <th></th>\n",
        "      <th>state</th>\n",
        "      <th>R</th>\n",
        "      <th>D</th>\n",
        "      <th>incumbent</th>\n",
        "    </tr>\n",
        "  </thead>\n",
        "  <tbody>\n",
        "    <tr>\n",
        "      <th>0</th>\n",
        "      <td> KY</td>\n",
        "      <td> Mitch McConnell</td>\n",
        "      <td> Alison Lundergan Grimes</td>\n",
        "      <td>  R</td>\n",
        "    </tr>\n",
        "    <tr>\n",
        "      <th>1</th>\n",
        "      <td> AR</td>\n",
        "      <td>      Tom Cotton</td>\n",
        "      <td>              Mark Pryor</td>\n",
        "      <td>  D</td>\n",
        "    </tr>\n",
        "    <tr>\n",
        "      <th>2</th>\n",
        "      <td> MI</td>\n",
        "      <td> Terri Lynn Land</td>\n",
        "      <td>             Gary Peters</td>\n",
        "      <td> NA</td>\n",
        "    </tr>\n",
        "    <tr>\n",
        "      <th>3</th>\n",
        "      <td> LA</td>\n",
        "      <td>    Bill Cassidy</td>\n",
        "      <td>           Mary Landrieu</td>\n",
        "      <td>  D</td>\n",
        "    </tr>\n",
        "    <tr>\n",
        "      <th>4</th>\n",
        "      <td> NH</td>\n",
        "      <td>     Scott Brown</td>\n",
        "      <td>          Jeanne Shaheen</td>\n",
        "      <td>  D</td>\n",
        "    </tr>\n",
        "  </tbody>\n",
        "</table>\n",
        "</div>"
       ],
       "metadata": {},
       "output_type": "pyout",
       "prompt_number": 54,
       "text": [
        "  state                R                        D incumbent\n",
        "0    KY  Mitch McConnell  Alison Lundergan Grimes         R\n",
        "1    AR       Tom Cotton               Mark Pryor         D\n",
        "2    MI  Terri Lynn Land              Gary Peters        NA\n",
        "3    LA     Bill Cassidy            Mary Landrieu         D\n",
        "4    NH      Scott Brown           Jeanne Shaheen         D"
       ]
      }
     ],
     "prompt_number": 54
    },
    {
     "cell_type": "markdown",
     "metadata": {},
     "source": [
      "## Problem 2: Confidence Intervals\n",
      "\n",
      "Compute a 99% confidence interval for each state. "
     ]
    },
    {
     "cell_type": "markdown",
     "metadata": {},
     "source": [
      "#### Problem 2(a)\n",
      "\n",
      "Assume you have $M$ polls with sample sizes $n_1, \\dots, n_M$. If the polls are independent, what is the average of the variances of each poll if the true proportion is $p$?"
     ]
    },
    {
     "cell_type": "markdown",
     "metadata": {},
     "source": [
      "** Your answer here: **\n",
      "$$\\frac{p(1-p)}{n}$$\n"
     ]
    },
    {
     "cell_type": "markdown",
     "metadata": {},
     "source": [
      "#### Problem 2(b)\n",
      "\n",
      "Compute the square root of these values in Problem 2(b) for the republican candidates in each race. Then, compute the standard deviations of the observed poll results for each race. "
     ]
    },
    {
     "cell_type": "code",
     "collapsed": false,
     "input": [
      "import numpy as np\n",
      "import re \n",
      "\n",
      "# http://stackoverflow.com/questions/483666/python-reverse-inverse-a-mapping\n",
      "state_dict = dict((v,k) for k, v in states_dict.iteritems())\n",
      "\n",
      "\n",
      "def convert_state(key):\n",
      "    state_name = re.compile(\"2014-(.*)-se\")\n",
      "    st = state_name.search(key)\n",
      "    s_name = st.group(1).replace(\"-\", \" \").strip()\n",
      "    s_name = s_name.title()\n",
      "    return state_dict[s_name]\n",
      "\n",
      "def get_republican_lastname(repub):\n",
      "    el = list(repub)[0].split(\" \")\n",
      "    return el[-1]\n",
      "\n",
      "def get_dem_lastname(dem):\n",
      "    return get_republican_lastname(dem)\n",
      "\n",
      "def get_recent_stds(num_months, df, name):\n",
      "    df[\"Start Date\"] = pd.to_datetime(df[\"Start Date\"])\n",
      "    months_ago = dt.datetime.now() - dt.timedelta(num_months*365/12)\n",
      "    recent = df[df[\"Start Date\"] > months_ago]\n",
      "    results = [el/100.0 for el in recent[name]]\n",
      "    return np.std(results)\n",
      "\n",
      "\n",
      "l = len(candidates)\n",
      "ideal_stds = [None]*l\n",
      "real_stds = [None]*l\n",
      "real_stds_recent = [None]*l\n",
      "num_obs = [None]*l\n",
      "cands = [None]*l\n",
      "states = [None]*l\n",
      "i = 0\n",
      "\n",
      "for key, value in dfs.iteritems(): \n",
      "    st = convert_state(key)\n",
      "    r =  candidates[candidates[\"state\"] == st]\n",
      "    name = get_republican_lastname(r[\"R\"])\n",
      "    p = value[name].mean()/100.0\n",
      "    ideal_variance = np.mean([p*(1-p)/el for el in value[\"Number of Observations\"]])\n",
      "    results = [el/100.0 for el in value[name]]\n",
      "    real_std = np.std(results)\n",
      "    ideal_stds[i] = math.sqrt(ideal_variance)\n",
      "    real_stds[i] = real_std\n",
      "    real_stds_recent[i] = get_recent_stds(2, value, name)\n",
      "    num_obs[i] = len(value[name])\n",
      "    cands[i] = name\n",
      "    states[i] = st\n",
      "    i += 1\n",
      "\n",
      "# http://stackoverflow.com/questions/9623114/python-are-two-lists-equal\n",
      "compare = lambda x, y: collections.Counter(x) == collections.Counter(y)\n",
      "assert(not compare(real_stds, real_stds_recent))\n",
      "pp.pprint(zip(cands, real_stds))\n",
      "pp.pprint(zip(cands, ideal_stds))"
     ],
     "language": "python",
     "metadata": {},
     "outputs": [
      {
       "output_type": "stream",
       "stream": "stdout",
       "text": [
        "[   (u'McFadden', 0.031124748994971828),\n",
        "    (u'Daines', 0.027627256579733906),\n",
        "    (u'Capito', 0.034352613304031589),\n",
        "    (u'Gillespie', 0.06039128610997227),\n",
        "    (u'Alexander', 0.03077697552103234),\n",
        "    (u'Land', 0.032768847497270673),\n",
        "    (u'Wade', 0.04049691346263317),\n",
        "    (u'Cassidy', 0.037761029075018701),\n",
        "    (u'Wehby', 0.038366940986542308),\n",
        "    (u'Weh', 0.03981729105133431),\n",
        "    (u'Sasse', 0.030912061651652323),\n",
        "    (u'Enzi', 0.039698866482558409),\n",
        "    (u'Perdue', 0.025562038966501544),\n",
        "    (u'Risch', 0.053359368645273735),\n",
        "    (u'Graham', 0.028173569173961615),\n",
        "    (u'Cornyn', 0.063731690665333282),\n",
        "    (u'Herr', 0.024806946917841695),\n",
        "    (u'Cavasso', 0.042196629670573881),\n",
        "    (u'Tillis', 0.033975497898469695),\n",
        "    (u'Oberweis', 0.025274008589934473),\n",
        "    (u'Sullivan', 0.043587936090568047),\n",
        "    (u'Cotton', 0.037191081799799776),\n",
        "    (u'Cochran', 0.029553976043842214),\n",
        "    (u'Zaccaria', 0.045825756949558399),\n",
        "    (u'Bell', 0.049994082490067454),\n",
        "    (u'McConnell', 0.031345138343180985),\n",
        "    (u'Brown', 0.039753999791284772),\n",
        "    (u'Collins', 0.049768695752682501),\n",
        "    (u'Inhofe', 0.036247605284885909),\n",
        "    (u'Gardner', 0.025028829531008986),\n",
        "    (u'Rounds', 0.060199667773169645),\n",
        "    (u'Ernst', 0.049637672191357854)]\n",
        "[   (u'McFadden', 0.016831577362611132),\n",
        "    (u'Daines', 0.02116121806486596),\n",
        "    (u'Capito', 0.019510202225446468),\n",
        "    (u'Gillespie', 0.016651626867895297),\n",
        "    (u'Alexander', 0.016248773725299537),\n",
        "    (u'Land', 0.01784604423688419),\n",
        "    (u'Wade', 0.019227944215084614),\n",
        "    (u'Cassidy', 0.01945858934975331),\n",
        "    (u'Wehby', 0.01829123877396105),\n",
        "    (u'Weh', 0.01756083735533094),\n",
        "    (u'Sasse', 0.01782609629901424),\n",
        "    (u'Enzi', 0.025064950192436694),\n",
        "    (u'Perdue', 0.017444626911774522),\n",
        "    (u'Risch', 0.0193968745186494),\n",
        "    (u'Graham', 0.0156440322639501),\n",
        "    (u'Cornyn', 0.014035648964434813),\n",
        "    (u'Herr', 0.019024791592197346),\n",
        "    (u'Cavasso', 0.013812658222541876),\n",
        "    (u'Tillis', 0.018604992829441214),\n",
        "    (u'Oberweis', 0.015429587984016807),\n",
        "    (u'Sullivan', 0.01982813416221657),\n",
        "    (u'Cotton', 0.018790911989618457),\n",
        "    (u'Cochran', 0.018574713581049614),\n",
        "    (u'Zaccaria', 0.015579709968405601),\n",
        "    (u'Bell', 0.01590227602099119),\n",
        "    (u'McConnell', 0.017293421294976893),\n",
        "    (u'Brown', 0.018800245312883372),\n",
        "    (u'Collins', 0.018116266962167085),\n",
        "    (u'Inhofe', 0.015652349905743167),\n",
        "    (u'Gardner', 0.018086174965378215),\n",
        "    (u'Rounds', 0.02009939243291751),\n",
        "    (u'Ernst', 0.017045187660753216)]\n"
       ]
      }
     ],
     "prompt_number": 35
    },
    {
     "cell_type": "markdown",
     "metadata": {},
     "source": [
      "#### Problem 2(c) \n",
      "\n",
      "Plot observed versus theoretical (average of the theoretical SDs) with the area of the point proportional to number of polls. How do these compare?"
     ]
    },
    {
     "cell_type": "code",
     "collapsed": false,
     "input": [
      "def nice_graph(xlab, ylab, title, axi):\n",
      "    plt.xlabel(xlab)\n",
      "    plt.ylabel(ylab)\n",
      "    plt.title(title)\n",
      "    plt.axis(axi)"
     ],
     "language": "python",
     "metadata": {},
     "outputs": [],
     "prompt_number": 10
    },
    {
     "cell_type": "code",
     "collapsed": false,
     "input": [
      "colors_1 = itertools.cycle([\"r\", \"b\", \"g\", \"orange\"])\n",
      "colors_2 = itertools.cycle([\"r\", \"b\", \"g\", \"orange\"])\n",
      "x = xrange(0,l)\n",
      "plt.scatter(x, ideal_stds, c=[next(colors_1) for i in x], s=[n for n in num_obs], marker=\"^\", label=\"Theoretical\")\n",
      "plt.scatter(x, real_stds, c=[next(colors_2) for i in x], s=[n for n in num_obs], label=\"Real\")\n",
      "plt.xticks(x, cands, rotation=\"90\")\n",
      "nice_graph(\"Candidates\", \"Standard Deviations\", \"Observed vs. Real\", [-1, l+1, .01, .07])\n",
      "plt.legend(loc=2,bbox_to_anchor=(1, 1))\n",
      "plt.show()\n",
      "plt.figure()\n",
      "plt.scatter(ideal_stds, real_stds, s=[n for n in num_obs])"
     ],
     "language": "python",
     "metadata": {},
     "outputs": [
      {
       "metadata": {},
       "output_type": "display_data",
       "png": "[encoded data removed]",
       "text": [
        "<matplotlib.figure.Figure at 0x10971de10>"
       ]
      },
      {
       "metadata": {},
       "output_type": "pyout",
       "prompt_number": 51,
       "text": [
        "<matplotlib.collections.PathCollection at 0x10b337510>"
       ]
      },
      {
       "metadata": {},
       "output_type": "display_data",
       "png": "[encoded data removed]",
       "text": [
        "<matplotlib.figure.Figure at 0x10b682750>"
       ]
      }
     ],
     "prompt_number": 51
    },
    {
     "cell_type": "markdown",
     "metadata": {},
     "source": [
      "** Your answer here: **"
     ]
    },
    {
     "cell_type": "markdown",
     "metadata": {},
     "source": [
      "#### Problem 2(d)\n",
      "\n",
      "Repeat Problem 2(c) but include only the most recent polls from the last two months. Do they match better or worse or the same? Can we just trust the theoretical values?"
     ]
    },
    {
     "cell_type": "code",
     "collapsed": false,
     "input": [
      "colors_1 = itertools.cycle([\"r\", \"b\", \"g\", \"orange\"])\n",
      "colors_2 = itertools.cycle([\"r\", \"b\", \"g\", \"orange\"])\n",
      "x = xrange(0,l)\n",
      "plt.scatter(x, ideal_stds, c=[next(colors_1) for i in x], s=[n for n in num_obs], marker=\"^\", label=\"Theoretical\")\n",
      "plt.scatter(x, real_stds_recent, c=[next(colors_2) for i in x], s=[n for n in num_obs], label=\"Real\")\n",
      "plt.xticks(x, cands, rotation=\"90\")\n",
      "nice_graph(\"Candidates\", \"Standard Deviations\", \"Observed vs. Real\", [-1, l+1, .01, .07])\n",
      "plt.legend(loc=2,bbox_to_anchor=(1, 1))\n",
      "plt.show()\n",
      "plt.figure()\n",
      "plt.scatter(ideal_stds,real_stds_recent, s=[n for n in num_obs])"
     ],
     "language": "python",
     "metadata": {},
     "outputs": [
      {
       "metadata": {},
       "output_type": "display_data",
       "png": "[encoded data removed]",
       "text": [
        "<matplotlib.figure.Figure at 0x10b196890>"
       ]
      },
      {
       "metadata": {},
       "output_type": "pyout",
       "prompt_number": 38,
       "text": [
        "<matplotlib.collections.PathCollection at 0x10b1a0810>"
       ]
      },
      {
       "metadata": {},
       "output_type": "display_data",
       "png": "[encoded data removed]",
       "text": [
        "<matplotlib.figure.Figure at 0x10b068b50>"
       ]
      }
     ],
     "prompt_number": 38
    },
    {
     "cell_type": "markdown",
     "metadata": {},
     "source": [
      "** Your answer here: **"
     ]
    },
    {
     "cell_type": "markdown",
     "metadata": {},
     "source": [
      "#### Problem 2(e)\n",
      "\n",
      "Create a scatter plot with each point representing one state. Is there one or more races that are outlier in that it they have much larger variabilityes than expected ? Explore the original poll data and explain why the discrepancy?"
     ]
    },
    {
     "cell_type": "code",
     "collapsed": false,
     "input": [
      "interested = zip(zip(ideal_stds, real_stds), states)\n",
      "x = range(0, 10)\n",
      "plt.plot(x, x)\n",
      "for el in interested:\n",
      "    plt.annotate(s=el[1], xy=(el[0][0], el[0][1]))\n",
      "nice_graph(\"Distribution\", \"Differences Between Theoretical and Observed\", \"Distribution of Differences\", [0.01,.06,0.01,.06])"
     ],
     "language": "python",
     "metadata": {},
     "outputs": [
      {
       "metadata": {},
       "output_type": "display_data",
       "png": "[encoded data removed]",
       "text": [
        "<matplotlib.figure.Figure at 0x107e42890>"
       ]
      }
     ],
     "prompt_number": 55
    },
    {
     "cell_type": "markdown",
     "metadata": {},
     "source": [
      "** Your answer here: **"
     ]
    },
    {
     "cell_type": "markdown",
     "metadata": {},
     "source": [
      "#### Problem 2(f)\n",
      "\n",
      " Construct confidence intervals for the difference in each race. Use either theoretical or data driven estimates of the standard error depending on your answer to this question. Use the results in Problem 2(e), to justify your choice.\n"
     ]
    },
    {
     "cell_type": "code",
     "collapsed": false,
     "input": [
      "running_diffs = []\n",
      "running_means = []\n",
      "for key, value in dfs.iteritems(): \n",
      "    st = convert_state(key)\n",
      "    c =  candidates[candidates[\"state\"] == st]\n",
      "    name_rep = get_republican_lastname(c[\"R\"])\n",
      "    name_dem = get_dem_lastname(c[\"D\"])\n",
      "    diffs = value[name_rep]/100 - value[name_dem]/100\n",
      "    running_diffs.extend(list(diffs))\n",
      "    m = diffs.mean()\n",
      "    running_means.append(m)\n",
      "    s = sp.stats.sem(diffs)\n",
      "    h = s * sp.stats.t._ppf((1+.99)/2., len(diffs)-1)\n",
      "    print \"State: %s, Mean: %f, Confidence: (%f, %f)\" % (st, m, m-h, m+h)\n",
      "print \"Raw USA: Mean: %f Std: %f\" % (np.mean(running_diffs), np.std(running_diffs))\n",
      "print \"Means USA: Mean: %f Std: %f\" % (np.mean(running_means), np.std(running_means))"
     ],
     "language": "python",
     "metadata": {},
     "outputs": [
      {
       "output_type": "stream",
       "stream": "stdout",
       "text": [
        "State: MN, Mean: -0.108000, Confidence: (-0.131353, -0.084647)\n",
        "State: MT, Mean: 0.171429, Confidence: (0.129838, 0.213020)\n",
        "State: WV, Mean: 0.140714, Confidence: (0.091952, 0.189477)\n",
        "State: VA, Mean: -0.154545, Confidence: (-0.194662, -0.114429)\n",
        "State: TN, Mean: 0.190000, Confidence: (0.112790, 0.267210)\n",
        "State: MI, Mean: -0.051148, Confidence: (-0.069354, -0.032941)\n",
        "State: DE, Mean: -0.174000, Confidence: (-0.269027, -0.078973)\n",
        "State: LA, Mean: 0.011212, Confidence: (-0.013292, 0.035716)\n",
        "State: OR, Mean: -0.133158, Confidence: (-0.176798, -0.089518)\n",
        "State: NM, Mean: -0.145833, Confidence: (-0.192099, -0.099568)\n",
        "State: NE, Mean: 0.245000, Confidence: (0.176138, 0.313862)\n",
        "State: WY, Mean: 0.448000, Confidence: (0.277338, 0.618662)"
       ]
      },
      {
       "output_type": "stream",
       "stream": "stdout",
       "text": [
        "\n",
        "State: GA, Mean: 0.016596, Confidence: (0.000245, 0.032946)\n",
        "State: ID, Mean: 0.298333, Confidence: (0.181742, 0.414925)\n",
        "State: SC, Mean: 0.150000, Confidence: (0.116933, 0.183067)\n",
        "State: TX, Mean: 0.192222, Confidence: (0.145508, 0.238937)\n",
        "State: MA, Mean: -0.224615, Confidence: (-0.259990, -0.189240)\n",
        "State: HI, Mean: -0.410000, Confidence: (-0.565817, -0.254183)\n",
        "State: NC, Mean: -0.026761, Confidence: (-0.039539, -0.013982)\n",
        "State: IL, Mean: -0.123571, Confidence: (-0.157816, -0.089327)\n",
        "State: AK, Mean: -0.004545, Confidence: (-0.031646, 0.022555)\n",
        "State: AR, Mean: 0.015082, Confidence: (-0.001739, 0.031903)\n",
        "State: MS, Mean: 0.155000, Confidence: (0.112654, 0.197346)\n",
        "State: RI, Mean: -0.355000, Confidence: (-0.680645, -0.029355)\n",
        "State: NJ, Mean: -0.140769, Confidence: (-0.177283, -0.104255)\n",
        "State: KY, Mean: 0.030000, Confidence: (0.016617, 0.043383)\n",
        "State: NH, Mean: -0.057759, Confidence: (-0.073353, -0.042164)\n",
        "State: ME, Mean: 0.326923, Confidence: (0.248102, 0.405744)\n",
        "State: OK, Mean: 0.333333, Confidence: (0.234749, 0.431917)\n",
        "State: CO, Mean: 0.004808, Confidence: (-0.009544, 0.019160)"
       ]
      },
      {
       "output_type": "stream",
       "stream": "stdout",
       "text": [
        "\n",
        "State: SD, Mean: 0.130000, Confidence: (0.096867, 0.163133)\n",
        "State: IA, Mean: -0.002549, Confidence: (-0.018718, 0.013620)\n",
        "Raw USA: Mean: -0.002889 Std: 0.126341\n",
        "Means USA: Mean: 0.023325 Std: 0.195952\n"
       ]
      }
     ],
     "prompt_number": 75
    },
    {
     "cell_type": "markdown",
     "metadata": {},
     "source": [
      "# Problem 3: Prediction and Posterior Probabilities\n",
      "\n",
      "Perform a Bayesian analysis to predict the probability of Republicans winning in each state then provide a posterior distribution of the number of republicans in the senate."
     ]
    },
    {
     "cell_type": "markdown",
     "metadata": {},
     "source": [
      "#### Problem 3(a)\n",
      "\n",
      "First, we define a Bayesian model for each race. The prior for the difference $d$ between republicans and democtrats will be $N(\\mu,\\tau^2)$. Say before seeing poll data you have idea who is going to win, what should $\\mu$ be? How about $\\tau$, should it be large or small? "
     ]
    },
    {
     "cell_type": "markdown",
     "metadata": {},
     "source": [
      "** Your answer here: ** \n",
      "\n",
      "$\\mu = 0$ Because we expected that each candidate has the same oppurtunity to win.\n",
      "\n",
      "$\\tau$ is equal the standard deviation of the differences of all of the races"
     ]
    },
    {
     "cell_type": "markdown",
     "metadata": {},
     "source": [
      "#### Problem 3(b)\n",
      "\n",
      "What is the distribution of $d$ conditioned on $\\theta$. What is the posterior distribution of $\\theta| d$? \n",
      "\n",
      "**Hint**: Use normal approximation. \n",
      "\n"
     ]
    },
    {
     "cell_type": "markdown",
     "metadata": {},
     "source": [
      "**Your answer here:**\n",
      "\n",
      "Based on the lecture slides, we saw that $\\theta ~ N(0, \\tau^2)$ and that based upon the continuous for of Bayes Rule we can predict that\n",
      "$d|\\theta = N(\\theta, \\sigma^2)$\n",
      "\n",
      "Because we can assume that the differences are normally distributed we know we are looking for the expected out come of d given $\\theta$\n",
      "Therefore: $E(\\theta|d) = B\\mu + (1-B)d = \\mu + (1-B)\\cdot(y-\\mu) => B = \\frac{\\sigma^2}{\\sigma^2 + \\tau^2}$"
     ]
    },
    {
     "cell_type": "markdown",
     "metadata": {},
     "source": [
      "#### Problem 3(c)\n",
      "\n",
      "The prior represents what we think before hand. We do not know who is expected to win, so we assume $\\mu=0$. For this problem estimate $\\tau$ using the observed differences across states (Hint: $\\tau$ represents the standard deviation of a typical difference). Compute the posterior mean for each state and plot it against original average. Is there much change? Why or why not? "
     ]
    },
    {
     "cell_type": "code",
     "collapsed": false,
     "input": [
      "def compute_B(sigma, tau):\n",
      "    return sigma**2/(sigma**2+tau**2)\n",
      "def post_mean(mu, tau, sigma, y):\n",
      "    b = compute_B(sigma, tau)\n",
      "    return b*mu + (1-b)*y\n",
      "\n",
      "tau = np.std(running_means)\n",
      "mu = np.mean(running_means)\n",
      "\n",
      "running_post_means = [None]*len(running_means)\n",
      "i = 0 \n",
      "for key, value in dfs.iteritems(): \n",
      "    st = convert_state(key)\n",
      "    c =  candidates[candidates[\"state\"] == st]\n",
      "    name_rep = get_republican_lastname(c[\"R\"])\n",
      "    name_dem = get_dem_lastname(c[\"D\"])\n",
      "    diffs = value[name_rep]/100 - value[name_dem]/100\n",
      "    y = diffs.mean()\n",
      "    sigma = diffs.std()\n",
      "    running_post_means[i] = post_mean(0, .33, sigma, y)\n",
      "    i = i + 1\n",
      "    \n",
      "plt.scatter(range(0, len(running_means)),map(lambda x: x/100.0, running_post_means), marker=\"^\", c=\"r\")\n",
      "plt.scatter(range(0, len(running_means)), map(lambda x: x/100.0, running_means), c=\"b\")\n",
      "plt.figure()\n",
      "plt.scatter(running_means, running_post_means)"
     ],
     "language": "python",
     "metadata": {},
     "outputs": [
      {
       "output_type": "stream",
       "stream": "stdout",
       "text": [
        "0.195951786421\n"
       ]
      },
      {
       "metadata": {},
       "output_type": "pyout",
       "prompt_number": 104,
       "text": [
        "<matplotlib.collections.PathCollection at 0x10db32090>"
       ]
      },
      {
       "metadata": {},
       "output_type": "display_data",
       "png": "[encoded data removed]",
       "text": [
        "<matplotlib.figure.Figure at 0x10cd70f90>"
       ]
      },
      {
       "metadata": {},
       "output_type": "display_data",
       "png": "[encoded data removed]",
       "text": [
        "<matplotlib.figure.Figure at 0x10d81b410>"
       ]
      }
     ],
     "prompt_number": 104
    },
    {
     "cell_type": "markdown",
     "metadata": {},
     "source": [
      "**Your answer here:**"
     ]
    },
    {
     "cell_type": "markdown",
     "metadata": {},
     "source": [
      "#### Problem 3(d)\n",
      "\n",
      "For each state, report a probabilty of Republicans winning. How does your answer here compare to the other aggregators?"
     ]
    },
    {
     "cell_type": "code",
     "collapsed": false,
     "input": [
      "s = np.random.normal(np.mean(running_post_means), np.std(running_post_means), 1000)\n",
      "rep = 0\n",
      "i = 0\n",
      "for key, value in dfs.iteritems():\n",
      "    h = stats.norm(np.mean(running_post_means), np.std(running_post_means)).cdf(running_post_means[i])\n",
      "    st = convert_state(key)\n",
      "    i = i + 1\n",
      "    print (\"%s: %f\" % (st, h))\n",
      "    if h > .5:\n",
      "        rep = rep + 1\n",
      "        \n",
      "print(rep/float(len(dfs)))\n",
      "    "
     ],
     "language": "python",
     "metadata": {},
     "outputs": [
      {
       "output_type": "stream",
       "stream": "stdout",
       "text": [
        "MN: 0.242636\n",
        "MT: 0.784658\n",
        "WV: 0.727703\n",
        "VA: 0.178154\n",
        "TN: 0.809191\n",
        "MI: 0.347310\n",
        "DE: 0.148869\n",
        "LA: 0.473598\n",
        "OR: 0.208291\n",
        "NM: 0.186921\n",
        "NE: 0.878922\n",
        "WY: 0.983725\n",
        "GA: 0.485123\n",
        "ID: 0.920172\n",
        "SC: 0.750197\n",
        "TX: 0.813476\n",
        "MA: 0.094765\n",
        "HI: 0.015426\n",
        "NC: 0.394915\n",
        "IL: 0.218397"
       ]
      },
      {
       "output_type": "stream",
       "stream": "stdout",
       "text": [
        "\n",
        "AK: 0.440894\n",
        "AR: 0.481736\n",
        "MS: 0.757520\n",
        "RI: 0.033201\n",
        "NJ: 0.192664\n",
        "KY: 0.513552\n",
        "NH: 0.333760\n",
        "ME: 0.933324\n",
        "OK: 0.946041\n",
        "CO: 0.460356\n",
        "SD: 0.709249\n",
        "IA: 0.444940\n",
        "0.40625\n"
       ]
      }
     ],
     "prompt_number": 101
    },
    {
     "cell_type": "markdown",
     "metadata": {},
     "source": [
      "**Your answer here:**"
     ]
    },
    {
     "cell_type": "markdown",
     "metadata": {},
     "source": [
      "#### Problem 3(e)\n",
      "\n",
      "Use the posterior distributions in a Monte Carlo simulation to generate election results. In each simulation compute the total number of seats the Republican control. Show a histogram of these results."
     ]
    },
    {
     "cell_type": "code",
     "collapsed": false,
     "input": [
      "import random\n",
      "number_of_seats = []\n",
      "for i in xrange(0, 1000):\n",
      "    s = np.random.normal(np.mean(running_post_means), np.std(running_post_means), 1000)\n",
      "    i = 0\n",
      "    num_replicans = 0\n",
      "    for key, value in dfs.iteritems():\n",
      "        r = random.uniform(0,1)\n",
      "        h = stats.norm(np.mean(running_post_means), np.std(running_post_means)).cdf(running_post_means[i])\n",
      "        if r < h:\n",
      "            num_replicans = num_replicans + 1\n",
      "        i = i + 1\n",
      "    number_of_seats.append(num_replicans+30)\n",
      "\n",
      "plt.hist(number_of_seats, 50)"
     ],
     "language": "python",
     "metadata": {},
     "outputs": [
      {
       "metadata": {},
       "output_type": "pyout",
       "prompt_number": 100,
       "text": [
        "(array([  10.,    0.,    0.,   20.,    0.,    0.,    0.,   58.,    0.,\n",
        "           0.,   80.,    0.,    0.,    0.,  118.,    0.,    0.,  149.,\n",
        "           0.,    0.,    0.,  171.,    0.,    0.,    0.,  168.,    0.,\n",
        "           0.,  114.,    0.,    0.,    0.,   55.,    0.,    0.,   32.,\n",
        "           0.,    0.,    0.,   17.,    0.,    0.,    5.,    0.,    0.,\n",
        "           0.,    2.,    0.,    0.,    1.]),\n",
        " array([ 40.  ,  40.28,  40.56,  40.84,  41.12,  41.4 ,  41.68,  41.96,\n",
        "         42.24,  42.52,  42.8 ,  43.08,  43.36,  43.64,  43.92,  44.2 ,\n",
        "         44.48,  44.76,  45.04,  45.32,  45.6 ,  45.88,  46.16,  46.44,\n",
        "         46.72,  47.  ,  47.28,  47.56,  47.84,  48.12,  48.4 ,  48.68,\n",
        "         48.96,  49.24,  49.52,  49.8 ,  50.08,  50.36,  50.64,  50.92,\n",
        "         51.2 ,  51.48,  51.76,  52.04,  52.32,  52.6 ,  52.88,  53.16,\n",
        "         53.44,  53.72,  54.  ]),\n",
        " <a list of 50 Patch objects>)"
       ]
      },
      {
       "metadata": {},
       "output_type": "display_data",
       "png": "[encoded data removed]",
       "text": [
        "<matplotlib.figure.Figure at 0x10d61fe90>"
       ]
      }
     ],
     "prompt_number": 100
    },
    {
     "cell_type": "markdown",
     "metadata": {},
     "source": [
      "## Problem 4\n",
      "\n",
      "Predict the results for the 2014 Midterm Elections. We will have a three competitions with the terms for scoring entries described above. For both questions below, **explain** or provide commentary on how you arrived at your predictions including code. \n",
      "\n",
      "**Hint**: Use election results from 2010, 2012 to build and test models."
     ]
    },
    {
     "cell_type": "markdown",
     "metadata": {},
     "source": [
      "#### Problem 4(a)\n",
      "\n",
      "Predict the number of Republican senators. You may provide an interval. Smallest interval that includes the election day result wins. \n",
      "\n",
      "**Note**: we want the total so add the numbers of those that are not up for election."
     ]
    },
    {
     "cell_type": "code",
     "collapsed": false,
     "input": [
      "def convert_huff_to_df(url):\n",
      "    d = urllib2.urlopen(url).read()\n",
      "    info = json.loads(d)\n",
      "    "
     ],
     "language": "python",
     "metadata": {},
     "outputs": []
    },
    {
     "cell_type": "code",
     "collapsed": false,
     "input": [
      "data2014 = urllib2.urlopen(\"http://elections.huffingtonpost.com/pollster/api/charts/?topic=2014-senate\").read()\n",
      "data2012 = urllib2.urlopen(\"http://elections.huffingtonpost.com/pollster/api/charts/?topic=2012-senate\").read()\n",
      "data2010 = urllib2.urlopen(\"http://elections.huffingtonpost.com/pollster/api/charts/?topic=2010-senate\").read()"
     ],
     "language": "python",
     "metadata": {},
     "outputs": [],
     "prompt_number": 17
    },
    {
     "cell_type": "markdown",
     "metadata": {},
     "source": [
      "**Provide an explanation of methodology here**:"
     ]
    },
    {
     "cell_type": "markdown",
     "metadata": {},
     "source": [
      "#### Problem 4(b)\n",
      "\n",
      "Predict the R-D difference in each state. The predictions that minimize the residual sum of squares between predicted and observed differences wins."
     ]
    },
    {
     "cell_type": "code",
     "collapsed": false,
     "input": [
      "### Your code here ###"
     ],
     "language": "python",
     "metadata": {},
     "outputs": [],
     "prompt_number": 18
    },
    {
     "cell_type": "markdown",
     "metadata": {},
     "source": [
      "**Provide an explanation of methodology here**:"
     ]
    },
    {
     "cell_type": "markdown",
     "metadata": {},
     "source": [
      "#### Problem 4(c)\n",
      "\n",
      "Report a confidence interval for the R-D difference in each state. If the election day result falls outside your confidence interval in more than two states you are eliminated. For those surviving this cutoff, we will add up the size of all confidence intervals and sum. The smallest total length of confidence interval wins. \n",
      "\n",
      "**Note**: you can use Bayesian credible intervals or whatever else you want. "
     ]
    },
    {
     "cell_type": "code",
     "collapsed": false,
     "input": [
      "### Your code here ###"
     ],
     "language": "python",
     "metadata": {},
     "outputs": [],
     "prompt_number": 19
    },
    {
     "cell_type": "markdown",
     "metadata": {},
     "source": [
      "**Provide an explanation of methodology here**:"
     ]
    },
    {
     "cell_type": "markdown",
     "metadata": {},
     "source": [
      "# Submission Instructions\n",
      "\n",
      "To submit your homework, create a folder named **lastname_firstinitial_hw#** and place your IPython notebooks, data files, and any other files in this folder. Your IPython Notebooks should be completely executed with the results visible in the notebook. We should not have to run any code.  Compress the folder (please use .zip compression) and submit to the CS109 dropbox in the appropriate folder. *If we cannot access your work because these directions are not followed correctly, we will not grade your work.*\n"
     ]
    }
   ],
   "metadata": {}
  }
 ]
}