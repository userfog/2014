<<<<<<< HEAD
{
 "metadata": {
  "name": "",
  "signature": "sha256:0359f66b1bc71afcdbff7d35d0be8149675a154abd6bee7188c44715c0a92f19"
 },
 "nbformat": 3,
 "nbformat_minor": 0,
 "worksheets": [
  {
   "cells": [
    {
     "cell_type": "code",
     "collapsed": false,
     "input": [
      "from IPython.core.display import HTML\n",
      "\n",
      "print(\"Setting custom CSS for the IPython Notebook\")\n",
      "styles = open('custom.css', 'r').read()\n",
      "HTML(styles)"
     ],
     "language": "python",
     "metadata": {},
     "outputs": [
      {
       "output_type": "stream",
       "stream": "stdout",
       "text": [
        "Setting custom CSS for the IPython Notebook\n"
       ]
      },
      {
       "html": [
        "<style>\n",
        "    @font-face {\n",
        "        font-family: \"Computer Modern\";\n",
        "        src: url('http://mirrors.ctan.org/fonts/cm-unicode/fonts/otf/cmunss.otf');\n",
        "    }\n",
        "    div.cell{\n",
        "        width:1000px;\n",
        "        margin-left:10% !important;\n",
        "        margin-right:auto;\n",
        "    }\n",
        "    h1 {\n",
        "        font-family: Helvetica, serif;\n",
        "    }\n",
        "    h4{\n",
        "        margin-top:12px;\n",
        "        margin-bottom: 3px;\n",
        "       }\n",
        "    div.text_cell_render{\n",
        "        font-family: Computer Modern, \"Helvetica Neue\", Arial, Helvetica, Geneva, sans-serif;\n",
        "        line-height: 145%;\n",
        "        font-size: 170%;\n",
        "        width:800px;\n",
        "        margin-left:auto;\n",
        "        margin-right:auto;\n",
        "    }\n",
        "\n",
        "    div.text_cell_render li {\n",
        "        line-height: 145%;\n",
        "    }\n",
        "\n",
        "    div.text_cell_render code {\n",
        "        color: rgb(0, 204, 0);\n",
        "        font-family: \"Source Code Pro\", source-code-pro,Consolas, monospace;\n",
        "        font-size: 90%;\n",
        "    }\n",
        "\n",
        "    .CodeMirror{\n",
        "            font-family: \"Source Code Pro\", source-code-pro,Consolas, monospace;\n",
        "    }\n",
        "\n",
        "    .text_cell_render h5 {\n",
        "        font-weight: 300;\n",
        "        font-size: 16pt;\n",
        "        color: #4057A1;\n",
        "        font-style: italic;\n",
        "        margin-bottom: .5em;\n",
        "        margin-top: 0.5em;\n",
        "        display: block;\n",
        "    }\n",
        "\n",
        "    .warning{\n",
        "        color: rgb( 240, 20, 20 )\n",
        "        }\n",
        "\n",
        "    strong{\n",
        "        color: rgb(23, 103, 140);\n",
        "\t#border: 1px solid;\n",
        "    }\n",
        "\n",
        "div#notebook {\n",
        "font-size: 22px;\n",
        "}\n",
        "\n",
        "</style>\n",
        "<script>\n",
        "    MathJax.Hub.Config({\n",
        "                        TeX: {\n",
        "                           extensions: [\"AMSmath.js\"]\n",
        "                           },\n",
        "                tex2jax: {\n",
        "                    inlineMath: [ ['$','$'], [\"\\\\(\",\"\\\\)\"] ],\n",
        "                    displayMath: [ ['$$','$$'], [\"\\\\[\",\"\\\\]\"] ]\n",
        "                },\n",
        "                displayAlign: 'center', // Change this to 'center' to center equations.\n",
        "                \"HTML-CSS\": {\n",
        "                    styles: {'.MathJax_Display': {\"margin\": 4}}\n",
        "                }\n",
        "        });\n",
        "</script>"
       ],
       "metadata": {},
       "output_type": "pyout",
       "prompt_number": 10,
       "text": [
        "<IPython.core.display.HTML at 0x174aee10>"
       ]
      }
     ],
     "prompt_number": 10
    },
    {
     "cell_type": "code",
     "collapsed": false,
     "input": [
      "## all imports\n",
      "import numpy as np\n",
      "\n",
      "import pandas as pd\n",
      "from pandas import Series\n",
      "from pandas import DataFrame\n",
      "pd.options.display.mpl_style = 'default'\n",
      "\n",
      "import matplotlib.pyplot as plt\n",
      "%matplotlib inline  \n",
      "\n",
      "import seaborn as sns\n",
      "sns.set_context(\"talk\")"
     ],
     "language": "python",
     "metadata": {},
     "outputs": [],
     "prompt_number": 11
    },
    {
     "cell_type": "markdown",
     "metadata": {
      "slideshow": {
       "slide_type": "slide"
      }
     },
     "source": [
      "CS109\n",
      "=====\n",
      "\n",
      "Verena Kaynig-Fittkau\n",
      "\n",
      "vkaynig@seas.harvard.edu"
     ]
    },
    {
     "cell_type": "markdown",
     "metadata": {
      "slideshow": {
       "slide_type": "slide"
      }
     },
     "source": [
      "IPython Notebooks:\n",
      "===================\n",
      "\n",
      "![IPython](images/ipython.png \"IPython\")"
     ]
    },
    {
     "cell_type": "markdown",
     "metadata": {
      "slideshow": {
       "slide_type": "subslide"
      }
     },
     "source": [
      "IPython Notebooks:\n",
      "===================\n",
      "\n",
      "* These slides are an IPython notebook!\n",
      "* https://github.com/damianavila/live_reveal"
     ]
    },
    {
     "cell_type": "code",
     "collapsed": false,
     "input": [
      "print \"Hello CS109\"\n",
      "\n",
      "print \"I love IPython very much\""
     ],
     "language": "python",
     "metadata": {
      "slideshow": {
       "slide_type": "fragment"
      }
     },
     "outputs": [
      {
       "output_type": "stream",
       "stream": "stdout",
       "text": [
        "Hello CS109\n",
        "I love IPython very much\n"
       ]
      }
     ],
     "prompt_number": 12
    },
    {
     "cell_type": "markdown",
     "metadata": {
      "slideshow": {
       "slide_type": "slide"
      }
     },
     "source": [
      "Todays topics:\n",
      "===============\n",
      "\n",
      "* get started with data\n",
      "* read in a data file\n",
      "* visualize it"
     ]
    },
    {
     "cell_type": "markdown",
     "metadata": {
      "slideshow": {
       "slide_type": "slide"
      }
     },
     "source": [
      "How to load a table\n",
      "===================\n",
      "\n",
      "* we use Pandas for this\n",
      "* Pandas can do a __lot__ more\n",
      "* more about it later\n",
      "\n",
      "<img src=\"images/cute_panda.jpg\" width=400 />"
     ]
    },
    {
     "cell_type": "code",
     "collapsed": false,
     "input": [
      "url = 'https://raw.githubusercontent.com/cs109/2014/master/lectures/wur2013.txt'\n",
      "ranking = pd.read_table(url)\n",
      "ranking = ranking[:30]\n",
      "ranking.head()"
     ],
     "language": "python",
     "metadata": {
      "slideshow": {
       "slide_type": "subslide"
      }
     },
     "outputs": [
      {
       "html": [
        "<div style=\"max-height:1000px;max-width:1500px;overflow:auto;\">\n",
        "<table border=\"1\" class=\"dataframe\">\n",
        "  <thead>\n",
        "    <tr style=\"text-align: right;\">\n",
        "      <th></th>\n",
        "      <th>qsrank</th>\n",
        "      <th>schoolname</th>\n",
        "      <th>qsstars</th>\n",
        "      <th>overall</th>\n",
        "      <th>academic</th>\n",
        "      <th>employer</th>\n",
        "      <th>faculty</th>\n",
        "      <th>international</th>\n",
        "      <th>internationalstudents</th>\n",
        "      <th>citations</th>\n",
        "      <th>arts</th>\n",
        "      <th>engineering</th>\n",
        "      <th>life</th>\n",
        "      <th>natural</th>\n",
        "      <th>social</th>\n",
        "    </tr>\n",
        "  </thead>\n",
        "  <tbody>\n",
        "    <tr>\n",
        "      <th>0</th>\n",
        "      <td> 1</td>\n",
        "      <td> Massachusetts Institute of Technology (MIT) </td>\n",
        "      <td>  6</td>\n",
        "      <td> 100.0</td>\n",
        "      <td> 100.0</td>\n",
        "      <td> 100.0</td>\n",
        "      <td> 100.0</td>\n",
        "      <td> 97.6</td>\n",
        "      <td>  96.3</td>\n",
        "      <td>  99.7</td>\n",
        "      <td> 78.7</td>\n",
        "      <td> 96.3</td>\n",
        "      <td> 90.9</td>\n",
        "      <td> 96.3</td>\n",
        "      <td> 87.4</td>\n",
        "    </tr>\n",
        "    <tr>\n",
        "      <th>1</th>\n",
        "      <td> 2</td>\n",
        "      <td>                           Harvard University</td>\n",
        "      <td>  5</td>\n",
        "      <td>  99.2</td>\n",
        "      <td> 100.0</td>\n",
        "      <td> 100.0</td>\n",
        "      <td>  99.3</td>\n",
        "      <td> 94.1</td>\n",
        "      <td>  85.3</td>\n",
        "      <td> 100.0</td>\n",
        "      <td> 89.7</td>\n",
        "      <td> 85.7</td>\n",
        "      <td> 98.2</td>\n",
        "      <td> 92.3</td>\n",
        "      <td> 96.3</td>\n",
        "    </tr>\n",
        "    <tr>\n",
        "      <th>2</th>\n",
        "      <td> 3</td>\n",
        "      <td>                      University of Cambridge</td>\n",
        "      <td>  5</td>\n",
        "      <td>  99.0</td>\n",
        "      <td> 100.0</td>\n",
        "      <td> 100.0</td>\n",
        "      <td>  99.6</td>\n",
        "      <td> 95.5</td>\n",
        "      <td>  96.0</td>\n",
        "      <td>  95.8</td>\n",
        "      <td> 93.5</td>\n",
        "      <td> 90.5</td>\n",
        "      <td> 91.8</td>\n",
        "      <td> 97.0</td>\n",
        "      <td> 91.2</td>\n",
        "    </tr>\n",
        "    <tr>\n",
        "      <th>3</th>\n",
        "      <td> 4</td>\n",
        "      <td>              UCL (University College London)</td>\n",
        "      <td>NaN</td>\n",
        "      <td>  98.9</td>\n",
        "      <td>  99.9</td>\n",
        "      <td>  98.7</td>\n",
        "      <td>  98.9</td>\n",
        "      <td> 96.5</td>\n",
        "      <td> 100.0</td>\n",
        "      <td>  95.6</td>\n",
        "      <td> 85.6</td>\n",
        "      <td> 75.9</td>\n",
        "      <td> 85.4</td>\n",
        "      <td> 79.6</td>\n",
        "      <td> 81.2</td>\n",
        "    </tr>\n",
        "    <tr>\n",
        "      <th>4</th>\n",
        "      <td> 5</td>\n",
        "      <td>                      Imperial College London</td>\n",
        "      <td>NaN</td>\n",
        "      <td>  98.8</td>\n",
        "      <td>  99.9</td>\n",
        "      <td> 100.0</td>\n",
        "      <td>  99.8</td>\n",
        "      <td> 99.9</td>\n",
        "      <td>  99.9</td>\n",
        "      <td>  92.5</td>\n",
        "      <td> 59.5</td>\n",
        "      <td> 88.3</td>\n",
        "      <td> 85.5</td>\n",
        "      <td> 89.4</td>\n",
        "      <td> 74.9</td>\n",
        "    </tr>\n",
        "  </tbody>\n",
        "</table>\n",
        "</div>"
       ],
       "metadata": {},
       "output_type": "pyout",
       "prompt_number": 13,
       "text": [
        "  qsrank                                    schoolname  qsstars  overall  \\\n",
        "0      1  Massachusetts Institute of Technology (MIT)         6    100.0   \n",
        "1      2                            Harvard University        5     99.2   \n",
        "2      3                       University of Cambridge        5     99.0   \n",
        "3      4               UCL (University College London)      NaN     98.9   \n",
        "4      5                       Imperial College London      NaN     98.8   \n",
        "\n",
        "   academic  employer  faculty  international  internationalstudents  \\\n",
        "0     100.0     100.0    100.0           97.6                   96.3   \n",
        "1     100.0     100.0     99.3           94.1                   85.3   \n",
        "2     100.0     100.0     99.6           95.5                   96.0   \n",
        "3      99.9      98.7     98.9           96.5                  100.0   \n",
        "4      99.9     100.0     99.8           99.9                   99.9   \n",
        "\n",
        "   citations  arts  engineering  life  natural  social  \n",
        "0       99.7  78.7         96.3  90.9     96.3    87.4  \n",
        "1      100.0  89.7         85.7  98.2     92.3    96.3  \n",
        "2       95.8  93.5         90.5  91.8     97.0    91.2  \n",
        "3       95.6  85.6         75.9  85.4     79.6    81.2  \n",
        "4       92.5  59.5         88.3  85.5     89.4    74.9  "
       ]
      }
     ],
     "prompt_number": 13
    },
    {
     "cell_type": "markdown",
     "metadata": {
      "slideshow": {
       "slide_type": "slide"
      }
     },
     "source": [
      "Visualization\n",
      "=============\n",
      "\n",
      "* Data is now in a Pandas DataFrame\n",
      "* Lets try a bar plot\n",
      "\n",
      "\n"
     ]
    },
    {
     "cell_type": "markdown",
     "metadata": {
      "slideshow": {
       "slide_type": "subslide"
      }
     },
     "source": [
      "Matplotlib\n",
      "====================\n",
      "\n"
     ]
    },
    {
     "cell_type": "code",
     "collapsed": false,
     "input": [
      "data_to_plot = ranking.overall\n",
      "plt.bar(data_to_plot.index, data_to_plot)\n",
      "plt.show()"
     ],
     "language": "python",
     "metadata": {},
     "outputs": [
      {
       "metadata": {},
       "output_type": "display_data",
       "png": "iVBORw0KGgoAAAANSUhEUgAAAnYAAAG4CAYAAADIXqqgAAAABHNCSVQICAgIfAhkiAAAAAlwSFlz\nAAALEgAACxIB0t1+/AAAGERJREFUeJzt3X+sbWlZH/DvOXOmcvEOzGBqHP5gIKNEUNMWbYitjpCZ\nBEcNtsV3QppqRVvKWLTyF0yHaWzpxVqYSloaAjGpppmr5TU1JWNowiUDOFAEYrGKQbETneltG2Mt\nDrczwJx7dv+4++pmz/11zlr77LWf/fkkk5y11t7Pet957trne9baa+8EAAAAAAAAAAAAAAAAAAAA\nAOBY7FzLg1pr35Tk0d77F5bW35Pklvniqd77YwvbvjrJzyTZTXIuyZt7718eZdQAADzN7pU2ttbu\naK29K8k/S/LcpW23JTnbe39dkjckeePS01+f5B299x9LcjrJPxht1AAAPM0Vg13v/Uzv/e4k77vE\n5juTPDB/3JNJnmqtXb+w/S/23n9/vv3TSV40zpABALiUKwa7q5j13s8vLD+S5OaF5eXLrk8M2BcA\nAFcxJNgtvz/v8SQnrrD9qQH7AgDgKoYEu+uXlk/kK8/KLW8HAGCF9oY8t7W213vfny/fmuTswvYT\nS49/xrUWfu9/fmj2nL3zV38gAEBdH77jjjtedpgnDAl2Dya5K8np1tpNSa7rvR8sbP+j1totvfc/\nbK19e5LfudbCz9k7nzf9xjV9EstX+PqvOZF3/a0XZWfn8M/lgt3d3dxwww35whe+kIODg6s/gdHp\nwfrpwfrpwXr5/79+u7u7+cQnPvFdh33eFYNda+32JN+X5MVJXt5a+5Mk7+y9P9J7P9Nau7e1dn+S\nG5Pct/T0n03yltbaQZLzSd502MEdxWw2y2w2O45dlXZwcOBgXjM9WD89WD89WC///zfPFYNd7/2D\nST54he2nrrDt8ST/6OhDG8e/eOgP8ujnv3ik5z7vxmfkTS9//qjjAQBYlSGXYjfCo5//Yn7//zw5\nSq2xQ+JR660ycM5ms+zv7zvrCQAbqHywG9OYIXHsemOGznvf91vOcgLABhLsihgzJI4dYAGA4zHk\nc+wAAJgQwQ4AoAjBDgCgCMEOAKAIwQ4AoAh3xbJyU/y8PgCoSLBj5Xx8CgAcD8GOjbINXxHn2z8A\nOCrBjo0y9tm/MS8Tj1nLt38AcBSCHVttqt/Y4fI1AEfhrlgAgCIEOwCAIgQ7AIAiBDsAgCIEOwCA\nItwVC1vAt38AbAfBDraAj08B2A6CHXAozv4BTJdgBxzKmGf/tuEr4gCOk2AHrI1LxADjclcsAEAR\ngh0AQBGCHQBAEd5jB5Qx1h27s9ks+/v7mc1m4w0O4BgIdkAZY96Mce/7fsvHugAbR7ADuAR37AKb\nyHvsAACKcMYOYMXG/iBm3/4BXI5gB7BiY1/WdZkYuBzBDmCLjXn2b8wzk+5MhqMR7AC22Jhn/8Y+\nk+jOZDg8wQ6ASRozKHpfIttCsAOgvCmExERQZPUEOwA4BDevMGU+xw4AoAhn7ABgjbz/jzEJdgCw\nRi7tMibBDgCKGOvsn88R3FyCHQAUMebZv6N+jmDiMvE6CXYAwNOMfYnYewmPh2AHAKyc9xIeD8EO\nANgoPiT68gQ7AGCjOPt3eYIdALC1qp39E+wAgK1V7eyfrxQDACjCGTsAgJGs+2NdBDsAgJGs+9Ku\nS7EAAEUIdgAARQh2AABFCHYAAEUIdgAARQh2AABFCHYAAEUIdgAARQh2AABFCHYAAEUIdgAARQh2\nAABFCHYAAEUIdgAARQh2AABFCHYAAEUIdgAARQh2AABFCHYAAEXsDS3QWntNkr86r/Wfeu+/urDt\nniS3zBdP9d4fG7o/AAAubdAZu9baC5Pc1Hv/sd77a5N8Z2vt2fNttyU523t/XZI3JHnj4NECAHBZ\nQy/F/qUkH1pY/mSSb5j/fGeSB5Kk9/5kkqdaa9cP3B8AAJcxNNh9PMldSTIPba9I8pn5tlnv/fzC\nYx9JcvPA/QEAcBmDgt38PXNPtNY+mORjSf7L/OxckuwsPfzxJCeG7A8AgMsb+h67lyTZ773fnuSl\nSb6ltXbxrNzyZdcTSZ4Ysr9rsbOzk93d3ezu7mZnZzlbHr3emLXGqLeqee7uDr9RelPmOaWxLdaq\n3INN6efQHmzKPKdUa7nelHqwjf2s/Dq0WG/K/TxqD4beFXt7kvckSe/9oLV2OslfT/LLSfZaa3u9\n9/35Y29Ncnbg/q7q5MmT2du7MK39/f2rPPra641ZKxk+NvNcf72p1pry2Mxz/fWmWmvKYzPP9dfb\nxt95RzU02H0qycuT9PnydyZ53/znB3Ph/XenW2s3Jbmu934wcH9Xde7cuT9LzLPZbLR6Y9ZKho9t\nVfMc46+XTZjn1Ma2WKtyDzaln0N7sCnznFKt5XpT6sE29rPy69BivSn3cy1n7HrvD7XWfrK19o5c\nuKz7sd77f59vO9Nau7e1dn+SG5PcN2Rf12o2m43SqFXUm2qtxXpjHMybMM8p16rcg03p59AebMo8\np1Rrud6UerCN/az8OjR2vanVGvwBxb33d1xh26mh9QEAuDa+UgwAoAjBDgCgCMEOAKAIwQ4AoAjB\nDgCgCMEOAKAIwQ4AoAjBDgCgCMEOAKAIwQ4AoAjBDgCgCMEOAKAIwQ4AoAjBDgCgCMEOAKAIwQ4A\noAjBDgCgCMEOAKAIwQ4AoAjBDgCgCMEOAKAIwQ4AoAjBDgCgCMEOAKAIwQ4AoAjBDgCgCMEOAKAI\nwQ4AoAjBDgCgCMEOAKAIwQ4AoAjBDgCgCMEOAKAIwQ4AoAjBDgCgCMEOAKAIwQ4AoAjBDgCgCMEO\nAKAIwQ4AoAjBDgCgCMEOAKAIwQ4AoAjBDgCgCMEOAKAIwQ4AoAjBDgCgCMEOAKAIwQ4AoAjBDgCg\nCMEOAKAIwQ4AoAjBDgCgCMEOAKAIwQ4AoAjBDgCgCMEOAKAIwQ4AoAjBDgCgCMEOAKAIwQ4AoAjB\nDgCgCMEOAKAIwQ4AoAjBDgCgCMEOAKAIwQ4AoAjBDgCgCMEOAKAIwQ4AoIi9MYq01v5ykh9P8qUk\nD/feT8/X35PklvnDTvXeHxtjfwAAPN3gYNdae2mS1yT5+733g4X1tyU523v/6dbaiSRvS/L6ofsD\nAODSxrgU+5NJXr8Y6ubuTPJAkvTen0zyVGvt+hH2BwDAJQwKdq215yf5dO99/xKbZ7338wvLjyS5\necj+AAC4vKGXYm9O8ruttTfNf/693vu/nW/bWXrs40lODNzfVe3s7GRn58KuZ7PZaPXGrJUMH9uq\n5nmx5hi1kunOc2pjW6xVuQeb0s+hPdiUeU6p1nK9KfVgG/tZ+XVosd6U+7m7e7Rzb0OD3eNJ7k9y\nd+/9N1trd7bW/vb85only64nkjwxcH9XdfLkyeztXZjW/v6lTiQerd6YtZLhYzPP9debaq0pj808\n119vqrWmPDbzXH+9bfydd1RDg93nknyw9/6bSdJ7f39r7a0Xa7fW9hYu096a5OzA/V3VuXPnRk31\nF+uNWSsZPrZVzXOMv9I2YZ5TG9tirco92JR+Du3BpsxzSrWW602pB9vYz8qvQ4v1ptzPo56xG/Qe\nu977l5N8ubX2VUnSWvuG/Hl4ezDJXfP1NyW57hI3WIxuNpvl4OAgBwcHozTsYr0xa41Rb1XzPDgY\n3qJNmeeUxrZYq3IPNqWfQ3uwKfOcUq3lelPqwTb2s/Lr0GK9KffzqD0Y467YdyV5W2vtXyW5O8l7\nkqT3fibJC1pr9yd5+/w/AABWZPDn2PXe/zjJT1xm26mh9QEAuDa+UgwAoAjBDgCgCMEOAKAIwQ4A\noAjBDgCgCMEOAKAIwQ4AoAjBDgCgCMEOAKAIwQ4AoAjBDgCgCMEOAKAIwQ4AoAjBDgCgCMEOAKAI\nwQ4AoAjBDgCgCMEOAKAIwQ4AoAjBDgCgCMEOAKAIwQ4AoAjBDgCgCMEOAKAIwQ4AoAjBDgCgCMEO\nAKAIwQ4AoAjBDgCgCMEOAKAIwQ4AoAjBDgCgCMEOAKAIwQ4AoAjBDgCgCMEOAKAIwQ4AoAjBDgCg\nCMEOAKAIwQ4AoAjBDgCgCMEOAKAIwQ4AoAjBDgCgCMEOAKAIwQ4AoAjBDgCgCMEOAKAIwQ4AoAjB\nDgCgCMEOAKAIwQ4AoAjBDgCgCMEOAKAIwQ4AoAjBDgCgCMEOAKAIwQ4AoAjBDgCgCMEOAKAIwQ4A\noAjBDgCgCMEOAKAIwQ4AoAjBDgCgCMEOAKAIwQ4AoAjBDgCgCMEOAKAIwQ4AoIi9MYq01k4k+dUk\n/6H3/u6F9fckuWW+eKr3/tgY+wMA4OnGOmP395L8zOKK1tptSc723l+X5A1J3jjSvgAAuITBwa61\n9lVJXpDks0ub7kzyQJL03p9M8lRr7fqh+wMA4NLGOGP3miQ/f4n1s977+YXlR5LcPML+AAC4hEHB\nbn4G7sW99/92ic07S8uPJzkxZH/XYmdnJ7u7u9nd3c3OzvIQjl5vzFpj1FvVPHd3h2f9TZnnlMa2\nWKtyDzaln0N7sCnznFKt5XpT6sE29rPy69BivSn386g9GHrzxA9mfrk1Tw9yy5ddTyR5YuD+rurk\nyZPZ27swrf39/dHqjVkrGT4281x/vanWmvLYzHP99aZaa8pjM8/119vG33lHNTTYvSDJt7TWXp3k\nWUme11p7b+/9/ybZa63t9d4vzvLWJGcH7u+qzp0792eJeTabjVZvzFrJ8LGtap5j/PWyCfOc2tgW\na1Xuwab0c2gPNmWeU6q1XG9KPdjGflZ+HVqsN+V+ruWMXe/9vos/t9ZuSfLd81CXJA8muSvJ6dba\nTUmu670fDNnftZjNZqM0ahX1plprsd4YB/MmzHPKtSr3YFP6ObQHmzLPKdVarjelHmxjPyu/Do1d\nb2q1Rvm4k9baS5P8kySvaq09J0l672eSvKC1dn+St8//AwBgRUb5gOLe+68n+fVLrD81Rn0AAK7O\nV4oBABQh2AEAFCHYAQAUIdgBABQh2AEAFCHYAQAUIdgBABQh2AEAFCHYAQAUIdgBABQh2AEAFCHY\nAQAUIdgBABQh2AEAFCHYAQAUIdgBABQh2AEAFCHYAQAUIdgBABQh2AEAFCHYAQAUIdgBABQh2AEA\nFCHYAQAUIdgBABQh2AEAFCHYAQAUIdgBABQh2AEAFCHYAQAUIdgBABQh2AEAFCHYAQAUIdgBABQh\n2AEAFCHYAQAUIdgBABQh2AEAFCHYAQAUIdgBABQh2AEAFCHYAQAUIdgBABQh2AEAFCHYAQAUIdgB\nABQh2AEAFCHYAQAUIdgBABQh2AEAFCHYAQAUIdgBABQh2AEAFCHYAQAUIdgBABQh2AEAFCHYAQAU\nIdgBABQh2AEAFCHYAQAUIdgBABQh2AEAFCHYAQAUIdgBABQh2AEAFCHYAQAUIdgBABQh2AEAFCHY\nAQAUsTfkya21nSRvTvJ1Sa5Pcrr3/qGF7fckuWW+eKr3/tiQ/QEAcHlDz9j9UJKHe+//sPf+2iTf\n01p7dpK01m5Lcrb3/rokb0jyxoH7AgDgCoYGu0/13h9aWP5wkm+e/3xnkgeSpPf+ZJKnWmvXD9wf\nAACXMSjY9d4/s7TqZUl+e/7zrPd+fmHbI0luHrI/AAAub7SbJ1prP5zkk733P52v2ll6yONJToy1\nPwAAvtKgmycuaq39QJJn9d5/fmH18mXXE0meGGN/V7Kzs5OdnQuZcjabjVZvzFrJ8LGtap4Xa45R\nK5nuPKc2tsValXuwKf0c2oNNmeeUai3Xm1IPtrGflV+HFutNuZ+7u0c79zY42LXWvjfJC3vvb12u\n3Vrb673vz5dvTXJ26P6u5uTJk9nbuzCt/f39qzz62uuNWSsZPjbzXH+9qdaa8tjMc/31plprymMz\nz/XX28bfeUc19ONObk/ybb33fzpf3kuSeZh7MMldSU631m5Kcl3v/WDQaK/BuXPnRk31F+uNWSsZ\nPrZVzXOMv9I2YZ5TG9tirco92JR+Du3BpsxzSrWW602pB9vYz8qvQ4v1ptzPdZ2xe0uSj7fWfna+\n/NwkP5fkA733M621e1tr9ye5Mcl9A/d1TWaz2SiNWkW9qdZarDfGwbwJ85xyrco92JR+Du3Bpsxz\nSrWW602pB9vYz8qvQ2PXm1qtQcGu9/7XrrL91JD6AABcO18pBgBQhGAHAFCEYAcAUIRgBwBQhGAH\nAFCEYAcAUIRgBwBQhGAHAFCEYAcAUIRgBwBQhGAHAFCEYAcAUIRgBwBQhGAHAFCEYAcAUIRgBwBQ\nhGAHAFCEYAcAUIRgBwBQhGAHAFCEYAcAUIRgBwBQhGAHAFCEYAcAUIRgBwBQhGAHAFCEYAcAUIRg\nBwBQhGAHAFCEYAcAUIRgBwBQhGAHAFCEYAcAUIRgBwBQhGAHAFCEYAcAUIRgBwBQhGAHAFCEYAcA\nUIRgBwBQhGAHAFCEYAcAUIRgBwBQhGAHAFCEYAcAUIRgBwBQhGAHAFCEYAcAUIRgBwBQhGAHAFCE\nYAcAUIRgBwBQhGAHAFCEYAcAUIRgBwBQhGAHAFCEYAcAUIRgBwBQhGAHAFCEYAcAUIRgBwBQhGAH\nAFCEYAcAUIRgBwBQhGAHAFCEYAcAUIRgBwBQhGAHAFCEYAcAUIRgBwBQxN6qd9Bae2WS709yPskv\n9t4fWvU+AQC20UrP2LXWnpXk5b33H+29vzbJq1trKw+TAADbaNWXYl+R5PTC8pkk37HifQIAbKVV\nB7vnJ/ncwvJnkzxvxfsEANhKqw52z0zy5MLy40lOrHifAABbadXvd/tikhuSfGm+fCLJE9fyxK//\nmsPnv+fd+Izs7OxkZ2cnSTKbzfK8G59x6DqXqjdmraFjW+U8d3Z2tmKeUxrbcq2qPdikfg7pwSbN\ncyq1LlVvKj3Y1n5WfR1arjflfu7uHu3c286RnnWNWmuvTvI/eu8Pz5f/ZpI/7r3/2pWed+bMmQ8l\n+a5Vjg0AYOI+fMcdd7zsME9Y9Rm79yf5qSQPt9Z2ktyZ5O6rPemwkwAAYMVn7JKktfaqJLclOZnk\nF3rvH1n1PgEAAAAAAAAAAAAAAAAAAACAKVr5x50cRmvtlUm+P8n5JL/Ye39ozUPaKq215yf5d0l+\ne77qj3rvb1nfiLZHa+2bkjzae//C0vp7ktwyXzzVe3/s2Ae3JS7Vg9baDye5Pcnn56s+2nv/pTUM\nr6z5Z5y+OcnXJbk+yene+4cWtjsGVuxKPXAMHI/W2jOS3Jfk2bnQg19azECHOQ5W/QHF16y19qwk\nL++9/+h8+d2ttV/rve+veWjbZJYL/5jeve6BbIvW2h1JXpXka5P84yS/u7DttiRne+8/3Vo7keRt\nSV6/loEWdqUe5MIx8Zbe+++tY2xb4oeSPHzxl1hr7V+21v5r7/1PHQPH5rI9iGPguHxrkn/fe/9s\nkrTW3tla+0jv/fxhj4OjfRHZarwiyemF5TNJvmNNY4Fj0Xs/03u/O8n7LrH5ziQPzB/3ZJKnWmvX\nH+f4tsFVepBM7MpGQZ9aujrz4STfPP/ZMXA8rtSDxDGwcr33j14MdXO/k+S5858PdRxM5oxdkucn\n+cDC8meT/JX1DGVrzZL8ndbaNya5Lsnneu//Zs1j2maz3vv5heVHktyc5NE1jWcbzZL8VGvtfyf5\n6niLyOh6759ZWvWyJP98/rNj4BhcrQdxDByr1tpfSPKSJO+arzrUcTClM3bPTPLkwvLjSU6saSzb\n6rEkd/be39B7/4kkX2ytvWTdg9piy38lOyaO3y8n+cH5MfHaJK+cvxeGFZi/n+uT80uAiWPg2F2i\nB46BY9RauzvJp5P8x977bL76UMfBlILdF5PcsLB8IskTaxrLVuq9z3rv5xZW/UoufM8v67F8qt0x\nccx6708svc/3o0m+cV3jqay19gNJntV7f+/CasfAMbpUDxwDx6v3/q5ceL/dd7fWvna++lDHwZSC\n3R/mK/+xvCjJH6xnKMzdkOT/rXsQW2yvtbb4dolbk5xd12BIkpyMY2J0rbXvTfLC3vu/XtrkGDgm\nV+jBMsfAis3fR/eeJHfMVx3qOJhSsHt/LtyZdvHW6zuTfGytI9oyrbW/21p79sKqH8mFvrAeDya5\nK0laazclua73frDeIW2X1tqPz1+PLr7v5dt7759b87BKaa3dnuTbeu9vnS8v/hJzDByDK/XAMXA8\nWmvfurTqe5L8xvznQx0Hk7rTpbX2qly49HcyyS/03j+y5iFtlflp3zfmwr+LZyZ5sPf+4HpHVdv8\nBfX7krw4yf9K8idJ3tl7f2S+/d4kz0lyY5L7eu//c11jrepKPZi/2P5Iki/lwhvH3+6X2rhaax9L\n8vH8+e+j5yb5ud77B+bbHQMrdqUeOAaOR2vtFUn+RpKncuHmxTO9919Z2O44AAAAAAAAAAAAAAAA\nAAAAAAAAAAAAAAAAKO//A1Lj44zaMmUFAAAAAElFTkSuQmCC\n",
       "text": [
        "<matplotlib.figure.Figure at 0x174aecc0>"
       ]
      }
     ],
     "prompt_number": 14
    },
    {
     "cell_type": "markdown",
     "metadata": {
      "slideshow": {
       "slide_type": "slide"
      }
     },
     "source": [
      "Plotting with Pandas\n",
      "====================\n",
      "\n"
     ]
    },
    {
     "cell_type": "code",
     "collapsed": false,
     "input": [
      "data_to_plot.plot(kind='bar')\n",
      "plt.show()"
     ],
     "language": "python",
     "metadata": {},
     "outputs": [
      {
       "metadata": {},
       "output_type": "display_data",
       "png": "iVBORw0KGgoAAAANSUhEUgAAAnAAAAG2CAYAAAD/SruXAAAABHNCSVQICAgIfAhkiAAAAAlwSFlz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\nAAAAAAAAAACAjvx/mBnfxAiqkvMAAAAASUVORK5CYII=\n",
       "text": [
        "<matplotlib.figure.Figure at 0x176b0278>"
       ]
      }
     ],
     "prompt_number": 23
    },
    {
     "cell_type": "markdown",
     "metadata": {
      "slideshow": {
       "slide_type": "slide"
      }
     },
     "source": [
      "How to Rank Universities\n",
      "========================\n",
      "\n",
      "* Academic peer review (40%)\n",
      "* Faculty student ratio (20%)\n",
      "* Citations per faculty (20%)\n",
      "* Recruiter review (10%)\n",
      "* International orientation (10%)\n",
      "\n",
      "http://en.wikipedia.org/wiki/QS_World_University_Rankings"
     ]
    },
    {
     "cell_type": "markdown",
     "metadata": {
      "slideshow": {
       "slide_type": "subslide"
      }
     },
     "source": [
      "Selecting a Subframe\n",
      "===================="
     ]
    },
    {
     "cell_type": "code",
     "collapsed": false,
     "input": [
      "relevant_columns = ['academic','faculty','citations',\n",
      "                    'employer','international']\n",
      "ranking_categories=ranking[relevant_columns]\n",
      "ranking_categories.head()"
     ],
     "language": "python",
     "metadata": {},
     "outputs": [
      {
       "html": [
        "<div style=\"max-height:1000px;max-width:1500px;overflow:auto;\">\n",
        "<table border=\"1\" class=\"dataframe\">\n",
        "  <thead>\n",
        "    <tr style=\"text-align: right;\">\n",
        "      <th></th>\n",
        "      <th>academic</th>\n",
        "      <th>faculty</th>\n",
        "      <th>citations</th>\n",
        "      <th>employer</th>\n",
        "      <th>international</th>\n",
        "    </tr>\n",
        "  </thead>\n",
        "  <tbody>\n",
        "    <tr>\n",
        "      <th>0</th>\n",
        "      <td> 100.0</td>\n",
        "      <td> 100.0</td>\n",
        "      <td>  99.7</td>\n",
        "      <td> 100.0</td>\n",
        "      <td> 97.6</td>\n",
        "    </tr>\n",
        "    <tr>\n",
        "      <th>1</th>\n",
        "      <td> 100.0</td>\n",
        "      <td>  99.3</td>\n",
        "      <td> 100.0</td>\n",
        "      <td> 100.0</td>\n",
        "      <td> 94.1</td>\n",
        "    </tr>\n",
        "    <tr>\n",
        "      <th>2</th>\n",
        "      <td> 100.0</td>\n",
        "      <td>  99.6</td>\n",
        "      <td>  95.8</td>\n",
        "      <td> 100.0</td>\n",
        "      <td> 95.5</td>\n",
        "    </tr>\n",
        "    <tr>\n",
        "      <th>3</th>\n",
        "      <td>  99.9</td>\n",
        "      <td>  98.9</td>\n",
        "      <td>  95.6</td>\n",
        "      <td>  98.7</td>\n",
        "      <td> 96.5</td>\n",
        "    </tr>\n",
        "    <tr>\n",
        "      <th>4</th>\n",
        "      <td>  99.9</td>\n",
        "      <td>  99.8</td>\n",
        "      <td>  92.5</td>\n",
        "      <td> 100.0</td>\n",
        "      <td> 99.9</td>\n",
        "    </tr>\n",
        "  </tbody>\n",
        "</table>\n",
        "</div>"
       ],
       "metadata": {},
       "output_type": "pyout",
       "prompt_number": 27,
       "text": [
        "   academic  faculty  citations  employer  international\n",
        "0     100.0    100.0       99.7     100.0           97.6\n",
        "1     100.0     99.3      100.0     100.0           94.1\n",
        "2     100.0     99.6       95.8     100.0           95.5\n",
        "3      99.9     98.9       95.6      98.7           96.5\n",
        "4      99.9     99.8       92.5     100.0           99.9"
       ]
      }
     ],
     "prompt_number": 27
    },
    {
     "cell_type": "markdown",
     "metadata": {
      "slideshow": {
       "slide_type": "subslide"
      }
     },
     "source": [
      "Weighting categories\n",
      "===================="
     ]
    },
    {
     "cell_type": "code",
     "collapsed": false,
     "input": [
      "weights = [0.4,0.2,0.2,0.1,0.1]\n",
      "ranking_categories_weighted = ranking_categories * weights\n",
      "ranking_categories_weighted.head()"
     ],
     "language": "python",
     "metadata": {},
     "outputs": [
      {
       "html": [
        "<div style=\"max-height:1000px;max-width:1500px;overflow:auto;\">\n",
        "<table border=\"1\" class=\"dataframe\">\n",
        "  <thead>\n",
        "    <tr style=\"text-align: right;\">\n",
        "      <th></th>\n",
        "      <th>academic</th>\n",
        "      <th>faculty</th>\n",
        "      <th>citations</th>\n",
        "      <th>employer</th>\n",
        "      <th>international</th>\n",
        "    </tr>\n",
        "  </thead>\n",
        "  <tbody>\n",
        "    <tr>\n",
        "      <th>0</th>\n",
        "      <td> 40.00</td>\n",
        "      <td> 20.00</td>\n",
        "      <td> 19.94</td>\n",
        "      <td> 10.00</td>\n",
        "      <td> 9.76</td>\n",
        "    </tr>\n",
        "    <tr>\n",
        "      <th>1</th>\n",
        "      <td> 40.00</td>\n",
        "      <td> 19.86</td>\n",
        "      <td> 20.00</td>\n",
        "      <td> 10.00</td>\n",
        "      <td> 9.41</td>\n",
        "    </tr>\n",
        "    <tr>\n",
        "      <th>2</th>\n",
        "      <td> 40.00</td>\n",
        "      <td> 19.92</td>\n",
        "      <td> 19.16</td>\n",
        "      <td> 10.00</td>\n",
        "      <td> 9.55</td>\n",
        "    </tr>\n",
        "    <tr>\n",
        "      <th>3</th>\n",
        "      <td> 39.96</td>\n",
        "      <td> 19.78</td>\n",
        "      <td> 19.12</td>\n",
        "      <td>  9.87</td>\n",
        "      <td> 9.65</td>\n",
        "    </tr>\n",
        "    <tr>\n",
        "      <th>4</th>\n",
        "      <td> 39.96</td>\n",
        "      <td> 19.96</td>\n",
        "      <td> 18.50</td>\n",
        "      <td> 10.00</td>\n",
        "      <td> 9.99</td>\n",
        "    </tr>\n",
        "  </tbody>\n",
        "</table>\n",
        "</div>"
       ],
       "metadata": {},
       "output_type": "pyout",
       "prompt_number": 17,
       "text": [
        "   academic  faculty  citations  employer  international\n",
        "0     40.00    20.00      19.94     10.00           9.76\n",
        "1     40.00    19.86      20.00     10.00           9.41\n",
        "2     40.00    19.92      19.16     10.00           9.55\n",
        "3     39.96    19.78      19.12      9.87           9.65\n",
        "4     39.96    19.96      18.50     10.00           9.99"
       ]
      }
     ],
     "prompt_number": 17
    },
    {
     "cell_type": "markdown",
     "metadata": {
      "slideshow": {
       "slide_type": "subslide"
      }
     },
     "source": [
      "Multiple Bar Plot\n",
      "===================="
     ]
    },
    {
     "cell_type": "code",
     "collapsed": false,
     "input": [
      "ranking_categories_weighted.head().plot(kind='bar')\n",
      "plt.show()"
     ],
     "language": "python",
     "metadata": {},
     "outputs": [
      {
       "metadata": {},
       "output_type": "display_data",
       "png": "iVBORw0KGgoAAAANSUhEUgAAAmgAAAGwCAYAAAAdapmWAAAABHNCSVQICAgIfAhkiAAAAAlwSFlz\nAAALEgAACxIB0t1+/AAAIABJREFUeJzt3Xt8VNW99/HvJJOEQC7QyC3cxFspIvIIilIE+4hVWgRR\nllheBxX0eMGqiFpPT+s5th57jo+oPKjQakUeVNAuvBwEbS0eFUWwEIoUFQUFuQnGKLmRhExmP38k\nGZOQZCbMJFkz+bxfL1/O3nvN3mv2j5X5zt6z90gAAAAAAAAAAAAAAAAAAAAAAAAAAAAAAABAwvNF\n0sgYky5plaTnrbV/qDP/l5IG1EzeZ63dE/suAgAAdCxJEba7VtL9dWcYY8ZI2metvUHSbZLuinHf\nAAAAOqSwAc0YkyZpoKRtDRaNl/SsJFlryyRVGmNSYt5DAACADiaSI2gzJC1uZL5nra2qM/25pN6x\n6BQAAEBH1mxAqzkiNthau6WRxQ2/v1YkKT1WHQMAAOiowh1Bm66a05g6OpA1PJ2ZLulwLDoFAADQ\nkfnDLB8o6TRjzBWSsiT1N8b8yVr7rSS/McZvrQ3UtD1R0r5INrphwwavsLDwmDsNAACQIN4eN27c\neQ1nNhvQrLV31z42xgyQdFFNOJOklZIul7TUGNNNUrK1NhhJTwoLCzVixIhIO95mPM/TjS9+rB0F\nZWHbnpSTroWX/kA+X0R3KmlUUlKSMjMzVVxcrGAwol2HJrRl7ahb7DDm4hdjLj4x5tyzcePGsY3N\nD3cETZJkjBkp6TpJ/Ywx1lr7jbV2tTHmV8aYByV1lXR382upLxEK5XmePM+Lej3BYDAh9kc8iUXt\nqFvbY8zFL8ZcfGLMtZ+IApq19n1J7zcy/76Y9wgAAKCDi/RGtQAAAGgjBDQAAADHENAAAAAcQ0AD\nAABwDAENAADAMQQ0AAAAxxDQAAAAHBPRfdAAAMB3/uvNXdp9qLxVt9G/ayf9y4+Ob9VtwF0ENAAA\nWmj3ofKIfi4pUS1dulQff/yx7r333pitc//+/Vq4cGFM1xnPOMUJAABaZNq0aerdu3dM15mdna3x\n48fHdJ3xjIAGAADaXZcuXTRq1Kj27oYzOMUJAECC2LJli958883QD5yfc845GjlypCSpqKhITz/9\ntPZu+0rl5VWSP1VJXbopddBoSVJ53itSZYXk80m+JHk/vjy03vLycj3xxBMqKyuTz+fTD37wg3rb\nPXDggJYvXy7P81RVVaVevXrpiiuukOd5uv3225Wfn6++ffvK7/ersrJSwWBQo0eP1ujR1dv+7//+\nb+3cuVPl5eX6l3/5l6Ne15o1a5SXl6fk5GQFg0EVFxfr7rvvbpV96AoCGgAACWLo0KEaOnRoaHrB\nggWhgLZo0SLNnDlTH76xX+UFZQoc/FzBgj2htp2GXxx6XFWwV99+midpiCRpyZIlmjRpkvr37y9J\n+vOf/6zPPvusum1VlV555RXNmjVLSUnVJ+a2bt2qVatW6eKLL9bUqVP10UcfadKkSZo3b56uuuoq\n9ezZU4899lgooE2aNCnU34a2bdum/fv367bbbgvNu+eee6LdVc4joAEAkCD279+v5cuXq6qqSj6f\nT59++qmk6iNgWVlZysrKkrRfkuTveYLU84TQc498slbBb/ZJPp+8ijJVnXBKaFl5eXkonEnSRRdd\npA0bNkiSdu3apW3btmn+/Pn1+lK9rWq9evWSJKWmpqpnz56SJJ/PF9FreueddzRz5sx68whoAAAg\nLgSDQS1atEizZ89WRkaGpO+OSHmeFzq61Zgjn7wnX6cMdTqn+rRmsLhAOrQ9ou2mp6dryJAhmjFj\nRpSvoHHBYLBV1us6AhoAAC3Uv2sn57Zx+PBh5ebmhsLZoUOHtH17dchKT09Xfn6+SkpKQu2D5SUK\nfLFFqd8fpWBRvtJOOiu0LLB/m9Q5OTSdlpamPXv2qF+/fpKqT3EePHhQkpSbm6udO3fqwIEDoSNl\nZWVl2rp1q0aOHBn6PtyxGjVqlF566SVNmTIlNO+vf/2rhg4dGjoal4gIaAAAtJCLN5DNyMhQenq6\n5s2bF/oyfWpqqp588kldc801uvbaa/X4449r7+eHVHa4Qr6UTko9bZwkKXXQD1W+7k/ypaTJq6pU\nUpduOrT7U3344Rideuqpuvrqq/X444+rvLxcgUBAubm5yszM1IsvvqhLL71Ud955p5588klJUkVF\nhTzP0+WXXy7P82StVXl5uUaMGCFJWrFihSZOnKgvvvhCmzdvVo8ePfSnP/1JUvVFDrX9v+GGG5SS\nkqLTTjtN+/fv1wMPPKDk5GQFAgGNHDkyocOZREADACBh/OxnP2tyWbdu3TRnzhzteGmbyhvcZDcp\n8zilj55Wb95JOZfo1FMHSao+gnbzzTc3ue7MzEzNnj37qPk+n09z585VYWGhgsGgZs2aFVp2//33\nhx439ty6LrzwQl144YXNtkk03AcNAADAMQQ0AAAAxxDQAAAAHENAAwAAcAwBDQAAwDEENAAAAMcQ\n0AAAABxDQAMAAHAMN6oFAKCFVj3/gQryS1t1Gzndu+inU09v1W3AXQQ0AABaqCC/VF/tL2rvbjTq\n3Xff1dq1a5WWliZJuvXWW+Xz+Vpte/n5+VqyZIl27dqlO+64QwMGDGi1bXUkBDQAABLIxo0bdddd\nd7XZ9rp3767bb79dq1atarLN4sWLdeWVV7ZZnxIB30EDACCBpKamtncXjlJa2rqngxMRR9AAAEgA\nmzdv1ltvvaUtW7Zo3rx5kqRJkyZp4MCBeu211/TJJ59IkvZsL1DwpLFKyswJPbfq2/2q3Pau5Ks+\nbuMFKlQ++icqKsrVo48+qh/84AeaPHmydu3apRdeeEHZ2dm69tprw/Zp7969WrBggTZs2KCKigpJ\n0oknnqiLL75YkrRhwwY98sgjuuGGGzRq1CgVFRVp7ty5kqTf/va3sds5cYiABgBAAhg2bJiGDRum\nBQsWaNasWfWWjR8/XuPHj5ckffLCR/rwr1adRkyUJHmV5ar8+B2lnXN56LtqFZv/LM/zlJWVpRkz\nZmj9+vWSpOOPP14333yzlixZElGf+vbtq1/+8pf63e9+pxtvvPGo5WeeeabOPPNMjRgxQpKUlZWl\nAQMGaMqUKce2ExIIAQ0AgAT397//XW+88Yb8fr/2bi+QV14WWlZ18HP5Tzij3oUEacMuUnpOepv0\n7aKLLtLrr7+uCRMmqLy8XGVlZcrOzm6TbbuMgAYAQALbtWuX1q9frzlz5igpKUmfvrRNhX9eFlru\neUH5FPlVnp7nxbR/J598slauXClJev3113XhhRfGdP3xioAGAEAL5XTvEjfb2L17t8455xwlJVV/\nv+zwwS/kVXz3pX1/zxNVvnGFknueGDqKVlWwR0VFRyQNUkZGhoqKvrulyKZNm1rch0AgUG+6qKhI\nWVlZoekzzjhDeXl52rFjhyZOnNji9SciAhoAAC3k4g1k16xZo02bNoUuEvD5fLr66qs1atQozZ8/\nX2vWrFEwGFTR/koFC79S5WcblHLimfKlpiv1lHNUvnaZfP4UeVUBJWX3UOa5P5EkZWZmKhgMat68\neaqqqlLv3r31/vvv6+KLL1bPnj31wgsvaM+ePdq5c6fy8vKUlZWls846S6NGjQr1bcCAAXrwwQdV\nVVUlSbrwwgt1+unf7cNzzz1Xt912myZPnty2O81hBDQAABLAmDFjNGbMmEaXzZkzJ/T405e2qeSU\ncfWWJx/XX+mjp9Wb50v67k5cM2bMqLds2rTv2l522WVh+3bJJZcoGAw2uTwpKUn9+vXT2LFjw66r\no+A+aAAAoF0dOHBAubm5rfqLB/GGI2gAAKBdbNq0SWvWrNGOHTvUq1cvFRQUKCcnJ/wTOwACGgAA\naBdnnHGGzjjjjPbuhpOaDWjGmE6S7paULSlF0nPW2jdrll0t6XxJh2qar7XWPtd6XQUAAOgYwh1B\nGy7paWvtNkkyxjxqjFljra2S5Em611r7aWt3EgAAoCNpNqBZa9c2mPWRpFxJe2qm+TYfAABAjEX8\nHTRjTKqkMyQtrJnlSbrHGHNAUhdJy2pPfwIAAODYRXSbDWPMjZI2S3rRWlv7Gw/LJU231t5mrb1O\n0sSa76wBAAAgChEdQbPWLjTGLJZ0vzFmo7X2K2vt4QbN1koapOogF1ZSknu3YGvp74v5fL6o7tlS\nuw9c3Bfxpi1rR91ihzEXvzrymPM8T5tv/HeVbt/VqtvpcvLxGrbwNzG9N9jMmTOV+tM7Im4fyzE3\nc+ZMLVq06JjX1dFEfIrTWltmjHlc0jhJSxtpkiGptJH5jXLxl+ob/lZYOBkZGfL7o79TSWZmZtTr\n6Ojao3bULXqMufjVkcdcIBBQ6fZdKvpH618jF6t/87WuuuoqLfv66PmBrz6XAgH5c085pu3/4Q9/\n0PXXX9/k8szMTM2cOdPJ935XhbvNxnBrbV6dWT+RtKJm2c2SHrXWejXfTzvHWrs40g0XFhYeQ3db\nV0s/EZaUlET9ySIzM1PFxcXN/gQGwmvL2lG32GHMxa+OPOZa+tqjEe2/+YbGjBmjZS9+fPSCQEAK\nHh26I91+QUFBo+/rdWs3evRoJ9/7XRUuFh9njFkoqVJSsqTVtbfckPSepEeNMRWqvkhgbks27MIg\ni5bneTEZqMFgMCH2RzyJRe2oW9tjzMUvxtyxacl+CwaDWrZsmQoKCuTz+ZSUlCS/36/rr79eeXl5\neuedd7Rjxw7p/J/Xe15g70c68slaKRhUYO+HkiT/gGFSzlB5nqevv/5azzzzTKg/ffv21ZQpU6qf\nGwho4cKF+vvf/66HHnpIkpSWlqYbb7wxtP73339fr776qnbs2KFHH330qH6vX79ea9asUWpqqgKB\ngKZOnap+/fpJkhYsWKBvvvlGPp9P6enpqqys1K233qpOnaq/8l5WVqaFCxfK5/PJ7/fr0KFDmjx5\nsoYMGdKS3eykcLfZ+IukvzSxLE9SXmPLAABA23rxxRc1bNgwnXrqqZKk0tJSLViwQJI0fPhwDR8+\nXAsWLNDWBs/z9x0sJfulqkD14wZycnJ06623hqaff/750E8y+f1+3XzzzVqwYIFmzZrVaL9Gjhyp\nQYMGNRrOtm/fro8//li/+MUvJEmVlZV66KGHQiFs8uTJeuSRR3TffffJ5/Pp888/16uvvqpLL71U\nkpSXl6fzzjsv9GsEH3zwgbKyslq24xzFTz0BAJAA8vPzQ0e2JKlLly668847o17v4cOH9dxzz6mw\nsFA+n0+fffaZzj777Jj8ZuZbb72lGTNmhKZTUlI0btw4ffDBBxo5cqQk6cwzzwydZu3bt6/+53/+\nJ9R++PDhWrx4sTZs2KCcnBydddZZ6t+/f9T9cgEBDQCABNBa34178sknNWnSpFDwWbVqVats51ik\np6eHTqfm5+dr1apVOu200zR8+PB27ln03LhmGQAARKVr167atm1baDoQCGjZsmURPdeX0klexXc3\nYvCqKlV1pKL6seeFwlkgENDmzUffTauqqqredKQXA5x33nl6+umnQ9OVlZV64403dPrpp4e2XVfD\n6cWLF6uiorqf3bt317hx4/TJJ59EtG3XcQQNAIAW6nLy8c5tY+rUqVq8eLFee+210MUFEydOVFVV\nlRYuXKhAIKAtW7bo684HVF4eUMoPxio5u4ckKSmnnyo/26iq/F3yApXyJftVNXaiJGnEiBGaO3eu\n0tLSVFZWprS0NC1ZskS33HJL6LYZY8eO1f3336/k5GQFg0ENHjxYEyZMUFVVlR544AGVlJRoy5Yt\nmjdvniTp0ksvVf/+/XXyyScrPz9f999/v9LS0lRZWakrrrhCnTp1UlVVlZ5++mnt3btXw4cPV//+\n/fXyyy/r/fff18UXX6yePXsqEAho0aJFoZDmeV69CxTiGQENAIAWOn3BPe3dhaMkJyfrmmuuaXTZ\nz3/+3ZWbs17apvKCsnrLfT6fOo28tN681Mx0SdKoUaM0atSoZrc9dOhQDR06tNE+3XnnnSosLGzy\nCtym1p+cnKy77rqr3rypU6dq6tSpoelrr7222X7FM05xAgAAOIaABgAA4BgCGgAAgGMIaAAAAI4h\noAEAADiGgAYAAOAYAhoAAIBjCGgAAACO4Ua1AAC00CMrf619BTtbdRt9cgbq5gn/0arbgLsIaAAA\ntNC+gp3adXBb+IYJ5LHHHlNBQYFOO+00TZ48ub27k/AIaAAAIKybbrpJX375pdavX9/eXekQ+A4a\nAACAYziCBgBAgjhw4ICWL18uz/NUVVWlXr16aerUqfr3f/93HTp0SP369dOeXUUqO1wheUH5+w+V\nv+cJKv/bS/KlpssrK5JSOknBKh0aMkLSoIi2W1paqsWLF6uyslKS1Lt379CPmu/bt0/XX3+9JkyY\nEJq3aNEivf3225o/f76ys7O1cuVK7dy5U57n6ciRI7r88svVv39/SdLevXu1fPlypaamatCgQVq3\nbp18Pp+mT5+ufv36xX4nOoKABgBAAqiqqtIrr7yiWbNmKSmp+gTZ1q1b9eqrr+qSSy7R7t27dckl\nl+idn/+b0k6/UEkZ31P5315SSv/TlDZsvEpXPqguk/9VSZ0yJEml/3hFu3fvDgWl5jzxxBOaPn26\ncnJyJEkbNmzQyy+/rEsvvVR9+vTRtGnTNHDgwFD7wYMHa9CgQcrOztZbb72lE044QRMmTJAkBYNB\nPfLII7rpppvk9/vVt29fzZ49W1OmTFHfvn31q1/9Kta7zkkENAAAEsCuXbu0bds2zZ8/v978rKws\n9e7dW7169ZIk+fwpSsr4XvVCny/ULvX7PwyFM0nqcdZFevvttzV9+vRmt1teXq6srKxQOJOkM888\nUxs2bAhN//jHP9aCBQs0aFD1Ebn33ntPc+bMkSStW7dO6enpev3110Pti4qKdPDgQfXp0yc0b/To\n0Zo4cWJE+yIRENAAAEgA6enpGjJkiGbMmHHUsk2bNrV8hcGgUlNTY9AzKSUlRVlZWfrmm29UUlKi\nvn37hpb5/X7ddNNNSklJaXYdsepLvCCgAQDQQn1yBoZv1MbbyM3N1c6dO3XgwIHQ0bKysjJt3bpV\nycnJYZ9fueNvShk8NnQU7au81Tr3FzPrtfE876jnderUSYWFhfr666913HHHSZLy8vKUm5tbr92E\nCRP0yiuvqLy8vN5RuQsuuEB//OMfdeONN4bm/eMf/1C/fv3UtWvXCF994iGgAQDQQq7eQPbOO+/U\nk08+KUmqqKiQ53m67LLL9Mwzz6iqqkpnnnmmJOnIJ2uV+v0fKnjogAIHtiupy/eUcsrZqsh7pfq0\nZzCoHkNHhkLW+++/r3Xr1qm0tFRffvmlvvjiC+Xm5uryyy+XJF133XVatGiRqqqqJEm9evXSFVdc\nUa9vOTk5KioqUmpqqjp37hyaP2zYMBUXF+s///M/lZqaqvLycg0YMECnnnqqJGnNmjXatGmTtmzZ\nonnz5klSve+7JSoCGgAACSIzM1OzZ88+av5vfvOb0OM+Y43KCsokSZ0vuEGSFCwukC8tQ+nDxofa\nZeWkhx6PHDlSI0eObHK7Xbp00c033xy2f927d9cPf/jDo+afe+65Ovfccxt9zpgxYzRmzJiw6040\n3AcNAAC0Os/zdODAgYS+NUYscQQNAIAOzKsoVcXm1xQs/lrBkgKljZgkX52rO6N18OBBLVy4UIWF\nhcrPz9eWLVs0dOjQmK0/URHQAADowHxpXZR+7j+12vp79uyp2267TcFgsNW2kYg4xQkAAOAYAhoA\nAIBjCGgAAACOIaABAAA4hoAGAADgGK7iBACghb6ev0iV+w606jZS+vTScbfMDN+wgXvvvVdXXnml\nBgwY0Aq9clN7vOb8/HwtWbJEu3bt0h133BHzbRPQAABoocp9B3Rk55727kajfvzjH6tbt24tek7g\nq8+lQED+3FNaqVfH7tlnn9XUqVPl9zcdWY7lNUere/fuuv3227Vq1apWWT8BDQCABNLcTzI1KRCQ\ngoHYdyYGysrKwt5D7Zhes+MIaAAAJICvvvpKS5cu1c6dOzVnzpzQKbdt27Zp3rx5Ov3003X48GF9\n8elXqjzu+0oZ+L8kSYG9H+nIJ2ulYFCBvR9KkvwDhkk51Xf7Ly8v19KlS3X48GF5niefz6cZM2ao\nS5cukqT169drxYoVmjBhgj755BPl5+fL8zzdcccd+vTTTzV//nwNGTJEpaWlOnLkiM4++2z96Ec/\nCvX78ccfV1lZmXw+n5KSknTDDTeEjpZZa7V+/XoVFhYqOTlZkjRt2jT16NGj2ddca/fu3Xr++eeV\nkpKiI0eOaOzYsaEw98Ybb+jPf/6zjjvuOKWkpKi0tLTeadKCggI988wzkqp/pqpv376aMmVKjKvW\nNAIaAAAJoEePHpo9e/ZRp9wGDRqkgQMHauzYsRo8eLA+e2mb/vHKU6GA5u87WEr2S1WB6scNvPDC\nC7rsssuUnZ0tSTp06JCeffZZXXfddZKks88+W6mpqXrsscc0Z84cnXrqqfW2fdJJJ+m8887ToEGD\nJElz586tF9Bq1yNJ27dv15tvvqkLLrhAkmSMUWFhoa666iqlpKRE/Jql6mC5bNky3X777aHA99RT\nTyknJ0cnnXSSzj//fK1YsUI33HCDsrOzFQgE9Nhjj+nWW2+VJOXk5IQeS9Lzzz+vgoIC5eTkNFmD\nWCKgAQCQ4DIzMzV48Hfhy5fSKeLnrlu3Tvn5+fXmFRUVHdXu6quvrhfOamVlZWnw4MGh05SdO3eu\nt3zFihXasWOHkpKSVFxcrCFDhhy1Ds/zIu5vrc2bN+uCCy6o99216dOn66mnntJJJ50kSfr+978f\nCp5+v79eCDx8+LCee+45FRYWyufz6bPPPtPZZ59NQAMAAO2vd+/emj17dth2jR3hCueVV15R165d\nNWfOHEnSl19+qfXr17d4PU1pGOxaEvSefPJJTZo0Sf3795ekVrsYoCncBw0AgA7Ol9JJXkVpaNqr\nqlTVkQpJUt++ffXee+99t8zz9O6779Z7/rEc4ZKkvXv36pxzzglNb9iw4ag2nTt3VnFxcWi67uPm\nDBs2TKtXr1ZlZWVo3rJly+qdXm2O53mhcBYIBLR58+aInhcrzR5BM8Z0knS3pGxJKZKes9a+WWf5\nLyXVfiPvPmutm9ccAwAQQyl9ejm3jRdeeEF79uzRzp07lZeXp6ysLJ111llKTk7Wxo0b9fzzz2vq\n1Kkq//agAvu36ci2d5U6aLQkKSmnnyo/26iq/F3yApXyJftVNXaipOrTgs8++6zWrVunYDCoiooK\njRkzJrTdpUuXauvWraqqqtL69evVuXPn0PfK1q9fr3Xr1ikzM1PGGO3Zs0cbN27Uyy+/rEsuuUST\nJk3SQw89pM6dO6uiokI9evTQ3/72N51yyimh06Xjx4/X73//e3Xq1ElHjhxRt27ddM011yg5ObnJ\n1zxq1Ch16tRJP/vZz/Twww8rNTVVlZWVGj16dOj05vLly7Vx40a99957GjVqlNatW6eNGzcqLy9P\nw4cP14gRIzR37lylpaWprKxMaWlpWrJkiW655RZlZ2c3u+1Y8DW30BjzQ0kF1tptNdOPSrrVWltl\njBkj6Xhr7RJjTLqkB6y1P49ko6tXr/bOOOOMaPveKma9tE07CsrCtjspJ10LJg+KaltJSUnKzs5W\nYWFh2EuIEV5b1Y66xRZjLn4x5uITY84tmzZt0rhx447KY82e4rTWrq0NZzU+kpRb83i8pGdr2pVJ\nqjTGtPwENAAAAOqJ+DtoxphUSWdI2lszy7PWVtVp8rmk3jHsGwAAQIcU0VWcxpgbJd0s6Q5rbe03\nARsejiuSlB7phpOS3Ls+oaVfcvT5fPL5mj1L3KzafeDivog3bVk76hY7jLn4xZiLT4y5+BFRQLPW\nLjTGLJZ0vzFmo7X2K1VfNFBXuqTDkW649r4jLgkEWvYzFxkZGc3+NlikMjMzo15HR9cetaNu0WPM\nxS/GXHxizMWPiPe6tbbMGPO4pHGSlkryG2P81traap8oaV+k6yssLGxRR9tCSz9ZlJSURP3JIjMz\nU8XFxXx5MkptWTvqFjuMufjFmItPjLn4Ee42G8OttXl1Zv1E0oqaxyslXS5pqTGmm6Rka23Eez8R\nCuV53jHf+6WuYDCYEPsjnsSidtSt7THm4hdjLj4x5tpPuCNoxxljFkqqlJQsaXXtVZ3W2tXGmF8Z\nYx6U1FXV90sDAABAlJoNaNbav0j6SzPL74t5jwAAADo4LqsAAABwDAENAADAMQQ0AAAAxxDQAAAA\nHENAAwAAcAwBDQAAwDEENAAAAMcQ0AAAABxDQAMAAHAMAQ0AAMAxBDQAAADHENAAAAAcQ0ADAABw\nDAENAADAMQQ0AAAAxxDQAAAAHENAAwAAcAwBDQAAwDEENAAAAMcQ0AAAABxDQAMAAHAMAQ0AAMAx\nBDQAAADHENAAAAAcQ0ADAABwDAENAADAMQQ0AAAAxxDQAAAAHENAAwAAcAwBDQAAwDEENAAAAMcQ\n0AAAABxDQAMAAHAMAQ0AAMAxBDQAAADHENAAAAAcQ0ADAABwDAENAADAMQQ0AAAAxxDQAAAAHONv\nbqExxifp15J6SUqRtNRa+1bNsqslnS/pUE3ztdba51qtpwAAAB1EswFN0pWS3rXWvilJxpj/Y4z5\nu7W2UJIn6V5r7aet3UkAAICOJNwpzo214azG25KG1Jn2xb5LAAAAHVuzR9CstR82mHWepP+oeexJ\nuscYc0BSF0nLGoQ5AAAAHINwpzhDar5ztqHm9KYkLVf1d9ICNcsfNsass9aWR7K+pCT3rk/wPK9F\n7X0+n3y+Yz+IWLsPXNwX8aYta0fdYocxF78Yc/GJMRc/IgpoxpgpkrKstYtr51lrDzdotlbSIEmb\nI1lndnZ2hF1sO4FAoEXtMzIy5PdHnHGblJmZGfU6Orr2qB11ix5jLn4x5uITYy5+hN3rxpifSjrF\nWvu7ME0zJJVGuuHCwsLwjdpYSz9ZlJSURP3JIjMzU8XFxQoGg8e8HrRt7ahb7DDm4hdjLj4x5uJH\nuNtsnC+gGEiJAAASN0lEQVRphLX2NzXTfkmy1gaMMTdLetRa6xljUiWdU/cIWziJUCjP81r8j70x\nwWAwIfZHPIlF7ahb22PMxS/GXHxizLWfcEfQ7pW03hjzcM10rqQ/SvqrpPckPWqMqVD1RQJzW62X\nAAAAHUi4qzhHNbMsT1JezHsEAADQwXFZBQAAgGMIaAAAAI4hoAEAADiGgAYAAOAYAhoAAIBjCGgA\nAACOIaABAAA4hoAGAADgGAIaAACAYwhoAAAAjiGgAQAAOIaABgAA4BgCGgAAgGMIaAAAAI4hoAEA\nADiGgAYAAOAYAhoAAIBjCGgAAACOIaABAAA4hoAGAADgGAIaAACAYwhoAAAAjiGgAQAAOIaABgAA\n4BgCGgAAgGMIaAAAAI4hoAEAADiGgAYAAOAYAhoAAIBjCGgAAACOIaABAAA4hoAGAADgGAIaAACA\nYwhoAAAAjiGgAQAAOIaABgAA4BgCGgAAgGMIaAAAAI4hoAEAADiGgAYAAOAYf3MLjTE+Sb+W1EtS\niqSl1tq36iz/paQBNZP3WWv3tFI/AQAAOoxwR9CulPSutfYma+11kn5ijMmWJGPMGEn7rLU3SLpN\n0l2t21UAAICOIVxA22itfbPO9NuShtQ8Hi/pWUmy1pZJqjTGpMS+iwAAAB1LswHNWvthg1nnSdpa\n89iz1lbVWfa5pN6x6xoAAEDH1Ox30OoyxlwtaYO1trBmlq9BkyJJ6ZGuLynJvesTPM+LuG1Szav3\n+RruhqY1bFu7D1zcF/GmJbWTqmsRSe0aW6/P51MgEGhyHS35N9HRtVbdmsKYi522rB11ix3GXPyI\nKKAZY6ZIyrLWLq4zu+HpzHRJhyPdcHZ2dqRN20wgEIi4bZ+sNK16/gMV5JeGbXtcjy6acvU5Sk5O\nbnSb6en1c21ycjJv8i3UktpJUkZGhvz+8P/8A4GA3p1+u0q37wrbtsvJx2v00w9GtF5Ua0ndknxS\nenp6o+OoMc2No8zMzIi3i8a11phrDnWLHmMufoQdLcaYn0o6xVr7u4bPNcb4rbW11T5R0r5IN1xY\nWBi+URtr6SeLgvxSfbW/KGy773XvonVX/yLiN/lhC39DQGuhlh79LC4ujvgIWun2XSr6x6cRrbuk\npITatUBL6tYnK032qXURfSjK6d5FE64Y1uhR68zMTBUXFysYDLa4v/hOa425WnXbUrfYYczFj3C3\n2Thf0ghr7W9qpv2SVBPKVkq6XNJSY0w3ScnW2oj3fkcrVEve5D3Pa3FYRORacvRz4CnHKbLPjtWo\nXeuK9EOR1HwtgsFgh/sb1J5aMuZyunfRT6ee3mjtqFvbY8y1n3BH0O6VtN4Y83DNdK6kP0r6q7V2\ntTHmV8aYByV1lXR3K/YTiKmWHP38Xhv0B0h0LXmjBxAmoFlrR4VZfl9suwMAAAAuqwAAAHAMAQ0A\nAMAxBDQAAADHENAAJBxfUuO3c/A8T4FAgCttHdZY7agbOiLuqAkg4XTL6awPZt0T8b0HT19wT6v3\nCZGhdkA1AhqAhNSSew/CLdQO4BQnAACAcwhoAAAAjiGgAQAAOIaABgAAosKV07HHRQIAACAqXH0b\newQ0AAAQNa6+jS1OcQIAADiGgAYAAOAYAhoAAIBjCGgAAACOIaABAAA4hoAGAADgGAIaAACAYwho\nAAAAjiGgAQAAOIaABgAA4BgCGgAAgGMIaAAAAI4hoAEAADiGgAYAAOAYAhoAAIBjCGgAAACOIaAB\nAAA4hoAGAADgGAIaAACAYwhoAAAAjiGgAQAAOIaABgAA4BgCGgAAgGMIaAAAAI4hoAEAADiGgAYA\nAOAYAhoAAIBjCGgAAACO8Ufa0BhzqqTd1triOvOulnS+pEM1s9Zaa5+LaQ8BAAA6mLABzRgzTtJl\nknpI+ldJn9RZ7Em611r7aet0DwAAoOMJG9CstaslrTbGXNVEE19suwQAANCxRXyKswmepHuMMQck\ndZG0zFr7ZvTdAgAA6LiiDWjLJS211gYkyRjzsDFmnbW2PNwTk5Lcuz7B87z27oIkyefzyefjwGRL\nULv4RN3iF7WLT9QtfkQV0Ky1hxvMWitpkKTN4Z6bnZ0dzaZbRSAQaO8uSJIyMjLk90ebnTsWahef\nqFv8onbxibrFj1jvnQxJpZE0LCwsjPGmo+fKJ4uSkhI+WbQQtYtP1C1+Ubv4RN3iR1QBzRhzs6RH\nrbWeMSZV0jnW2sWRPDcYDEaz6YTmeZ4zgwgtQ+3iE3WLX9QuPlG38CK5zcb5kiZIGizpR8aYb1Qd\nyj6X9J6kR40xFaq+SGBua3YWAACgI4jkNhtvSHqjiWV5kvJi3SkAAICOzL1LKQEAADo4AhoAAIBj\nCGgAAACOIaABAAA4hoAGAADgGAIaAACAYwhoAAAAjiGgAQAAOIaABgAA4BgCGgAAgGMIaAAAAI4h\noAEAADiGgAYAAOAYAhoAAIBjCGgAAACOIaABAAA4hoAGAADgGAIaAACAYwhoAAAAjiGgAQAAOIaA\nBgAA4BgCGgAAgGMIaAAAAI4hoAEAADiGgAYAAOAYAhoAAIBjCGgAAACOIaABAAA4hoAGAADgGAIa\nAACAYwhoAAAAjiGgAQAAOIaABgAA4BgCGgAAgGMIaAAAAI4hoAEAADiGgAYAAOAYAhoAAIBjCGgA\nAACO8Ufa0BhzqqTd1triBvN/KWlAzeR91to9MewfAABAhxP2CJoxZpwxZqGk30rKbbBsjKR91tob\nJN0m6a5W6SUAAEAHEjagWWtXW2tvlLSikcXjJT1b065MUqUxJiW2XQQAAOhYov0Ommetraoz/bmk\n3lGuEwAAoEOLNqD5GkwXSUqPcp0AAAAdWsQXCTSh4enMdEmHI3liUpJ7F5B6ntfeXZAvObn6/76G\n2beZ57SgbaKidvGJusUvF2onVdeCekTOhbq1ZMzV9relNU6EfxPRBjS/McZvrQ3UTJ8oaV8kT8zO\nzo5y07EXCATCN2plnQf21SMrf619BTvDtu2TM1D/+rP/K78/2jLGP2oXn6hb/HKhdr7kZKWnpyu5\n5g0/nOTk5IR4446GC3VryZgbNnCUxm1OV+W+AxGtO6VPLw381a0JMUajfQUrJV0uaakxppukZGtt\nMJInFhYWRrnp2HPhk4Uk7SvYqV0Ht4Vtl+RLVnFxMZ/8FX+1k6SSkpKErUekqFv8cqF2nQf21f1/\nmhNxuL7l4vs6fO1cqJsU+ZjL/d7xqtzXRUd2Rn4Hr0QZo2EDmjHmfEkTJA2W9CNjzDeSHrXWfm6t\nXW2M+ZUx5kFJXSXdHemGg8GIchya0atbP309f1FEnyxS+vTScbfMdGZwovoPJfWIP9TNLS35QEvt\nOoZEqXPYgGatfUPSG80svy+mPUKLVO470KJPFgCOXZIvslNpcM+xfKAF2lP8n6QFgDbCm3x84wMt\n4gkBDWgHHImJX7zJA2gLBDSgHXAkBgDQHAIa0E44EgMAaIp7d4sFAADo4AhoAAAAjiGgAQAAOIaA\nBgAA4BgCGgAAgGMIaAAAAI4hoAEAADiGgAYAAOAYAhoAAIBjCGgAAACOIaABAAA4hoAGAADgGAIa\nAACAYwhoAAAAjiGgAQAAOIaABgAA4BgCGgAAgGMIaAAAAI4hoAEAADiGgAYAAOAYAhoAAIBjCGgA\nAACOIaABAAA4hoAGAADgGAIaAACAYwhoAAAAjiGgAQAAOIaABgAA4BgCGgAAgGMIaAAAAI4hoAEA\nADiGgAYAAOAYAhoAAIBjCGgAAACOIaABAAA4hoAGAADgGH80TzbGHC/pKUlba2Z9Za29N9pOAQAA\ndGRRBTRJnqTnrLV/iEVnAAAAwClOAAAA58TiCNo/GWMGSUqWtN1a+0j03QIAAOi4oj2CtkfSeGvt\nbdbaWySVG2POiEG/AAAAOqyojqBZaz1JJXVmvSTpnyRtCvfcpCT3zq56ntfeXWhVPp9PPp+vvbvR\nKqhdfKJu8YvaxadEr5uUOLWL9hRnQ5mSSiNpmJ2dHeNNRy8QCLR3F1pVRkaG/P5Yl9wN1C4+Ubf4\nRe3iU6LXTUqc2kV7m42rJL1srS2smTVTUkRXdBYWFoZv1MYS/ZNFSUlJQnyqaAy1i0/ULX5Ru/iU\n6HWTEqd20UbM1yT9mzHGJ6mzpJXW2r2RPDEYDEa5abSU53kdYnAmImoXn6hb/KJ28StRahftd9C+\nknR7jPoCAAAAcR80AAAA5xDQAAAAHENAAwAAcAwBDQAAwDEENAAAAMcQ0AAAABxDQAMAAHAMAQ0A\nAMAxBDQAAADHENAAAAAcQ0ADAABwDAENAADAMQQ0AAAAxxDQAAAAHENAAwAAcAwBDQAAwDEENAAA\nAMcQ0AAAABxDQAMAAHAMAQ0AAMAxBDQAAADHENAAAAAcQ0ADAABwDAENAADAMQQ0AAAAxxDQAAAA\nHENAAwAAcAwBDQAAwDEENAAAAMcQ0AAAABxDQAMAAHAMAQ0AAMAxBDQAAADHENAAAAAcQ0ADAABw\nDAENAADAMQQ0AAAAxxDQAAAAHENAAwAAcAwBDQAAwDH+aFdgjJkoaZKkKknLrLVvRt0rAACADiyq\nI2jGmCxJP7LWXmOtvU7SFcaYqEMfAABARxbtKc4LJS2tM71a0ugo1wkAANChRRvQjpe0vc70Nkn9\no1wnAABAhxbt6cjOksrqTBdJSo/kiTt37jxq3sCBAyNu21rti7/aq/JDFZKkTjm5jbYvL9ivbzsX\nK+2bfH1bWBKa3y27Z6PtD+bvU0VFqUq8I/Xm9/SlNtq+6OtSHf628qj5nbulNNp+z+GSRuf365zR\n6Py23J9t2b4p5QX7603X1k7q0mj7bwsPhh4fzA+GatdUvQ7W1DVYUlivdk3V6/C3lfrmYKF2F1Wq\nsk7tmqrX7qJDKnd0vLRG+4b1Cjmha6Oz69ar1sH8oL7X+FpC9apVW7em1B2LdevWVL1qx2NKg7rF\ny/6PVb2a+vvZWL2kZv5+NqhXrabGY2N/O5vT2N/PlKJD6t1Ee9f2/7G0r/s+V6upen39zZf13udq\ntXa9Otr7XWOiDWjlkjIl1VY6XdLhSJ44fPjwo+YdOnQo4rZt0f6KJ99rdP5zv5iurY3Mn/fblY22\nn/1vExqdv3L4xKPmpffP1XP3PdJo++seHl9vukd2rlL6pGviE3Mbbf/hP98RepzSp5d8Pp98Pl+7\n7c/Wbv+LFzY1Ov+5X0yvN11bu6bq9bvfT2t0fmP1kqRpeSuqH6z6XFr13fyG9ar1+H+9pne1VPMb\nzK9br7rGPzFXev6PR813bf8fS3vP89S/a6d68xvWq9aMv2xVTvejQ3VT9XrzilsanR+qV62aujVX\nr1p169ZUveqNxzp1c3H/R9O+tnbP3d94ver+/eyVmRaqXVP1qh2P2d3S1eXk40Pzj6pXjZXDJyq9\nf6765FTVm1+3XnVNG1/997Khpv5+fvv7B+Tz+Y6a78r+j3X7xt7vemWm6fZ5/9xo+4Z/P2vrdlsz\n9apVt25N1at2PNa+z9UK935X971Oio/9v3r16kbbHv2vrwWMMVdI2mutfbdmerKkr6217zT3vNWr\nV78laWw02wYAAEgAb48bN+68hjOjPYL2mqR7JL1rjPFJGi/pxnBPaqwjAAAAqBbVETRJMsZcJmmM\npAxJ/89auybqXgEAAAAAAAAAAAAAAAAAAAAAAAAAAAAAAAAxFfVtNgDARcaYwZLG1Uy+bK3dXTP/\nAWvtne3XM4RjjJkgqZ+k9yVdIulrVf929JvW2g/as29AW4n2RrWIkDHmZEmXqfq3S8slear+mawX\nrLW72rFrOEbGmH+y1j7T3v1Ak6ZYa38rScaY640x71trN6v6zR5uO81a+5/GmOWSrrbWlkiSMebf\nJBHQHGWM+X6DWf9b0v9I+pG19vft0KW4RkBrO1dZa39dd0bNry/8TtIv26dLCMcY45d0YhOLh0ki\noLkr9CON1to/GGOuNMY0/ovKcNV/1IazGl679QSReFjSY5JqazZM0keS/le79SiOJbV3BzqQo8Kw\ntdaTFGyHviByQUl3SerVyH+Z7dgvhLfWGBP6JW9r7RJJAySNbr8uIUKfSVLNEU9JkjGmj6TD7dYj\nRGKqpOMl9Zf0rqTPrbVvS/pNe3YqXvEdtDZijDlJ1d+lKFL1fk/Rd6c4P23PvqF5xpifW2sfbWT+\nP1trn2iPPuHYGWMGWmt3tnc/gERljOktaZqkE621s9q7PwAAAAAAAAAAAAAAAAAAAAAAAAAAAMB3\n/j9tTRllTwptywAAAABJRU5ErkJggg==\n",
       "text": [
        "<matplotlib.figure.Figure at 0x176b5dd8>"
       ]
      }
     ],
     "prompt_number": 18
    },
    {
     "cell_type": "markdown",
     "metadata": {
      "slideshow": {
       "slide_type": "slide"
      }
     },
     "source": [
      "Quiz: Fix the Legend\n",
      "===================="
     ]
    },
    {
     "cell_type": "code",
     "collapsed": false,
     "input": [
      "ax = ranking_categories_weighted.head().plot(kind='bar', legend=False)\n",
      "\n",
      "# Put a legend to the right of the current axis\n",
      "ax.legend(loc='center left', bbox_to_anchor=(1, 0.5))\n",
      "\n",
      "plt.show()"
     ],
     "language": "python",
     "metadata": {},
     "outputs": [
      {
       "metadata": {},
       "output_type": "display_data",
       "png": "iVBORw0KGgoAAAANSUhEUgAAAwAAAAGwCAYAAAAe1ALSAAAABHNCSVQICAgIfAhkiAAAAAlwSFlz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\nvYErTC49pgAAAABJRU5ErkJggg==\n",
       "text": [
        "<matplotlib.figure.Figure at 0x175d4e80>"
       ]
      }
     ],
     "prompt_number": 30
    },
    {
     "cell_type": "markdown",
     "metadata": {
      "slideshow": {
       "slide_type": "slide"
      }
     },
     "source": [
      "Stacked Bar Plot\n",
      "===================="
     ]
    },
    {
     "cell_type": "code",
     "collapsed": false,
     "input": [
      "ranking_categories_weighted.head().plot(kind='bar', legend=False, \n",
      "                                        stacked=True)\n",
      "plt.show()"
     ],
     "language": "python",
     "metadata": {},
     "outputs": [
      {
       "metadata": {},
       "output_type": "display_data",
       "png": "iVBORw0KGgoAAAANSUhEUgAAAnAAAAGwCAYAAAApE1iKAAAABHNCSVQICAgIfAhkiAAAAAlwSFlz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\nAAAAAAAAAAAAAAAAAADYm/4fwJXI6t2TACEAAAAASUVORK5CYII=\n",
       "text": [
        "<matplotlib.figure.Figure at 0x371a9e8>"
       ]
      }
     ],
     "prompt_number": 20
    },
    {
     "cell_type": "markdown",
     "metadata": {
      "slideshow": {
       "slide_type": "slide"
      }
     },
     "source": [
      "Horizontal Barplot\n",
      "===================="
     ]
    },
    {
     "cell_type": "code",
     "collapsed": false,
     "input": [
      "ranking_categories_weighted.plot(kind='barh', \n",
      "                                 legend=False, stacked=True)\n",
      "plt.show()"
     ],
     "language": "python",
     "metadata": {},
     "outputs": [
      {
       "metadata": {},
       "output_type": "display_data",
       "png": "iVBORw0KGgoAAAANSUhEUgAAAnAAAAGyCAYAAABk2/mBAAAABHNCSVQICAgIfAhkiAAAAAlwSFlz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\nQmCC\n",
       "text": [
        "<matplotlib.figure.Figure at 0x1797d2e8>"
       ]
      }
     ],
     "prompt_number": 21
    },
    {
     "cell_type": "markdown",
     "metadata": {
      "slideshow": {
       "slide_type": "slide"
      }
     },
     "source": [
      "Adding Labels\n",
      "===================="
     ]
    },
    {
     "cell_type": "code",
     "collapsed": false,
     "input": [
      "ranking.head().schoolname\n",
      "ranking_categories.set_index(ranking.schoolname, inplace=True)\n",
      "\n",
      "ranking_categories.plot(kind='barh', legend=False, stacked=True)\n",
      "plt.show()"
     ],
     "language": "python",
     "metadata": {},
     "outputs": [
      {
       "metadata": {},
       "output_type": "display_data",
       "png": "iVBORw0KGgoAAAANSUhEUgAAA6AAAAGyCAYAAAD6RKkIAAAABHNCSVQICAgIfAhkiAAAAAlwSFlz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\nTkSuQmCC\n",
       "text": [
        "<matplotlib.figure.Figure at 0x371a9e8>"
       ]
      }
     ],
     "prompt_number": 22
    },
    {
     "cell_type": "markdown",
     "metadata": {
      "slideshow": {
       "slide_type": "slide"
      }
     },
     "source": [
      "You Should Know Now\n",
      "====================\n",
      "\n",
      "* How to read in a data file \n",
      "* How to plot from a DataFrame\n",
      "* How to get help\n",
      "* Matplotlib is great\n",
      "* and can be painful"
     ]
    },
    {
     "cell_type": "code",
     "collapsed": false,
     "input": [],
     "language": "python",
     "metadata": {},
     "outputs": [],
     "prompt_number": 22
    },
    {
     "cell_type": "code",
     "collapsed": false,
     "input": [],
     "language": "python",
     "metadata": {},
     "outputs": [],
     "prompt_number": 22
    }
   ],
   "metadata": {}
  }
 ]
=======
{
 "metadata": {
  "name": "",
  "signature": "sha256:1642a4661fe7354626947b2412bd24e9c6f2c431d46089866ad523af1bbdefa9"
 },
 "nbformat": 3,
 "nbformat_minor": 0,
 "worksheets": [
  {
   "cells": [
    {
     "cell_type": "code",
     "collapsed": false,
     "input": [
      "from IPython.core.display import HTML\n",
      "\n",
      "print(\"Setting custom CSS for the IPython Notebook\")\n",
      "styles = open('custom.css', 'r').read()\n",
      "HTML(styles)"
     ],
     "language": "python",
     "metadata": {},
     "outputs": [
      {
       "output_type": "stream",
       "stream": "stdout",
       "text": [
        "Setting custom CSS for the IPython Notebook\n"
       ]
      },
      {
       "html": [
        "<style>\n",
        "    @font-face {\n",
        "        font-family: \"Computer Modern\";\n",
        "        src: url('http://mirrors.ctan.org/fonts/cm-unicode/fonts/otf/cmunss.otf');\n",
        "    }\n",
        "    div.cell{\n",
        "        width:1000px;\n",
        "        margin-left:10% !important;\n",
        "        margin-right:auto;\n",
        "    }\n",
        "    h1 {\n",
        "        font-family: Helvetica, serif;\n",
        "    }\n",
        "    h4{\n",
        "        margin-top:12px;\n",
        "        margin-bottom: 3px;\n",
        "       }\n",
        "    div.text_cell_render{\n",
        "        font-family: Computer Modern, \"Helvetica Neue\", Arial, Helvetica, Geneva, sans-serif;\n",
        "        line-height: 145%;\n",
        "        font-size: 170%;\n",
        "        width:800px;\n",
        "        margin-left:auto;\n",
        "        margin-right:auto;\n",
        "    }\n",
        "\n",
        "    div.text_cell_render li {\n",
        "        line-height: 145%;\n",
        "    }\n",
        "\n",
        "    div.text_cell_render code {\n",
        "        color: rgb(0, 204, 0);\n",
        "        font-family: \"Source Code Pro\", source-code-pro,Consolas, monospace;\n",
        "        font-size: 90%;\n",
        "    }\n",
        "\n",
        "    .CodeMirror{\n",
        "            font-family: \"Source Code Pro\", source-code-pro,Consolas, monospace;\n",
        "    }\n",
        "\n",
        "    .text_cell_render h5 {\n",
        "        font-weight: 300;\n",
        "        font-size: 16pt;\n",
        "        color: #4057A1;\n",
        "        font-style: italic;\n",
        "        margin-bottom: .5em;\n",
        "        margin-top: 0.5em;\n",
        "        display: block;\n",
        "    }\n",
        "\n",
        "    .warning{\n",
        "        color: rgb( 240, 20, 20 )\n",
        "        }\n",
        "\n",
        "    strong{\n",
        "        color: rgb(23, 103, 140);\n",
        "\t#border: 1px solid;\n",
        "    }\n",
        "\n",
        "div#notebook {\n",
        "font-size: 22px;\n",
        "}\n",
        "\n",
        "</style>\n",
        "<script>\n",
        "    MathJax.Hub.Config({\n",
        "                        TeX: {\n",
        "                           extensions: [\"AMSmath.js\"]\n",
        "                           },\n",
        "                tex2jax: {\n",
        "                    inlineMath: [ ['$','$'], [\"\\\\(\",\"\\\\)\"] ],\n",
        "                    displayMath: [ ['$$','$$'], [\"\\\\[\",\"\\\\]\"] ]\n",
        "                },\n",
        "                displayAlign: 'center', // Change this to 'center' to center equations.\n",
        "                \"HTML-CSS\": {\n",
        "                    styles: {'.MathJax_Display': {\"margin\": 4}}\n",
        "                }\n",
        "        });\n",
        "</script>"
       ],
       "metadata": {},
       "output_type": "pyout",
       "prompt_number": 1,
       "text": [
        "<IPython.core.display.HTML at 0x3945710>"
       ]
      }
     ],
     "prompt_number": 1
    },
    {
     "cell_type": "code",
     "collapsed": false,
     "input": [
      "## all imports\n",
      "import numpy as np\n",
      "\n",
      "import pandas as pd\n",
      "from pandas import Series\n",
      "from pandas import DataFrame\n",
      "pd.options.display.mpl_style = 'default'\n",
      "\n",
      "import matplotlib.pyplot as plt\n",
      "%matplotlib inline  \n",
      "\n",
      "import seaborn as sns\n",
      "sns.set_context(\"talk\")"
     ],
     "language": "python",
     "metadata": {},
     "outputs": [],
     "prompt_number": 2
    },
    {
     "cell_type": "markdown",
     "metadata": {
      "slideshow": {
       "slide_type": "slide"
      }
     },
     "source": [
      "CS109\n",
      "=====\n",
      "\n",
      "Verena Kaynig-Fittkau\n",
      "\n",
      "vkaynig@seas.harvard.edu"
     ]
    },
    {
     "cell_type": "markdown",
     "metadata": {
      "slideshow": {
       "slide_type": "slide"
      }
     },
     "source": [
      "IPython Notebooks:\n",
      "===================\n",
      "\n",
      "![IPython](images/ipython.png \"IPython\")"
     ]
    },
    {
     "cell_type": "markdown",
     "metadata": {
      "slideshow": {
       "slide_type": "subslide"
      }
     },
     "source": [
      "IPython Notebooks:\n",
      "===================\n",
      "\n",
      "* These slides are an IPython notebook!\n",
      "* https://github.com/damianavila/live_reveal"
     ]
    },
    {
     "cell_type": "code",
     "collapsed": false,
     "input": [
      "print \"Hello CS109\"\n",
      "\n",
      "print \"I love IPython\""
     ],
     "language": "python",
     "metadata": {
      "slideshow": {
       "slide_type": "fragment"
      }
     },
     "outputs": [
      {
       "output_type": "stream",
       "stream": "stdout",
       "text": [
        "Hello CS109\n",
        "I love IPython\n"
       ]
      }
     ],
     "prompt_number": 3
    },
    {
     "cell_type": "markdown",
     "metadata": {
      "slideshow": {
       "slide_type": "slide"
      }
     },
     "source": [
      "Todays topics:\n",
      "===============\n",
      "\n",
      "* get started with data\n",
      "* read in a data file\n",
      "* visualize it"
     ]
    },
    {
     "cell_type": "markdown",
     "metadata": {
      "slideshow": {
       "slide_type": "slide"
      }
     },
     "source": [
      "How to load a table\n",
      "===================\n",
      "\n",
      "* we use Pandas for this\n",
      "* Pandas can do a __lot__ more\n",
      "* more about it later\n",
      "\n",
      "<img src=\"images/cute_panda.jpg\" width=400 />"
     ]
    },
    {
     "cell_type": "code",
     "collapsed": false,
     "input": [
      "url = 'https://raw.githubusercontent.com/cs109/2014/master/lectures/wur2013.txt'\n",
      "ranking = pd.read_table(url)\n",
      "ranking = ranking[:30]\n",
      "ranking.head()"
     ],
     "language": "python",
     "metadata": {
      "slideshow": {
       "slide_type": "subslide"
      }
     },
     "outputs": [
      {
       "html": [
        "<div style=\"max-height:1000px;max-width:1500px;overflow:auto;\">\n",
        "<table border=\"1\" class=\"dataframe\">\n",
        "  <thead>\n",
        "    <tr style=\"text-align: right;\">\n",
        "      <th></th>\n",
        "      <th>qsrank</th>\n",
        "      <th>schoolname</th>\n",
        "      <th>qsstars</th>\n",
        "      <th>overall</th>\n",
        "      <th>academic</th>\n",
        "      <th>employer</th>\n",
        "      <th>faculty</th>\n",
        "      <th>international</th>\n",
        "      <th>internationalstudents</th>\n",
        "      <th>citations</th>\n",
        "      <th>arts</th>\n",
        "      <th>engineering</th>\n",
        "      <th>life</th>\n",
        "      <th>natural</th>\n",
        "      <th>social</th>\n",
        "    </tr>\n",
        "  </thead>\n",
        "  <tbody>\n",
        "    <tr>\n",
        "      <th>0</th>\n",
        "      <td> 1</td>\n",
        "      <td> Massachusetts Institute of Technology (MIT) </td>\n",
        "      <td>  6</td>\n",
        "      <td> 100.0</td>\n",
        "      <td> 100.0</td>\n",
        "      <td> 100.0</td>\n",
        "      <td> 100.0</td>\n",
        "      <td> 97.6</td>\n",
        "      <td>  96.3</td>\n",
        "      <td>  99.7</td>\n",
        "      <td> 78.7</td>\n",
        "      <td> 96.3</td>\n",
        "      <td> 90.9</td>\n",
        "      <td> 96.3</td>\n",
        "      <td> 87.4</td>\n",
        "    </tr>\n",
        "    <tr>\n",
        "      <th>1</th>\n",
        "      <td> 2</td>\n",
        "      <td>                           Harvard University</td>\n",
        "      <td>  5</td>\n",
        "      <td>  99.2</td>\n",
        "      <td> 100.0</td>\n",
        "      <td> 100.0</td>\n",
        "      <td>  99.3</td>\n",
        "      <td> 94.1</td>\n",
        "      <td>  85.3</td>\n",
        "      <td> 100.0</td>\n",
        "      <td> 89.7</td>\n",
        "      <td> 85.7</td>\n",
        "      <td> 98.2</td>\n",
        "      <td> 92.3</td>\n",
        "      <td> 96.3</td>\n",
        "    </tr>\n",
        "    <tr>\n",
        "      <th>2</th>\n",
        "      <td> 3</td>\n",
        "      <td>                      University of Cambridge</td>\n",
        "      <td>  5</td>\n",
        "      <td>  99.0</td>\n",
        "      <td> 100.0</td>\n",
        "      <td> 100.0</td>\n",
        "      <td>  99.6</td>\n",
        "      <td> 95.5</td>\n",
        "      <td>  96.0</td>\n",
        "      <td>  95.8</td>\n",
        "      <td> 93.5</td>\n",
        "      <td> 90.5</td>\n",
        "      <td> 91.8</td>\n",
        "      <td> 97.0</td>\n",
        "      <td> 91.2</td>\n",
        "    </tr>\n",
        "    <tr>\n",
        "      <th>3</th>\n",
        "      <td> 4</td>\n",
        "      <td>              UCL (University College London)</td>\n",
        "      <td>NaN</td>\n",
        "      <td>  98.9</td>\n",
        "      <td>  99.9</td>\n",
        "      <td>  98.7</td>\n",
        "      <td>  98.9</td>\n",
        "      <td> 96.5</td>\n",
        "      <td> 100.0</td>\n",
        "      <td>  95.6</td>\n",
        "      <td> 85.6</td>\n",
        "      <td> 75.9</td>\n",
        "      <td> 85.4</td>\n",
        "      <td> 79.6</td>\n",
        "      <td> 81.2</td>\n",
        "    </tr>\n",
        "    <tr>\n",
        "      <th>4</th>\n",
        "      <td> 5</td>\n",
        "      <td>                      Imperial College London</td>\n",
        "      <td>NaN</td>\n",
        "      <td>  98.8</td>\n",
        "      <td>  99.9</td>\n",
        "      <td> 100.0</td>\n",
        "      <td>  99.8</td>\n",
        "      <td> 99.9</td>\n",
        "      <td>  99.9</td>\n",
        "      <td>  92.5</td>\n",
        "      <td> 59.5</td>\n",
        "      <td> 88.3</td>\n",
        "      <td> 85.5</td>\n",
        "      <td> 89.4</td>\n",
        "      <td> 74.9</td>\n",
        "    </tr>\n",
        "  </tbody>\n",
        "</table>\n",
        "</div>"
       ],
       "metadata": {},
       "output_type": "pyout",
       "prompt_number": 4,
       "text": [
        "  qsrank                                    schoolname  qsstars  overall  \\\n",
        "0      1  Massachusetts Institute of Technology (MIT)         6    100.0   \n",
        "1      2                            Harvard University        5     99.2   \n",
        "2      3                       University of Cambridge        5     99.0   \n",
        "3      4               UCL (University College London)      NaN     98.9   \n",
        "4      5                       Imperial College London      NaN     98.8   \n",
        "\n",
        "   academic  employer  faculty  international  internationalstudents  \\\n",
        "0     100.0     100.0    100.0           97.6                   96.3   \n",
        "1     100.0     100.0     99.3           94.1                   85.3   \n",
        "2     100.0     100.0     99.6           95.5                   96.0   \n",
        "3      99.9      98.7     98.9           96.5                  100.0   \n",
        "4      99.9     100.0     99.8           99.9                   99.9   \n",
        "\n",
        "   citations  arts  engineering  life  natural  social  \n",
        "0       99.7  78.7         96.3  90.9     96.3    87.4  \n",
        "1      100.0  89.7         85.7  98.2     92.3    96.3  \n",
        "2       95.8  93.5         90.5  91.8     97.0    91.2  \n",
        "3       95.6  85.6         75.9  85.4     79.6    81.2  \n",
        "4       92.5  59.5         88.3  85.5     89.4    74.9  "
       ]
      }
     ],
     "prompt_number": 4
    },
    {
     "cell_type": "markdown",
     "metadata": {
      "slideshow": {
       "slide_type": "slide"
      }
     },
     "source": [
      "Visualization\n",
      "=============\n",
      "\n",
      "* Data is now in a Pandas DataFrame\n",
      "* Lets try a bar plot\n",
      "\n",
      "\n"
     ]
    },
    {
     "cell_type": "markdown",
     "metadata": {
      "slideshow": {
       "slide_type": "subslide"
      }
     },
     "source": [
      "Matplotlib\n",
      "====================\n",
      "\n"
     ]
    },
    {
     "cell_type": "code",
     "collapsed": false,
     "input": [
      "data_to_plot = ranking.overall\n",
      "plt.bar(data_to_plot.index, data_to_plot)\n",
      "plt.show()"
     ],
     "language": "python",
     "metadata": {},
     "outputs": [
      {
       "metadata": {},
       "output_type": "display_data",
       "png": "iVBORw0KGgoAAAANSUhEUgAAAnkAAAG5CAYAAADyCSKIAAAABHNCSVQICAgIfAhkiAAAAAlwSFlz\nAAALEgAACxIB0t1+/AAAGedJREFUeJzt3X/QZXd9F/D3s7vhR+puNoCaYNLqVL/9g04yIaWgE5WZ\nlloCpVJkxFJD+SNEN9q0lQJap1HHTiHUmQ6tkWkUEnbUwWYbqW0aKaNVSWsHEvKDOsMXhkY6TauE\nsrtJSGw2rH/cu82Tm+yzm+ec+9zzfO7rNbOze8+59/M93+ez5z7ve+695yQAAAAAAAAAAAAAAAAA\nAAAAAAAAMB0bW61srb0lybVJLklybu/9nIX1VyW5PskFSe5Pcqj3fvem9d+W5MYkL0vy+0mu773/\n21FnAADAM+w5w/o/TPJzSX54cUVr7YrMAtw1SQ4mOZLk9tba/vn685L8apJfmK//O0k+2Fp71Whb\nDwDA9rXWXt1ae2Jh2S2ttVsWlj0wP7qX1trbW2u/s7D+I621Dy1/iwEA1tuZjuRt5ZIkdy0su2e+\nPEkuTfKZhfWfmS8HAGCJhoS8/UmOLSw7muTApvXHt1gPAMCS7Bvw2IeTnLew7Pwkn9+0/psW1h/M\nM4Pfaf3kh37j5IMPfe05b9hLX3Ju3vW3X5F9+4ZMDwBg9TY2Nrb8ouzpDElB9ya5/NSN1tpGksuS\n3DpfdE+S7114zMvny8/Kgw99Lf/7Dx7Z1sYdP/5YzvDlYbawZ89GDh78hhw9+mi+/vWTq96ctaQH\nq6cHq6cHq+Xnv3p79mw/y2wZ8lpre5I8b/4nrbXnJ9novT+e5KYkd8y/fHFnkuuSnJPktvnDb0ty\nQ2vtnUl+NslfTvLXk3zntrf2OXjyyc3/Gcf6j7l+ofHrXz+58LNkp+nB6unB6unBavn5705nOpJ3\nVZJT34Y9meSxJCdba3+u935na+1QZmHvwiT3Jbmy9/5IkvTej7XWrkzyL5P8syQPJrmm9/5bS5jH\nGd30y7+d7bz1m8ze/r369S+b3xo7MI5Rb/3CJwCwtS1DXu/95iQ3b7H+cJLDW6z/dJJXbnPbRjXk\nrd9F4wXGYfWeWWvMAHoyJ06cmNccUlcABYBV8M2EbRgzMI5db8wAesPhT40aZgGAnSPkFTNmYBw7\nzAIAO2fIefIAAJgoIQ8AoCAhDwCgICEPAKAgX7xghzgfIADsJCGPHTPe+QABgDMR8tgx452SxWXq\nAOBMhDx2pfW4TJ2rjgCwfUIeu9JUrxIypN6z1XLVEQC2S8hj7U35MnWuOgLAdjmFCgBAQUIeAEBB\nQh4AQEFCHgBAQb54AWvDVUcA1omQB2vEVUcA1oeQB2tkWlcdcVQQYJmEPGBbxjsq6DJ1AMsg5AHb\nMuWrjgAg5AET4MoeAONzChUAgIKEPACAgrxdCxTjm78AiZAHFDTmN39PnDiRWXDcbngUGIHVEPKA\ncsb8IscNhz/lBNLAriTkAWzBN3+B3UrIA9gRY5/02WcPga0JeQA7ZOyTPrsWMbAVIQ9gh4z91u80\nr0XsMnUwFUIeAKMeFRz3iKVvOMN2CXkAjHqUcewjluN9w9nnGFkvQh4AkzZmaBzzHIrjEBpZHiEP\ngLUxhcCY+PILO0PIA4BtcA5Fpk7IA4CV83lBxifkAcAEOO8hYxPyAGACpnneQ3YzIQ8AihnzW8TD\nz1OYCI2rIeQBQDFjfilku+cpTJyrcNWEPADgtMb+FrHPHu4cIQ8A2DHT+uxhUvnIoJAHAOxKTki9\nNSEPANiVHBXcmpAHAKy9ikcFhTwAYO1VvEydkAcAMKppnCpGyAMAGNkUThUj5AEAjGwKb//uWeno\nAAAshZAHAFCQkAcAUJCQBwBQkJAHAFCQkAcAUJCQBwBQkJAHAFCQkAcAUJCQBwBQkJAHAFCQkAcA\nUJCQBwBQkJAHAFCQkAcAUJCQBwBQkJAHAFCQkAcAUJCQBwBQkJAHAFDQvqEFWmsvTvIzSV6T5HlJ\nPpPkR3rv983XX5Xk+iQXJLk/yaHe+91DxwUA4PTGOJL3gSR/Ksm3JPnTST6d5JeTpLV2RZIbk1yT\n5GCSI0lub63tH2FcAABOY4yQd0mSW3vvx3rvTyT5UJKL5kf4rk5ypPf+id77E7339yd5PMkbRxgX\nAIDTGCPk/cckf7O19pLW2guSvCPJ/+i9fyXJpUnuWrj/PfPlAAAsyeDP5CV5b5JfSvJ/kzyZ5EtJ\nXjtf9yeSHFu4/9EkB0YYd0t7924k2ZhkvanW2lxvY+PkaLXGsI79rNyD3dLPoT3YLfOcUq3FelPq\nwTr2s/Lz0Nj1llVrz57t1xwj5P1aZl+2+N7M3op9W5JPtta+NcnDSc5buP/5ST4/wrhbOnDghdm3\nbza9EydOjFZvzFrJ8G0zz2H11mWeU9s281x9vanWmvK2mefq663j74IhBlVorb0kyauS/GDv/ZH5\n4n/TWntfkr+Y5N4kl2+6/0aSy5LcOmTcs3H8+GN5KlEPfyXyVL0xa2VwvWXNc4xXb7thnlPuZ+Ue\nLK+fw+uN2YPdMs8p1VqsN6UerGM/Kz8PPb3edOe5siN5vfeHWmu/m+Tvtdbek+SPklyV2du09yZ5\nKMkdrbVbktyZ5Lok5yS5bci4Z+PJJzf/gIc376l6Y9YaXm9Z89y7d3CpXTHPKfezcg+W18/h9cbs\nwW6Z55RqLdabUg/WsZ+Vn4eeXm/K/dy+Md6ufUOSGzL7LN6+zN6KfXPv/YEkD7TWDiW5KcmFSe5L\ncuWmo34AACzB4JDXe783yV/bYv3hJIeHjgMAwNlzWTMAgIKEPACAgoQ8AICChDwAgIKEPACAgoQ8\nAICChDwAgIKEPACAgoQ8AICChDwAgIKEPACAgoQ8AICChDwAgIKEPACAgoQ8AICChDwAgIKEPACA\ngoQ8AICChDwAgIKEPACAgoQ8AICChDwAgIKEPACAgoQ8AICChDwAgIKEPACAgoQ8AICChDwAgIKE\nPACAgoQ8AICChDwAgIKEPACAgoQ8AICChDwAgIKEPACAgoQ8AICChDwAgIKEPACAgoQ8AICChDwA\ngIKEPACAgoQ8AICChDwAgIKEPACAgoQ8AICChDwAgIKEPACAgoQ8AICChDwAgIKEPACAgoQ8AICC\nhDwAgIKEPACAgoQ8AICChDwAgIKEPACAgoQ8AICChDwAgIKEPACAgoQ8AICChDwAgIKEPACAgoQ8\nAICChDwAgIKEPACAgoQ8AICChDwAgIKEPACAgoQ8AICChDwAgIL2jVGktfadSf55kpcleTzJf+i9\nXztfd1WS65NckOT+JId673ePMS4AAM9u8JG81tqrk/xCkhuSvCjJn0nyr+frrkhyY5JrkhxMciTJ\n7a21/UPHBQDg9MY4kvdTSf5V7/0XNy37zPzvq5Mc6b1/Yn77/a21a5O8MclHRhgbAIBnMSjktda+\nIckrknyytXZXkm9M8tkk7+y935XkkiQfXnjYPUkuHTLu2di7dyPJxiTrTbXW5nobGydHqzWGdexn\n5R7sln4O7cFumeeUai3Wm1IP1rGflZ+Hxq63rFp79my/5tAjeedn9pbvW5K8Nsnnkrwzs7dkW5L9\nSY4tPOZokgMDxz2jAwdemH37ZtM7ceLEaPXGrJUM3zbzHFZvXeY5tW0zz9XXm2qtKW+bea6+3jr+\nLhhiaIWH539/uPf+2fm/f6q19mNJ/tJ8/cGFx5yf5PMDxz2j48cfy1OJevgrkafqjVkrg+sta55j\nvHrbDfOccj8r92B5/Rxeb8we7JZ5TqnWYr0p9WAd+1n5eejp9aY7z5Udyeu9H2utPbB5WWvt1E/r\nZJJ7k7x8Yd1lSW4dMu7ZePLJzT/g4c17qt6YtYbXW9Y89+4dXGpXzHPK/azcg+X1c3i9MXuwW+Y5\npVqL9abUg3XsZ+XnoafXm3I/t2+ML17cmOS61tq/z+wI3Y9mdhqVOzM7kndHa+2W+e3rkpyT5LYR\nxgUA4DQGh7ze+0/PT4nyX5K8IMndSV7be384yZ2ttUNJbkpyYZL7klzZe39k6LgAAJzeKCdD7r1f\nn9kJj59t3eEkh8cYBwCAs+OyZgAABQl5AAAFCXkAAAUJeQAABQl5AAAFCXkAAAUJeQAABQl5AAAF\nCXkAAAUJeQAABQl5AAAFCXkAAAUJeQAABQl5AAAFCXkAAAUJeQAABQl5AAAFCXkAAAUJeQAABQl5\nAAAFCXkAAAUJeQAABQl5AAAFCXkAAAUJeQAABQl5AAAFCXkAAAUJeQAABQl5AAAFCXkAAAUJeQAA\nBQl5AAAFCXkAAAUJeQAABQl5AAAFCXkAAAUJeQAABQl5AAAFCXkAAAUJeQAABQl5AAAFCXkAAAUJ\neQAABQl5AAAFCXkAAAUJeQAABQl5AAAFCXkAAAUJeQAABQl5AAAFCXkAAAUJeQAABQl5AAAFCXkA\nAAUJeQAABQl5AAAFCXkAAAUJeQAABQl5AAAFCXkAAAUJeQAABQl5AAAFCXkAAAUJeQAABQl5AAAF\nCXkAAAUJeQAABQl5AAAFCXkAAAUJeQAABe0bq1BrbU+STyZ5VZKLeu8PzpdfleT6JBckuT/Jod77\n3WONCwDAM415JO9Hkjya5OSpBa21K5LcmOSaJAeTHElye2tt/4jjAgCwYJSQ11prSf5ukncm2di0\n6uokR3rvn+i9P9F7f3+Sx5O8cYxxAQB4doPfrp2/TfuhJP8gybGF1Zck+fDCsnuSXDp03DPZu3cj\nT8+b06k31Vqb621snDzjfc+21hjWsZ+Ve7Bb+jm0B7tlnlOqtVhvSj1Yx35Wfh4au96yau3Zs/2a\nY3wm77okD/beP9Za+7ML6/bnmcHvaJIDI4y7pQMHXph9+2bTO3HixGj1xqyVDN828xxWb13mObVt\nM8/V15tqrSlvm3muvt46/i4YYlCF1tqfT/KjSb5tYdWp2PlwkvMW1p2f5PNDxj0bx48/tmkzhr8S\nearemLUyuN6y5jnGq7fdMM8p97NyD5bXz+H1xuzBbpnnlGot1ptSD9axn5Wfh55eb7rzXOWRvCuS\n/Mkkn519LO+PP+N3X2vtHye5N8nlp+7cWttIclmSWweOe0ZPPrn5Bzy8eU/VG7PW8HrLmufevYNL\n7Yp5TrmflXuwvH4OrzdmD3bLPKdUa7HelHqwjv2s/Dz09HpT7uf2DQ15H03y8U23L07ym0lek+Rz\nSe5Lckdr7ZYkd2b21u45SW4bOC4AAFsYFPJ6748leezU7dba8zKLr3/Qe380yZ2ttUNJbkpyYWah\n78re+yNDxgUAYGujnQw5SXrvDyTZu7DscJLDY44DAMDWXNYMAKAgIQ8AoCAhDwCgICEPAKAgIQ8A\noCAhDwCgICEPAKAgIQ8AoCAhDwCgICEPAKAgIQ8AoCAhDwCgICEPAKAgIQ8AoCAhDwCgICEPAKAg\nIQ8AoCAhDwCgICEPAKAgIQ8AoCAhDwCgICEPAKAgIQ8AoCAhDwCgICEPAKAgIQ8AoCAhDwCgICEP\nAKAgIQ8AoCAhDwCgICEPAKAgIQ8AoCAhDwCgICEPAKAgIQ8AoCAhDwCgICEPAKAgIQ8AoCAhDwCg\nICEPAKAgIQ8AoCAhDwCgICEPAKAgIQ8AoCAhDwCgICEPAKAgIQ8AoCAhDwCgICEPAKAgIQ8AoCAh\nDwCgICEPAKAgIQ8AoCAhDwCgICEPAKAgIQ8AoCAhDwCgICEPAKAgIQ8AoCAhDwCgICEPAKAgIQ8A\noCAhDwCgICEPAKAgIQ8AoCAhDwCgICEPAKAgIQ8AoCAhDwCgoH1DHtxae1+S1yW5OMkjSX4lybt7\n71/ddJ+rklyf5IIk9yc51Hu/e8i4AABsbeiRvBNJ3prkRUkuTXJRkptPrWytXZHkxiTXJDmY5EiS\n21tr+weOCwDAFgYdyeu9//immw+11j6Q5KObll2d5Ejv/RPz2+9vrV2b5I1JPjJkbAAATm/sz+R9\nR5J7Nt2+JMldC/e5J7OjfgAALMmgI3mbtdbelNnbsn9l0+L9SY4t3PVokgNjjXs6e/duJNmYZL2p\n1tpcb2Pj5Gi1xrCO/azcg93Sz6E92C3znFKtxXpT6sE69rPy89DY9ZZVa8+e7dccJeS11t6c5INJ\nvqf3vvlI3sNJzlu4+/lJPj/GuFs5cOCF2bdvNr0TJ06MVm/MWsnwbTPPYfXWZZ5T2zbzXH29qdaa\n8raZ5+rrrePvgiEGV2itvT3JTyd5fe/9NxdW35vk8k333UhyWZJbh457JsePP5anEvXwVyJP1Ruz\nVgbXW9Y8x3j1thvmOeV+Vu7B8vo5vN6YPdgt85xSrcV6U+rBOvaz8vPQ0+tNd54rO5LXWvuhJD+R\n5Lt674ufvUuSm5Lc0Vq7JcmdSa5Lck6S24aMezaefHLzD3h4856qN2at4fWWNc+9eweX2hXznHI/\nK/dgef0cXm/MHuyWeU6p1mK9KfVgHftZ+Xno6fWm3M/tG3ok72eSPJHk11trp5ad7L0fSJLe+52t\ntUOZhb0Lk9yX5Mre+yMDxwUAYAtDT6Fyxm/n9t4PJzk8ZBwAAJ4blzUDAChIyAMAKEjIAwAoSMgD\nAChIyAMAKEjIAwAoSMgDAChIyAMAKEjIAwAoSMgDAChIyAMAKEjIAwAoSMgDAChIyAMAKEjIAwAo\nSMgDAChIyAMAKEjIAwAoSMgDAChIyAMAKEjIAwAoSMgDAChIyAMAKEjIAwAoSMgDAChIyAMAKEjI\nAwAoSMgDAChIyAMAKEjIAwAoSMgDAChIyAMAKEjIAwAoSMgDAChIyAMAKEjIAwAoSMgDAChIyAMA\nKEjIAwAoSMgDAChIyAMAKEjIAwAoSMgDAChIyAMAKEjIAwAoSMgDAChIyAMAKEjIAwAoSMgDAChI\nyAMAKEjIAwAoSMgDAChIyAMAKEjIAwAoSMgDAChIyAMAKEjIAwAoSMgDAChIyAMAKEjIAwAoSMgD\nAChIyAMAKEjIAwAoSMgDAChIyAMAKEjIAwAoSMgDAChIyAMAKEjIAwAoSMgDACho37IHaK3tTfLe\nJG9L8oIkH09yTe/9K8seGwBgXe3Ekbz3JHlDkm9PctF82eEdGBcAYG3tRMh7R5L39t4f6L0fT/Ku\nJN/dWrt4B8YGAFhLSw15rbWDSS5OctepZb33LyY5nuTSZY4NALDOlv2ZvP3zv48tLD+a5MCZHvzS\nl5y7rUFf+pJzs3fvRpKNwbWerd6YtYbUW+Y8NzZOrsU8x641pN5irao9WHY/x9y2IT3YTfOcSq1n\nqzeVHqxrP6s+Dz1bvanOc8+eja0fsCqttYOtta+31i5ZWH60tfb6VW0XAEB1S327tvd+NMmXklx+\nallr7ZszO4p33zLHBgBYZ0s/Btha+0dJrkry3Um+muRDSV7Ye79y2WMDAKyrpZ8nL7Nz5J2f5FNJ\nnp/ZefJ+YAfGBQAAAAAAAAAAAAAAAAAAAAAAAGD3mdwF0VprezM7t97bkrwgs/PqXdN7/8pKN2xN\ntNZuTvL9Sf7fpsU/1nv/4Gq2qL7W2luSXJvkkiTn9t7PWVh/VZLrk1yQ5P4kh3rvd+/4hha2VQ9a\naz+Y2UncH930kF/qvb91RzeysNba+5K8LsnFSR5J8itJ3t17/+qm+9gPluhMPbAf7IzW2k8m+VtJ\nXpzkiSSfTvKe3vs98/XPaT9Y6mXNtuk9Sd6Q5NuTXDRfdnh1m7N2Tia5ufe+f9MfAW+5/jDJzyX5\n4cUVrbUrktyY5JokB5McSXJ7a23/jm5hfaftwdwXFvYJv9jGdSLJW5O8KMmlmT3333xqpf1gR2zZ\ngzn7wfJ9JMmlvffzMuvBbyf5xWR7+8FOXPHiuXpHkn/Se38gSVpr70ryhdbaxb33313plq2HjUzw\nCG9lvfePJ0lr7dXPsvrqJEd675+Y335/a+3aJG/M7MmAEZyhB4l9Yql67z++6eZDrbUPJPnopmX2\ngyU7ix4k9oOl671/btPNvZkdePm9+e3nvB9MKuS11g5mdqj4rlPLeu9fbK0dz+yVhZC3fCeTvKm1\n9n1JHkrysST/tPf+6NYPY0kuSfLhhWX3ZLY/sDNOJrm4tfb7mb19cmeSf3jqhShL8R2Z/T8/xX6w\n8xZ7YD/YIa2178/siN2BzI7kvWa+6jnvB1N7u/bUIcdjC8uPZjZZlu9nk3xL7/3Fmb06+KtJblrt\nJq21/bE/rNp/T/KtvfcLk7wiyeNJfq21du5qN6um1tqbMns76rpNi+0HO+g0PbAf7JDe+7/rvR9M\ncmFmIe+2+arnvB9MLeQ9PP/7vIXlB5Mc3+FtWUu997t771+e//t/ZfYZpb/RWjtn60eyJA/nmfvD\n+Xnmjs6S9N5/p/f+hfm//09mb5lcmOSVK92wglprb07y80m+59QHzefsBzvkdD2wH+y8+c/57yd5\nZWvtZZntBwcX7rblfjCpkNd7P5rkS0kuP7WstfbNmaXU+1a1XSTxWYxVuTdP3x82klw2X85q2SdG\n1Fp7e5IPJnl97/2/Lay2H+yAM/TgdOwHy3XqAMvDmf1/f/mpFWezH0zqM3lzP5/k3a21/5rkq0lu\nSHJH7/1Lq92s9TA/lcSv9t6Ptdb+QpJ/keRjvfc/WvGmldVa25PkefM/aa09P8lG7/3xzN4qv6O1\ndktmn4G5LrOd/rbTlGMbtupBa+11mT2J/l5mr5rfm+TLSf7nija3nNbaDyX5iSTf1Xu/61nuYj9Y\nsjP1wH6wfPPQdm2Sj/bev9xauyizj1B9svf+pdbac94PJnUkb+69Sf5Tkk9l9kWLk0l+YKVbtF6u\nSfLF1tojSf5zkt9I8vbVblJ5VyX5WpI7MtsnH0vyaGvtG3vvdyY5lNkvua8m+b4kV/beH1nVxhZ1\nuh58U2afS/2tzF5Jfzazt0te03v/2oq2taKfyezzRr/eWnt4/uePP6JjP9gRW/Yg9oOd8tokn53/\nDv5kkgcz+/9uPwAAAAAAAAAAAAAAAAAAAAAAAAAAAACm5/8DmN3mZK9vZDYAAAAASUVORK5CYII=\n",
       "text": [
        "<matplotlib.figure.Figure at 0x3945668>"
       ]
      }
     ],
     "prompt_number": 5
    },
    {
     "cell_type": "markdown",
     "metadata": {
      "slideshow": {
       "slide_type": "slide"
      }
     },
     "source": [
      "Plotting with Pandas\n",
      "====================\n",
      "\n"
     ]
    },
    {
     "cell_type": "code",
     "collapsed": false,
     "input": [
      "data_to_plot.plot(kind='bar')\n",
      "plt.show()"
     ],
     "language": "python",
     "metadata": {},
     "outputs": [
      {
       "metadata": {},
       "output_type": "display_data",
       "png": "iVBORw0KGgoAAAANSUhEUgAAAnIAAAG4CAYAAADBtQraAAAABHNCSVQICAgIfAhkiAAAAAlwSFlz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\nkAUAAAAAAAAAAAAAAAAAAFvw/wHo7Hlz3X44AAAAAABJRU5ErkJggg==\n",
       "text": [
        "<matplotlib.figure.Figure at 0x16a0eb00>"
       ]
      }
     ],
     "prompt_number": 6
    },
    {
     "cell_type": "markdown",
     "metadata": {
      "slideshow": {
       "slide_type": "slide"
      }
     },
     "source": [
      "How to Rank Universities\n",
      "========================\n",
      "\n",
      "* Academic peer review (40%)\n",
      "* Faculty student ratio (20%)\n",
      "* Citations per faculty (20%)\n",
      "* Recruiter review (10%)\n",
      "* International orientation (10%)\n",
      "\n",
      "http://en.wikipedia.org/wiki/QS_World_University_Rankings"
     ]
    },
    {
     "cell_type": "markdown",
     "metadata": {
      "slideshow": {
       "slide_type": "subslide"
      }
     },
     "source": [
      "Selecting a Subframe\n",
      "===================="
     ]
    },
    {
     "cell_type": "code",
     "collapsed": false,
     "input": [
      "relevant_columns = ['academic','faculty','citations',\n",
      "                    'employer','international']\n",
      "ranking_categories=ranking[relevant_columns]\n",
      "ranking_categories.head()"
     ],
     "language": "python",
     "metadata": {},
     "outputs": [
      {
       "html": [
        "<div style=\"max-height:1000px;max-width:1500px;overflow:auto;\">\n",
        "<table border=\"1\" class=\"dataframe\">\n",
        "  <thead>\n",
        "    <tr style=\"text-align: right;\">\n",
        "      <th></th>\n",
        "      <th>academic</th>\n",
        "      <th>faculty</th>\n",
        "      <th>citations</th>\n",
        "      <th>employer</th>\n",
        "      <th>international</th>\n",
        "    </tr>\n",
        "  </thead>\n",
        "  <tbody>\n",
        "    <tr>\n",
        "      <th>0</th>\n",
        "      <td> 100.0</td>\n",
        "      <td> 100.0</td>\n",
        "      <td>  99.7</td>\n",
        "      <td> 100.0</td>\n",
        "      <td> 97.6</td>\n",
        "    </tr>\n",
        "    <tr>\n",
        "      <th>1</th>\n",
        "      <td> 100.0</td>\n",
        "      <td>  99.3</td>\n",
        "      <td> 100.0</td>\n",
        "      <td> 100.0</td>\n",
        "      <td> 94.1</td>\n",
        "    </tr>\n",
        "    <tr>\n",
        "      <th>2</th>\n",
        "      <td> 100.0</td>\n",
        "      <td>  99.6</td>\n",
        "      <td>  95.8</td>\n",
        "      <td> 100.0</td>\n",
        "      <td> 95.5</td>\n",
        "    </tr>\n",
        "    <tr>\n",
        "      <th>3</th>\n",
        "      <td>  99.9</td>\n",
        "      <td>  98.9</td>\n",
        "      <td>  95.6</td>\n",
        "      <td>  98.7</td>\n",
        "      <td> 96.5</td>\n",
        "    </tr>\n",
        "    <tr>\n",
        "      <th>4</th>\n",
        "      <td>  99.9</td>\n",
        "      <td>  99.8</td>\n",
        "      <td>  92.5</td>\n",
        "      <td> 100.0</td>\n",
        "      <td> 99.9</td>\n",
        "    </tr>\n",
        "  </tbody>\n",
        "</table>\n",
        "</div>"
       ],
       "metadata": {},
       "output_type": "pyout",
       "prompt_number": 7,
       "text": [
        "   academic  faculty  citations  employer  international\n",
        "0     100.0    100.0       99.7     100.0           97.6\n",
        "1     100.0     99.3      100.0     100.0           94.1\n",
        "2     100.0     99.6       95.8     100.0           95.5\n",
        "3      99.9     98.9       95.6      98.7           96.5\n",
        "4      99.9     99.8       92.5     100.0           99.9"
       ]
      }
     ],
     "prompt_number": 7
    },
    {
     "cell_type": "markdown",
     "metadata": {
      "slideshow": {
       "slide_type": "subslide"
      }
     },
     "source": [
      "Weighting categories\n",
      "===================="
     ]
    },
    {
     "cell_type": "code",
     "collapsed": false,
     "input": [
      "weights = [0.4,0.2,0.2,0.1,0.1]\n",
      "ranking_categories_weighted = ranking_categories * weights\n",
      "ranking_categories_weighted.head()"
     ],
     "language": "python",
     "metadata": {},
     "outputs": [
      {
       "html": [
        "<div style=\"max-height:1000px;max-width:1500px;overflow:auto;\">\n",
        "<table border=\"1\" class=\"dataframe\">\n",
        "  <thead>\n",
        "    <tr style=\"text-align: right;\">\n",
        "      <th></th>\n",
        "      <th>academic</th>\n",
        "      <th>faculty</th>\n",
        "      <th>citations</th>\n",
        "      <th>employer</th>\n",
        "      <th>international</th>\n",
        "    </tr>\n",
        "  </thead>\n",
        "  <tbody>\n",
        "    <tr>\n",
        "      <th>0</th>\n",
        "      <td> 40.00</td>\n",
        "      <td> 20.00</td>\n",
        "      <td> 19.94</td>\n",
        "      <td> 10.00</td>\n",
        "      <td> 9.76</td>\n",
        "    </tr>\n",
        "    <tr>\n",
        "      <th>1</th>\n",
        "      <td> 40.00</td>\n",
        "      <td> 19.86</td>\n",
        "      <td> 20.00</td>\n",
        "      <td> 10.00</td>\n",
        "      <td> 9.41</td>\n",
        "    </tr>\n",
        "    <tr>\n",
        "      <th>2</th>\n",
        "      <td> 40.00</td>\n",
        "      <td> 19.92</td>\n",
        "      <td> 19.16</td>\n",
        "      <td> 10.00</td>\n",
        "      <td> 9.55</td>\n",
        "    </tr>\n",
        "    <tr>\n",
        "      <th>3</th>\n",
        "      <td> 39.96</td>\n",
        "      <td> 19.78</td>\n",
        "      <td> 19.12</td>\n",
        "      <td>  9.87</td>\n",
        "      <td> 9.65</td>\n",
        "    </tr>\n",
        "    <tr>\n",
        "      <th>4</th>\n",
        "      <td> 39.96</td>\n",
        "      <td> 19.96</td>\n",
        "      <td> 18.50</td>\n",
        "      <td> 10.00</td>\n",
        "      <td> 9.99</td>\n",
        "    </tr>\n",
        "  </tbody>\n",
        "</table>\n",
        "</div>"
       ],
       "metadata": {},
       "output_type": "pyout",
       "prompt_number": 8,
       "text": [
        "   academic  faculty  citations  employer  international\n",
        "0     40.00    20.00      19.94     10.00           9.76\n",
        "1     40.00    19.86      20.00     10.00           9.41\n",
        "2     40.00    19.92      19.16     10.00           9.55\n",
        "3     39.96    19.78      19.12      9.87           9.65\n",
        "4     39.96    19.96      18.50     10.00           9.99"
       ]
      }
     ],
     "prompt_number": 8
    },
    {
     "cell_type": "markdown",
     "metadata": {
      "slideshow": {
       "slide_type": "subslide"
      }
     },
     "source": [
      "Multiple Bar Plot\n",
      "===================="
     ]
    },
    {
     "cell_type": "code",
     "collapsed": false,
     "input": [
      "ranking_categories_weighted.head().plot(kind='bar')\n",
      "plt.show()"
     ],
     "language": "python",
     "metadata": {},
     "outputs": [
      {
       "metadata": {},
       "output_type": "display_data",
       "png": "iVBORw0KGgoAAAANSUhEUgAAAmoAAAGyCAYAAABUV+igAAAABHNCSVQICAgIfAhkiAAAAAlwSFlz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\nSVo9/x/IN7LNOhHMXwAAAABJRU5ErkJggg==\n",
       "text": [
        "<matplotlib.figure.Figure at 0x1687dda0>"
       ]
      }
     ],
     "prompt_number": 9
    },
    {
     "cell_type": "markdown",
     "metadata": {
      "slideshow": {
       "slide_type": "slide"
      }
     },
     "source": [
      "Quiz: Fix the Legend\n",
      "===================="
     ]
    },
    {
     "cell_type": "code",
     "collapsed": false,
     "input": [
      "ax = ranking_categories_weighted.head().plot(kind='bar', legend=False)\n",
      "\n",
      "# Put a legend to the right of the current axis\n",
      "ax.legend(loc='center left', bbox_to_anchor=(0, 0))\n",
      "\n",
      "plt.show()"
     ],
     "language": "python",
     "metadata": {},
     "outputs": [
      {
       "metadata": {},
       "output_type": "display_data",
       "png": "iVBORw0KGgoAAAANSUhEUgAAAmoAAAHWCAYAAADHMqXsAAAABHNCSVQICAgIfAhkiAAAAAlwSFlz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\nSZIkSZIkSZIkSZIkKS//H2fiRWDnJYRdAAAAAElFTkSuQmCC\n",
       "text": [
        "<matplotlib.figure.Figure at 0x16789748>"
       ]
      }
     ],
     "prompt_number": 10
    },
    {
     "cell_type": "markdown",
     "metadata": {
      "slideshow": {
       "slide_type": "slide"
      }
     },
     "source": [
      "Stacked Bar Plot\n",
      "===================="
     ]
    },
    {
     "cell_type": "code",
     "collapsed": false,
     "input": [
      "ranking_categories_weighted.head().plot(kind='bar', legend=False, stacked=True)\n",
      "plt.show()"
     ],
     "language": "python",
     "metadata": {},
     "outputs": [
      {
       "metadata": {},
       "output_type": "display_data",
       "png": "iVBORw0KGgoAAAANSUhEUgAAAnIAAAGyCAYAAABgLim8AAAABHNCSVQICAgIfAhkiAAAAAlwSFlz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\nAAAAAAAAAAAAAAAAALAW/x9NgZycrFKFZwAAAABJRU5ErkJggg==\n",
       "text": [
        "<matplotlib.figure.Figure at 0x16aca2b0>"
       ]
      }
     ],
     "prompt_number": 11
    },
    {
     "cell_type": "markdown",
     "metadata": {
      "slideshow": {
       "slide_type": "slide"
      }
     },
     "source": [
      "Horizontal Barplot\n",
      "===================="
     ]
    },
    {
     "cell_type": "code",
     "collapsed": false,
     "input": [
      "ranking_categories_weighted.plot(kind='barh', \n",
      "                                 legend=False, stacked=True)\n",
      "plt.show()"
     ],
     "language": "python",
     "metadata": {},
     "outputs": [
      {
       "metadata": {},
       "output_type": "display_data",
       "png": "iVBORw0KGgoAAAANSUhEUgAAAnIAAAGzCAYAAACrcvoZAAAABHNCSVQICAgIfAhkiAAAAAlwSFlz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\nZmZmZmZmZmZmZmZm9v/wD+5+SFAZihMGAAAAAElFTkSuQmCC\n",
       "text": [
        "<matplotlib.figure.Figure at 0x16a1bd68>"
       ]
      }
     ],
     "prompt_number": 12
    },
    {
     "cell_type": "markdown",
     "metadata": {
      "slideshow": {
       "slide_type": "slide"
      }
     },
     "source": [
      "Adding Labels\n",
      "===================="
     ]
    },
    {
     "cell_type": "code",
     "collapsed": false,
     "input": [
      "ranking.head().schoolname\n",
      "ranking_categories.set_index(ranking.schoolname, inplace=True)\n",
      "\n",
      "ranking_categories.plot(kind='barh', legend=False, stacked=True)\n",
      "plt.show()"
     ],
     "language": "python",
     "metadata": {},
     "outputs": [
      {
       "metadata": {},
       "output_type": "display_data",
       "png": "iVBORw0KGgoAAAANSUhEUgAAA3MAAAGzCAYAAACFPk7nAAAABHNCSVQICAgIfAhkiAAAAAlwSFlz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\nSUVORK5CYII=\n",
       "text": [
        "<matplotlib.figure.Figure at 0x16bac9e8>"
       ]
      }
     ],
     "prompt_number": 13
    },
    {
     "cell_type": "markdown",
     "metadata": {
      "slideshow": {
       "slide_type": "slide"
      }
     },
     "source": [
      "You Should Know Now\n",
      "====================\n",
      "\n",
      "* How to read in a data file \n",
      "* How to plot from a DataFrame\n",
      "* How to get help\n",
      "* Matplotlib is great\n",
      "* and can be painful"
     ]
    },
    {
     "cell_type": "code",
     "collapsed": false,
     "input": [],
     "language": "python",
     "metadata": {},
     "outputs": [],
     "prompt_number": 13
    },
    {
     "cell_type": "code",
     "collapsed": false,
     "input": [],
     "language": "python",
     "metadata": {},
     "outputs": []
    }
   ],
   "metadata": {}
  }
 ]
>>>>>>> 0fc310d99c1910444a992c4f6a5592db74db95c3
}